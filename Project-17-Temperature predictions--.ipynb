{
 "cells": [
  {
   "cell_type": "raw",
   "metadata": {},
   "source": [
    "Data Understanding and pre analysis:-\n",
    "\n",
    "This is a regression problem where we have to predict tommorows temperature--> Next_Tmax & Next_Tmin from given features.\n",
    "Both are regression problem cases:-\n",
    "\n",
    "1-target-->Next_Tmax\n",
    "2-target-->Next_Tmin\n",
    "\n",
    "We will consider r2_score as our evaluation metric ."
   ]
  },
  {
   "cell_type": "code",
   "execution_count": 115,
   "metadata": {},
   "outputs": [],
   "source": [
    "import numpy as np\n",
    "import pandas as pd\n",
    "import matplotlib.pyplot as plt\n",
    "import warnings\n",
    "warnings.filterwarnings('ignore')\n",
    "import seaborn as sns\n",
    "\n",
    "from sklearn.preprocessing import StandardScaler\n",
    "from sklearn.preprocessing import PowerTransformer\n",
    "\n",
    "from sklearn.neighbors import KNeighborsRegressor\n",
    "from sklearn.svm import SVR\n",
    "from sklearn.linear_model import LinearRegression\n",
    "from sklearn.linear_model import Lasso\n",
    "from sklearn.tree import DecisionTreeRegressor\n",
    "from sklearn.ensemble import GradientBoostingRegressor\n",
    "from sklearn.ensemble import RandomForestRegressor\n",
    "from sklearn.ensemble import AdaBoostRegressor\n",
    "from xgboost import XGBRegressor\n",
    "\n",
    "from sklearn.metrics import mean_absolute_error\n",
    "from sklearn.metrics import mean_squared_error\n",
    "from sklearn.metrics import r2_score\n",
    "from sklearn.model_selection import train_test_split\n",
    "from sklearn.model_selection import cross_val_score\n",
    "\n",
    "\n",
    "\n",
    "#from mlxtend.regressor import StackingRegressor\n",
    "\n",
    "from sklearn.externals import joblib"
   ]
  },
  {
   "cell_type": "markdown",
   "metadata": {},
   "source": [
    "# 1-Target-->Next_Tmax"
   ]
  },
  {
   "cell_type": "code",
   "execution_count": 135,
   "metadata": {},
   "outputs": [],
   "source": [
    "df=pd.read_csv('E:\\\\temp_pred.csv')\n",
    "pd.set_option('display.max_columns',None)"
   ]
  },
  {
   "cell_type": "code",
   "execution_count": 136,
   "metadata": {},
   "outputs": [
    {
     "data": {
      "text/html": [
       "<div>\n",
       "<style scoped>\n",
       "    .dataframe tbody tr th:only-of-type {\n",
       "        vertical-align: middle;\n",
       "    }\n",
       "\n",
       "    .dataframe tbody tr th {\n",
       "        vertical-align: top;\n",
       "    }\n",
       "\n",
       "    .dataframe thead th {\n",
       "        text-align: right;\n",
       "    }\n",
       "</style>\n",
       "<table border=\"1\" class=\"dataframe\">\n",
       "  <thead>\n",
       "    <tr style=\"text-align: right;\">\n",
       "      <th></th>\n",
       "      <th>station</th>\n",
       "      <th>Date</th>\n",
       "      <th>Present_Tmax</th>\n",
       "      <th>Present_Tmin</th>\n",
       "      <th>LDAPS_RHmin</th>\n",
       "      <th>LDAPS_RHmax</th>\n",
       "      <th>LDAPS_Tmax_lapse</th>\n",
       "      <th>LDAPS_Tmin_lapse</th>\n",
       "      <th>LDAPS_WS</th>\n",
       "      <th>LDAPS_LH</th>\n",
       "      <th>LDAPS_CC1</th>\n",
       "      <th>LDAPS_CC2</th>\n",
       "      <th>LDAPS_CC3</th>\n",
       "      <th>LDAPS_CC4</th>\n",
       "      <th>LDAPS_PPT1</th>\n",
       "      <th>LDAPS_PPT2</th>\n",
       "      <th>LDAPS_PPT3</th>\n",
       "      <th>LDAPS_PPT4</th>\n",
       "      <th>lat</th>\n",
       "      <th>lon</th>\n",
       "      <th>DEM</th>\n",
       "      <th>Slope</th>\n",
       "      <th>Solar radiation</th>\n",
       "      <th>Next_Tmax</th>\n",
       "      <th>Next_Tmin</th>\n",
       "    </tr>\n",
       "  </thead>\n",
       "  <tbody>\n",
       "    <tr>\n",
       "      <td>0</td>\n",
       "      <td>1.0</td>\n",
       "      <td>2013-06-30</td>\n",
       "      <td>28.7</td>\n",
       "      <td>21.4</td>\n",
       "      <td>58.255688</td>\n",
       "      <td>91.116364</td>\n",
       "      <td>28.074101</td>\n",
       "      <td>23.006936</td>\n",
       "      <td>6.818887</td>\n",
       "      <td>69.451805</td>\n",
       "      <td>0.233947</td>\n",
       "      <td>0.203896</td>\n",
       "      <td>0.161697</td>\n",
       "      <td>0.130928</td>\n",
       "      <td>0.0</td>\n",
       "      <td>0.0</td>\n",
       "      <td>0.0</td>\n",
       "      <td>0.0</td>\n",
       "      <td>37.6046</td>\n",
       "      <td>126.991</td>\n",
       "      <td>212.3350</td>\n",
       "      <td>2.7850</td>\n",
       "      <td>5992.895996</td>\n",
       "      <td>29.1</td>\n",
       "      <td>21.2</td>\n",
       "    </tr>\n",
       "    <tr>\n",
       "      <td>1</td>\n",
       "      <td>2.0</td>\n",
       "      <td>2013-06-30</td>\n",
       "      <td>31.9</td>\n",
       "      <td>21.6</td>\n",
       "      <td>52.263397</td>\n",
       "      <td>90.604721</td>\n",
       "      <td>29.850689</td>\n",
       "      <td>24.035009</td>\n",
       "      <td>5.691890</td>\n",
       "      <td>51.937448</td>\n",
       "      <td>0.225508</td>\n",
       "      <td>0.251771</td>\n",
       "      <td>0.159444</td>\n",
       "      <td>0.127727</td>\n",
       "      <td>0.0</td>\n",
       "      <td>0.0</td>\n",
       "      <td>0.0</td>\n",
       "      <td>0.0</td>\n",
       "      <td>37.6046</td>\n",
       "      <td>127.032</td>\n",
       "      <td>44.7624</td>\n",
       "      <td>0.5141</td>\n",
       "      <td>5869.312500</td>\n",
       "      <td>30.5</td>\n",
       "      <td>22.5</td>\n",
       "    </tr>\n",
       "    <tr>\n",
       "      <td>2</td>\n",
       "      <td>3.0</td>\n",
       "      <td>2013-06-30</td>\n",
       "      <td>31.6</td>\n",
       "      <td>23.3</td>\n",
       "      <td>48.690479</td>\n",
       "      <td>83.973587</td>\n",
       "      <td>30.091292</td>\n",
       "      <td>24.565633</td>\n",
       "      <td>6.138224</td>\n",
       "      <td>20.573050</td>\n",
       "      <td>0.209344</td>\n",
       "      <td>0.257469</td>\n",
       "      <td>0.204091</td>\n",
       "      <td>0.142125</td>\n",
       "      <td>0.0</td>\n",
       "      <td>0.0</td>\n",
       "      <td>0.0</td>\n",
       "      <td>0.0</td>\n",
       "      <td>37.5776</td>\n",
       "      <td>127.058</td>\n",
       "      <td>33.3068</td>\n",
       "      <td>0.2661</td>\n",
       "      <td>5863.555664</td>\n",
       "      <td>31.1</td>\n",
       "      <td>23.9</td>\n",
       "    </tr>\n",
       "    <tr>\n",
       "      <td>3</td>\n",
       "      <td>4.0</td>\n",
       "      <td>2013-06-30</td>\n",
       "      <td>32.0</td>\n",
       "      <td>23.4</td>\n",
       "      <td>58.239788</td>\n",
       "      <td>96.483688</td>\n",
       "      <td>29.704629</td>\n",
       "      <td>23.326177</td>\n",
       "      <td>5.650050</td>\n",
       "      <td>65.727144</td>\n",
       "      <td>0.216372</td>\n",
       "      <td>0.226002</td>\n",
       "      <td>0.161157</td>\n",
       "      <td>0.134249</td>\n",
       "      <td>0.0</td>\n",
       "      <td>0.0</td>\n",
       "      <td>0.0</td>\n",
       "      <td>0.0</td>\n",
       "      <td>37.6450</td>\n",
       "      <td>127.022</td>\n",
       "      <td>45.7160</td>\n",
       "      <td>2.5348</td>\n",
       "      <td>5856.964844</td>\n",
       "      <td>31.7</td>\n",
       "      <td>24.3</td>\n",
       "    </tr>\n",
       "    <tr>\n",
       "      <td>4</td>\n",
       "      <td>5.0</td>\n",
       "      <td>2013-06-30</td>\n",
       "      <td>31.4</td>\n",
       "      <td>21.9</td>\n",
       "      <td>56.174095</td>\n",
       "      <td>90.155128</td>\n",
       "      <td>29.113934</td>\n",
       "      <td>23.486480</td>\n",
       "      <td>5.735004</td>\n",
       "      <td>107.965535</td>\n",
       "      <td>0.151407</td>\n",
       "      <td>0.249995</td>\n",
       "      <td>0.178892</td>\n",
       "      <td>0.170021</td>\n",
       "      <td>0.0</td>\n",
       "      <td>0.0</td>\n",
       "      <td>0.0</td>\n",
       "      <td>0.0</td>\n",
       "      <td>37.5507</td>\n",
       "      <td>127.135</td>\n",
       "      <td>35.0380</td>\n",
       "      <td>0.5055</td>\n",
       "      <td>5859.552246</td>\n",
       "      <td>31.2</td>\n",
       "      <td>22.5</td>\n",
       "    </tr>\n",
       "  </tbody>\n",
       "</table>\n",
       "</div>"
      ],
      "text/plain": [
       "   station        Date  Present_Tmax  Present_Tmin  LDAPS_RHmin  LDAPS_RHmax  \\\n",
       "0      1.0  2013-06-30          28.7          21.4    58.255688    91.116364   \n",
       "1      2.0  2013-06-30          31.9          21.6    52.263397    90.604721   \n",
       "2      3.0  2013-06-30          31.6          23.3    48.690479    83.973587   \n",
       "3      4.0  2013-06-30          32.0          23.4    58.239788    96.483688   \n",
       "4      5.0  2013-06-30          31.4          21.9    56.174095    90.155128   \n",
       "\n",
       "   LDAPS_Tmax_lapse  LDAPS_Tmin_lapse  LDAPS_WS    LDAPS_LH  LDAPS_CC1  \\\n",
       "0         28.074101         23.006936  6.818887   69.451805   0.233947   \n",
       "1         29.850689         24.035009  5.691890   51.937448   0.225508   \n",
       "2         30.091292         24.565633  6.138224   20.573050   0.209344   \n",
       "3         29.704629         23.326177  5.650050   65.727144   0.216372   \n",
       "4         29.113934         23.486480  5.735004  107.965535   0.151407   \n",
       "\n",
       "   LDAPS_CC2  LDAPS_CC3  LDAPS_CC4  LDAPS_PPT1  LDAPS_PPT2  LDAPS_PPT3  \\\n",
       "0   0.203896   0.161697   0.130928         0.0         0.0         0.0   \n",
       "1   0.251771   0.159444   0.127727         0.0         0.0         0.0   \n",
       "2   0.257469   0.204091   0.142125         0.0         0.0         0.0   \n",
       "3   0.226002   0.161157   0.134249         0.0         0.0         0.0   \n",
       "4   0.249995   0.178892   0.170021         0.0         0.0         0.0   \n",
       "\n",
       "   LDAPS_PPT4      lat      lon       DEM   Slope  Solar radiation  Next_Tmax  \\\n",
       "0         0.0  37.6046  126.991  212.3350  2.7850      5992.895996       29.1   \n",
       "1         0.0  37.6046  127.032   44.7624  0.5141      5869.312500       30.5   \n",
       "2         0.0  37.5776  127.058   33.3068  0.2661      5863.555664       31.1   \n",
       "3         0.0  37.6450  127.022   45.7160  2.5348      5856.964844       31.7   \n",
       "4         0.0  37.5507  127.135   35.0380  0.5055      5859.552246       31.2   \n",
       "\n",
       "   Next_Tmin  \n",
       "0       21.2  \n",
       "1       22.5  \n",
       "2       23.9  \n",
       "3       24.3  \n",
       "4       22.5  "
      ]
     },
     "execution_count": 136,
     "metadata": {},
     "output_type": "execute_result"
    }
   ],
   "source": [
    "df.head()"
   ]
  },
  {
   "cell_type": "code",
   "execution_count": 137,
   "metadata": {},
   "outputs": [
    {
     "data": {
      "text/plain": [
       "(7752, 25)"
      ]
     },
     "execution_count": 137,
     "metadata": {},
     "output_type": "execute_result"
    }
   ],
   "source": [
    "df.shape"
   ]
  },
  {
   "cell_type": "markdown",
   "metadata": {},
   "source": [
    "# Feature Engineering"
   ]
  },
  {
   "cell_type": "markdown",
   "metadata": {},
   "source": [
    "# checking for missing values in dataset"
   ]
  },
  {
   "cell_type": "code",
   "execution_count": 138,
   "metadata": {},
   "outputs": [
    {
     "data": {
      "text/plain": [
       "station              2\n",
       "Date                 2\n",
       "Present_Tmax        70\n",
       "Present_Tmin        70\n",
       "LDAPS_RHmin         75\n",
       "LDAPS_RHmax         75\n",
       "LDAPS_Tmax_lapse    75\n",
       "LDAPS_Tmin_lapse    75\n",
       "LDAPS_WS            75\n",
       "LDAPS_LH            75\n",
       "LDAPS_CC1           75\n",
       "LDAPS_CC2           75\n",
       "LDAPS_CC3           75\n",
       "LDAPS_CC4           75\n",
       "LDAPS_PPT1          75\n",
       "LDAPS_PPT2          75\n",
       "LDAPS_PPT3          75\n",
       "LDAPS_PPT4          75\n",
       "lat                  0\n",
       "lon                  0\n",
       "DEM                  0\n",
       "Slope                0\n",
       "Solar radiation      0\n",
       "Next_Tmax           27\n",
       "Next_Tmin           27\n",
       "dtype: int64"
      ]
     },
     "execution_count": 138,
     "metadata": {},
     "output_type": "execute_result"
    }
   ],
   "source": [
    "df.isnull().sum()#there are missing values in  the dataset\n",
    "#moreover there are missing values in the target features i.e Next_Tmax & Next_Tmin."
   ]
  },
  {
   "cell_type": "markdown",
   "metadata": {},
   "source": [
    "# Dropping rows where missing values in Next_Tmax & Next_Tmin"
   ]
  },
  {
   "cell_type": "code",
   "execution_count": 139,
   "metadata": {},
   "outputs": [],
   "source": [
    "df=df.dropna()#Because the targets are having missing values,imputing might bias the model."
   ]
  },
  {
   "cell_type": "code",
   "execution_count": 140,
   "metadata": {},
   "outputs": [
    {
     "data": {
      "text/plain": [
       "(7588, 25)"
      ]
     },
     "execution_count": 140,
     "metadata": {},
     "output_type": "execute_result"
    }
   ],
   "source": [
    "df.shape"
   ]
  },
  {
   "cell_type": "code",
   "execution_count": 141,
   "metadata": {},
   "outputs": [
    {
     "data": {
      "text/plain": [
       "station             0\n",
       "Date                0\n",
       "Present_Tmax        0\n",
       "Present_Tmin        0\n",
       "LDAPS_RHmin         0\n",
       "LDAPS_RHmax         0\n",
       "LDAPS_Tmax_lapse    0\n",
       "LDAPS_Tmin_lapse    0\n",
       "LDAPS_WS            0\n",
       "LDAPS_LH            0\n",
       "LDAPS_CC1           0\n",
       "LDAPS_CC2           0\n",
       "LDAPS_CC3           0\n",
       "LDAPS_CC4           0\n",
       "LDAPS_PPT1          0\n",
       "LDAPS_PPT2          0\n",
       "LDAPS_PPT3          0\n",
       "LDAPS_PPT4          0\n",
       "lat                 0\n",
       "lon                 0\n",
       "DEM                 0\n",
       "Slope               0\n",
       "Solar radiation     0\n",
       "Next_Tmax           0\n",
       "Next_Tmin           0\n",
       "dtype: int64"
      ]
     },
     "execution_count": 141,
     "metadata": {},
     "output_type": "execute_result"
    }
   ],
   "source": [
    "df.isnull().sum()"
   ]
  },
  {
   "cell_type": "code",
   "execution_count": 142,
   "metadata": {},
   "outputs": [
    {
     "data": {
      "text/plain": [
       "station             float64\n",
       "Date                 object\n",
       "Present_Tmax        float64\n",
       "Present_Tmin        float64\n",
       "LDAPS_RHmin         float64\n",
       "LDAPS_RHmax         float64\n",
       "LDAPS_Tmax_lapse    float64\n",
       "LDAPS_Tmin_lapse    float64\n",
       "LDAPS_WS            float64\n",
       "LDAPS_LH            float64\n",
       "LDAPS_CC1           float64\n",
       "LDAPS_CC2           float64\n",
       "LDAPS_CC3           float64\n",
       "LDAPS_CC4           float64\n",
       "LDAPS_PPT1          float64\n",
       "LDAPS_PPT2          float64\n",
       "LDAPS_PPT3          float64\n",
       "LDAPS_PPT4          float64\n",
       "lat                 float64\n",
       "lon                 float64\n",
       "DEM                 float64\n",
       "Slope               float64\n",
       "Solar radiation     float64\n",
       "Next_Tmax           float64\n",
       "Next_Tmin           float64\n",
       "dtype: object"
      ]
     },
     "execution_count": 142,
     "metadata": {},
     "output_type": "execute_result"
    }
   ],
   "source": [
    "df.dtypes#we can see 'Date' is in object format,which should actualy be in datetime format."
   ]
  },
  {
   "cell_type": "markdown",
   "metadata": {},
   "source": [
    "# Changing the datatype of 'Date' column"
   ]
  },
  {
   "cell_type": "code",
   "execution_count": 143,
   "metadata": {},
   "outputs": [],
   "source": [
    "df['Date']=pd.to_datetime(df['Date'],format='%Y-%m-%d')"
   ]
  },
  {
   "cell_type": "code",
   "execution_count": 144,
   "metadata": {},
   "outputs": [],
   "source": [
    "new_df=pd.DataFrame({'year':df['Date'].dt.year,\n",
    "                     'month':df['Date'].dt.month,\n",
    "                     'day':df['Date'].dt.day,\n",
    "                     \n",
    "                     \n",
    "                     'week':df['Date'].dt.week,           \n",
    "                     \n",
    "                     \n",
    "                    'quater':df['Date'].dt.quarter})\n"
   ]
  },
  {
   "cell_type": "code",
   "execution_count": 145,
   "metadata": {},
   "outputs": [],
   "source": [
    "df=pd.concat([df,new_df],axis=1)"
   ]
  },
  {
   "cell_type": "code",
   "execution_count": 146,
   "metadata": {},
   "outputs": [],
   "source": [
    "df=df.drop('Date',axis=1)#As we have extracted all the features from 'time' column we are dropping it."
   ]
  },
  {
   "cell_type": "code",
   "execution_count": 147,
   "metadata": {},
   "outputs": [
    {
     "data": {
      "text/html": [
       "<div>\n",
       "<style scoped>\n",
       "    .dataframe tbody tr th:only-of-type {\n",
       "        vertical-align: middle;\n",
       "    }\n",
       "\n",
       "    .dataframe tbody tr th {\n",
       "        vertical-align: top;\n",
       "    }\n",
       "\n",
       "    .dataframe thead th {\n",
       "        text-align: right;\n",
       "    }\n",
       "</style>\n",
       "<table border=\"1\" class=\"dataframe\">\n",
       "  <thead>\n",
       "    <tr style=\"text-align: right;\">\n",
       "      <th></th>\n",
       "      <th>station</th>\n",
       "      <th>Present_Tmax</th>\n",
       "      <th>Present_Tmin</th>\n",
       "      <th>LDAPS_RHmin</th>\n",
       "      <th>LDAPS_RHmax</th>\n",
       "      <th>LDAPS_Tmax_lapse</th>\n",
       "      <th>LDAPS_Tmin_lapse</th>\n",
       "      <th>LDAPS_WS</th>\n",
       "      <th>LDAPS_LH</th>\n",
       "      <th>LDAPS_CC1</th>\n",
       "      <th>LDAPS_CC2</th>\n",
       "      <th>LDAPS_CC3</th>\n",
       "      <th>LDAPS_CC4</th>\n",
       "      <th>LDAPS_PPT1</th>\n",
       "      <th>LDAPS_PPT2</th>\n",
       "      <th>LDAPS_PPT3</th>\n",
       "      <th>LDAPS_PPT4</th>\n",
       "      <th>lat</th>\n",
       "      <th>lon</th>\n",
       "      <th>DEM</th>\n",
       "      <th>Slope</th>\n",
       "      <th>Solar radiation</th>\n",
       "      <th>Next_Tmax</th>\n",
       "      <th>Next_Tmin</th>\n",
       "      <th>year</th>\n",
       "      <th>month</th>\n",
       "      <th>day</th>\n",
       "      <th>week</th>\n",
       "      <th>quater</th>\n",
       "    </tr>\n",
       "  </thead>\n",
       "  <tbody>\n",
       "    <tr>\n",
       "      <td>0</td>\n",
       "      <td>1.0</td>\n",
       "      <td>28.7</td>\n",
       "      <td>21.4</td>\n",
       "      <td>58.255688</td>\n",
       "      <td>91.116364</td>\n",
       "      <td>28.074101</td>\n",
       "      <td>23.006936</td>\n",
       "      <td>6.818887</td>\n",
       "      <td>69.451805</td>\n",
       "      <td>0.233947</td>\n",
       "      <td>0.203896</td>\n",
       "      <td>0.161697</td>\n",
       "      <td>0.130928</td>\n",
       "      <td>0.0</td>\n",
       "      <td>0.0</td>\n",
       "      <td>0.0</td>\n",
       "      <td>0.0</td>\n",
       "      <td>37.6046</td>\n",
       "      <td>126.991</td>\n",
       "      <td>212.3350</td>\n",
       "      <td>2.7850</td>\n",
       "      <td>5992.895996</td>\n",
       "      <td>29.1</td>\n",
       "      <td>21.2</td>\n",
       "      <td>2013</td>\n",
       "      <td>6</td>\n",
       "      <td>30</td>\n",
       "      <td>26</td>\n",
       "      <td>2</td>\n",
       "    </tr>\n",
       "    <tr>\n",
       "      <td>1</td>\n",
       "      <td>2.0</td>\n",
       "      <td>31.9</td>\n",
       "      <td>21.6</td>\n",
       "      <td>52.263397</td>\n",
       "      <td>90.604721</td>\n",
       "      <td>29.850689</td>\n",
       "      <td>24.035009</td>\n",
       "      <td>5.691890</td>\n",
       "      <td>51.937448</td>\n",
       "      <td>0.225508</td>\n",
       "      <td>0.251771</td>\n",
       "      <td>0.159444</td>\n",
       "      <td>0.127727</td>\n",
       "      <td>0.0</td>\n",
       "      <td>0.0</td>\n",
       "      <td>0.0</td>\n",
       "      <td>0.0</td>\n",
       "      <td>37.6046</td>\n",
       "      <td>127.032</td>\n",
       "      <td>44.7624</td>\n",
       "      <td>0.5141</td>\n",
       "      <td>5869.312500</td>\n",
       "      <td>30.5</td>\n",
       "      <td>22.5</td>\n",
       "      <td>2013</td>\n",
       "      <td>6</td>\n",
       "      <td>30</td>\n",
       "      <td>26</td>\n",
       "      <td>2</td>\n",
       "    </tr>\n",
       "    <tr>\n",
       "      <td>2</td>\n",
       "      <td>3.0</td>\n",
       "      <td>31.6</td>\n",
       "      <td>23.3</td>\n",
       "      <td>48.690479</td>\n",
       "      <td>83.973587</td>\n",
       "      <td>30.091292</td>\n",
       "      <td>24.565633</td>\n",
       "      <td>6.138224</td>\n",
       "      <td>20.573050</td>\n",
       "      <td>0.209344</td>\n",
       "      <td>0.257469</td>\n",
       "      <td>0.204091</td>\n",
       "      <td>0.142125</td>\n",
       "      <td>0.0</td>\n",
       "      <td>0.0</td>\n",
       "      <td>0.0</td>\n",
       "      <td>0.0</td>\n",
       "      <td>37.5776</td>\n",
       "      <td>127.058</td>\n",
       "      <td>33.3068</td>\n",
       "      <td>0.2661</td>\n",
       "      <td>5863.555664</td>\n",
       "      <td>31.1</td>\n",
       "      <td>23.9</td>\n",
       "      <td>2013</td>\n",
       "      <td>6</td>\n",
       "      <td>30</td>\n",
       "      <td>26</td>\n",
       "      <td>2</td>\n",
       "    </tr>\n",
       "    <tr>\n",
       "      <td>3</td>\n",
       "      <td>4.0</td>\n",
       "      <td>32.0</td>\n",
       "      <td>23.4</td>\n",
       "      <td>58.239788</td>\n",
       "      <td>96.483688</td>\n",
       "      <td>29.704629</td>\n",
       "      <td>23.326177</td>\n",
       "      <td>5.650050</td>\n",
       "      <td>65.727144</td>\n",
       "      <td>0.216372</td>\n",
       "      <td>0.226002</td>\n",
       "      <td>0.161157</td>\n",
       "      <td>0.134249</td>\n",
       "      <td>0.0</td>\n",
       "      <td>0.0</td>\n",
       "      <td>0.0</td>\n",
       "      <td>0.0</td>\n",
       "      <td>37.6450</td>\n",
       "      <td>127.022</td>\n",
       "      <td>45.7160</td>\n",
       "      <td>2.5348</td>\n",
       "      <td>5856.964844</td>\n",
       "      <td>31.7</td>\n",
       "      <td>24.3</td>\n",
       "      <td>2013</td>\n",
       "      <td>6</td>\n",
       "      <td>30</td>\n",
       "      <td>26</td>\n",
       "      <td>2</td>\n",
       "    </tr>\n",
       "    <tr>\n",
       "      <td>4</td>\n",
       "      <td>5.0</td>\n",
       "      <td>31.4</td>\n",
       "      <td>21.9</td>\n",
       "      <td>56.174095</td>\n",
       "      <td>90.155128</td>\n",
       "      <td>29.113934</td>\n",
       "      <td>23.486480</td>\n",
       "      <td>5.735004</td>\n",
       "      <td>107.965535</td>\n",
       "      <td>0.151407</td>\n",
       "      <td>0.249995</td>\n",
       "      <td>0.178892</td>\n",
       "      <td>0.170021</td>\n",
       "      <td>0.0</td>\n",
       "      <td>0.0</td>\n",
       "      <td>0.0</td>\n",
       "      <td>0.0</td>\n",
       "      <td>37.5507</td>\n",
       "      <td>127.135</td>\n",
       "      <td>35.0380</td>\n",
       "      <td>0.5055</td>\n",
       "      <td>5859.552246</td>\n",
       "      <td>31.2</td>\n",
       "      <td>22.5</td>\n",
       "      <td>2013</td>\n",
       "      <td>6</td>\n",
       "      <td>30</td>\n",
       "      <td>26</td>\n",
       "      <td>2</td>\n",
       "    </tr>\n",
       "  </tbody>\n",
       "</table>\n",
       "</div>"
      ],
      "text/plain": [
       "   station  Present_Tmax  Present_Tmin  LDAPS_RHmin  LDAPS_RHmax  \\\n",
       "0      1.0          28.7          21.4    58.255688    91.116364   \n",
       "1      2.0          31.9          21.6    52.263397    90.604721   \n",
       "2      3.0          31.6          23.3    48.690479    83.973587   \n",
       "3      4.0          32.0          23.4    58.239788    96.483688   \n",
       "4      5.0          31.4          21.9    56.174095    90.155128   \n",
       "\n",
       "   LDAPS_Tmax_lapse  LDAPS_Tmin_lapse  LDAPS_WS    LDAPS_LH  LDAPS_CC1  \\\n",
       "0         28.074101         23.006936  6.818887   69.451805   0.233947   \n",
       "1         29.850689         24.035009  5.691890   51.937448   0.225508   \n",
       "2         30.091292         24.565633  6.138224   20.573050   0.209344   \n",
       "3         29.704629         23.326177  5.650050   65.727144   0.216372   \n",
       "4         29.113934         23.486480  5.735004  107.965535   0.151407   \n",
       "\n",
       "   LDAPS_CC2  LDAPS_CC3  LDAPS_CC4  LDAPS_PPT1  LDAPS_PPT2  LDAPS_PPT3  \\\n",
       "0   0.203896   0.161697   0.130928         0.0         0.0         0.0   \n",
       "1   0.251771   0.159444   0.127727         0.0         0.0         0.0   \n",
       "2   0.257469   0.204091   0.142125         0.0         0.0         0.0   \n",
       "3   0.226002   0.161157   0.134249         0.0         0.0         0.0   \n",
       "4   0.249995   0.178892   0.170021         0.0         0.0         0.0   \n",
       "\n",
       "   LDAPS_PPT4      lat      lon       DEM   Slope  Solar radiation  Next_Tmax  \\\n",
       "0         0.0  37.6046  126.991  212.3350  2.7850      5992.895996       29.1   \n",
       "1         0.0  37.6046  127.032   44.7624  0.5141      5869.312500       30.5   \n",
       "2         0.0  37.5776  127.058   33.3068  0.2661      5863.555664       31.1   \n",
       "3         0.0  37.6450  127.022   45.7160  2.5348      5856.964844       31.7   \n",
       "4         0.0  37.5507  127.135   35.0380  0.5055      5859.552246       31.2   \n",
       "\n",
       "   Next_Tmin  year  month  day  week  quater  \n",
       "0       21.2  2013      6   30    26       2  \n",
       "1       22.5  2013      6   30    26       2  \n",
       "2       23.9  2013      6   30    26       2  \n",
       "3       24.3  2013      6   30    26       2  \n",
       "4       22.5  2013      6   30    26       2  "
      ]
     },
     "execution_count": 147,
     "metadata": {},
     "output_type": "execute_result"
    }
   ],
   "source": [
    "df.head()"
   ]
  },
  {
   "cell_type": "markdown",
   "metadata": {},
   "source": [
    "# Checking correlation between attributes"
   ]
  },
  {
   "cell_type": "code",
   "execution_count": 148,
   "metadata": {},
   "outputs": [
    {
     "data": {
      "text/html": [
       "<div>\n",
       "<style scoped>\n",
       "    .dataframe tbody tr th:only-of-type {\n",
       "        vertical-align: middle;\n",
       "    }\n",
       "\n",
       "    .dataframe tbody tr th {\n",
       "        vertical-align: top;\n",
       "    }\n",
       "\n",
       "    .dataframe thead th {\n",
       "        text-align: right;\n",
       "    }\n",
       "</style>\n",
       "<table border=\"1\" class=\"dataframe\">\n",
       "  <thead>\n",
       "    <tr style=\"text-align: right;\">\n",
       "      <th></th>\n",
       "      <th>station</th>\n",
       "      <th>Present_Tmax</th>\n",
       "      <th>Present_Tmin</th>\n",
       "      <th>LDAPS_RHmin</th>\n",
       "      <th>LDAPS_RHmax</th>\n",
       "      <th>LDAPS_Tmax_lapse</th>\n",
       "      <th>LDAPS_Tmin_lapse</th>\n",
       "      <th>LDAPS_WS</th>\n",
       "      <th>LDAPS_LH</th>\n",
       "      <th>LDAPS_CC1</th>\n",
       "      <th>LDAPS_CC2</th>\n",
       "      <th>LDAPS_CC3</th>\n",
       "      <th>LDAPS_CC4</th>\n",
       "      <th>LDAPS_PPT1</th>\n",
       "      <th>LDAPS_PPT2</th>\n",
       "      <th>LDAPS_PPT3</th>\n",
       "      <th>LDAPS_PPT4</th>\n",
       "      <th>lat</th>\n",
       "      <th>lon</th>\n",
       "      <th>DEM</th>\n",
       "      <th>Slope</th>\n",
       "      <th>Solar radiation</th>\n",
       "      <th>Next_Tmax</th>\n",
       "      <th>Next_Tmin</th>\n",
       "      <th>year</th>\n",
       "      <th>month</th>\n",
       "      <th>day</th>\n",
       "      <th>week</th>\n",
       "      <th>quater</th>\n",
       "    </tr>\n",
       "  </thead>\n",
       "  <tbody>\n",
       "    <tr>\n",
       "      <td>station</td>\n",
       "      <td>1.000000</td>\n",
       "      <td>0.113301</td>\n",
       "      <td>0.133282</td>\n",
       "      <td>-0.067846</td>\n",
       "      <td>-0.169351</td>\n",
       "      <td>0.069856</td>\n",
       "      <td>0.105277</td>\n",
       "      <td>0.005822</td>\n",
       "      <td>-0.132129</td>\n",
       "      <td>0.006539</td>\n",
       "      <td>0.003526</td>\n",
       "      <td>-0.000161</td>\n",
       "      <td>0.005005</td>\n",
       "      <td>-0.001954</td>\n",
       "      <td>-0.007635</td>\n",
       "      <td>-0.013865</td>\n",
       "      <td>-0.011085</td>\n",
       "      <td>-0.239118</td>\n",
       "      <td>-0.118845</td>\n",
       "      <td>-0.256706</td>\n",
       "      <td>-0.091721</td>\n",
       "      <td>-0.021194</td>\n",
       "      <td>0.107747</td>\n",
       "      <td>0.128184</td>\n",
       "      <td>0.001474</td>\n",
       "      <td>0.003114</td>\n",
       "      <td>-0.000799</td>\n",
       "      <td>0.002108</td>\n",
       "      <td>0.004411</td>\n",
       "    </tr>\n",
       "    <tr>\n",
       "      <td>Present_Tmax</td>\n",
       "      <td>0.113301</td>\n",
       "      <td>1.000000</td>\n",
       "      <td>0.615208</td>\n",
       "      <td>-0.209059</td>\n",
       "      <td>-0.306943</td>\n",
       "      <td>0.573777</td>\n",
       "      <td>0.628705</td>\n",
       "      <td>-0.125952</td>\n",
       "      <td>0.134246</td>\n",
       "      <td>-0.316333</td>\n",
       "      <td>-0.216976</td>\n",
       "      <td>-0.146391</td>\n",
       "      <td>-0.143069</td>\n",
       "      <td>-0.114917</td>\n",
       "      <td>-0.104779</td>\n",
       "      <td>-0.127248</td>\n",
       "      <td>-0.107295</td>\n",
       "      <td>-0.054134</td>\n",
       "      <td>0.007695</td>\n",
       "      <td>-0.189439</td>\n",
       "      <td>-0.107079</td>\n",
       "      <td>-0.022114</td>\n",
       "      <td>0.610357</td>\n",
       "      <td>0.621048</td>\n",
       "      <td>0.056002</td>\n",
       "      <td>0.147358</td>\n",
       "      <td>-0.151982</td>\n",
       "      <td>0.046625</td>\n",
       "      <td>0.017705</td>\n",
       "    </tr>\n",
       "    <tr>\n",
       "      <td>Present_Tmin</td>\n",
       "      <td>0.133282</td>\n",
       "      <td>0.615208</td>\n",
       "      <td>1.000000</td>\n",
       "      <td>0.122200</td>\n",
       "      <td>-0.018576</td>\n",
       "      <td>0.467904</td>\n",
       "      <td>0.772061</td>\n",
       "      <td>-0.038779</td>\n",
       "      <td>-0.012817</td>\n",
       "      <td>0.084348</td>\n",
       "      <td>0.090038</td>\n",
       "      <td>-0.004719</td>\n",
       "      <td>-0.046694</td>\n",
       "      <td>0.111577</td>\n",
       "      <td>0.066207</td>\n",
       "      <td>-0.052428</td>\n",
       "      <td>-0.070391</td>\n",
       "      <td>-0.081417</td>\n",
       "      <td>-0.045174</td>\n",
       "      <td>-0.254084</td>\n",
       "      <td>-0.148423</td>\n",
       "      <td>0.059765</td>\n",
       "      <td>0.463523</td>\n",
       "      <td>0.796975</td>\n",
       "      <td>0.037457</td>\n",
       "      <td>0.084047</td>\n",
       "      <td>-0.114294</td>\n",
       "      <td>-0.002885</td>\n",
       "      <td>0.070877</td>\n",
       "    </tr>\n",
       "    <tr>\n",
       "      <td>LDAPS_RHmin</td>\n",
       "      <td>-0.067846</td>\n",
       "      <td>-0.209059</td>\n",
       "      <td>0.122200</td>\n",
       "      <td>1.000000</td>\n",
       "      <td>0.578358</td>\n",
       "      <td>-0.569580</td>\n",
       "      <td>0.085237</td>\n",
       "      <td>0.289422</td>\n",
       "      <td>-0.072195</td>\n",
       "      <td>0.612831</td>\n",
       "      <td>0.744774</td>\n",
       "      <td>0.688069</td>\n",
       "      <td>0.513937</td>\n",
       "      <td>0.259039</td>\n",
       "      <td>0.389572</td>\n",
       "      <td>0.237512</td>\n",
       "      <td>0.167311</td>\n",
       "      <td>0.085027</td>\n",
       "      <td>-0.077590</td>\n",
       "      <td>0.100684</td>\n",
       "      <td>0.122454</td>\n",
       "      <td>0.242168</td>\n",
       "      <td>-0.446824</td>\n",
       "      <td>0.093249</td>\n",
       "      <td>-0.002147</td>\n",
       "      <td>-0.190674</td>\n",
       "      <td>-0.060702</td>\n",
       "      <td>-0.220338</td>\n",
       "      <td>0.017552</td>\n",
       "    </tr>\n",
       "    <tr>\n",
       "      <td>LDAPS_RHmax</td>\n",
       "      <td>-0.169351</td>\n",
       "      <td>-0.306943</td>\n",
       "      <td>-0.018576</td>\n",
       "      <td>0.578358</td>\n",
       "      <td>1.000000</td>\n",
       "      <td>-0.377293</td>\n",
       "      <td>-0.118965</td>\n",
       "      <td>0.131269</td>\n",
       "      <td>0.238986</td>\n",
       "      <td>0.435937</td>\n",
       "      <td>0.390620</td>\n",
       "      <td>0.224734</td>\n",
       "      <td>0.127242</td>\n",
       "      <td>0.268019</td>\n",
       "      <td>0.227581</td>\n",
       "      <td>0.132436</td>\n",
       "      <td>0.118101</td>\n",
       "      <td>0.194820</td>\n",
       "      <td>0.025563</td>\n",
       "      <td>0.176557</td>\n",
       "      <td>0.219436</td>\n",
       "      <td>0.146622</td>\n",
       "      <td>-0.289788</td>\n",
       "      <td>-0.076415</td>\n",
       "      <td>-0.144286</td>\n",
       "      <td>-0.117317</td>\n",
       "      <td>-0.014242</td>\n",
       "      <td>-0.112242</td>\n",
       "      <td>-0.003947</td>\n",
       "    </tr>\n",
       "    <tr>\n",
       "      <td>LDAPS_Tmax_lapse</td>\n",
       "      <td>0.069856</td>\n",
       "      <td>0.573777</td>\n",
       "      <td>0.467904</td>\n",
       "      <td>-0.569580</td>\n",
       "      <td>-0.377293</td>\n",
       "      <td>1.000000</td>\n",
       "      <td>0.653425</td>\n",
       "      <td>-0.316011</td>\n",
       "      <td>0.043663</td>\n",
       "      <td>-0.440878</td>\n",
       "      <td>-0.525380</td>\n",
       "      <td>-0.542728</td>\n",
       "      <td>-0.429739</td>\n",
       "      <td>-0.115659</td>\n",
       "      <td>-0.248369</td>\n",
       "      <td>-0.193749</td>\n",
       "      <td>-0.170415</td>\n",
       "      <td>-0.044052</td>\n",
       "      <td>0.091568</td>\n",
       "      <td>-0.181433</td>\n",
       "      <td>-0.163891</td>\n",
       "      <td>0.047414</td>\n",
       "      <td>0.835729</td>\n",
       "      <td>0.589963</td>\n",
       "      <td>0.020308</td>\n",
       "      <td>0.096915</td>\n",
       "      <td>-0.160191</td>\n",
       "      <td>0.001487</td>\n",
       "      <td>0.062751</td>\n",
       "    </tr>\n",
       "    <tr>\n",
       "      <td>LDAPS_Tmin_lapse</td>\n",
       "      <td>0.105277</td>\n",
       "      <td>0.628705</td>\n",
       "      <td>0.772061</td>\n",
       "      <td>0.085237</td>\n",
       "      <td>-0.118965</td>\n",
       "      <td>0.653425</td>\n",
       "      <td>1.000000</td>\n",
       "      <td>-0.134652</td>\n",
       "      <td>-0.139675</td>\n",
       "      <td>0.008714</td>\n",
       "      <td>0.046537</td>\n",
       "      <td>-0.044998</td>\n",
       "      <td>-0.079536</td>\n",
       "      <td>0.034956</td>\n",
       "      <td>-0.002743</td>\n",
       "      <td>-0.093116</td>\n",
       "      <td>-0.103541</td>\n",
       "      <td>-0.099452</td>\n",
       "      <td>-0.024703</td>\n",
       "      <td>-0.198396</td>\n",
       "      <td>-0.187864</td>\n",
       "      <td>0.157763</td>\n",
       "      <td>0.592119</td>\n",
       "      <td>0.886513</td>\n",
       "      <td>-0.000564</td>\n",
       "      <td>0.023412</td>\n",
       "      <td>-0.171284</td>\n",
       "      <td>-0.083760</td>\n",
       "      <td>0.067063</td>\n",
       "    </tr>\n",
       "    <tr>\n",
       "      <td>LDAPS_WS</td>\n",
       "      <td>0.005822</td>\n",
       "      <td>-0.125952</td>\n",
       "      <td>-0.038779</td>\n",
       "      <td>0.289422</td>\n",
       "      <td>0.131269</td>\n",
       "      <td>-0.316011</td>\n",
       "      <td>-0.134652</td>\n",
       "      <td>1.000000</td>\n",
       "      <td>0.004427</td>\n",
       "      <td>0.285349</td>\n",
       "      <td>0.257226</td>\n",
       "      <td>0.238155</td>\n",
       "      <td>0.218870</td>\n",
       "      <td>0.141503</td>\n",
       "      <td>0.181634</td>\n",
       "      <td>0.147199</td>\n",
       "      <td>0.134428</td>\n",
       "      <td>0.033025</td>\n",
       "      <td>-0.063009</td>\n",
       "      <td>0.188540</td>\n",
       "      <td>0.169223</td>\n",
       "      <td>0.120630</td>\n",
       "      <td>-0.351107</td>\n",
       "      <td>-0.102021</td>\n",
       "      <td>-0.114114</td>\n",
       "      <td>-0.113617</td>\n",
       "      <td>-0.040088</td>\n",
       "      <td>-0.120691</td>\n",
       "      <td>-0.014389</td>\n",
       "    </tr>\n",
       "    <tr>\n",
       "      <td>LDAPS_LH</td>\n",
       "      <td>-0.132129</td>\n",
       "      <td>0.134246</td>\n",
       "      <td>-0.012817</td>\n",
       "      <td>-0.072195</td>\n",
       "      <td>0.238986</td>\n",
       "      <td>0.043663</td>\n",
       "      <td>-0.139675</td>\n",
       "      <td>0.004427</td>\n",
       "      <td>1.000000</td>\n",
       "      <td>-0.148314</td>\n",
       "      <td>-0.265382</td>\n",
       "      <td>-0.246709</td>\n",
       "      <td>-0.173156</td>\n",
       "      <td>-0.018708</td>\n",
       "      <td>-0.084375</td>\n",
       "      <td>0.009495</td>\n",
       "      <td>0.012372</td>\n",
       "      <td>0.133309</td>\n",
       "      <td>0.024476</td>\n",
       "      <td>0.056362</td>\n",
       "      <td>0.087517</td>\n",
       "      <td>-0.044956</td>\n",
       "      <td>0.156779</td>\n",
       "      <td>-0.060392</td>\n",
       "      <td>0.055898</td>\n",
       "      <td>0.060947</td>\n",
       "      <td>-0.019588</td>\n",
       "      <td>0.043514</td>\n",
       "      <td>-0.006002</td>\n",
       "    </tr>\n",
       "    <tr>\n",
       "      <td>LDAPS_CC1</td>\n",
       "      <td>0.006539</td>\n",
       "      <td>-0.316333</td>\n",
       "      <td>0.084348</td>\n",
       "      <td>0.612831</td>\n",
       "      <td>0.435937</td>\n",
       "      <td>-0.440878</td>\n",
       "      <td>0.008714</td>\n",
       "      <td>0.285349</td>\n",
       "      <td>-0.148314</td>\n",
       "      <td>1.000000</td>\n",
       "      <td>0.779510</td>\n",
       "      <td>0.516698</td>\n",
       "      <td>0.362670</td>\n",
       "      <td>0.446930</td>\n",
       "      <td>0.389368</td>\n",
       "      <td>0.166763</td>\n",
       "      <td>0.088897</td>\n",
       "      <td>-0.010268</td>\n",
       "      <td>-0.007962</td>\n",
       "      <td>-0.017378</td>\n",
       "      <td>-0.023893</td>\n",
       "      <td>0.218285</td>\n",
       "      <td>-0.459705</td>\n",
       "      <td>-0.012877</td>\n",
       "      <td>-0.066233</td>\n",
       "      <td>-0.212477</td>\n",
       "      <td>-0.024234</td>\n",
       "      <td>-0.212542</td>\n",
       "      <td>0.027468</td>\n",
       "    </tr>\n",
       "    <tr>\n",
       "      <td>LDAPS_CC2</td>\n",
       "      <td>0.003526</td>\n",
       "      <td>-0.216976</td>\n",
       "      <td>0.090038</td>\n",
       "      <td>0.744774</td>\n",
       "      <td>0.390620</td>\n",
       "      <td>-0.525380</td>\n",
       "      <td>0.046537</td>\n",
       "      <td>0.257226</td>\n",
       "      <td>-0.265382</td>\n",
       "      <td>0.779510</td>\n",
       "      <td>1.000000</td>\n",
       "      <td>0.724546</td>\n",
       "      <td>0.527333</td>\n",
       "      <td>0.304442</td>\n",
       "      <td>0.479511</td>\n",
       "      <td>0.238179</td>\n",
       "      <td>0.157194</td>\n",
       "      <td>-0.002642</td>\n",
       "      <td>-0.004757</td>\n",
       "      <td>-0.016249</td>\n",
       "      <td>-0.021173</td>\n",
       "      <td>0.169346</td>\n",
       "      <td>-0.498295</td>\n",
       "      <td>0.030358</td>\n",
       "      <td>-0.045027</td>\n",
       "      <td>-0.165355</td>\n",
       "      <td>-0.008691</td>\n",
       "      <td>-0.159122</td>\n",
       "      <td>0.011951</td>\n",
       "    </tr>\n",
       "    <tr>\n",
       "      <td>LDAPS_CC3</td>\n",
       "      <td>-0.000161</td>\n",
       "      <td>-0.146391</td>\n",
       "      <td>-0.004719</td>\n",
       "      <td>0.688069</td>\n",
       "      <td>0.224734</td>\n",
       "      <td>-0.542728</td>\n",
       "      <td>-0.044998</td>\n",
       "      <td>0.238155</td>\n",
       "      <td>-0.246709</td>\n",
       "      <td>0.516698</td>\n",
       "      <td>0.724546</td>\n",
       "      <td>1.000000</td>\n",
       "      <td>0.794463</td>\n",
       "      <td>0.154952</td>\n",
       "      <td>0.336254</td>\n",
       "      <td>0.337346</td>\n",
       "      <td>0.303787</td>\n",
       "      <td>0.003827</td>\n",
       "      <td>0.013948</td>\n",
       "      <td>-0.001249</td>\n",
       "      <td>-0.005903</td>\n",
       "      <td>0.116691</td>\n",
       "      <td>-0.523061</td>\n",
       "      <td>-0.056490</td>\n",
       "      <td>0.108500</td>\n",
       "      <td>-0.111188</td>\n",
       "      <td>-0.052125</td>\n",
       "      <td>-0.146706</td>\n",
       "      <td>0.019711</td>\n",
       "    </tr>\n",
       "    <tr>\n",
       "      <td>LDAPS_CC4</td>\n",
       "      <td>0.005005</td>\n",
       "      <td>-0.143069</td>\n",
       "      <td>-0.046694</td>\n",
       "      <td>0.513937</td>\n",
       "      <td>0.127242</td>\n",
       "      <td>-0.429739</td>\n",
       "      <td>-0.079536</td>\n",
       "      <td>0.218870</td>\n",
       "      <td>-0.173156</td>\n",
       "      <td>0.362670</td>\n",
       "      <td>0.527333</td>\n",
       "      <td>0.794463</td>\n",
       "      <td>1.000000</td>\n",
       "      <td>0.115968</td>\n",
       "      <td>0.286266</td>\n",
       "      <td>0.265709</td>\n",
       "      <td>0.380597</td>\n",
       "      <td>-0.010612</td>\n",
       "      <td>-0.004456</td>\n",
       "      <td>-0.010240</td>\n",
       "      <td>-0.017891</td>\n",
       "      <td>0.114268</td>\n",
       "      <td>-0.454039</td>\n",
       "      <td>-0.086197</td>\n",
       "      <td>0.100955</td>\n",
       "      <td>-0.127797</td>\n",
       "      <td>-0.038711</td>\n",
       "      <td>-0.158535</td>\n",
       "      <td>-0.034857</td>\n",
       "    </tr>\n",
       "    <tr>\n",
       "      <td>LDAPS_PPT1</td>\n",
       "      <td>-0.001954</td>\n",
       "      <td>-0.114917</td>\n",
       "      <td>0.111577</td>\n",
       "      <td>0.259039</td>\n",
       "      <td>0.268019</td>\n",
       "      <td>-0.115659</td>\n",
       "      <td>0.034956</td>\n",
       "      <td>0.141503</td>\n",
       "      <td>-0.018708</td>\n",
       "      <td>0.446930</td>\n",
       "      <td>0.304442</td>\n",
       "      <td>0.154952</td>\n",
       "      <td>0.115968</td>\n",
       "      <td>1.000000</td>\n",
       "      <td>0.367922</td>\n",
       "      <td>0.012847</td>\n",
       "      <td>0.004377</td>\n",
       "      <td>-0.005841</td>\n",
       "      <td>-0.004375</td>\n",
       "      <td>0.005412</td>\n",
       "      <td>0.010340</td>\n",
       "      <td>0.084804</td>\n",
       "      <td>-0.125954</td>\n",
       "      <td>0.018031</td>\n",
       "      <td>-0.092286</td>\n",
       "      <td>-0.078505</td>\n",
       "      <td>-0.018668</td>\n",
       "      <td>-0.096897</td>\n",
       "      <td>0.034767</td>\n",
       "    </tr>\n",
       "    <tr>\n",
       "      <td>LDAPS_PPT2</td>\n",
       "      <td>-0.007635</td>\n",
       "      <td>-0.104779</td>\n",
       "      <td>0.066207</td>\n",
       "      <td>0.389572</td>\n",
       "      <td>0.227581</td>\n",
       "      <td>-0.248369</td>\n",
       "      <td>-0.002743</td>\n",
       "      <td>0.181634</td>\n",
       "      <td>-0.084375</td>\n",
       "      <td>0.389368</td>\n",
       "      <td>0.479511</td>\n",
       "      <td>0.336254</td>\n",
       "      <td>0.286266</td>\n",
       "      <td>0.367922</td>\n",
       "      <td>1.000000</td>\n",
       "      <td>0.205285</td>\n",
       "      <td>0.121937</td>\n",
       "      <td>0.015198</td>\n",
       "      <td>0.016958</td>\n",
       "      <td>0.002411</td>\n",
       "      <td>0.003703</td>\n",
       "      <td>0.107620</td>\n",
       "      <td>-0.186722</td>\n",
       "      <td>-0.012462</td>\n",
       "      <td>-0.045969</td>\n",
       "      <td>-0.112062</td>\n",
       "      <td>-0.002453</td>\n",
       "      <td>-0.113841</td>\n",
       "      <td>0.026188</td>\n",
       "    </tr>\n",
       "    <tr>\n",
       "      <td>LDAPS_PPT3</td>\n",
       "      <td>-0.013865</td>\n",
       "      <td>-0.127248</td>\n",
       "      <td>-0.052428</td>\n",
       "      <td>0.237512</td>\n",
       "      <td>0.132436</td>\n",
       "      <td>-0.193749</td>\n",
       "      <td>-0.093116</td>\n",
       "      <td>0.147199</td>\n",
       "      <td>0.009495</td>\n",
       "      <td>0.166763</td>\n",
       "      <td>0.238179</td>\n",
       "      <td>0.337346</td>\n",
       "      <td>0.265709</td>\n",
       "      <td>0.012847</td>\n",
       "      <td>0.205285</td>\n",
       "      <td>1.000000</td>\n",
       "      <td>0.288093</td>\n",
       "      <td>0.031822</td>\n",
       "      <td>0.018094</td>\n",
       "      <td>0.011345</td>\n",
       "      <td>0.018372</td>\n",
       "      <td>-0.057430</td>\n",
       "      <td>-0.203554</td>\n",
       "      <td>-0.068664</td>\n",
       "      <td>0.046074</td>\n",
       "      <td>0.046677</td>\n",
       "      <td>0.001973</td>\n",
       "      <td>0.035919</td>\n",
       "      <td>0.024168</td>\n",
       "    </tr>\n",
       "    <tr>\n",
       "      <td>LDAPS_PPT4</td>\n",
       "      <td>-0.011085</td>\n",
       "      <td>-0.107295</td>\n",
       "      <td>-0.070391</td>\n",
       "      <td>0.167311</td>\n",
       "      <td>0.118101</td>\n",
       "      <td>-0.170415</td>\n",
       "      <td>-0.103541</td>\n",
       "      <td>0.134428</td>\n",
       "      <td>0.012372</td>\n",
       "      <td>0.088897</td>\n",
       "      <td>0.157194</td>\n",
       "      <td>0.303787</td>\n",
       "      <td>0.380597</td>\n",
       "      <td>0.004377</td>\n",
       "      <td>0.121937</td>\n",
       "      <td>0.288093</td>\n",
       "      <td>1.000000</td>\n",
       "      <td>0.008178</td>\n",
       "      <td>0.041095</td>\n",
       "      <td>-0.009830</td>\n",
       "      <td>-0.008689</td>\n",
       "      <td>0.033249</td>\n",
       "      <td>-0.190720</td>\n",
       "      <td>-0.114900</td>\n",
       "      <td>0.036118</td>\n",
       "      <td>-0.057482</td>\n",
       "      <td>-0.033112</td>\n",
       "      <td>-0.084029</td>\n",
       "      <td>-0.163394</td>\n",
       "    </tr>\n",
       "    <tr>\n",
       "      <td>lat</td>\n",
       "      <td>-0.239118</td>\n",
       "      <td>-0.054134</td>\n",
       "      <td>-0.081417</td>\n",
       "      <td>0.085027</td>\n",
       "      <td>0.194820</td>\n",
       "      <td>-0.044052</td>\n",
       "      <td>-0.099452</td>\n",
       "      <td>0.033025</td>\n",
       "      <td>0.133309</td>\n",
       "      <td>-0.010268</td>\n",
       "      <td>-0.002642</td>\n",
       "      <td>0.003827</td>\n",
       "      <td>-0.010612</td>\n",
       "      <td>-0.005841</td>\n",
       "      <td>0.015198</td>\n",
       "      <td>0.031822</td>\n",
       "      <td>0.008178</td>\n",
       "      <td>1.000000</td>\n",
       "      <td>0.289999</td>\n",
       "      <td>0.029344</td>\n",
       "      <td>0.071446</td>\n",
       "      <td>0.036514</td>\n",
       "      <td>-0.055367</td>\n",
       "      <td>-0.085136</td>\n",
       "      <td>0.002063</td>\n",
       "      <td>0.000524</td>\n",
       "      <td>0.000803</td>\n",
       "      <td>0.000906</td>\n",
       "      <td>0.000171</td>\n",
       "    </tr>\n",
       "    <tr>\n",
       "      <td>lon</td>\n",
       "      <td>-0.118845</td>\n",
       "      <td>0.007695</td>\n",
       "      <td>-0.045174</td>\n",
       "      <td>-0.077590</td>\n",
       "      <td>0.025563</td>\n",
       "      <td>0.091568</td>\n",
       "      <td>-0.024703</td>\n",
       "      <td>-0.063009</td>\n",
       "      <td>0.024476</td>\n",
       "      <td>-0.007962</td>\n",
       "      <td>-0.004757</td>\n",
       "      <td>0.013948</td>\n",
       "      <td>-0.004456</td>\n",
       "      <td>-0.004375</td>\n",
       "      <td>0.016958</td>\n",
       "      <td>0.018094</td>\n",
       "      <td>0.041095</td>\n",
       "      <td>0.289999</td>\n",
       "      <td>1.000000</td>\n",
       "      <td>0.006685</td>\n",
       "      <td>0.037616</td>\n",
       "      <td>0.005178</td>\n",
       "      <td>0.003502</td>\n",
       "      <td>-0.045758</td>\n",
       "      <td>-0.003665</td>\n",
       "      <td>-0.002795</td>\n",
       "      <td>-0.002433</td>\n",
       "      <td>-0.003761</td>\n",
       "      <td>-0.003611</td>\n",
       "    </tr>\n",
       "    <tr>\n",
       "      <td>DEM</td>\n",
       "      <td>-0.256706</td>\n",
       "      <td>-0.189439</td>\n",
       "      <td>-0.254084</td>\n",
       "      <td>0.100684</td>\n",
       "      <td>0.176557</td>\n",
       "      <td>-0.181433</td>\n",
       "      <td>-0.198396</td>\n",
       "      <td>0.188540</td>\n",
       "      <td>0.056362</td>\n",
       "      <td>-0.017378</td>\n",
       "      <td>-0.016249</td>\n",
       "      <td>-0.001249</td>\n",
       "      <td>-0.010240</td>\n",
       "      <td>0.005412</td>\n",
       "      <td>0.002411</td>\n",
       "      <td>0.011345</td>\n",
       "      <td>-0.009830</td>\n",
       "      <td>0.029344</td>\n",
       "      <td>0.006685</td>\n",
       "      <td>1.000000</td>\n",
       "      <td>0.784179</td>\n",
       "      <td>0.053241</td>\n",
       "      <td>-0.174578</td>\n",
       "      <td>-0.249303</td>\n",
       "      <td>0.002375</td>\n",
       "      <td>0.001575</td>\n",
       "      <td>0.000900</td>\n",
       "      <td>0.001584</td>\n",
       "      <td>-0.000225</td>\n",
       "    </tr>\n",
       "    <tr>\n",
       "      <td>Slope</td>\n",
       "      <td>-0.091721</td>\n",
       "      <td>-0.107079</td>\n",
       "      <td>-0.148423</td>\n",
       "      <td>0.122454</td>\n",
       "      <td>0.219436</td>\n",
       "      <td>-0.163891</td>\n",
       "      <td>-0.187864</td>\n",
       "      <td>0.169223</td>\n",
       "      <td>0.087517</td>\n",
       "      <td>-0.023893</td>\n",
       "      <td>-0.021173</td>\n",
       "      <td>-0.005903</td>\n",
       "      <td>-0.017891</td>\n",
       "      <td>0.010340</td>\n",
       "      <td>0.003703</td>\n",
       "      <td>0.018372</td>\n",
       "      <td>-0.008689</td>\n",
       "      <td>0.071446</td>\n",
       "      <td>0.037616</td>\n",
       "      <td>0.784179</td>\n",
       "      <td>1.000000</td>\n",
       "      <td>0.025517</td>\n",
       "      <td>-0.104279</td>\n",
       "      <td>-0.148379</td>\n",
       "      <td>0.000287</td>\n",
       "      <td>0.001648</td>\n",
       "      <td>0.000604</td>\n",
       "      <td>0.001663</td>\n",
       "      <td>-0.000439</td>\n",
       "    </tr>\n",
       "    <tr>\n",
       "      <td>Solar radiation</td>\n",
       "      <td>-0.021194</td>\n",
       "      <td>-0.022114</td>\n",
       "      <td>0.059765</td>\n",
       "      <td>0.242168</td>\n",
       "      <td>0.146622</td>\n",
       "      <td>0.047414</td>\n",
       "      <td>0.157763</td>\n",
       "      <td>0.120630</td>\n",
       "      <td>-0.044956</td>\n",
       "      <td>0.218285</td>\n",
       "      <td>0.169346</td>\n",
       "      <td>0.116691</td>\n",
       "      <td>0.114268</td>\n",
       "      <td>0.084804</td>\n",
       "      <td>0.107620</td>\n",
       "      <td>-0.057430</td>\n",
       "      <td>0.033249</td>\n",
       "      <td>0.036514</td>\n",
       "      <td>0.005178</td>\n",
       "      <td>0.053241</td>\n",
       "      <td>0.025517</td>\n",
       "      <td>1.000000</td>\n",
       "      <td>0.016145</td>\n",
       "      <td>0.125517</td>\n",
       "      <td>-0.006625</td>\n",
       "      <td>-0.842760</td>\n",
       "      <td>-0.415929</td>\n",
       "      <td>-0.963924</td>\n",
       "      <td>-0.153472</td>\n",
       "    </tr>\n",
       "    <tr>\n",
       "      <td>Next_Tmax</td>\n",
       "      <td>0.107747</td>\n",
       "      <td>0.610357</td>\n",
       "      <td>0.463523</td>\n",
       "      <td>-0.446824</td>\n",
       "      <td>-0.289788</td>\n",
       "      <td>0.835729</td>\n",
       "      <td>0.592119</td>\n",
       "      <td>-0.351107</td>\n",
       "      <td>0.156779</td>\n",
       "      <td>-0.459705</td>\n",
       "      <td>-0.498295</td>\n",
       "      <td>-0.523061</td>\n",
       "      <td>-0.454039</td>\n",
       "      <td>-0.125954</td>\n",
       "      <td>-0.186722</td>\n",
       "      <td>-0.203554</td>\n",
       "      <td>-0.190720</td>\n",
       "      <td>-0.055367</td>\n",
       "      <td>0.003502</td>\n",
       "      <td>-0.174578</td>\n",
       "      <td>-0.104279</td>\n",
       "      <td>0.016145</td>\n",
       "      <td>1.000000</td>\n",
       "      <td>0.616629</td>\n",
       "      <td>0.061211</td>\n",
       "      <td>0.096811</td>\n",
       "      <td>-0.127060</td>\n",
       "      <td>0.018651</td>\n",
       "      <td>0.024066</td>\n",
       "    </tr>\n",
       "    <tr>\n",
       "      <td>Next_Tmin</td>\n",
       "      <td>0.128184</td>\n",
       "      <td>0.621048</td>\n",
       "      <td>0.796975</td>\n",
       "      <td>0.093249</td>\n",
       "      <td>-0.076415</td>\n",
       "      <td>0.589963</td>\n",
       "      <td>0.886513</td>\n",
       "      <td>-0.102021</td>\n",
       "      <td>-0.060392</td>\n",
       "      <td>-0.012877</td>\n",
       "      <td>0.030358</td>\n",
       "      <td>-0.056490</td>\n",
       "      <td>-0.086197</td>\n",
       "      <td>0.018031</td>\n",
       "      <td>-0.012462</td>\n",
       "      <td>-0.068664</td>\n",
       "      <td>-0.114900</td>\n",
       "      <td>-0.085136</td>\n",
       "      <td>-0.045758</td>\n",
       "      <td>-0.249303</td>\n",
       "      <td>-0.148379</td>\n",
       "      <td>0.125517</td>\n",
       "      <td>0.616629</td>\n",
       "      <td>1.000000</td>\n",
       "      <td>0.021617</td>\n",
       "      <td>0.030379</td>\n",
       "      <td>-0.134284</td>\n",
       "      <td>-0.057053</td>\n",
       "      <td>0.060262</td>\n",
       "    </tr>\n",
       "    <tr>\n",
       "      <td>year</td>\n",
       "      <td>0.001474</td>\n",
       "      <td>0.056002</td>\n",
       "      <td>0.037457</td>\n",
       "      <td>-0.002147</td>\n",
       "      <td>-0.144286</td>\n",
       "      <td>0.020308</td>\n",
       "      <td>-0.000564</td>\n",
       "      <td>-0.114114</td>\n",
       "      <td>0.055898</td>\n",
       "      <td>-0.066233</td>\n",
       "      <td>-0.045027</td>\n",
       "      <td>0.108500</td>\n",
       "      <td>0.100955</td>\n",
       "      <td>-0.092286</td>\n",
       "      <td>-0.045969</td>\n",
       "      <td>0.046074</td>\n",
       "      <td>0.036118</td>\n",
       "      <td>0.002063</td>\n",
       "      <td>-0.003665</td>\n",
       "      <td>0.002375</td>\n",
       "      <td>0.000287</td>\n",
       "      <td>-0.006625</td>\n",
       "      <td>0.061211</td>\n",
       "      <td>0.021617</td>\n",
       "      <td>1.000000</td>\n",
       "      <td>0.008016</td>\n",
       "      <td>-0.011966</td>\n",
       "      <td>-0.061765</td>\n",
       "      <td>0.012971</td>\n",
       "    </tr>\n",
       "    <tr>\n",
       "      <td>month</td>\n",
       "      <td>0.003114</td>\n",
       "      <td>0.147358</td>\n",
       "      <td>0.084047</td>\n",
       "      <td>-0.190674</td>\n",
       "      <td>-0.117317</td>\n",
       "      <td>0.096915</td>\n",
       "      <td>0.023412</td>\n",
       "      <td>-0.113617</td>\n",
       "      <td>0.060947</td>\n",
       "      <td>-0.212477</td>\n",
       "      <td>-0.165355</td>\n",
       "      <td>-0.111188</td>\n",
       "      <td>-0.127797</td>\n",
       "      <td>-0.078505</td>\n",
       "      <td>-0.112062</td>\n",
       "      <td>0.046677</td>\n",
       "      <td>-0.057482</td>\n",
       "      <td>0.000524</td>\n",
       "      <td>-0.002795</td>\n",
       "      <td>0.001575</td>\n",
       "      <td>0.001648</td>\n",
       "      <td>-0.842760</td>\n",
       "      <td>0.096811</td>\n",
       "      <td>0.030379</td>\n",
       "      <td>0.008016</td>\n",
       "      <td>1.000000</td>\n",
       "      <td>-0.088408</td>\n",
       "      <td>0.857444</td>\n",
       "      <td>0.345555</td>\n",
       "    </tr>\n",
       "    <tr>\n",
       "      <td>day</td>\n",
       "      <td>-0.000799</td>\n",
       "      <td>-0.151982</td>\n",
       "      <td>-0.114294</td>\n",
       "      <td>-0.060702</td>\n",
       "      <td>-0.014242</td>\n",
       "      <td>-0.160191</td>\n",
       "      <td>-0.171284</td>\n",
       "      <td>-0.040088</td>\n",
       "      <td>-0.019588</td>\n",
       "      <td>-0.024234</td>\n",
       "      <td>-0.008691</td>\n",
       "      <td>-0.052125</td>\n",
       "      <td>-0.038711</td>\n",
       "      <td>-0.018668</td>\n",
       "      <td>-0.002453</td>\n",
       "      <td>0.001973</td>\n",
       "      <td>-0.033112</td>\n",
       "      <td>0.000803</td>\n",
       "      <td>-0.002433</td>\n",
       "      <td>0.000900</td>\n",
       "      <td>0.000604</td>\n",
       "      <td>-0.415929</td>\n",
       "      <td>-0.127060</td>\n",
       "      <td>-0.134284</td>\n",
       "      <td>-0.011966</td>\n",
       "      <td>-0.088408</td>\n",
       "      <td>1.000000</td>\n",
       "      <td>0.414577</td>\n",
       "      <td>-0.196712</td>\n",
       "    </tr>\n",
       "    <tr>\n",
       "      <td>week</td>\n",
       "      <td>0.002108</td>\n",
       "      <td>0.046625</td>\n",
       "      <td>-0.002885</td>\n",
       "      <td>-0.220338</td>\n",
       "      <td>-0.112242</td>\n",
       "      <td>0.001487</td>\n",
       "      <td>-0.083760</td>\n",
       "      <td>-0.120691</td>\n",
       "      <td>0.043514</td>\n",
       "      <td>-0.212542</td>\n",
       "      <td>-0.159122</td>\n",
       "      <td>-0.146706</td>\n",
       "      <td>-0.158535</td>\n",
       "      <td>-0.096897</td>\n",
       "      <td>-0.113841</td>\n",
       "      <td>0.035919</td>\n",
       "      <td>-0.084029</td>\n",
       "      <td>0.000906</td>\n",
       "      <td>-0.003761</td>\n",
       "      <td>0.001584</td>\n",
       "      <td>0.001663</td>\n",
       "      <td>-0.963924</td>\n",
       "      <td>0.018651</td>\n",
       "      <td>-0.057053</td>\n",
       "      <td>-0.061765</td>\n",
       "      <td>0.857444</td>\n",
       "      <td>0.414577</td>\n",
       "      <td>1.000000</td>\n",
       "      <td>0.206519</td>\n",
       "    </tr>\n",
       "    <tr>\n",
       "      <td>quater</td>\n",
       "      <td>0.004411</td>\n",
       "      <td>0.017705</td>\n",
       "      <td>0.070877</td>\n",
       "      <td>0.017552</td>\n",
       "      <td>-0.003947</td>\n",
       "      <td>0.062751</td>\n",
       "      <td>0.067063</td>\n",
       "      <td>-0.014389</td>\n",
       "      <td>-0.006002</td>\n",
       "      <td>0.027468</td>\n",
       "      <td>0.011951</td>\n",
       "      <td>0.019711</td>\n",
       "      <td>-0.034857</td>\n",
       "      <td>0.034767</td>\n",
       "      <td>0.026188</td>\n",
       "      <td>0.024168</td>\n",
       "      <td>-0.163394</td>\n",
       "      <td>0.000171</td>\n",
       "      <td>-0.003611</td>\n",
       "      <td>-0.000225</td>\n",
       "      <td>-0.000439</td>\n",
       "      <td>-0.153472</td>\n",
       "      <td>0.024066</td>\n",
       "      <td>0.060262</td>\n",
       "      <td>0.012971</td>\n",
       "      <td>0.345555</td>\n",
       "      <td>-0.196712</td>\n",
       "      <td>0.206519</td>\n",
       "      <td>1.000000</td>\n",
       "    </tr>\n",
       "  </tbody>\n",
       "</table>\n",
       "</div>"
      ],
      "text/plain": [
       "                   station  Present_Tmax  Present_Tmin  LDAPS_RHmin  \\\n",
       "station           1.000000      0.113301      0.133282    -0.067846   \n",
       "Present_Tmax      0.113301      1.000000      0.615208    -0.209059   \n",
       "Present_Tmin      0.133282      0.615208      1.000000     0.122200   \n",
       "LDAPS_RHmin      -0.067846     -0.209059      0.122200     1.000000   \n",
       "LDAPS_RHmax      -0.169351     -0.306943     -0.018576     0.578358   \n",
       "LDAPS_Tmax_lapse  0.069856      0.573777      0.467904    -0.569580   \n",
       "LDAPS_Tmin_lapse  0.105277      0.628705      0.772061     0.085237   \n",
       "LDAPS_WS          0.005822     -0.125952     -0.038779     0.289422   \n",
       "LDAPS_LH         -0.132129      0.134246     -0.012817    -0.072195   \n",
       "LDAPS_CC1         0.006539     -0.316333      0.084348     0.612831   \n",
       "LDAPS_CC2         0.003526     -0.216976      0.090038     0.744774   \n",
       "LDAPS_CC3        -0.000161     -0.146391     -0.004719     0.688069   \n",
       "LDAPS_CC4         0.005005     -0.143069     -0.046694     0.513937   \n",
       "LDAPS_PPT1       -0.001954     -0.114917      0.111577     0.259039   \n",
       "LDAPS_PPT2       -0.007635     -0.104779      0.066207     0.389572   \n",
       "LDAPS_PPT3       -0.013865     -0.127248     -0.052428     0.237512   \n",
       "LDAPS_PPT4       -0.011085     -0.107295     -0.070391     0.167311   \n",
       "lat              -0.239118     -0.054134     -0.081417     0.085027   \n",
       "lon              -0.118845      0.007695     -0.045174    -0.077590   \n",
       "DEM              -0.256706     -0.189439     -0.254084     0.100684   \n",
       "Slope            -0.091721     -0.107079     -0.148423     0.122454   \n",
       "Solar radiation  -0.021194     -0.022114      0.059765     0.242168   \n",
       "Next_Tmax         0.107747      0.610357      0.463523    -0.446824   \n",
       "Next_Tmin         0.128184      0.621048      0.796975     0.093249   \n",
       "year              0.001474      0.056002      0.037457    -0.002147   \n",
       "month             0.003114      0.147358      0.084047    -0.190674   \n",
       "day              -0.000799     -0.151982     -0.114294    -0.060702   \n",
       "week              0.002108      0.046625     -0.002885    -0.220338   \n",
       "quater            0.004411      0.017705      0.070877     0.017552   \n",
       "\n",
       "                  LDAPS_RHmax  LDAPS_Tmax_lapse  LDAPS_Tmin_lapse  LDAPS_WS  \\\n",
       "station             -0.169351          0.069856          0.105277  0.005822   \n",
       "Present_Tmax        -0.306943          0.573777          0.628705 -0.125952   \n",
       "Present_Tmin        -0.018576          0.467904          0.772061 -0.038779   \n",
       "LDAPS_RHmin          0.578358         -0.569580          0.085237  0.289422   \n",
       "LDAPS_RHmax          1.000000         -0.377293         -0.118965  0.131269   \n",
       "LDAPS_Tmax_lapse    -0.377293          1.000000          0.653425 -0.316011   \n",
       "LDAPS_Tmin_lapse    -0.118965          0.653425          1.000000 -0.134652   \n",
       "LDAPS_WS             0.131269         -0.316011         -0.134652  1.000000   \n",
       "LDAPS_LH             0.238986          0.043663         -0.139675  0.004427   \n",
       "LDAPS_CC1            0.435937         -0.440878          0.008714  0.285349   \n",
       "LDAPS_CC2            0.390620         -0.525380          0.046537  0.257226   \n",
       "LDAPS_CC3            0.224734         -0.542728         -0.044998  0.238155   \n",
       "LDAPS_CC4            0.127242         -0.429739         -0.079536  0.218870   \n",
       "LDAPS_PPT1           0.268019         -0.115659          0.034956  0.141503   \n",
       "LDAPS_PPT2           0.227581         -0.248369         -0.002743  0.181634   \n",
       "LDAPS_PPT3           0.132436         -0.193749         -0.093116  0.147199   \n",
       "LDAPS_PPT4           0.118101         -0.170415         -0.103541  0.134428   \n",
       "lat                  0.194820         -0.044052         -0.099452  0.033025   \n",
       "lon                  0.025563          0.091568         -0.024703 -0.063009   \n",
       "DEM                  0.176557         -0.181433         -0.198396  0.188540   \n",
       "Slope                0.219436         -0.163891         -0.187864  0.169223   \n",
       "Solar radiation      0.146622          0.047414          0.157763  0.120630   \n",
       "Next_Tmax           -0.289788          0.835729          0.592119 -0.351107   \n",
       "Next_Tmin           -0.076415          0.589963          0.886513 -0.102021   \n",
       "year                -0.144286          0.020308         -0.000564 -0.114114   \n",
       "month               -0.117317          0.096915          0.023412 -0.113617   \n",
       "day                 -0.014242         -0.160191         -0.171284 -0.040088   \n",
       "week                -0.112242          0.001487         -0.083760 -0.120691   \n",
       "quater              -0.003947          0.062751          0.067063 -0.014389   \n",
       "\n",
       "                  LDAPS_LH  LDAPS_CC1  LDAPS_CC2  LDAPS_CC3  LDAPS_CC4  \\\n",
       "station          -0.132129   0.006539   0.003526  -0.000161   0.005005   \n",
       "Present_Tmax      0.134246  -0.316333  -0.216976  -0.146391  -0.143069   \n",
       "Present_Tmin     -0.012817   0.084348   0.090038  -0.004719  -0.046694   \n",
       "LDAPS_RHmin      -0.072195   0.612831   0.744774   0.688069   0.513937   \n",
       "LDAPS_RHmax       0.238986   0.435937   0.390620   0.224734   0.127242   \n",
       "LDAPS_Tmax_lapse  0.043663  -0.440878  -0.525380  -0.542728  -0.429739   \n",
       "LDAPS_Tmin_lapse -0.139675   0.008714   0.046537  -0.044998  -0.079536   \n",
       "LDAPS_WS          0.004427   0.285349   0.257226   0.238155   0.218870   \n",
       "LDAPS_LH          1.000000  -0.148314  -0.265382  -0.246709  -0.173156   \n",
       "LDAPS_CC1        -0.148314   1.000000   0.779510   0.516698   0.362670   \n",
       "LDAPS_CC2        -0.265382   0.779510   1.000000   0.724546   0.527333   \n",
       "LDAPS_CC3        -0.246709   0.516698   0.724546   1.000000   0.794463   \n",
       "LDAPS_CC4        -0.173156   0.362670   0.527333   0.794463   1.000000   \n",
       "LDAPS_PPT1       -0.018708   0.446930   0.304442   0.154952   0.115968   \n",
       "LDAPS_PPT2       -0.084375   0.389368   0.479511   0.336254   0.286266   \n",
       "LDAPS_PPT3        0.009495   0.166763   0.238179   0.337346   0.265709   \n",
       "LDAPS_PPT4        0.012372   0.088897   0.157194   0.303787   0.380597   \n",
       "lat               0.133309  -0.010268  -0.002642   0.003827  -0.010612   \n",
       "lon               0.024476  -0.007962  -0.004757   0.013948  -0.004456   \n",
       "DEM               0.056362  -0.017378  -0.016249  -0.001249  -0.010240   \n",
       "Slope             0.087517  -0.023893  -0.021173  -0.005903  -0.017891   \n",
       "Solar radiation  -0.044956   0.218285   0.169346   0.116691   0.114268   \n",
       "Next_Tmax         0.156779  -0.459705  -0.498295  -0.523061  -0.454039   \n",
       "Next_Tmin        -0.060392  -0.012877   0.030358  -0.056490  -0.086197   \n",
       "year              0.055898  -0.066233  -0.045027   0.108500   0.100955   \n",
       "month             0.060947  -0.212477  -0.165355  -0.111188  -0.127797   \n",
       "day              -0.019588  -0.024234  -0.008691  -0.052125  -0.038711   \n",
       "week              0.043514  -0.212542  -0.159122  -0.146706  -0.158535   \n",
       "quater           -0.006002   0.027468   0.011951   0.019711  -0.034857   \n",
       "\n",
       "                  LDAPS_PPT1  LDAPS_PPT2  LDAPS_PPT3  LDAPS_PPT4       lat  \\\n",
       "station            -0.001954   -0.007635   -0.013865   -0.011085 -0.239118   \n",
       "Present_Tmax       -0.114917   -0.104779   -0.127248   -0.107295 -0.054134   \n",
       "Present_Tmin        0.111577    0.066207   -0.052428   -0.070391 -0.081417   \n",
       "LDAPS_RHmin         0.259039    0.389572    0.237512    0.167311  0.085027   \n",
       "LDAPS_RHmax         0.268019    0.227581    0.132436    0.118101  0.194820   \n",
       "LDAPS_Tmax_lapse   -0.115659   -0.248369   -0.193749   -0.170415 -0.044052   \n",
       "LDAPS_Tmin_lapse    0.034956   -0.002743   -0.093116   -0.103541 -0.099452   \n",
       "LDAPS_WS            0.141503    0.181634    0.147199    0.134428  0.033025   \n",
       "LDAPS_LH           -0.018708   -0.084375    0.009495    0.012372  0.133309   \n",
       "LDAPS_CC1           0.446930    0.389368    0.166763    0.088897 -0.010268   \n",
       "LDAPS_CC2           0.304442    0.479511    0.238179    0.157194 -0.002642   \n",
       "LDAPS_CC3           0.154952    0.336254    0.337346    0.303787  0.003827   \n",
       "LDAPS_CC4           0.115968    0.286266    0.265709    0.380597 -0.010612   \n",
       "LDAPS_PPT1          1.000000    0.367922    0.012847    0.004377 -0.005841   \n",
       "LDAPS_PPT2          0.367922    1.000000    0.205285    0.121937  0.015198   \n",
       "LDAPS_PPT3          0.012847    0.205285    1.000000    0.288093  0.031822   \n",
       "LDAPS_PPT4          0.004377    0.121937    0.288093    1.000000  0.008178   \n",
       "lat                -0.005841    0.015198    0.031822    0.008178  1.000000   \n",
       "lon                -0.004375    0.016958    0.018094    0.041095  0.289999   \n",
       "DEM                 0.005412    0.002411    0.011345   -0.009830  0.029344   \n",
       "Slope               0.010340    0.003703    0.018372   -0.008689  0.071446   \n",
       "Solar radiation     0.084804    0.107620   -0.057430    0.033249  0.036514   \n",
       "Next_Tmax          -0.125954   -0.186722   -0.203554   -0.190720 -0.055367   \n",
       "Next_Tmin           0.018031   -0.012462   -0.068664   -0.114900 -0.085136   \n",
       "year               -0.092286   -0.045969    0.046074    0.036118  0.002063   \n",
       "month              -0.078505   -0.112062    0.046677   -0.057482  0.000524   \n",
       "day                -0.018668   -0.002453    0.001973   -0.033112  0.000803   \n",
       "week               -0.096897   -0.113841    0.035919   -0.084029  0.000906   \n",
       "quater              0.034767    0.026188    0.024168   -0.163394  0.000171   \n",
       "\n",
       "                       lon       DEM     Slope  Solar radiation  Next_Tmax  \\\n",
       "station          -0.118845 -0.256706 -0.091721        -0.021194   0.107747   \n",
       "Present_Tmax      0.007695 -0.189439 -0.107079        -0.022114   0.610357   \n",
       "Present_Tmin     -0.045174 -0.254084 -0.148423         0.059765   0.463523   \n",
       "LDAPS_RHmin      -0.077590  0.100684  0.122454         0.242168  -0.446824   \n",
       "LDAPS_RHmax       0.025563  0.176557  0.219436         0.146622  -0.289788   \n",
       "LDAPS_Tmax_lapse  0.091568 -0.181433 -0.163891         0.047414   0.835729   \n",
       "LDAPS_Tmin_lapse -0.024703 -0.198396 -0.187864         0.157763   0.592119   \n",
       "LDAPS_WS         -0.063009  0.188540  0.169223         0.120630  -0.351107   \n",
       "LDAPS_LH          0.024476  0.056362  0.087517        -0.044956   0.156779   \n",
       "LDAPS_CC1        -0.007962 -0.017378 -0.023893         0.218285  -0.459705   \n",
       "LDAPS_CC2        -0.004757 -0.016249 -0.021173         0.169346  -0.498295   \n",
       "LDAPS_CC3         0.013948 -0.001249 -0.005903         0.116691  -0.523061   \n",
       "LDAPS_CC4        -0.004456 -0.010240 -0.017891         0.114268  -0.454039   \n",
       "LDAPS_PPT1       -0.004375  0.005412  0.010340         0.084804  -0.125954   \n",
       "LDAPS_PPT2        0.016958  0.002411  0.003703         0.107620  -0.186722   \n",
       "LDAPS_PPT3        0.018094  0.011345  0.018372        -0.057430  -0.203554   \n",
       "LDAPS_PPT4        0.041095 -0.009830 -0.008689         0.033249  -0.190720   \n",
       "lat               0.289999  0.029344  0.071446         0.036514  -0.055367   \n",
       "lon               1.000000  0.006685  0.037616         0.005178   0.003502   \n",
       "DEM               0.006685  1.000000  0.784179         0.053241  -0.174578   \n",
       "Slope             0.037616  0.784179  1.000000         0.025517  -0.104279   \n",
       "Solar radiation   0.005178  0.053241  0.025517         1.000000   0.016145   \n",
       "Next_Tmax         0.003502 -0.174578 -0.104279         0.016145   1.000000   \n",
       "Next_Tmin        -0.045758 -0.249303 -0.148379         0.125517   0.616629   \n",
       "year             -0.003665  0.002375  0.000287        -0.006625   0.061211   \n",
       "month            -0.002795  0.001575  0.001648        -0.842760   0.096811   \n",
       "day              -0.002433  0.000900  0.000604        -0.415929  -0.127060   \n",
       "week             -0.003761  0.001584  0.001663        -0.963924   0.018651   \n",
       "quater           -0.003611 -0.000225 -0.000439        -0.153472   0.024066   \n",
       "\n",
       "                  Next_Tmin      year     month       day      week    quater  \n",
       "station            0.128184  0.001474  0.003114 -0.000799  0.002108  0.004411  \n",
       "Present_Tmax       0.621048  0.056002  0.147358 -0.151982  0.046625  0.017705  \n",
       "Present_Tmin       0.796975  0.037457  0.084047 -0.114294 -0.002885  0.070877  \n",
       "LDAPS_RHmin        0.093249 -0.002147 -0.190674 -0.060702 -0.220338  0.017552  \n",
       "LDAPS_RHmax       -0.076415 -0.144286 -0.117317 -0.014242 -0.112242 -0.003947  \n",
       "LDAPS_Tmax_lapse   0.589963  0.020308  0.096915 -0.160191  0.001487  0.062751  \n",
       "LDAPS_Tmin_lapse   0.886513 -0.000564  0.023412 -0.171284 -0.083760  0.067063  \n",
       "LDAPS_WS          -0.102021 -0.114114 -0.113617 -0.040088 -0.120691 -0.014389  \n",
       "LDAPS_LH          -0.060392  0.055898  0.060947 -0.019588  0.043514 -0.006002  \n",
       "LDAPS_CC1         -0.012877 -0.066233 -0.212477 -0.024234 -0.212542  0.027468  \n",
       "LDAPS_CC2          0.030358 -0.045027 -0.165355 -0.008691 -0.159122  0.011951  \n",
       "LDAPS_CC3         -0.056490  0.108500 -0.111188 -0.052125 -0.146706  0.019711  \n",
       "LDAPS_CC4         -0.086197  0.100955 -0.127797 -0.038711 -0.158535 -0.034857  \n",
       "LDAPS_PPT1         0.018031 -0.092286 -0.078505 -0.018668 -0.096897  0.034767  \n",
       "LDAPS_PPT2        -0.012462 -0.045969 -0.112062 -0.002453 -0.113841  0.026188  \n",
       "LDAPS_PPT3        -0.068664  0.046074  0.046677  0.001973  0.035919  0.024168  \n",
       "LDAPS_PPT4        -0.114900  0.036118 -0.057482 -0.033112 -0.084029 -0.163394  \n",
       "lat               -0.085136  0.002063  0.000524  0.000803  0.000906  0.000171  \n",
       "lon               -0.045758 -0.003665 -0.002795 -0.002433 -0.003761 -0.003611  \n",
       "DEM               -0.249303  0.002375  0.001575  0.000900  0.001584 -0.000225  \n",
       "Slope             -0.148379  0.000287  0.001648  0.000604  0.001663 -0.000439  \n",
       "Solar radiation    0.125517 -0.006625 -0.842760 -0.415929 -0.963924 -0.153472  \n",
       "Next_Tmax          0.616629  0.061211  0.096811 -0.127060  0.018651  0.024066  \n",
       "Next_Tmin          1.000000  0.021617  0.030379 -0.134284 -0.057053  0.060262  \n",
       "year               0.021617  1.000000  0.008016 -0.011966 -0.061765  0.012971  \n",
       "month              0.030379  0.008016  1.000000 -0.088408  0.857444  0.345555  \n",
       "day               -0.134284 -0.011966 -0.088408  1.000000  0.414577 -0.196712  \n",
       "week              -0.057053 -0.061765  0.857444  0.414577  1.000000  0.206519  \n",
       "quater             0.060262  0.012971  0.345555 -0.196712  0.206519  1.000000  "
      ]
     },
     "execution_count": 148,
     "metadata": {},
     "output_type": "execute_result"
    }
   ],
   "source": [
    "df.corr()"
   ]
  },
  {
   "cell_type": "code",
   "execution_count": 149,
   "metadata": {},
   "outputs": [
    {
     "data": {
      "text/html": [
       "<div>\n",
       "<style scoped>\n",
       "    .dataframe tbody tr th:only-of-type {\n",
       "        vertical-align: middle;\n",
       "    }\n",
       "\n",
       "    .dataframe tbody tr th {\n",
       "        vertical-align: top;\n",
       "    }\n",
       "\n",
       "    .dataframe thead th {\n",
       "        text-align: right;\n",
       "    }\n",
       "</style>\n",
       "<table border=\"1\" class=\"dataframe\">\n",
       "  <thead>\n",
       "    <tr style=\"text-align: right;\">\n",
       "      <th></th>\n",
       "      <th>station</th>\n",
       "      <th>Present_Tmax</th>\n",
       "      <th>Present_Tmin</th>\n",
       "      <th>LDAPS_RHmin</th>\n",
       "      <th>LDAPS_RHmax</th>\n",
       "      <th>LDAPS_Tmax_lapse</th>\n",
       "      <th>LDAPS_Tmin_lapse</th>\n",
       "      <th>LDAPS_WS</th>\n",
       "      <th>LDAPS_LH</th>\n",
       "      <th>LDAPS_CC1</th>\n",
       "      <th>LDAPS_CC2</th>\n",
       "      <th>LDAPS_CC3</th>\n",
       "      <th>LDAPS_CC4</th>\n",
       "      <th>LDAPS_PPT1</th>\n",
       "      <th>LDAPS_PPT2</th>\n",
       "      <th>LDAPS_PPT3</th>\n",
       "      <th>LDAPS_PPT4</th>\n",
       "      <th>lat</th>\n",
       "      <th>lon</th>\n",
       "      <th>DEM</th>\n",
       "      <th>Slope</th>\n",
       "      <th>Solar radiation</th>\n",
       "      <th>Next_Tmax</th>\n",
       "      <th>Next_Tmin</th>\n",
       "      <th>year</th>\n",
       "      <th>month</th>\n",
       "      <th>day</th>\n",
       "      <th>week</th>\n",
       "      <th>quater</th>\n",
       "    </tr>\n",
       "  </thead>\n",
       "  <tbody>\n",
       "    <tr>\n",
       "      <td>count</td>\n",
       "      <td>7588.000000</td>\n",
       "      <td>7588.000000</td>\n",
       "      <td>7588.000000</td>\n",
       "      <td>7588.000000</td>\n",
       "      <td>7588.000000</td>\n",
       "      <td>7588.000000</td>\n",
       "      <td>7588.000000</td>\n",
       "      <td>7588.000000</td>\n",
       "      <td>7588.000000</td>\n",
       "      <td>7588.000000</td>\n",
       "      <td>7588.000000</td>\n",
       "      <td>7588.000000</td>\n",
       "      <td>7588.000000</td>\n",
       "      <td>7588.000000</td>\n",
       "      <td>7588.000000</td>\n",
       "      <td>7588.000000</td>\n",
       "      <td>7588.000000</td>\n",
       "      <td>7588.000000</td>\n",
       "      <td>7588.00000</td>\n",
       "      <td>7588.000000</td>\n",
       "      <td>7588.000000</td>\n",
       "      <td>7588.000000</td>\n",
       "      <td>7588.000000</td>\n",
       "      <td>7588.000000</td>\n",
       "      <td>7588.000000</td>\n",
       "      <td>7588.000000</td>\n",
       "      <td>7588.000000</td>\n",
       "      <td>7588.000000</td>\n",
       "      <td>7588.000000</td>\n",
       "    </tr>\n",
       "    <tr>\n",
       "      <td>mean</td>\n",
       "      <td>13.014101</td>\n",
       "      <td>29.748366</td>\n",
       "      <td>23.195809</td>\n",
       "      <td>56.724969</td>\n",
       "      <td>88.360823</td>\n",
       "      <td>29.620128</td>\n",
       "      <td>23.511786</td>\n",
       "      <td>7.094097</td>\n",
       "      <td>62.492606</td>\n",
       "      <td>0.368510</td>\n",
       "      <td>0.355528</td>\n",
       "      <td>0.317546</td>\n",
       "      <td>0.298268</td>\n",
       "      <td>0.589008</td>\n",
       "      <td>0.480738</td>\n",
       "      <td>0.275007</td>\n",
       "      <td>0.265373</td>\n",
       "      <td>37.544792</td>\n",
       "      <td>126.99142</td>\n",
       "      <td>61.918136</td>\n",
       "      <td>1.259755</td>\n",
       "      <td>5343.724208</td>\n",
       "      <td>30.241526</td>\n",
       "      <td>22.910820</td>\n",
       "      <td>2014.991697</td>\n",
       "      <td>7.465999</td>\n",
       "      <td>15.939510</td>\n",
       "      <td>30.721534</td>\n",
       "      <td>2.984713</td>\n",
       "    </tr>\n",
       "    <tr>\n",
       "      <td>std</td>\n",
       "      <td>7.217858</td>\n",
       "      <td>2.967401</td>\n",
       "      <td>2.400880</td>\n",
       "      <td>14.626559</td>\n",
       "      <td>7.199456</td>\n",
       "      <td>2.943496</td>\n",
       "      <td>2.342579</td>\n",
       "      <td>2.177034</td>\n",
       "      <td>33.686158</td>\n",
       "      <td>0.262260</td>\n",
       "      <td>0.257922</td>\n",
       "      <td>0.249833</td>\n",
       "      <td>0.253392</td>\n",
       "      <td>1.927577</td>\n",
       "      <td>1.743327</td>\n",
       "      <td>1.146087</td>\n",
       "      <td>1.179661</td>\n",
       "      <td>0.050428</td>\n",
       "      <td>0.07922</td>\n",
       "      <td>54.323529</td>\n",
       "      <td>1.372748</td>\n",
       "      <td>429.782561</td>\n",
       "      <td>3.111807</td>\n",
       "      <td>2.482256</td>\n",
       "      <td>1.410877</td>\n",
       "      <td>0.528635</td>\n",
       "      <td>8.906521</td>\n",
       "      <td>2.588734</td>\n",
       "      <td>0.122701</td>\n",
       "    </tr>\n",
       "    <tr>\n",
       "      <td>min</td>\n",
       "      <td>1.000000</td>\n",
       "      <td>20.000000</td>\n",
       "      <td>11.300000</td>\n",
       "      <td>19.794666</td>\n",
       "      <td>58.936283</td>\n",
       "      <td>17.624954</td>\n",
       "      <td>14.272646</td>\n",
       "      <td>2.882580</td>\n",
       "      <td>-13.603212</td>\n",
       "      <td>0.000000</td>\n",
       "      <td>0.000000</td>\n",
       "      <td>0.000000</td>\n",
       "      <td>0.000000</td>\n",
       "      <td>0.000000</td>\n",
       "      <td>0.000000</td>\n",
       "      <td>0.000000</td>\n",
       "      <td>0.000000</td>\n",
       "      <td>37.456200</td>\n",
       "      <td>126.82600</td>\n",
       "      <td>12.370000</td>\n",
       "      <td>0.098500</td>\n",
       "      <td>4329.520508</td>\n",
       "      <td>17.400000</td>\n",
       "      <td>11.300000</td>\n",
       "      <td>2013.000000</td>\n",
       "      <td>6.000000</td>\n",
       "      <td>1.000000</td>\n",
       "      <td>26.000000</td>\n",
       "      <td>2.000000</td>\n",
       "    </tr>\n",
       "    <tr>\n",
       "      <td>25%</td>\n",
       "      <td>7.000000</td>\n",
       "      <td>27.800000</td>\n",
       "      <td>21.600000</td>\n",
       "      <td>45.960243</td>\n",
       "      <td>84.203724</td>\n",
       "      <td>27.673756</td>\n",
       "      <td>22.086820</td>\n",
       "      <td>5.675358</td>\n",
       "      <td>37.206201</td>\n",
       "      <td>0.146546</td>\n",
       "      <td>0.140324</td>\n",
       "      <td>0.100950</td>\n",
       "      <td>0.081495</td>\n",
       "      <td>0.000000</td>\n",
       "      <td>0.000000</td>\n",
       "      <td>0.000000</td>\n",
       "      <td>0.000000</td>\n",
       "      <td>37.510200</td>\n",
       "      <td>126.93700</td>\n",
       "      <td>28.700000</td>\n",
       "      <td>0.271300</td>\n",
       "      <td>5001.485717</td>\n",
       "      <td>28.200000</td>\n",
       "      <td>21.300000</td>\n",
       "      <td>2014.000000</td>\n",
       "      <td>7.000000</td>\n",
       "      <td>8.000000</td>\n",
       "      <td>28.000000</td>\n",
       "      <td>3.000000</td>\n",
       "    </tr>\n",
       "    <tr>\n",
       "      <td>50%</td>\n",
       "      <td>13.000000</td>\n",
       "      <td>29.900000</td>\n",
       "      <td>23.400000</td>\n",
       "      <td>55.023199</td>\n",
       "      <td>89.784122</td>\n",
       "      <td>29.709537</td>\n",
       "      <td>23.758249</td>\n",
       "      <td>6.547838</td>\n",
       "      <td>56.898324</td>\n",
       "      <td>0.315706</td>\n",
       "      <td>0.311676</td>\n",
       "      <td>0.261795</td>\n",
       "      <td>0.227459</td>\n",
       "      <td>0.000000</td>\n",
       "      <td>0.000000</td>\n",
       "      <td>0.000000</td>\n",
       "      <td>0.000000</td>\n",
       "      <td>37.550700</td>\n",
       "      <td>126.99500</td>\n",
       "      <td>45.716000</td>\n",
       "      <td>0.618000</td>\n",
       "      <td>5441.987305</td>\n",
       "      <td>30.400000</td>\n",
       "      <td>23.100000</td>\n",
       "      <td>2015.000000</td>\n",
       "      <td>7.000000</td>\n",
       "      <td>16.000000</td>\n",
       "      <td>31.000000</td>\n",
       "      <td>3.000000</td>\n",
       "    </tr>\n",
       "    <tr>\n",
       "      <td>75%</td>\n",
       "      <td>19.000000</td>\n",
       "      <td>32.000000</td>\n",
       "      <td>24.800000</td>\n",
       "      <td>67.115099</td>\n",
       "      <td>93.742725</td>\n",
       "      <td>31.711109</td>\n",
       "      <td>25.155660</td>\n",
       "      <td>8.028960</td>\n",
       "      <td>84.235666</td>\n",
       "      <td>0.574174</td>\n",
       "      <td>0.557164</td>\n",
       "      <td>0.496444</td>\n",
       "      <td>0.498127</td>\n",
       "      <td>0.052594</td>\n",
       "      <td>0.017735</td>\n",
       "      <td>0.007855</td>\n",
       "      <td>0.000017</td>\n",
       "      <td>37.577600</td>\n",
       "      <td>127.04200</td>\n",
       "      <td>59.832400</td>\n",
       "      <td>1.767800</td>\n",
       "      <td>5729.485840</td>\n",
       "      <td>32.600000</td>\n",
       "      <td>24.600000</td>\n",
       "      <td>2016.000000</td>\n",
       "      <td>8.000000</td>\n",
       "      <td>24.000000</td>\n",
       "      <td>33.000000</td>\n",
       "      <td>3.000000</td>\n",
       "    </tr>\n",
       "    <tr>\n",
       "      <td>max</td>\n",
       "      <td>25.000000</td>\n",
       "      <td>37.600000</td>\n",
       "      <td>29.900000</td>\n",
       "      <td>98.524734</td>\n",
       "      <td>100.000153</td>\n",
       "      <td>38.542255</td>\n",
       "      <td>29.619342</td>\n",
       "      <td>21.857621</td>\n",
       "      <td>213.414006</td>\n",
       "      <td>0.967277</td>\n",
       "      <td>0.968353</td>\n",
       "      <td>0.983789</td>\n",
       "      <td>0.974710</td>\n",
       "      <td>23.701544</td>\n",
       "      <td>21.621661</td>\n",
       "      <td>15.841235</td>\n",
       "      <td>16.655469</td>\n",
       "      <td>37.645000</td>\n",
       "      <td>127.13500</td>\n",
       "      <td>212.335000</td>\n",
       "      <td>5.178200</td>\n",
       "      <td>5992.895996</td>\n",
       "      <td>38.900000</td>\n",
       "      <td>29.800000</td>\n",
       "      <td>2017.000000</td>\n",
       "      <td>8.000000</td>\n",
       "      <td>31.000000</td>\n",
       "      <td>35.000000</td>\n",
       "      <td>3.000000</td>\n",
       "    </tr>\n",
       "  </tbody>\n",
       "</table>\n",
       "</div>"
      ],
      "text/plain": [
       "           station  Present_Tmax  Present_Tmin  LDAPS_RHmin  LDAPS_RHmax  \\\n",
       "count  7588.000000   7588.000000   7588.000000  7588.000000  7588.000000   \n",
       "mean     13.014101     29.748366     23.195809    56.724969    88.360823   \n",
       "std       7.217858      2.967401      2.400880    14.626559     7.199456   \n",
       "min       1.000000     20.000000     11.300000    19.794666    58.936283   \n",
       "25%       7.000000     27.800000     21.600000    45.960243    84.203724   \n",
       "50%      13.000000     29.900000     23.400000    55.023199    89.784122   \n",
       "75%      19.000000     32.000000     24.800000    67.115099    93.742725   \n",
       "max      25.000000     37.600000     29.900000    98.524734   100.000153   \n",
       "\n",
       "       LDAPS_Tmax_lapse  LDAPS_Tmin_lapse     LDAPS_WS     LDAPS_LH  \\\n",
       "count       7588.000000       7588.000000  7588.000000  7588.000000   \n",
       "mean          29.620128         23.511786     7.094097    62.492606   \n",
       "std            2.943496          2.342579     2.177034    33.686158   \n",
       "min           17.624954         14.272646     2.882580   -13.603212   \n",
       "25%           27.673756         22.086820     5.675358    37.206201   \n",
       "50%           29.709537         23.758249     6.547838    56.898324   \n",
       "75%           31.711109         25.155660     8.028960    84.235666   \n",
       "max           38.542255         29.619342    21.857621   213.414006   \n",
       "\n",
       "         LDAPS_CC1    LDAPS_CC2    LDAPS_CC3    LDAPS_CC4   LDAPS_PPT1  \\\n",
       "count  7588.000000  7588.000000  7588.000000  7588.000000  7588.000000   \n",
       "mean      0.368510     0.355528     0.317546     0.298268     0.589008   \n",
       "std       0.262260     0.257922     0.249833     0.253392     1.927577   \n",
       "min       0.000000     0.000000     0.000000     0.000000     0.000000   \n",
       "25%       0.146546     0.140324     0.100950     0.081495     0.000000   \n",
       "50%       0.315706     0.311676     0.261795     0.227459     0.000000   \n",
       "75%       0.574174     0.557164     0.496444     0.498127     0.052594   \n",
       "max       0.967277     0.968353     0.983789     0.974710    23.701544   \n",
       "\n",
       "        LDAPS_PPT2   LDAPS_PPT3   LDAPS_PPT4          lat         lon  \\\n",
       "count  7588.000000  7588.000000  7588.000000  7588.000000  7588.00000   \n",
       "mean      0.480738     0.275007     0.265373    37.544792   126.99142   \n",
       "std       1.743327     1.146087     1.179661     0.050428     0.07922   \n",
       "min       0.000000     0.000000     0.000000    37.456200   126.82600   \n",
       "25%       0.000000     0.000000     0.000000    37.510200   126.93700   \n",
       "50%       0.000000     0.000000     0.000000    37.550700   126.99500   \n",
       "75%       0.017735     0.007855     0.000017    37.577600   127.04200   \n",
       "max      21.621661    15.841235    16.655469    37.645000   127.13500   \n",
       "\n",
       "               DEM        Slope  Solar radiation    Next_Tmax    Next_Tmin  \\\n",
       "count  7588.000000  7588.000000      7588.000000  7588.000000  7588.000000   \n",
       "mean     61.918136     1.259755      5343.724208    30.241526    22.910820   \n",
       "std      54.323529     1.372748       429.782561     3.111807     2.482256   \n",
       "min      12.370000     0.098500      4329.520508    17.400000    11.300000   \n",
       "25%      28.700000     0.271300      5001.485717    28.200000    21.300000   \n",
       "50%      45.716000     0.618000      5441.987305    30.400000    23.100000   \n",
       "75%      59.832400     1.767800      5729.485840    32.600000    24.600000   \n",
       "max     212.335000     5.178200      5992.895996    38.900000    29.800000   \n",
       "\n",
       "              year        month          day         week       quater  \n",
       "count  7588.000000  7588.000000  7588.000000  7588.000000  7588.000000  \n",
       "mean   2014.991697     7.465999    15.939510    30.721534     2.984713  \n",
       "std       1.410877     0.528635     8.906521     2.588734     0.122701  \n",
       "min    2013.000000     6.000000     1.000000    26.000000     2.000000  \n",
       "25%    2014.000000     7.000000     8.000000    28.000000     3.000000  \n",
       "50%    2015.000000     7.000000    16.000000    31.000000     3.000000  \n",
       "75%    2016.000000     8.000000    24.000000    33.000000     3.000000  \n",
       "max    2017.000000     8.000000    31.000000    35.000000     3.000000  "
      ]
     },
     "execution_count": 149,
     "metadata": {},
     "output_type": "execute_result"
    }
   ],
   "source": [
    "df.describe()"
   ]
  },
  {
   "cell_type": "code",
   "execution_count": 150,
   "metadata": {},
   "outputs": [],
   "source": [
    "#outliers are present in some columns as difference between mean value and max value is very high."
   ]
  },
  {
   "cell_type": "markdown",
   "metadata": {},
   "source": [
    "# EDA"
   ]
  },
  {
   "cell_type": "markdown",
   "metadata": {},
   "source": [
    "# Univariate analysis"
   ]
  },
  {
   "cell_type": "code",
   "execution_count": 71,
   "metadata": {},
   "outputs": [
    {
     "data": {
      "image/png": "[encoded data removed]",
      "text/plain": [
       "<Figure size 432x288 with 1 Axes>"
      ]
     },
     "metadata": {
      "needs_background": "light"
     },
     "output_type": "display_data"
    },
    {
     "data": {
      "image/png": "[encoded data removed]",
      "text/plain": [
       "<Figure size 432x288 with 1 Axes>"
      ]
     },
     "metadata": {
      "needs_background": "light"
     },
     "output_type": "display_data"
    },
    {
     "data": {
      "image/png": "[encoded data removed]",
      "text/plain": [
       "<Figure size 432x288 with 1 Axes>"
      ]
     },
     "metadata": {
      "needs_background": "light"
     },
     "output_type": "display_data"
    },
    {
     "data": {
      "image/png": "[encoded data removed]",
      "text/plain": [
       "<Figure size 432x288 with 1 Axes>"
      ]
     },
     "metadata": {
      "needs_background": "light"
     },
     "output_type": "display_data"
    },
    {
     "data": {
      "image/png": "[encoded data removed]",
      "text/plain": [
       "<Figure size 432x288 with 1 Axes>"
      ]
     },
     "metadata": {
      "needs_background": "light"
     },
     "output_type": "display_data"
    },
    {
     "data": {
      "image/png": "[encoded data removed]",
      "text/plain": [
       "<Figure size 432x288 with 1 Axes>"
      ]
     },
     "metadata": {
      "needs_background": "light"
     },
     "output_type": "display_data"
    },
    {
     "data": {
      "image/png": "[encoded data removed]",
      "text/plain": [
       "<Figure size 432x288 with 1 Axes>"
      ]
     },
     "metadata": {
      "needs_background": "light"
     },
     "output_type": "display_data"
    },
    {
     "data": {
      "image/png": "[encoded data removed]",
      "text/plain": [
       "<Figure size 432x288 with 1 Axes>"
      ]
     },
     "metadata": {
      "needs_background": "light"
     },
     "output_type": "display_data"
    },
    {
     "data": {
      "image/png": "[encoded data removed]",
      "text/plain": [
       "<Figure size 432x288 with 1 Axes>"
      ]
     },
     "metadata": {
      "needs_background": "light"
     },
     "output_type": "display_data"
    },
    {
     "data": {
      "image/png": "[encoded data removed]",
      "text/plain": [
       "<Figure size 432x288 with 1 Axes>"
      ]
     },
     "metadata": {
      "needs_background": "light"
     },
     "output_type": "display_data"
    },
    {
     "data": {
      "image/png": "[encoded data removed]",
      "text/plain": [
       "<Figure size 432x288 with 1 Axes>"
      ]
     },
     "metadata": {
      "needs_background": "light"
     },
     "output_type": "display_data"
    },
    {
     "data": {
      "image/png": "[encoded data removed]",
      "text/plain": [
       "<Figure size 432x288 with 1 Axes>"
      ]
     },
     "metadata": {
      "needs_background": "light"
     },
     "output_type": "display_data"
    },
    {
     "data": {
      "image/png": "[encoded data removed]",
      "text/plain": [
       "<Figure size 432x288 with 1 Axes>"
      ]
     },
     "metadata": {
      "needs_background": "light"
     },
     "output_type": "display_data"
    },
    {
     "data": {
      "image/png": "[encoded data removed]",
      "text/plain": [
       "<Figure size 432x288 with 1 Axes>"
      ]
     },
     "metadata": {
      "needs_background": "light"
     },
     "output_type": "display_data"
    },
    {
     "data": {
      "image/png": "[encoded data removed]",
      "text/plain": [
       "<Figure size 432x288 with 1 Axes>"
      ]
     },
     "metadata": {
      "needs_background": "light"
     },
     "output_type": "display_data"
    },
    {
     "data": {
      "image/png": "[encoded data removed]",
      "text/plain": [
       "<Figure size 432x288 with 1 Axes>"
      ]
     },
     "metadata": {
      "needs_background": "light"
     },
     "output_type": "display_data"
    },
    {
     "data": {
      "image/png": "[encoded data removed]",
      "text/plain": [
       "<Figure size 432x288 with 1 Axes>"
      ]
     },
     "metadata": {
      "needs_background": "light"
     },
     "output_type": "display_data"
    },
    {
     "data": {
      "image/png": "[encoded data removed]",
      "text/plain": [
       "<Figure size 432x288 with 1 Axes>"
      ]
     },
     "metadata": {
      "needs_background": "light"
     },
     "output_type": "display_data"
    },
    {
     "data": {
      "image/png": "[encoded data removed]",
      "text/plain": [
       "<Figure size 432x288 with 1 Axes>"
      ]
     },
     "metadata": {
      "needs_background": "light"
     },
     "output_type": "display_data"
    },
    {
     "data": {
      "image/png": "[encoded data removed]",
      "text/plain": [
       "<Figure size 432x288 with 1 Axes>"
      ]
     },
     "metadata": {
      "needs_background": "light"
     },
     "output_type": "display_data"
    },
    {
     "data": {
      "image/png": "[encoded data removed]",
      "text/plain": [
       "<Figure size 432x288 with 1 Axes>"
      ]
     },
     "metadata": {
      "needs_background": "light"
     },
     "output_type": "display_data"
    },
    {
     "data": {
      "image/png": "[encoded data removed]",
      "text/plain": [
       "<Figure size 432x288 with 1 Axes>"
      ]
     },
     "metadata": {
      "needs_background": "light"
     },
     "output_type": "display_data"
    },
    {
     "data": {
      "image/png": "[encoded data removed]",
      "text/plain": [
       "<Figure size 432x288 with 1 Axes>"
      ]
     },
     "metadata": {
      "needs_background": "light"
     },
     "output_type": "display_data"
    },
    {
     "data": {
      "image/png": "[encoded data removed]",
      "text/plain": [
       "<Figure size 432x288 with 1 Axes>"
      ]
     },
     "metadata": {
      "needs_background": "light"
     },
     "output_type": "display_data"
    },
    {
     "data": {
      "image/png": "[encoded data removed]",
      "text/plain": [
       "<Figure size 432x288 with 1 Axes>"
      ]
     },
     "metadata": {
      "needs_background": "light"
     },
     "output_type": "display_data"
    },
    {
     "data": {
      "image/png": "[encoded data removed]",
      "text/plain": [
       "<Figure size 432x288 with 1 Axes>"
      ]
     },
     "metadata": {
      "needs_background": "light"
     },
     "output_type": "display_data"
    },
    {
     "data": {
      "image/png": "[encoded data removed]",
      "text/plain": [
       "<Figure size 432x288 with 1 Axes>"
      ]
     },
     "metadata": {
      "needs_background": "light"
     },
     "output_type": "display_data"
    },
    {
     "data": {
      "image/png": "[encoded data removed]",
      "text/plain": [
       "<Figure size 432x288 with 1 Axes>"
      ]
     },
     "metadata": {
      "needs_background": "light"
     },
     "output_type": "display_data"
    },
    {
     "data": {
      "image/png": "[encoded data removed]",
      "text/plain": [
       "<Figure size 432x288 with 1 Axes>"
      ]
     },
     "metadata": {
      "needs_background": "light"
     },
     "output_type": "display_data"
    }
   ],
   "source": [
    "numerical_features=[feature for feature in df.columns if df[feature].dtypes!='object']\n",
    "for feature in numerical_features:\n",
    "    \n",
    "    df[feature].hist(bins=25)\n",
    "    plt.xlabel(feature)\n",
    "    plt.show()"
   ]
  },
  {
   "cell_type": "code",
   "execution_count": 72,
   "metadata": {},
   "outputs": [],
   "source": [
    "#We can see data is skewed,we need to change it to gaussian distribution before model building."
   ]
  },
  {
   "cell_type": "code",
   "execution_count": 73,
   "metadata": {},
   "outputs": [
    {
     "data": {
      "image/png": "[encoded data removed]",
      "text/plain": [
       "<Figure size 432x288 with 1 Axes>"
      ]
     },
     "metadata": {
      "needs_background": "light"
     },
     "output_type": "display_data"
    },
    {
     "data": {
      "image/png": "[encoded data removed]",
      "text/plain": [
       "<Figure size 432x288 with 1 Axes>"
      ]
     },
     "metadata": {
      "needs_background": "light"
     },
     "output_type": "display_data"
    },
    {
     "data": {
      "image/png": "[encoded data removed]",
      "text/plain": [
       "<Figure size 432x288 with 1 Axes>"
      ]
     },
     "metadata": {
      "needs_background": "light"
     },
     "output_type": "display_data"
    },
    {
     "data": {
      "image/png": "[encoded data removed]",
      "text/plain": [
       "<Figure size 432x288 with 1 Axes>"
      ]
     },
     "metadata": {
      "needs_background": "light"
     },
     "output_type": "display_data"
    },
    {
     "data": {
      "image/png": "[encoded data removed]",
      "text/plain": [
       "<Figure size 432x288 with 1 Axes>"
      ]
     },
     "metadata": {
      "needs_background": "light"
     },
     "output_type": "display_data"
    },
    {
     "data": {
      "image/png": "[encoded data removed]",
      "text/plain": [
       "<Figure size 432x288 with 1 Axes>"
      ]
     },
     "metadata": {
      "needs_background": "light"
     },
     "output_type": "display_data"
    },
    {
     "data": {
      "image/png": "[encoded data removed]",
      "text/plain": [
       "<Figure size 432x288 with 1 Axes>"
      ]
     },
     "metadata": {
      "needs_background": "light"
     },
     "output_type": "display_data"
    },
    {
     "data": {
      "image/png": "[encoded data removed]",
      "text/plain": [
       "<Figure size 432x288 with 1 Axes>"
      ]
     },
     "metadata": {
      "needs_background": "light"
     },
     "output_type": "display_data"
    },
    {
     "data": {
      "image/png": "[encoded data removed]",
      "text/plain": [
       "<Figure size 432x288 with 1 Axes>"
      ]
     },
     "metadata": {
      "needs_background": "light"
     },
     "output_type": "display_data"
    },
    {
     "data": {
      "image/png": "[encoded data removed]",
      "text/plain": [
       "<Figure size 432x288 with 1 Axes>"
      ]
     },
     "metadata": {
      "needs_background": "light"
     },
     "output_type": "display_data"
    },
    {
     "data": {
      "image/png": "[encoded data removed]",
      "text/plain": [
       "<Figure size 432x288 with 1 Axes>"
      ]
     },
     "metadata": {
      "needs_background": "light"
     },
     "output_type": "display_data"
    },
    {
     "data": {
      "image/png": "[encoded data removed]",
      "text/plain": [
       "<Figure size 432x288 with 1 Axes>"
      ]
     },
     "metadata": {
      "needs_background": "light"
     },
     "output_type": "display_data"
    },
    {
     "data": {
      "image/png": "[encoded data removed]",
      "text/plain": [
       "<Figure size 432x288 with 1 Axes>"
      ]
     },
     "metadata": {
      "needs_background": "light"
     },
     "output_type": "display_data"
    },
    {
     "data": {
      "image/png": "[encoded data removed]",
      "text/plain": [
       "<Figure size 432x288 with 1 Axes>"
      ]
     },
     "metadata": {
      "needs_background": "light"
     },
     "output_type": "display_data"
    },
    {
     "data": {
      "image/png": "[encoded data removed]",
      "text/plain": [
       "<Figure size 432x288 with 1 Axes>"
      ]
     },
     "metadata": {
      "needs_background": "light"
     },
     "output_type": "display_data"
    },
    {
     "data": {
      "image/png": "[encoded data removed]",
      "text/plain": [
       "<Figure size 432x288 with 1 Axes>"
      ]
     },
     "metadata": {
      "needs_background": "light"
     },
     "output_type": "display_data"
    },
    {
     "data": {
      "image/png": "[encoded data removed]",
      "text/plain": [
       "<Figure size 432x288 with 1 Axes>"
      ]
     },
     "metadata": {
      "needs_background": "light"
     },
     "output_type": "display_data"
    },
    {
     "data": {
      "image/png": "[encoded data removed]",
      "text/plain": [
       "<Figure size 432x288 with 1 Axes>"
      ]
     },
     "metadata": {
      "needs_background": "light"
     },
     "output_type": "display_data"
    },
    {
     "data": {
      "image/png": "[encoded data removed]",
      "text/plain": [
       "<Figure size 432x288 with 1 Axes>"
      ]
     },
     "metadata": {
      "needs_background": "light"
     },
     "output_type": "display_data"
    },
    {
     "data": {
      "image/png": "[encoded data removed]",
      "text/plain": [
       "<Figure size 432x288 with 1 Axes>"
      ]
     },
     "metadata": {
      "needs_background": "light"
     },
     "output_type": "display_data"
    },
    {
     "data": {
      "image/png": "[encoded data removed]",
      "text/plain": [
       "<Figure size 432x288 with 1 Axes>"
      ]
     },
     "metadata": {
      "needs_background": "light"
     },
     "output_type": "display_data"
    },
    {
     "data": {
      "image/png": "[encoded data removed]",
      "text/plain": [
       "<Figure size 432x288 with 1 Axes>"
      ]
     },
     "metadata": {
      "needs_background": "light"
     },
     "output_type": "display_data"
    },
    {
     "data": {
      "image/png": "[encoded data removed]",
      "text/plain": [
       "<Figure size 432x288 with 1 Axes>"
      ]
     },
     "metadata": {
      "needs_background": "light"
     },
     "output_type": "display_data"
    },
    {
     "data": {
      "image/png": "[encoded data removed]",
      "text/plain": [
       "<Figure size 432x288 with 1 Axes>"
      ]
     },
     "metadata": {
      "needs_background": "light"
     },
     "output_type": "display_data"
    },
    {
     "data": {
      "image/png": "[encoded data removed]",
      "text/plain": [
       "<Figure size 432x288 with 1 Axes>"
      ]
     },
     "metadata": {
      "needs_background": "light"
     },
     "output_type": "display_data"
    },
    {
     "data": {
      "image/png": "[encoded data removed]",
      "text/plain": [
       "<Figure size 432x288 with 1 Axes>"
      ]
     },
     "metadata": {
      "needs_background": "light"
     },
     "output_type": "display_data"
    },
    {
     "data": {
      "image/png": "[encoded data removed]",
      "text/plain": [
       "<Figure size 432x288 with 1 Axes>"
      ]
     },
     "metadata": {
      "needs_background": "light"
     },
     "output_type": "display_data"
    },
    {
     "data": {
      "image/png": "[encoded data removed]",
      "text/plain": [
       "<Figure size 432x288 with 1 Axes>"
      ]
     },
     "metadata": {
      "needs_background": "light"
     },
     "output_type": "display_data"
    },
    {
     "data": {
      "image/png": "[encoded data removed]",
      "text/plain": [
       "<Figure size 432x288 with 1 Axes>"
      ]
     },
     "metadata": {
      "needs_background": "light"
     },
     "output_type": "display_data"
    }
   ],
   "source": [
    "#checking outliers\n",
    "numerical_features=[feature for feature in df.columns if df[feature].dtypes!='object']\n",
    "for feature in numerical_features:\n",
    "    \n",
    "    df[feature].plot.box()\n",
    "    plt.xlabel(feature)\n",
    "    plt.show()"
   ]
  },
  {
   "cell_type": "markdown",
   "metadata": {},
   "source": [
    "# Feature Engineering part-2"
   ]
  },
  {
   "cell_type": "markdown",
   "metadata": {},
   "source": [
    "# Saving data for next regression problem where target is Next_Tmin"
   ]
  },
  {
   "cell_type": "code",
   "execution_count": 151,
   "metadata": {},
   "outputs": [],
   "source": [
    "df.to_csv('E:\\\\cleanedtemperature.csv',index=False)"
   ]
  },
  {
   "cell_type": "markdown",
   "metadata": {},
   "source": [
    "# Removing unnecessary columns"
   ]
  },
  {
   "cell_type": "code",
   "execution_count": 74,
   "metadata": {},
   "outputs": [],
   "source": [
    "df=df.drop(['Next_Tmin','quater'],axis=1)# 'Next_Tmin' is dependent on current target 'Next_Tmax',so dropping it."
   ]
  },
  {
   "cell_type": "markdown",
   "metadata": {},
   "source": [
    "# Outlier removal"
   ]
  },
  {
   "cell_type": "code",
   "execution_count": 77,
   "metadata": {},
   "outputs": [
    {
     "data": {
      "text/plain": [
       "(7588, 28)"
      ]
     },
     "execution_count": 77,
     "metadata": {},
     "output_type": "execute_result"
    }
   ],
   "source": [
    "#Removing outliers first\n",
    "from scipy.stats import zscore\n",
    "z=abs(zscore(df))\n",
    "z.shape"
   ]
  },
  {
   "cell_type": "code",
   "execution_count": 78,
   "metadata": {},
   "outputs": [
    {
     "data": {
      "text/plain": [
       "(6662, 28)"
      ]
     },
     "execution_count": 78,
     "metadata": {},
     "output_type": "execute_result"
    }
   ],
   "source": [
    "df=df[(z<3).all(axis=1)]\n",
    "df.shape"
   ]
  },
  {
   "cell_type": "markdown",
   "metadata": {},
   "source": [
    "# Separating training and testing set"
   ]
  },
  {
   "cell_type": "code",
   "execution_count": 79,
   "metadata": {},
   "outputs": [],
   "source": [
    "#Separating the training and testing set\n",
    "y=df[['Next_Tmax']]\n",
    "X=df.drop(['Next_Tmax'],axis=1)"
   ]
  },
  {
   "cell_type": "code",
   "execution_count": 80,
   "metadata": {},
   "outputs": [
    {
     "data": {
      "text/plain": [
       "station            -0.002966\n",
       "Present_Tmax       -0.270414\n",
       "Present_Tmin       -0.239542\n",
       "LDAPS_RHmin         0.298631\n",
       "LDAPS_RHmax        -0.685294\n",
       "LDAPS_Tmax_lapse   -0.111451\n",
       "LDAPS_Tmin_lapse   -0.405846\n",
       "LDAPS_WS            1.083359\n",
       "LDAPS_LH            0.568197\n",
       "LDAPS_CC1           0.591147\n",
       "LDAPS_CC2           0.492065\n",
       "LDAPS_CC3           0.696229\n",
       "LDAPS_CC4           0.693809\n",
       "LDAPS_PPT1          3.700243\n",
       "LDAPS_PPT2          4.824842\n",
       "LDAPS_PPT3          5.482891\n",
       "LDAPS_PPT4          5.888075\n",
       "lat                 0.105452\n",
       "lon                -0.277518\n",
       "DEM                 1.763444\n",
       "Slope               1.590983\n",
       "Solar radiation    -0.508940\n",
       "Next_Tmax          -0.264269\n",
       "year                0.014833\n",
       "month               0.024625\n",
       "day                 0.007222\n",
       "week               -0.001841\n",
       "quater              0.000000\n",
       "dtype: float64"
      ]
     },
     "execution_count": 80,
     "metadata": {},
     "output_type": "execute_result"
    }
   ],
   "source": [
    "df.skew()"
   ]
  },
  {
   "cell_type": "markdown",
   "metadata": {},
   "source": [
    "# Skewness removal by power transformation technique"
   ]
  },
  {
   "cell_type": "code",
   "execution_count": 81,
   "metadata": {},
   "outputs": [],
   "source": [
    "from sklearn.preprocessing import PowerTransformer\n",
    "pt=PowerTransformer(method='yeo-johnson') # initally write code like this so you remember\n",
    "X_power=pt.fit_transform(X)\n",
    "df=pd.DataFrame(X_power,columns=X.columns)"
   ]
  },
  {
   "cell_type": "code",
   "execution_count": 82,
   "metadata": {},
   "outputs": [
    {
     "data": {
      "text/plain": [
       "station            -0.203762\n",
       "Present_Tmax       -0.034562\n",
       "Present_Tmin       -0.023272\n",
       "LDAPS_RHmin        -0.015352\n",
       "LDAPS_RHmax        -0.103907\n",
       "LDAPS_Tmax_lapse   -0.012876\n",
       "LDAPS_Tmin_lapse   -0.028449\n",
       "LDAPS_WS            0.007771\n",
       "LDAPS_LH           -0.030131\n",
       "LDAPS_CC1           0.064731\n",
       "LDAPS_CC2           0.047822\n",
       "LDAPS_CC3           0.093662\n",
       "LDAPS_CC4           0.137942\n",
       "LDAPS_PPT1          1.618196\n",
       "LDAPS_PPT2          1.808969\n",
       "LDAPS_PPT3          1.982111\n",
       "LDAPS_PPT4          2.255678\n",
       "lat                 0.088650\n",
       "lon                -0.191482\n",
       "DEM                 0.038713\n",
       "Slope               0.233718\n",
       "Solar radiation    -0.168499\n",
       "year                0.150318\n",
       "month               0.024625\n",
       "day                -0.211361\n",
       "week               -0.023525\n",
       "quater              0.000000\n",
       "dtype: float64"
      ]
     },
     "execution_count": 82,
     "metadata": {},
     "output_type": "execute_result"
    }
   ],
   "source": [
    "df.skew()"
   ]
  },
  {
   "cell_type": "markdown",
   "metadata": {},
   "source": [
    "# Scaling the data"
   ]
  },
  {
   "cell_type": "code",
   "execution_count": 83,
   "metadata": {},
   "outputs": [],
   "source": [
    "#Applying Standard scalar to independent variable only\n",
    "from sklearn.preprocessing import StandardScaler\n",
    "ss=StandardScaler()\n",
    "X_scaled=ss.fit_transform(X)\n",
    "x=pd.DataFrame(data=X_scaled,columns=X.columns)\n"
   ]
  },
  {
   "cell_type": "code",
   "execution_count": 84,
   "metadata": {},
   "outputs": [
    {
     "data": {
      "text/html": [
       "<div>\n",
       "<style scoped>\n",
       "    .dataframe tbody tr th:only-of-type {\n",
       "        vertical-align: middle;\n",
       "    }\n",
       "\n",
       "    .dataframe tbody tr th {\n",
       "        vertical-align: top;\n",
       "    }\n",
       "\n",
       "    .dataframe thead th {\n",
       "        text-align: right;\n",
       "    }\n",
       "</style>\n",
       "<table border=\"1\" class=\"dataframe\">\n",
       "  <thead>\n",
       "    <tr style=\"text-align: right;\">\n",
       "      <th></th>\n",
       "      <th>station</th>\n",
       "      <th>Present_Tmax</th>\n",
       "      <th>Present_Tmin</th>\n",
       "      <th>LDAPS_RHmin</th>\n",
       "      <th>LDAPS_RHmax</th>\n",
       "      <th>LDAPS_Tmax_lapse</th>\n",
       "      <th>LDAPS_Tmin_lapse</th>\n",
       "      <th>LDAPS_WS</th>\n",
       "      <th>LDAPS_LH</th>\n",
       "      <th>LDAPS_CC1</th>\n",
       "      <th>LDAPS_CC2</th>\n",
       "      <th>LDAPS_CC3</th>\n",
       "      <th>LDAPS_CC4</th>\n",
       "      <th>LDAPS_PPT1</th>\n",
       "      <th>LDAPS_PPT2</th>\n",
       "      <th>LDAPS_PPT3</th>\n",
       "      <th>LDAPS_PPT4</th>\n",
       "      <th>lat</th>\n",
       "      <th>lon</th>\n",
       "      <th>DEM</th>\n",
       "      <th>Slope</th>\n",
       "      <th>Solar radiation</th>\n",
       "      <th>year</th>\n",
       "      <th>month</th>\n",
       "      <th>day</th>\n",
       "      <th>week</th>\n",
       "      <th>quater</th>\n",
       "    </tr>\n",
       "  </thead>\n",
       "  <tbody>\n",
       "    <tr>\n",
       "      <td>0</td>\n",
       "      <td>-0.841202</td>\n",
       "      <td>0.203104</td>\n",
       "      <td>0.132778</td>\n",
       "      <td>1.293434</td>\n",
       "      <td>0.766166</td>\n",
       "      <td>-1.263051</td>\n",
       "      <td>-0.505895</td>\n",
       "      <td>3.485238</td>\n",
       "      <td>1.800506</td>\n",
       "      <td>1.046568</td>\n",
       "      <td>1.824884</td>\n",
       "      <td>1.909661</td>\n",
       "      <td>1.227690</td>\n",
       "      <td>0.271305</td>\n",
       "      <td>7.126631</td>\n",
       "      <td>0.248193</td>\n",
       "      <td>1.413926</td>\n",
       "      <td>0.670669</td>\n",
       "      <td>-1.922554</td>\n",
       "      <td>-0.910571</td>\n",
       "      <td>-0.843836</td>\n",
       "      <td>1.210671</td>\n",
       "      <td>-1.428349</td>\n",
       "      <td>-0.987766</td>\n",
       "      <td>-1.668224</td>\n",
       "      <td>-1.5254</td>\n",
       "      <td>0.0</td>\n",
       "    </tr>\n",
       "    <tr>\n",
       "      <td>1</td>\n",
       "      <td>-0.702349</td>\n",
       "      <td>0.376384</td>\n",
       "      <td>-0.083139</td>\n",
       "      <td>0.798247</td>\n",
       "      <td>0.611755</td>\n",
       "      <td>-1.091187</td>\n",
       "      <td>-0.493090</td>\n",
       "      <td>3.219017</td>\n",
       "      <td>0.612297</td>\n",
       "      <td>1.051117</td>\n",
       "      <td>1.750864</td>\n",
       "      <td>1.950458</td>\n",
       "      <td>1.270503</td>\n",
       "      <td>2.109904</td>\n",
       "      <td>7.397324</td>\n",
       "      <td>0.178050</td>\n",
       "      <td>5.947391</td>\n",
       "      <td>-1.484477</td>\n",
       "      <td>-1.016847</td>\n",
       "      <td>-0.160156</td>\n",
       "      <td>0.238368</td>\n",
       "      <td>1.245605</td>\n",
       "      <td>-1.428349</td>\n",
       "      <td>-0.987766</td>\n",
       "      <td>-1.668224</td>\n",
       "      <td>-1.5254</td>\n",
       "      <td>0.0</td>\n",
       "    </tr>\n",
       "    <tr>\n",
       "      <td>2</td>\n",
       "      <td>-0.424644</td>\n",
       "      <td>0.029823</td>\n",
       "      <td>-0.946807</td>\n",
       "      <td>0.957595</td>\n",
       "      <td>1.019465</td>\n",
       "      <td>-1.640490</td>\n",
       "      <td>-1.008767</td>\n",
       "      <td>3.615701</td>\n",
       "      <td>0.539882</td>\n",
       "      <td>0.869971</td>\n",
       "      <td>1.771514</td>\n",
       "      <td>1.751063</td>\n",
       "      <td>1.470389</td>\n",
       "      <td>1.663315</td>\n",
       "      <td>7.220246</td>\n",
       "      <td>0.252130</td>\n",
       "      <td>6.025953</td>\n",
       "      <td>-1.754120</td>\n",
       "      <td>-0.450780</td>\n",
       "      <td>2.755470</td>\n",
       "      <td>2.910105</td>\n",
       "      <td>1.314868</td>\n",
       "      <td>-1.428349</td>\n",
       "      <td>-0.987766</td>\n",
       "      <td>-1.668224</td>\n",
       "      <td>-1.5254</td>\n",
       "      <td>0.0</td>\n",
       "    </tr>\n",
       "    <tr>\n",
       "      <td>3</td>\n",
       "      <td>0.408470</td>\n",
       "      <td>-0.004833</td>\n",
       "      <td>-0.817257</td>\n",
       "      <td>1.127950</td>\n",
       "      <td>0.736862</td>\n",
       "      <td>-1.244480</td>\n",
       "      <td>-0.581052</td>\n",
       "      <td>3.151161</td>\n",
       "      <td>0.862487</td>\n",
       "      <td>0.905936</td>\n",
       "      <td>1.855487</td>\n",
       "      <td>1.640309</td>\n",
       "      <td>1.410401</td>\n",
       "      <td>1.445583</td>\n",
       "      <td>7.340573</td>\n",
       "      <td>0.315693</td>\n",
       "      <td>7.082032</td>\n",
       "      <td>-1.484477</td>\n",
       "      <td>0.052390</td>\n",
       "      <td>0.396342</td>\n",
       "      <td>0.751979</td>\n",
       "      <td>1.239003</td>\n",
       "      <td>-1.428349</td>\n",
       "      <td>-0.987766</td>\n",
       "      <td>-1.668224</td>\n",
       "      <td>-1.5254</td>\n",
       "      <td>0.0</td>\n",
       "    </tr>\n",
       "    <tr>\n",
       "      <td>4</td>\n",
       "      <td>0.686175</td>\n",
       "      <td>0.549664</td>\n",
       "      <td>0.391879</td>\n",
       "      <td>1.084312</td>\n",
       "      <td>0.566374</td>\n",
       "      <td>-1.136914</td>\n",
       "      <td>-0.486693</td>\n",
       "      <td>2.642962</td>\n",
       "      <td>0.798383</td>\n",
       "      <td>0.795531</td>\n",
       "      <td>2.079934</td>\n",
       "      <td>1.798569</td>\n",
       "      <td>1.283845</td>\n",
       "      <td>1.184137</td>\n",
       "      <td>7.347401</td>\n",
       "      <td>0.366836</td>\n",
       "      <td>7.630558</td>\n",
       "      <td>-1.214834</td>\n",
       "      <td>0.417189</td>\n",
       "      <td>-0.086759</td>\n",
       "      <td>-0.006688</td>\n",
       "      <td>1.247839</td>\n",
       "      <td>-1.428349</td>\n",
       "      <td>-0.987766</td>\n",
       "      <td>-1.668224</td>\n",
       "      <td>-1.5254</td>\n",
       "      <td>0.0</td>\n",
       "    </tr>\n",
       "  </tbody>\n",
       "</table>\n",
       "</div>"
      ],
      "text/plain": [
       "    station  Present_Tmax  Present_Tmin  LDAPS_RHmin  LDAPS_RHmax  \\\n",
       "0 -0.841202      0.203104      0.132778     1.293434     0.766166   \n",
       "1 -0.702349      0.376384     -0.083139     0.798247     0.611755   \n",
       "2 -0.424644      0.029823     -0.946807     0.957595     1.019465   \n",
       "3  0.408470     -0.004833     -0.817257     1.127950     0.736862   \n",
       "4  0.686175      0.549664      0.391879     1.084312     0.566374   \n",
       "\n",
       "   LDAPS_Tmax_lapse  LDAPS_Tmin_lapse  LDAPS_WS  LDAPS_LH  LDAPS_CC1  \\\n",
       "0         -1.263051         -0.505895  3.485238  1.800506   1.046568   \n",
       "1         -1.091187         -0.493090  3.219017  0.612297   1.051117   \n",
       "2         -1.640490         -1.008767  3.615701  0.539882   0.869971   \n",
       "3         -1.244480         -0.581052  3.151161  0.862487   0.905936   \n",
       "4         -1.136914         -0.486693  2.642962  0.798383   0.795531   \n",
       "\n",
       "   LDAPS_CC2  LDAPS_CC3  LDAPS_CC4  LDAPS_PPT1  LDAPS_PPT2  LDAPS_PPT3  \\\n",
       "0   1.824884   1.909661   1.227690    0.271305    7.126631    0.248193   \n",
       "1   1.750864   1.950458   1.270503    2.109904    7.397324    0.178050   \n",
       "2   1.771514   1.751063   1.470389    1.663315    7.220246    0.252130   \n",
       "3   1.855487   1.640309   1.410401    1.445583    7.340573    0.315693   \n",
       "4   2.079934   1.798569   1.283845    1.184137    7.347401    0.366836   \n",
       "\n",
       "   LDAPS_PPT4       lat       lon       DEM     Slope  Solar radiation  \\\n",
       "0    1.413926  0.670669 -1.922554 -0.910571 -0.843836         1.210671   \n",
       "1    5.947391 -1.484477 -1.016847 -0.160156  0.238368         1.245605   \n",
       "2    6.025953 -1.754120 -0.450780  2.755470  2.910105         1.314868   \n",
       "3    7.082032 -1.484477  0.052390  0.396342  0.751979         1.239003   \n",
       "4    7.630558 -1.214834  0.417189 -0.086759 -0.006688         1.247839   \n",
       "\n",
       "       year     month       day    week  quater  \n",
       "0 -1.428349 -0.987766 -1.668224 -1.5254     0.0  \n",
       "1 -1.428349 -0.987766 -1.668224 -1.5254     0.0  \n",
       "2 -1.428349 -0.987766 -1.668224 -1.5254     0.0  \n",
       "3 -1.428349 -0.987766 -1.668224 -1.5254     0.0  \n",
       "4 -1.428349 -0.987766 -1.668224 -1.5254     0.0  "
      ]
     },
     "execution_count": 84,
     "metadata": {},
     "output_type": "execute_result"
    }
   ],
   "source": [
    "x.head()"
   ]
  },
  {
   "cell_type": "markdown",
   "metadata": {},
   "source": [
    "# Model building"
   ]
  },
  {
   "cell_type": "code",
   "execution_count": 85,
   "metadata": {},
   "outputs": [],
   "source": [
    "from sklearn.neighbors import KNeighborsRegressor\n",
    "from sklearn.svm import SVR\n",
    "from sklearn.linear_model import LinearRegression\n",
    "from sklearn.tree import DecisionTreeRegressor\n",
    "from sklearn.ensemble import GradientBoostingRegressor\n",
    "from sklearn.ensemble import AdaBoostRegressor\n",
    "from sklearn.ensemble import RandomForestRegressor\n",
    "from xgboost import XGBRegressor"
   ]
  },
  {
   "cell_type": "code",
   "execution_count": 86,
   "metadata": {},
   "outputs": [],
   "source": [
    "knn=KNeighborsRegressor()\n",
    "svr=SVR()\n",
    "lr=LinearRegression()\n",
    "dt=DecisionTreeRegressor()\n",
    "gbm=GradientBoostingRegressor()\n",
    "ada=AdaBoostRegressor()\n",
    "rfr=RandomForestRegressor()\n",
    "xgb=XGBRegressor()"
   ]
  },
  {
   "cell_type": "code",
   "execution_count": 87,
   "metadata": {},
   "outputs": [],
   "source": [
    "models=[]\n",
    "models.append(('KNeighborsRegressor',knn))\n",
    "models.append(('SVR',svr))\n",
    "models.append(('LinearRegression',lr))\n",
    "models.append(('DecisionTreeRegressor',dt))\n",
    "models.append(('GradientBoostingRegressor',gbm))\n",
    "models.append(('AdaBoostRegressor',ada))\n",
    "models.append(('RandomForestRegressor',rfr))\n",
    "models.append(('XGBRegressor',xgb))"
   ]
  },
  {
   "cell_type": "code",
   "execution_count": 88,
   "metadata": {},
   "outputs": [],
   "source": [
    "from sklearn.metrics import r2_score,mean_squared_error\n",
    "from sklearn.model_selection import train_test_split,cross_val_score\n",
    "x_train,x_test,y_train,y_test=train_test_split(x,y,random_state=42)"
   ]
  },
  {
   "cell_type": "code",
   "execution_count": 89,
   "metadata": {},
   "outputs": [
    {
     "name": "stdout",
     "output_type": "stream",
     "text": [
      "***************** KNeighborsRegressor *******************\n",
      "\n",
      "\n",
      "KNeighborsRegressor(algorithm='auto', leaf_size=30, metric='minkowski',\n",
      "                    metric_params=None, n_jobs=None, n_neighbors=5, p=2,\n",
      "                    weights='uniform')\n",
      "\n",
      "\n",
      "R2score  - 0.8615364782573882\n",
      "\n",
      "\n",
      "cross_val_score  - 0.46956273298676965\n",
      "\n",
      "\n",
      "rmse_score  - 1.1028262285038883\n",
      "\n",
      "\n",
      "***************** SVR *******************\n",
      "\n",
      "\n",
      "SVR(C=1.0, cache_size=200, coef0=0.0, degree=3, epsilon=0.1,\n",
      "    gamma='auto_deprecated', kernel='rbf', max_iter=-1, shrinking=True,\n",
      "    tol=0.001, verbose=False)\n",
      "\n",
      "\n",
      "R2score  - 0.8629758477298911\n",
      "\n",
      "\n",
      "cross_val_score  - 0.6454031310108395\n",
      "\n",
      "\n",
      "rmse_score  - 1.097079150586902\n",
      "\n",
      "\n",
      "***************** LinearRegression *******************\n",
      "\n",
      "\n",
      "LinearRegression(copy_X=True, fit_intercept=True, n_jobs=None, normalize=False)\n",
      "\n",
      "\n",
      "R2score  - 0.7448720161507981\n",
      "\n",
      "\n",
      "cross_val_score  - 0.6430309172434401\n",
      "\n",
      "\n",
      "rmse_score  - 1.4969884452139082\n",
      "\n",
      "\n",
      "***************** DecisionTreeRegressor *******************\n",
      "\n",
      "\n",
      "DecisionTreeRegressor(criterion='mse', max_depth=None, max_features=None,\n",
      "                      max_leaf_nodes=None, min_impurity_decrease=0.0,\n",
      "                      min_impurity_split=None, min_samples_leaf=1,\n",
      "                      min_samples_split=2, min_weight_fraction_leaf=0.0,\n",
      "                      presort=False, random_state=None, splitter='best')\n",
      "\n",
      "\n",
      "R2score  - 0.7366713055911158\n",
      "\n",
      "\n",
      "cross_val_score  - 0.3974191049389495\n",
      "\n",
      "\n",
      "rmse_score  - 1.5208573907112897\n",
      "\n",
      "\n",
      "***************** GradientBoostingRegressor *******************\n",
      "\n",
      "\n",
      "GradientBoostingRegressor(alpha=0.9, criterion='friedman_mse', init=None,\n",
      "                          learning_rate=0.1, loss='ls', max_depth=3,\n",
      "                          max_features=None, max_leaf_nodes=None,\n",
      "                          min_impurity_decrease=0.0, min_impurity_split=None,\n",
      "                          min_samples_leaf=1, min_samples_split=2,\n",
      "                          min_weight_fraction_leaf=0.0, n_estimators=100,\n",
      "                          n_iter_no_change=None, presort='auto',\n",
      "                          random_state=None, subsample=1.0, tol=0.0001,\n",
      "                          validation_fraction=0.1, verbose=0, warm_start=False)\n",
      "\n",
      "\n",
      "R2score  - 0.8320913363033134\n",
      "\n",
      "\n",
      "cross_val_score  - 0.6882570118838294\n",
      "\n",
      "\n",
      "rmse_score  - 1.2144396900537147\n",
      "\n",
      "\n",
      "***************** AdaBoostRegressor *******************\n",
      "\n",
      "\n",
      "AdaBoostRegressor(base_estimator=None, learning_rate=1.0, loss='linear',\n",
      "                  n_estimators=50, random_state=None)\n",
      "\n",
      "\n",
      "R2score  - 0.7240122940515668\n",
      "\n",
      "\n",
      "cross_val_score  - 0.6436265612246075\n",
      "\n",
      "\n",
      "rmse_score  - 1.5569844240194597\n",
      "\n",
      "\n",
      "***************** RandomForestRegressor *******************\n",
      "\n",
      "\n",
      "RandomForestRegressor(bootstrap=True, criterion='mse', max_depth=None,\n",
      "                      max_features='auto', max_leaf_nodes=None,\n",
      "                      min_impurity_decrease=0.0, min_impurity_split=None,\n",
      "                      min_samples_leaf=1, min_samples_split=2,\n",
      "                      min_weight_fraction_leaf=0.0, n_estimators=10,\n",
      "                      n_jobs=None, oob_score=False, random_state=None,\n",
      "                      verbose=0, warm_start=False)\n",
      "\n",
      "\n",
      "R2score  - 0.8696741123672969\n",
      "\n",
      "\n",
      "cross_val_score  - 0.6355549777806655\n",
      "\n",
      "\n",
      "rmse_score  - 1.069928473672661\n",
      "\n",
      "\n",
      "***************** XGBRegressor *******************\n",
      "\n",
      "\n",
      "XGBRegressor(base_score=0.5, booster=None, colsample_bylevel=1,\n",
      "             colsample_bynode=1, colsample_bytree=1, gamma=0, gpu_id=-1,\n",
      "             importance_type='gain', interaction_constraints=None,\n",
      "             learning_rate=0.300000012, max_delta_step=0, max_depth=6,\n",
      "             min_child_weight=1, missing=nan, monotone_constraints=None,\n",
      "             n_estimators=100, n_jobs=0, num_parallel_tree=1,\n",
      "             objective='reg:squarederror', random_state=0, reg_alpha=0,\n",
      "             reg_lambda=1, scale_pos_weight=1, subsample=1, tree_method=None,\n",
      "             validate_parameters=False, verbosity=None)\n",
      "\n",
      "\n",
      "R2score  - 0.9184963458688157\n",
      "\n",
      "\n",
      "cross_val_score  - 0.646386529409079\n",
      "\n",
      "\n",
      "rmse_score  - 0.8461121662321716\n",
      "\n",
      "\n"
     ]
    }
   ],
   "source": [
    "Model=[]\n",
    "r2score=[]\n",
    "rmse=[]\n",
    "cv=[]\n",
    "\n",
    "for name,model in models:\n",
    "    print('*****************',name,'*******************')\n",
    "    print('\\n')\n",
    "    Model.append(name)\n",
    "    model.fit(x_train,y_train)\n",
    "    print(model)\n",
    "    pre=model.predict(x_test)\n",
    "    print('\\n')\n",
    "    score=r2_score(y_test,pre)\n",
    "    print('R2score  -',score)\n",
    "    r2score.append(score*100)\n",
    "    print('\\n')\n",
    "    sc=cross_val_score(model,x,y,cv=5,scoring='r2').mean()\n",
    "    print('cross_val_score  -',sc)\n",
    "    cv.append(sc*100)\n",
    "    print('\\n')\n",
    "    rmsescore=np.sqrt(mean_squared_error(y_test,pre))\n",
    "    print('rmse_score  -',rmsescore)\n",
    "    rmse.append(rmsescore)\n",
    "    print('\\n')\n",
    "    \n",
    "    \n",
    "    \n",
    "    \n",
    "   \n",
    "    "
   ]
  },
  {
   "cell_type": "code",
   "execution_count": 90,
   "metadata": {},
   "outputs": [
    {
     "data": {
      "text/html": [
       "<div>\n",
       "<style scoped>\n",
       "    .dataframe tbody tr th:only-of-type {\n",
       "        vertical-align: middle;\n",
       "    }\n",
       "\n",
       "    .dataframe tbody tr th {\n",
       "        vertical-align: top;\n",
       "    }\n",
       "\n",
       "    .dataframe thead th {\n",
       "        text-align: right;\n",
       "    }\n",
       "</style>\n",
       "<table border=\"1\" class=\"dataframe\">\n",
       "  <thead>\n",
       "    <tr style=\"text-align: right;\">\n",
       "      <th></th>\n",
       "      <th>Model</th>\n",
       "      <th>R2_score</th>\n",
       "      <th>RMSEscore</th>\n",
       "      <th>Cross_val_score</th>\n",
       "    </tr>\n",
       "  </thead>\n",
       "  <tbody>\n",
       "    <tr>\n",
       "      <td>0</td>\n",
       "      <td>KNeighborsRegressor</td>\n",
       "      <td>86.153648</td>\n",
       "      <td>1.102826</td>\n",
       "      <td>46.956273</td>\n",
       "    </tr>\n",
       "    <tr>\n",
       "      <td>1</td>\n",
       "      <td>SVR</td>\n",
       "      <td>86.297585</td>\n",
       "      <td>1.097079</td>\n",
       "      <td>64.540313</td>\n",
       "    </tr>\n",
       "    <tr>\n",
       "      <td>2</td>\n",
       "      <td>LinearRegression</td>\n",
       "      <td>74.487202</td>\n",
       "      <td>1.496988</td>\n",
       "      <td>64.303092</td>\n",
       "    </tr>\n",
       "    <tr>\n",
       "      <td>3</td>\n",
       "      <td>DecisionTreeRegressor</td>\n",
       "      <td>73.667131</td>\n",
       "      <td>1.520857</td>\n",
       "      <td>39.741910</td>\n",
       "    </tr>\n",
       "    <tr>\n",
       "      <td>4</td>\n",
       "      <td>GradientBoostingRegressor</td>\n",
       "      <td>83.209134</td>\n",
       "      <td>1.214440</td>\n",
       "      <td>68.825701</td>\n",
       "    </tr>\n",
       "    <tr>\n",
       "      <td>5</td>\n",
       "      <td>AdaBoostRegressor</td>\n",
       "      <td>72.401229</td>\n",
       "      <td>1.556984</td>\n",
       "      <td>64.362656</td>\n",
       "    </tr>\n",
       "    <tr>\n",
       "      <td>6</td>\n",
       "      <td>RandomForestRegressor</td>\n",
       "      <td>86.967411</td>\n",
       "      <td>1.069928</td>\n",
       "      <td>63.555498</td>\n",
       "    </tr>\n",
       "    <tr>\n",
       "      <td>7</td>\n",
       "      <td>XGBRegressor</td>\n",
       "      <td>91.849635</td>\n",
       "      <td>0.846112</td>\n",
       "      <td>64.638653</td>\n",
       "    </tr>\n",
       "  </tbody>\n",
       "</table>\n",
       "</div>"
      ],
      "text/plain": [
       "                       Model   R2_score  RMSEscore  Cross_val_score\n",
       "0        KNeighborsRegressor  86.153648   1.102826        46.956273\n",
       "1                        SVR  86.297585   1.097079        64.540313\n",
       "2           LinearRegression  74.487202   1.496988        64.303092\n",
       "3      DecisionTreeRegressor  73.667131   1.520857        39.741910\n",
       "4  GradientBoostingRegressor  83.209134   1.214440        68.825701\n",
       "5          AdaBoostRegressor  72.401229   1.556984        64.362656\n",
       "6      RandomForestRegressor  86.967411   1.069928        63.555498\n",
       "7               XGBRegressor  91.849635   0.846112        64.638653"
      ]
     },
     "execution_count": 90,
     "metadata": {},
     "output_type": "execute_result"
    }
   ],
   "source": [
    "result=pd.DataFrame({'Model':Model,'R2_score':r2score,'RMSEscore':rmse,'Cross_val_score':cv})\n",
    "result"
   ]
  },
  {
   "cell_type": "code",
   "execution_count": 132,
   "metadata": {},
   "outputs": [],
   "source": [
    "#We can see XGBRegressor is performing the best with R2 score=91.84%,but there is a big difference in CVS.\n",
    "#Hence the model is suffering from over/underfitting condition.\n",
    "\n",
    "#RMSE score is well within range for this particular problem."
   ]
  },
  {
   "cell_type": "code",
   "execution_count": 134,
   "metadata": {},
   "outputs": [],
   "source": [
    "#First lets calculate the random state of the models at which they perform the best.\n",
    "#Then we will select the top3 models and do gridsearchcv on them to attain our target score of 90%."
   ]
  },
  {
   "cell_type": "markdown",
   "metadata": {},
   "source": [
    "# Finding the best random_state for all models"
   ]
  },
  {
   "cell_type": "code",
   "execution_count": 91,
   "metadata": {},
   "outputs": [],
   "source": [
    "from sklearn.metrics import mean_absolute_error\n",
    "from sklearn.metrics import mean_squared_error\n",
    "from sklearn.metrics import r2_score\n",
    "from sklearn.model_selection import train_test_split\n",
    "\n",
    "def maxr2_score(model,x,y):\n",
    "    max_r_score=0\n",
    "    for r_state in range(42,101):\n",
    "        \n",
    "        x_train,x_test,y_train,y_test=train_test_split(x,y,random_state=r_state,test_size=0.25)\n",
    "        model.fit(x_train,y_train)\n",
    "        pred=model.predict(x_test)\n",
    "        score=r2_score(y_test,pred)\n",
    "        \n",
    "        if score>max_r_score:\n",
    "            max_r_score=score\n",
    "            final_r_state=r_state\n",
    "    print('max_r2_score is at random_state  ',final_r_state,'  which is  ',max_r_score)\n",
    "    return final_r_state\n",
    "    "
   ]
  },
  {
   "cell_type": "code",
   "execution_count": 92,
   "metadata": {},
   "outputs": [
    {
     "name": "stdout",
     "output_type": "stream",
     "text": [
      "max_r2_score is at random_state   85   which is   0.8705759340787782\n",
      "knn 85\n",
      "max_r2_score is at random_state   88   which is   0.8790707252806117\n",
      "SVR 88\n",
      "max_r2_score is at random_state   92   which is   0.7918753830460397\n",
      "lr 92\n",
      "max_r2_score is at random_state   85   which is   0.7968154479750109\n",
      "dt 85\n",
      "max_r2_score is at random_state   85   which is   0.8687183878355688\n",
      "gbm 85\n",
      "max_r2_score is at random_state   94   which is   0.8927435734674581\n",
      "rfr 94\n",
      "max_r2_score is at random_state   85   which is   0.9314167171516897\n",
      "xgb 85\n",
      "max_r2_score is at random_state   81   which is   0.7785975449705916\n",
      "ada 81\n"
     ]
    }
   ],
   "source": [
    "print('knn',maxr2_score(knn,x,y))\n",
    "print('SVR',maxr2_score(svr,x,y))\n",
    "print('lr',maxr2_score(lr,x,y))\n",
    "print('dt',maxr2_score(dt,x,y))\n",
    "print('gbm',maxr2_score(gbm,x,y))\n",
    "print('rfr',maxr2_score(rfr,x,y))\n",
    "print('xgb',maxr2_score(xgb,x,y))\n",
    "\n",
    "print('ada',maxr2_score(ada,x,y))"
   ]
  },
  {
   "cell_type": "raw",
   "metadata": {},
   "source": [
    "#Seleting the top3 performing models for gridsearchcv\n",
    "\n",
    "model1->XGBoostRegressor(random_state=85)=93.14\n",
    "model2->RandomForestRegressor(random_state=94)=89.27\n",
    "model3->GradientBoostingRegressor(random_state=85)=86.87"
   ]
  },
  {
   "cell_type": "markdown",
   "metadata": {},
   "source": [
    "# GridsearchCV"
   ]
  },
  {
   "cell_type": "markdown",
   "metadata": {},
   "source": [
    "# model1->XGBoostRegressor(random_state=85)=93.14"
   ]
  },
  {
   "cell_type": "code",
   "execution_count": 93,
   "metadata": {},
   "outputs": [],
   "source": [
    "x_train,x_test,y_train,y_test=train_test_split(x,y,random_state=85)\n",
    "xgb=XGBRegressor()"
   ]
  },
  {
   "cell_type": "code",
   "execution_count": 94,
   "metadata": {},
   "outputs": [
    {
     "data": {
      "text/plain": [
       "{'colsample_bytree': 0.7, 'learning_rate': 0.1, 'max_depth': 3}"
      ]
     },
     "execution_count": 94,
     "metadata": {},
     "output_type": "execute_result"
    }
   ],
   "source": [
    "from sklearn.model_selection import GridSearchCV\n",
    "parameters=[{'learning_rate':[0.1,0.2,0.3,0.4],'max_depth':[3,4,5,6,7,8],'colsample_bytree':[0.5,0.6,0.7,0.8,0.9]}]\n",
    "            \n",
    "gscv=GridSearchCV(xgb,parameters,scoring='r2',n_jobs=-1,cv=5)\n",
    "grid_search=gscv.fit(x,y)\n",
    "grid_search.best_params_"
   ]
  },
  {
   "cell_type": "code",
   "execution_count": 106,
   "metadata": {},
   "outputs": [
    {
     "name": "stdout",
     "output_type": "stream",
     "text": [
      "R2_score=   0.8910184801876273\n",
      "RMSE score=  0.9977742510726116\n"
     ]
    }
   ],
   "source": [
    "x_train,x_test,y_train,y_test=train_test_split(x,y,random_state=85)\n",
    "xgb=XGBRegressor(max_depth=3,colsample_bytree= 0.7, learning_rate=0.1)\n",
    "xgb.fit(x,y)\n",
    "pred_xgb=xgb.predict(x_test)\n",
    "score=r2_score(y_test,pred_xgb)\n",
    "print('R2_score=  ',score)\n",
    "print('RMSE score= ',np.sqrt(mean_squared_error(y_test,pred_xgb)))"
   ]
  },
  {
   "cell_type": "code",
   "execution_count": 96,
   "metadata": {},
   "outputs": [
    {
     "name": "stdout",
     "output_type": "stream",
     "text": [
      "cross_val_scores=   0.6999237048898411\n"
     ]
    }
   ],
   "source": [
    "#Cross validating the model and checking the cross_val_score,model giving highest score will be choosen as final model.\n",
    "xgb=XGBRegressor(max_depth=3,colsample_bytree= 0.7, learning_rate=0.1)\n",
    "cvs=cross_val_score(xgb,x,y,scoring='r2',cv=5)\n",
    "print('cross_val_scores=  ',cvs.mean())"
   ]
  },
  {
   "cell_type": "markdown",
   "metadata": {},
   "source": [
    "# model2->RandomForestRegressor(random_state=94)=89.27"
   ]
  },
  {
   "cell_type": "code",
   "execution_count": 97,
   "metadata": {},
   "outputs": [],
   "source": [
    "x_train,x_test,y_train,y_test=train_test_split(x,y,random_state=94)\n",
    "rfr=RandomForestRegressor()"
   ]
  },
  {
   "cell_type": "code",
   "execution_count": 98,
   "metadata": {},
   "outputs": [
    {
     "data": {
      "text/plain": [
       "{'max_depth': 7, 'min_samples_leaf': 1, 'n_estimators': 250}"
      ]
     },
     "execution_count": 98,
     "metadata": {},
     "output_type": "execute_result"
    }
   ],
   "source": [
    "parameters=[{'max_depth':[5,7,9,10],'min_samples_leaf':[1,2],'n_estimators':[100,250,500]}]\n",
    "            \n",
    "grid_search=GridSearchCV(rfr,parameters,scoring='r2',n_jobs=-1,cv=5)\n",
    "grid_search=grid_search.fit(x,y)\n",
    "grid_search.best_params_ "
   ]
  },
  {
   "cell_type": "code",
   "execution_count": 99,
   "metadata": {},
   "outputs": [
    {
     "name": "stdout",
     "output_type": "stream",
     "text": [
      "R2_score=   0.8630666168910627\n",
      "RMSE score=  1.0662386531203791\n"
     ]
    }
   ],
   "source": [
    "x_train,x_test,y_train,y_test=train_test_split(x,y,random_state=98)\n",
    "rfr=RandomForestRegressor(max_depth=7,min_samples_leaf=1,n_estimators=250)\n",
    "rfr.fit(x,y)\n",
    "pred_rfr=rfr.predict(x_test)\n",
    "score=r2_score(y_test,pred_rfr)\n",
    "print('R2_score=  ',score)\n",
    "print('RMSE score= ',np.sqrt(mean_squared_error(y_test,pred_rfr)))"
   ]
  },
  {
   "cell_type": "code",
   "execution_count": 100,
   "metadata": {},
   "outputs": [
    {
     "name": "stdout",
     "output_type": "stream",
     "text": [
      "cross_val_scores=   0.6591932223092078\n"
     ]
    }
   ],
   "source": [
    "#Cross validating the model and checking the cross_val_score,model giving highest score will be choosen as final model.\n",
    "rfr=RandomForestRegressor(max_depth=7,min_samples_leaf=1,n_estimators=250)\n",
    "cvs=cross_val_score(rfr,x,y,scoring='r2',cv=5)\n",
    "print('cross_val_scores=  ',cvs.mean())"
   ]
  },
  {
   "cell_type": "markdown",
   "metadata": {},
   "source": [
    "# model3->GradientBoostingRegressor(random_state=85)=86.87"
   ]
  },
  {
   "cell_type": "code",
   "execution_count": 101,
   "metadata": {},
   "outputs": [],
   "source": [
    "x_train,x_test,y_train,y_test=train_test_split(x,y,random_state=85)\n",
    "gbm=GradientBoostingRegressor()"
   ]
  },
  {
   "cell_type": "code",
   "execution_count": 102,
   "metadata": {},
   "outputs": [
    {
     "data": {
      "text/plain": [
       "{'max_depth': 5, 'min_samples_leaf': 2, 'n_estimators': 100}"
      ]
     },
     "execution_count": 102,
     "metadata": {},
     "output_type": "execute_result"
    }
   ],
   "source": [
    "parameters=[{'max_depth':[5,7,9,10],'min_samples_leaf':[1,2],'n_estimators':[100,250,500]}]\n",
    "            \n",
    "grid_search=GridSearchCV(gbm,parameters,scoring='r2',n_jobs=-1,cv=5)\n",
    "grid_search=grid_search.fit(x,y)\n",
    "grid_search.best_params_ "
   ]
  },
  {
   "cell_type": "code",
   "execution_count": 104,
   "metadata": {},
   "outputs": [
    {
     "name": "stdout",
     "output_type": "stream",
     "text": [
      "R2_score=   0.9498638411614081\n",
      "RMSE score=  0.6597975064564416\n"
     ]
    }
   ],
   "source": [
    "x_train,x_test,y_train,y_test=train_test_split(x,y,random_state=94)\n",
    "gbm=GradientBoostingRegressor(max_depth=5,min_samples_leaf=2,n_estimators=100)\n",
    "gbm.fit(x,y)\n",
    "pred_gbm=gbm.predict(x_test)\n",
    "score=r2_score(y_test,pred_gbm)\n",
    "print('R2_score=  ',score)\n",
    "print('RMSE score= ',np.sqrt(mean_squared_error(y_test,pred_gbm)))"
   ]
  },
  {
   "cell_type": "code",
   "execution_count": 105,
   "metadata": {},
   "outputs": [
    {
     "name": "stdout",
     "output_type": "stream",
     "text": [
      "cross_val_scores=   0.6999237048898411\n"
     ]
    }
   ],
   "source": [
    "#Cross validating the model and checking the cross_val_score,model giving highest score will be choosen as final model.\n",
    "gbm=GradientBoostingRegressor(max_depth=5,min_samples_leaf=2,n_estimators=100)\n",
    "cvs=cross_val_score(xgb,x,y,scoring='r2',cv=5)\n",
    "print('cross_val_scores=  ',cvs.mean())"
   ]
  },
  {
   "cell_type": "code",
   "execution_count": null,
   "metadata": {},
   "outputs": [],
   "source": []
  },
  {
   "cell_type": "markdown",
   "metadata": {},
   "source": [
    "# Saving Final  XGBoostRegressor model"
   ]
  },
  {
   "cell_type": "code",
   "execution_count": 107,
   "metadata": {},
   "outputs": [
    {
     "name": "stdout",
     "output_type": "stream",
     "text": [
      "R2_score=   0.8910184801876273\n",
      "RMSE score=  0.9977742510726116\n"
     ]
    }
   ],
   "source": [
    "#From all the model tried above XGBoostRegressor model has highest cross_val_score .\n",
    "#Hence saving the XGBoostRegressor model as our final model\n",
    "#corresponding random_state=85\n",
    "x_train,x_test,y_train,y_test=train_test_split(x,y,random_state=85)\n",
    "xgb=XGBRegressor(max_depth=3,colsample_bytree= 0.7, learning_rate=0.1)\n",
    "xgb.fit(x,y)\n",
    "pred_xgb=xgb.predict(x_test)\n",
    "score=r2_score(y_test,pred_xgb)\n",
    "print('R2_score=  ',score)\n",
    "print('RMSE score= ',np.sqrt(mean_squared_error(y_test,pred_xgb)))"
   ]
  },
  {
   "cell_type": "code",
   "execution_count": 108,
   "metadata": {},
   "outputs": [
    {
     "name": "stdout",
     "output_type": "stream",
     "text": [
      "cross_val_scores=   0.6999237048898411\n"
     ]
    }
   ],
   "source": [
    "#Cross validating the model and checking the cross_val_score,model giving highest score will be choosen as final model.\n",
    "xgb=XGBRegressor(max_depth=3,colsample_bytree= 0.7, learning_rate=0.1)\n",
    "xgb.fit(x,y)\n",
    "cvs=cross_val_score(xgb,x,y,scoring='r2',cv=5)\n",
    "print('cross_val_scores=  ',cvs.mean())"
   ]
  },
  {
   "cell_type": "code",
   "execution_count": 109,
   "metadata": {},
   "outputs": [
    {
     "data": {
      "text/plain": [
       "['Project17-temperaturepred.obj']"
      ]
     },
     "execution_count": 109,
     "metadata": {},
     "output_type": "execute_result"
    }
   ],
   "source": [
    "from sklearn.externals import joblib\n",
    "joblib.dump(xgb,'Project17-temperaturepred.obj')"
   ]
  },
  {
   "cell_type": "code",
   "execution_count": 111,
   "metadata": {},
   "outputs": [],
   "source": [
    "model=joblib.load('Project17-temperaturepred.obj')"
   ]
  },
  {
   "cell_type": "code",
   "execution_count": 112,
   "metadata": {},
   "outputs": [
    {
     "data": {
      "text/plain": [
       "array([27.134705, 26.38726 , 33.280365, ..., 33.9052  , 28.90419 ,\n",
       "       27.94016 ], dtype=float32)"
      ]
     },
     "execution_count": 112,
     "metadata": {},
     "output_type": "execute_result"
    }
   ],
   "source": [
    "pred=model.predict(x_test)\n",
    "pred"
   ]
  },
  {
   "cell_type": "markdown",
   "metadata": {},
   "source": [
    "# Saving final predictions in file.csv"
   ]
  },
  {
   "cell_type": "code",
   "execution_count": 113,
   "metadata": {},
   "outputs": [],
   "source": [
    "final_predictions=model.predict(x_test)\n",
    "final_predictions=pd.DataFrame(final_predictions,columns=['Next_Tmax'])"
   ]
  },
  {
   "cell_type": "code",
   "execution_count": 114,
   "metadata": {},
   "outputs": [],
   "source": [
    "final_predictions.to_csv('E:\\\\final_temperaturepred.csv',index=False)"
   ]
  },
  {
   "cell_type": "markdown",
   "metadata": {},
   "source": [
    "# Conclusion:-"
   ]
  },
  {
   "cell_type": "raw",
   "metadata": {},
   "source": [
    "Next_Tmax can be predicted using the model above. \n",
    "By using sklearn(XGBRegressor)we have build a machine learning model that will help us predict Next_Tmax.           "
   ]
  },
  {
   "cell_type": "code",
   "execution_count": null,
   "metadata": {},
   "outputs": [],
   "source": []
  },
  {
   "cell_type": "markdown",
   "metadata": {},
   "source": [
    "# 2-Target-->Next_Tmin"
   ]
  },
  {
   "cell_type": "markdown",
   "metadata": {},
   "source": [
    "# Loading the partial cleaned dataset from above"
   ]
  },
  {
   "cell_type": "code",
   "execution_count": 152,
   "metadata": {},
   "outputs": [],
   "source": [
    "df=pd.read_csv('E://cleanedtemperature.csv')"
   ]
  },
  {
   "cell_type": "code",
   "execution_count": 153,
   "metadata": {},
   "outputs": [
    {
     "data": {
      "text/html": [
       "<div>\n",
       "<style scoped>\n",
       "    .dataframe tbody tr th:only-of-type {\n",
       "        vertical-align: middle;\n",
       "    }\n",
       "\n",
       "    .dataframe tbody tr th {\n",
       "        vertical-align: top;\n",
       "    }\n",
       "\n",
       "    .dataframe thead th {\n",
       "        text-align: right;\n",
       "    }\n",
       "</style>\n",
       "<table border=\"1\" class=\"dataframe\">\n",
       "  <thead>\n",
       "    <tr style=\"text-align: right;\">\n",
       "      <th></th>\n",
       "      <th>station</th>\n",
       "      <th>Present_Tmax</th>\n",
       "      <th>Present_Tmin</th>\n",
       "      <th>LDAPS_RHmin</th>\n",
       "      <th>LDAPS_RHmax</th>\n",
       "      <th>LDAPS_Tmax_lapse</th>\n",
       "      <th>LDAPS_Tmin_lapse</th>\n",
       "      <th>LDAPS_WS</th>\n",
       "      <th>LDAPS_LH</th>\n",
       "      <th>LDAPS_CC1</th>\n",
       "      <th>LDAPS_CC2</th>\n",
       "      <th>LDAPS_CC3</th>\n",
       "      <th>LDAPS_CC4</th>\n",
       "      <th>LDAPS_PPT1</th>\n",
       "      <th>LDAPS_PPT2</th>\n",
       "      <th>LDAPS_PPT3</th>\n",
       "      <th>LDAPS_PPT4</th>\n",
       "      <th>lat</th>\n",
       "      <th>lon</th>\n",
       "      <th>DEM</th>\n",
       "      <th>Slope</th>\n",
       "      <th>Solar radiation</th>\n",
       "      <th>Next_Tmax</th>\n",
       "      <th>Next_Tmin</th>\n",
       "      <th>year</th>\n",
       "      <th>month</th>\n",
       "      <th>day</th>\n",
       "      <th>week</th>\n",
       "      <th>quater</th>\n",
       "    </tr>\n",
       "  </thead>\n",
       "  <tbody>\n",
       "    <tr>\n",
       "      <td>0</td>\n",
       "      <td>1.0</td>\n",
       "      <td>28.7</td>\n",
       "      <td>21.4</td>\n",
       "      <td>58.255688</td>\n",
       "      <td>91.116364</td>\n",
       "      <td>28.074101</td>\n",
       "      <td>23.006936</td>\n",
       "      <td>6.818887</td>\n",
       "      <td>69.451805</td>\n",
       "      <td>0.233947</td>\n",
       "      <td>0.203896</td>\n",
       "      <td>0.161697</td>\n",
       "      <td>0.130928</td>\n",
       "      <td>0.0</td>\n",
       "      <td>0.0</td>\n",
       "      <td>0.0</td>\n",
       "      <td>0.0</td>\n",
       "      <td>37.6046</td>\n",
       "      <td>126.991</td>\n",
       "      <td>212.3350</td>\n",
       "      <td>2.7850</td>\n",
       "      <td>5992.895996</td>\n",
       "      <td>29.1</td>\n",
       "      <td>21.2</td>\n",
       "      <td>2013</td>\n",
       "      <td>6</td>\n",
       "      <td>30</td>\n",
       "      <td>26</td>\n",
       "      <td>2</td>\n",
       "    </tr>\n",
       "    <tr>\n",
       "      <td>1</td>\n",
       "      <td>2.0</td>\n",
       "      <td>31.9</td>\n",
       "      <td>21.6</td>\n",
       "      <td>52.263397</td>\n",
       "      <td>90.604721</td>\n",
       "      <td>29.850689</td>\n",
       "      <td>24.035009</td>\n",
       "      <td>5.691890</td>\n",
       "      <td>51.937448</td>\n",
       "      <td>0.225508</td>\n",
       "      <td>0.251771</td>\n",
       "      <td>0.159444</td>\n",
       "      <td>0.127727</td>\n",
       "      <td>0.0</td>\n",
       "      <td>0.0</td>\n",
       "      <td>0.0</td>\n",
       "      <td>0.0</td>\n",
       "      <td>37.6046</td>\n",
       "      <td>127.032</td>\n",
       "      <td>44.7624</td>\n",
       "      <td>0.5141</td>\n",
       "      <td>5869.312500</td>\n",
       "      <td>30.5</td>\n",
       "      <td>22.5</td>\n",
       "      <td>2013</td>\n",
       "      <td>6</td>\n",
       "      <td>30</td>\n",
       "      <td>26</td>\n",
       "      <td>2</td>\n",
       "    </tr>\n",
       "    <tr>\n",
       "      <td>2</td>\n",
       "      <td>3.0</td>\n",
       "      <td>31.6</td>\n",
       "      <td>23.3</td>\n",
       "      <td>48.690479</td>\n",
       "      <td>83.973587</td>\n",
       "      <td>30.091292</td>\n",
       "      <td>24.565633</td>\n",
       "      <td>6.138224</td>\n",
       "      <td>20.573050</td>\n",
       "      <td>0.209344</td>\n",
       "      <td>0.257469</td>\n",
       "      <td>0.204091</td>\n",
       "      <td>0.142125</td>\n",
       "      <td>0.0</td>\n",
       "      <td>0.0</td>\n",
       "      <td>0.0</td>\n",
       "      <td>0.0</td>\n",
       "      <td>37.5776</td>\n",
       "      <td>127.058</td>\n",
       "      <td>33.3068</td>\n",
       "      <td>0.2661</td>\n",
       "      <td>5863.555664</td>\n",
       "      <td>31.1</td>\n",
       "      <td>23.9</td>\n",
       "      <td>2013</td>\n",
       "      <td>6</td>\n",
       "      <td>30</td>\n",
       "      <td>26</td>\n",
       "      <td>2</td>\n",
       "    </tr>\n",
       "    <tr>\n",
       "      <td>3</td>\n",
       "      <td>4.0</td>\n",
       "      <td>32.0</td>\n",
       "      <td>23.4</td>\n",
       "      <td>58.239788</td>\n",
       "      <td>96.483688</td>\n",
       "      <td>29.704629</td>\n",
       "      <td>23.326177</td>\n",
       "      <td>5.650050</td>\n",
       "      <td>65.727144</td>\n",
       "      <td>0.216372</td>\n",
       "      <td>0.226002</td>\n",
       "      <td>0.161157</td>\n",
       "      <td>0.134249</td>\n",
       "      <td>0.0</td>\n",
       "      <td>0.0</td>\n",
       "      <td>0.0</td>\n",
       "      <td>0.0</td>\n",
       "      <td>37.6450</td>\n",
       "      <td>127.022</td>\n",
       "      <td>45.7160</td>\n",
       "      <td>2.5348</td>\n",
       "      <td>5856.964844</td>\n",
       "      <td>31.7</td>\n",
       "      <td>24.3</td>\n",
       "      <td>2013</td>\n",
       "      <td>6</td>\n",
       "      <td>30</td>\n",
       "      <td>26</td>\n",
       "      <td>2</td>\n",
       "    </tr>\n",
       "    <tr>\n",
       "      <td>4</td>\n",
       "      <td>5.0</td>\n",
       "      <td>31.4</td>\n",
       "      <td>21.9</td>\n",
       "      <td>56.174095</td>\n",
       "      <td>90.155128</td>\n",
       "      <td>29.113934</td>\n",
       "      <td>23.486480</td>\n",
       "      <td>5.735004</td>\n",
       "      <td>107.965535</td>\n",
       "      <td>0.151407</td>\n",
       "      <td>0.249995</td>\n",
       "      <td>0.178892</td>\n",
       "      <td>0.170021</td>\n",
       "      <td>0.0</td>\n",
       "      <td>0.0</td>\n",
       "      <td>0.0</td>\n",
       "      <td>0.0</td>\n",
       "      <td>37.5507</td>\n",
       "      <td>127.135</td>\n",
       "      <td>35.0380</td>\n",
       "      <td>0.5055</td>\n",
       "      <td>5859.552246</td>\n",
       "      <td>31.2</td>\n",
       "      <td>22.5</td>\n",
       "      <td>2013</td>\n",
       "      <td>6</td>\n",
       "      <td>30</td>\n",
       "      <td>26</td>\n",
       "      <td>2</td>\n",
       "    </tr>\n",
       "  </tbody>\n",
       "</table>\n",
       "</div>"
      ],
      "text/plain": [
       "   station  Present_Tmax  Present_Tmin  LDAPS_RHmin  LDAPS_RHmax  \\\n",
       "0      1.0          28.7          21.4    58.255688    91.116364   \n",
       "1      2.0          31.9          21.6    52.263397    90.604721   \n",
       "2      3.0          31.6          23.3    48.690479    83.973587   \n",
       "3      4.0          32.0          23.4    58.239788    96.483688   \n",
       "4      5.0          31.4          21.9    56.174095    90.155128   \n",
       "\n",
       "   LDAPS_Tmax_lapse  LDAPS_Tmin_lapse  LDAPS_WS    LDAPS_LH  LDAPS_CC1  \\\n",
       "0         28.074101         23.006936  6.818887   69.451805   0.233947   \n",
       "1         29.850689         24.035009  5.691890   51.937448   0.225508   \n",
       "2         30.091292         24.565633  6.138224   20.573050   0.209344   \n",
       "3         29.704629         23.326177  5.650050   65.727144   0.216372   \n",
       "4         29.113934         23.486480  5.735004  107.965535   0.151407   \n",
       "\n",
       "   LDAPS_CC2  LDAPS_CC3  LDAPS_CC4  LDAPS_PPT1  LDAPS_PPT2  LDAPS_PPT3  \\\n",
       "0   0.203896   0.161697   0.130928         0.0         0.0         0.0   \n",
       "1   0.251771   0.159444   0.127727         0.0         0.0         0.0   \n",
       "2   0.257469   0.204091   0.142125         0.0         0.0         0.0   \n",
       "3   0.226002   0.161157   0.134249         0.0         0.0         0.0   \n",
       "4   0.249995   0.178892   0.170021         0.0         0.0         0.0   \n",
       "\n",
       "   LDAPS_PPT4      lat      lon       DEM   Slope  Solar radiation  Next_Tmax  \\\n",
       "0         0.0  37.6046  126.991  212.3350  2.7850      5992.895996       29.1   \n",
       "1         0.0  37.6046  127.032   44.7624  0.5141      5869.312500       30.5   \n",
       "2         0.0  37.5776  127.058   33.3068  0.2661      5863.555664       31.1   \n",
       "3         0.0  37.6450  127.022   45.7160  2.5348      5856.964844       31.7   \n",
       "4         0.0  37.5507  127.135   35.0380  0.5055      5859.552246       31.2   \n",
       "\n",
       "   Next_Tmin  year  month  day  week  quater  \n",
       "0       21.2  2013      6   30    26       2  \n",
       "1       22.5  2013      6   30    26       2  \n",
       "2       23.9  2013      6   30    26       2  \n",
       "3       24.3  2013      6   30    26       2  \n",
       "4       22.5  2013      6   30    26       2  "
      ]
     },
     "execution_count": 153,
     "metadata": {},
     "output_type": "execute_result"
    }
   ],
   "source": [
    "df.head()"
   ]
  },
  {
   "cell_type": "markdown",
   "metadata": {},
   "source": [
    "# Removing unnecessary columns"
   ]
  },
  {
   "cell_type": "code",
   "execution_count": 155,
   "metadata": {},
   "outputs": [],
   "source": [
    "df=df.drop(['Next_Tmax','quater'],axis=1)# 'Next_Tmax' is dependent on current target 'Next_Tmax',so dropping it."
   ]
  },
  {
   "cell_type": "markdown",
   "metadata": {},
   "source": [
    "# Outlier removal"
   ]
  },
  {
   "cell_type": "code",
   "execution_count": 156,
   "metadata": {},
   "outputs": [
    {
     "data": {
      "text/plain": [
       "(7588, 27)"
      ]
     },
     "execution_count": 156,
     "metadata": {},
     "output_type": "execute_result"
    }
   ],
   "source": [
    "#Removing outliers first\n",
    "from scipy.stats import zscore\n",
    "z=abs(zscore(df))\n",
    "z.shape"
   ]
  },
  {
   "cell_type": "code",
   "execution_count": 157,
   "metadata": {},
   "outputs": [
    {
     "data": {
      "text/plain": [
       "(6740, 27)"
      ]
     },
     "execution_count": 157,
     "metadata": {},
     "output_type": "execute_result"
    }
   ],
   "source": [
    "df=df[(z<3).all(axis=1)]\n",
    "df.shape"
   ]
  },
  {
   "cell_type": "markdown",
   "metadata": {},
   "source": [
    "# Separating training and testing set"
   ]
  },
  {
   "cell_type": "code",
   "execution_count": 158,
   "metadata": {},
   "outputs": [],
   "source": [
    "#Separating the training and testing set\n",
    "y=df[['Next_Tmin']]\n",
    "X=df.drop(['Next_Tmin'],axis=1)"
   ]
  },
  {
   "cell_type": "markdown",
   "metadata": {},
   "source": [
    "# Skewness removal by power transformation technique"
   ]
  },
  {
   "cell_type": "code",
   "execution_count": 159,
   "metadata": {},
   "outputs": [
    {
     "data": {
      "text/plain": [
       "station            -0.001543\n",
       "Present_Tmax       -0.269789\n",
       "Present_Tmin       -0.223716\n",
       "LDAPS_RHmin         0.309325\n",
       "LDAPS_RHmax        -0.686302\n",
       "LDAPS_Tmax_lapse   -0.111772\n",
       "LDAPS_Tmin_lapse   -0.381626\n",
       "LDAPS_WS            1.085261\n",
       "LDAPS_LH            0.566643\n",
       "LDAPS_CC1           0.594402\n",
       "LDAPS_CC2           0.505657\n",
       "LDAPS_CC3           0.701106\n",
       "LDAPS_CC4           0.708292\n",
       "LDAPS_PPT1          3.724899\n",
       "LDAPS_PPT2          4.855364\n",
       "LDAPS_PPT3          5.513417\n",
       "LDAPS_PPT4          5.923879\n",
       "lat                 0.106680\n",
       "lon                -0.277569\n",
       "DEM                 1.763785\n",
       "Slope               1.589498\n",
       "Solar radiation    -0.519779\n",
       "Next_Tmin          -0.237274\n",
       "year                0.024798\n",
       "month              -0.168843\n",
       "day                -0.000209\n",
       "week                0.000336\n",
       "dtype: float64"
      ]
     },
     "execution_count": 159,
     "metadata": {},
     "output_type": "execute_result"
    }
   ],
   "source": [
    "df.skew()"
   ]
  },
  {
   "cell_type": "code",
   "execution_count": 160,
   "metadata": {},
   "outputs": [],
   "source": [
    "from sklearn.preprocessing import PowerTransformer\n",
    "pt=PowerTransformer(method='yeo-johnson') # initally write code like this so you remember\n",
    "X_power=pt.fit_transform(X)\n",
    "df=pd.DataFrame(X_power,columns=X.columns)"
   ]
  },
  {
   "cell_type": "code",
   "execution_count": 161,
   "metadata": {},
   "outputs": [
    {
     "data": {
      "text/plain": [
       "station            -0.203588\n",
       "Present_Tmax       -0.033220\n",
       "Present_Tmin       -0.022244\n",
       "LDAPS_RHmin        -0.014108\n",
       "LDAPS_RHmax        -0.103331\n",
       "LDAPS_Tmax_lapse   -0.012857\n",
       "LDAPS_Tmin_lapse   -0.027791\n",
       "LDAPS_WS            0.007668\n",
       "LDAPS_LH           -0.030819\n",
       "LDAPS_CC1           0.065267\n",
       "LDAPS_CC2           0.049972\n",
       "LDAPS_CC3           0.094378\n",
       "LDAPS_CC4           0.142004\n",
       "LDAPS_PPT1          1.616885\n",
       "LDAPS_PPT2          1.820422\n",
       "LDAPS_PPT3          1.994409\n",
       "LDAPS_PPT4          2.266397\n",
       "lat                 0.000000\n",
       "lon                -0.191517\n",
       "DEM                 0.038877\n",
       "Slope               0.233729\n",
       "Solar radiation    -0.172107\n",
       "year                0.196949\n",
       "month              -0.087298\n",
       "day                -0.213956\n",
       "week               -0.023346\n",
       "dtype: float64"
      ]
     },
     "execution_count": 161,
     "metadata": {},
     "output_type": "execute_result"
    }
   ],
   "source": [
    "df.skew()"
   ]
  },
  {
   "cell_type": "markdown",
   "metadata": {},
   "source": [
    "# Scaling the data"
   ]
  },
  {
   "cell_type": "code",
   "execution_count": 162,
   "metadata": {},
   "outputs": [],
   "source": [
    "#Applying Standard scalar to independent variable only\n",
    "from sklearn.preprocessing import StandardScaler\n",
    "ss=StandardScaler()\n",
    "X_scaled=ss.fit_transform(X)\n",
    "x=pd.DataFrame(data=X_scaled,columns=X.columns)"
   ]
  },
  {
   "cell_type": "code",
   "execution_count": 163,
   "metadata": {},
   "outputs": [
    {
     "data": {
      "text/html": [
       "<div>\n",
       "<style scoped>\n",
       "    .dataframe tbody tr th:only-of-type {\n",
       "        vertical-align: middle;\n",
       "    }\n",
       "\n",
       "    .dataframe tbody tr th {\n",
       "        vertical-align: top;\n",
       "    }\n",
       "\n",
       "    .dataframe thead th {\n",
       "        text-align: right;\n",
       "    }\n",
       "</style>\n",
       "<table border=\"1\" class=\"dataframe\">\n",
       "  <thead>\n",
       "    <tr style=\"text-align: right;\">\n",
       "      <th></th>\n",
       "      <th>station</th>\n",
       "      <th>Present_Tmax</th>\n",
       "      <th>Present_Tmin</th>\n",
       "      <th>LDAPS_RHmin</th>\n",
       "      <th>LDAPS_RHmax</th>\n",
       "      <th>LDAPS_Tmax_lapse</th>\n",
       "      <th>LDAPS_Tmin_lapse</th>\n",
       "      <th>LDAPS_WS</th>\n",
       "      <th>LDAPS_LH</th>\n",
       "      <th>LDAPS_CC1</th>\n",
       "      <th>LDAPS_CC2</th>\n",
       "      <th>LDAPS_CC3</th>\n",
       "      <th>LDAPS_CC4</th>\n",
       "      <th>LDAPS_PPT1</th>\n",
       "      <th>LDAPS_PPT2</th>\n",
       "      <th>LDAPS_PPT3</th>\n",
       "      <th>LDAPS_PPT4</th>\n",
       "      <th>lat</th>\n",
       "      <th>lon</th>\n",
       "      <th>DEM</th>\n",
       "      <th>Slope</th>\n",
       "      <th>Solar radiation</th>\n",
       "      <th>year</th>\n",
       "      <th>month</th>\n",
       "      <th>day</th>\n",
       "      <th>week</th>\n",
       "    </tr>\n",
       "  </thead>\n",
       "  <tbody>\n",
       "    <tr>\n",
       "      <td>0</td>\n",
       "      <td>-1.672247</td>\n",
       "      <td>-0.425379</td>\n",
       "      <td>-0.813497</td>\n",
       "      <td>0.195832</td>\n",
       "      <td>0.437484</td>\n",
       "      <td>-0.661843</td>\n",
       "      <td>-0.289275</td>\n",
       "      <td>-0.021068</td>\n",
       "      <td>0.224869</td>\n",
       "      <td>-0.440302</td>\n",
       "      <td>-0.526633</td>\n",
       "      <td>-0.568121</td>\n",
       "      <td>-0.614768</td>\n",
       "      <td>-0.341283</td>\n",
       "      <td>-0.277971</td>\n",
       "      <td>-0.259051</td>\n",
       "      <td>-0.237716</td>\n",
       "      <td>1.210944</td>\n",
       "      <td>0.002925</td>\n",
       "      <td>2.826849</td>\n",
       "      <td>1.142958</td>\n",
       "      <td>1.543139</td>\n",
       "      <td>-1.421631</td>\n",
       "      <td>-2.806639</td>\n",
       "      <td>1.58909</td>\n",
       "      <td>-1.879188</td>\n",
       "    </tr>\n",
       "    <tr>\n",
       "      <td>1</td>\n",
       "      <td>-1.533506</td>\n",
       "      <td>0.690369</td>\n",
       "      <td>-0.726877</td>\n",
       "      <td>-0.236706</td>\n",
       "      <td>0.364183</td>\n",
       "      <td>-0.016305</td>\n",
       "      <td>0.171731</td>\n",
       "      <td>-0.631629</td>\n",
       "      <td>-0.298942</td>\n",
       "      <td>-0.473856</td>\n",
       "      <td>-0.327639</td>\n",
       "      <td>-0.577883</td>\n",
       "      <td>-0.628396</td>\n",
       "      <td>-0.341283</td>\n",
       "      <td>-0.277971</td>\n",
       "      <td>-0.259051</td>\n",
       "      <td>-0.237716</td>\n",
       "      <td>1.210944</td>\n",
       "      <td>0.518771</td>\n",
       "      <td>-0.304667</td>\n",
       "      <td>-0.536667</td>\n",
       "      <td>1.249602</td>\n",
       "      <td>-1.421631</td>\n",
       "      <td>-2.806639</td>\n",
       "      <td>1.58909</td>\n",
       "      <td>-1.879188</td>\n",
       "    </tr>\n",
       "    <tr>\n",
       "      <td>2</td>\n",
       "      <td>-1.394764</td>\n",
       "      <td>0.585768</td>\n",
       "      <td>0.009395</td>\n",
       "      <td>-0.494608</td>\n",
       "      <td>-0.585841</td>\n",
       "      <td>0.071120</td>\n",
       "      <td>0.409672</td>\n",
       "      <td>-0.389824</td>\n",
       "      <td>-1.236974</td>\n",
       "      <td>-0.538125</td>\n",
       "      <td>-0.303955</td>\n",
       "      <td>-0.384400</td>\n",
       "      <td>-0.567095</td>\n",
       "      <td>-0.341283</td>\n",
       "      <td>-0.277971</td>\n",
       "      <td>-0.259051</td>\n",
       "      <td>-0.237716</td>\n",
       "      <td>0.671264</td>\n",
       "      <td>0.845892</td>\n",
       "      <td>-0.518744</td>\n",
       "      <td>-0.720095</td>\n",
       "      <td>1.235929</td>\n",
       "      <td>-1.421631</td>\n",
       "      <td>-2.806639</td>\n",
       "      <td>1.58909</td>\n",
       "      <td>-1.879188</td>\n",
       "    </tr>\n",
       "    <tr>\n",
       "      <td>3</td>\n",
       "      <td>-1.256023</td>\n",
       "      <td>0.725237</td>\n",
       "      <td>0.052705</td>\n",
       "      <td>0.194685</td>\n",
       "      <td>1.206445</td>\n",
       "      <td>-0.069377</td>\n",
       "      <td>-0.146121</td>\n",
       "      <td>-0.654296</td>\n",
       "      <td>0.113473</td>\n",
       "      <td>-0.510181</td>\n",
       "      <td>-0.434747</td>\n",
       "      <td>-0.570458</td>\n",
       "      <td>-0.600630</td>\n",
       "      <td>-0.341283</td>\n",
       "      <td>-0.277971</td>\n",
       "      <td>-0.259051</td>\n",
       "      <td>-0.237716</td>\n",
       "      <td>2.018464</td>\n",
       "      <td>0.392955</td>\n",
       "      <td>-0.286847</td>\n",
       "      <td>0.957902</td>\n",
       "      <td>1.220274</td>\n",
       "      <td>-1.421631</td>\n",
       "      <td>-2.806639</td>\n",
       "      <td>1.58909</td>\n",
       "      <td>-1.879188</td>\n",
       "    </tr>\n",
       "    <tr>\n",
       "      <td>4</td>\n",
       "      <td>-1.117281</td>\n",
       "      <td>0.516034</td>\n",
       "      <td>-0.596947</td>\n",
       "      <td>0.045578</td>\n",
       "      <td>0.299771</td>\n",
       "      <td>-0.284011</td>\n",
       "      <td>-0.074239</td>\n",
       "      <td>-0.608272</td>\n",
       "      <td>1.376719</td>\n",
       "      <td>-0.768477</td>\n",
       "      <td>-0.335021</td>\n",
       "      <td>-0.493602</td>\n",
       "      <td>-0.448327</td>\n",
       "      <td>-0.341283</td>\n",
       "      <td>-0.277971</td>\n",
       "      <td>-0.259051</td>\n",
       "      <td>-0.237716</td>\n",
       "      <td>0.133584</td>\n",
       "      <td>1.814676</td>\n",
       "      <td>-0.486392</td>\n",
       "      <td>-0.543027</td>\n",
       "      <td>1.226420</td>\n",
       "      <td>-1.421631</td>\n",
       "      <td>-2.806639</td>\n",
       "      <td>1.58909</td>\n",
       "      <td>-1.879188</td>\n",
       "    </tr>\n",
       "  </tbody>\n",
       "</table>\n",
       "</div>"
      ],
      "text/plain": [
       "    station  Present_Tmax  Present_Tmin  LDAPS_RHmin  LDAPS_RHmax  \\\n",
       "0 -1.672247     -0.425379     -0.813497     0.195832     0.437484   \n",
       "1 -1.533506      0.690369     -0.726877    -0.236706     0.364183   \n",
       "2 -1.394764      0.585768      0.009395    -0.494608    -0.585841   \n",
       "3 -1.256023      0.725237      0.052705     0.194685     1.206445   \n",
       "4 -1.117281      0.516034     -0.596947     0.045578     0.299771   \n",
       "\n",
       "   LDAPS_Tmax_lapse  LDAPS_Tmin_lapse  LDAPS_WS  LDAPS_LH  LDAPS_CC1  \\\n",
       "0         -0.661843         -0.289275 -0.021068  0.224869  -0.440302   \n",
       "1         -0.016305          0.171731 -0.631629 -0.298942  -0.473856   \n",
       "2          0.071120          0.409672 -0.389824 -1.236974  -0.538125   \n",
       "3         -0.069377         -0.146121 -0.654296  0.113473  -0.510181   \n",
       "4         -0.284011         -0.074239 -0.608272  1.376719  -0.768477   \n",
       "\n",
       "   LDAPS_CC2  LDAPS_CC3  LDAPS_CC4  LDAPS_PPT1  LDAPS_PPT2  LDAPS_PPT3  \\\n",
       "0  -0.526633  -0.568121  -0.614768   -0.341283   -0.277971   -0.259051   \n",
       "1  -0.327639  -0.577883  -0.628396   -0.341283   -0.277971   -0.259051   \n",
       "2  -0.303955  -0.384400  -0.567095   -0.341283   -0.277971   -0.259051   \n",
       "3  -0.434747  -0.570458  -0.600630   -0.341283   -0.277971   -0.259051   \n",
       "4  -0.335021  -0.493602  -0.448327   -0.341283   -0.277971   -0.259051   \n",
       "\n",
       "   LDAPS_PPT4       lat       lon       DEM     Slope  Solar radiation  \\\n",
       "0   -0.237716  1.210944  0.002925  2.826849  1.142958         1.543139   \n",
       "1   -0.237716  1.210944  0.518771 -0.304667 -0.536667         1.249602   \n",
       "2   -0.237716  0.671264  0.845892 -0.518744 -0.720095         1.235929   \n",
       "3   -0.237716  2.018464  0.392955 -0.286847  0.957902         1.220274   \n",
       "4   -0.237716  0.133584  1.814676 -0.486392 -0.543027         1.226420   \n",
       "\n",
       "       year     month      day      week  \n",
       "0 -1.421631 -2.806639  1.58909 -1.879188  \n",
       "1 -1.421631 -2.806639  1.58909 -1.879188  \n",
       "2 -1.421631 -2.806639  1.58909 -1.879188  \n",
       "3 -1.421631 -2.806639  1.58909 -1.879188  \n",
       "4 -1.421631 -2.806639  1.58909 -1.879188  "
      ]
     },
     "execution_count": 163,
     "metadata": {},
     "output_type": "execute_result"
    }
   ],
   "source": [
    "x.head()"
   ]
  },
  {
   "cell_type": "markdown",
   "metadata": {},
   "source": [
    "# Model building"
   ]
  },
  {
   "cell_type": "code",
   "execution_count": null,
   "metadata": {},
   "outputs": [],
   "source": [
    "from sklearn.neighbors import KNeighborsRegressor\n",
    "from sklearn.svm import SVR\n",
    "from sklearn.linear_model import LinearRegression\n",
    "from sklearn.tree import DecisionTreeRegressor\n",
    "from sklearn.ensemble import GradientBoostingRegressor\n",
    "from sklearn.ensemble import AdaBoostRegressor\n",
    "from sklearn.ensemble import RandomForestRegressor\n",
    "from xgboost import XGBRegressor"
   ]
  },
  {
   "cell_type": "code",
   "execution_count": null,
   "metadata": {},
   "outputs": [],
   "source": [
    "knn=KNeighborsRegressor()\n",
    "svr=SVR()\n",
    "lr=LinearRegression()\n",
    "dt=DecisionTreeRegressor()\n",
    "gbm=GradientBoostingRegressor()\n",
    "ada=AdaBoostRegressor()\n",
    "rfr=RandomForestRegressor()\n",
    "xgb=XGBRegressor()"
   ]
  },
  {
   "cell_type": "code",
   "execution_count": null,
   "metadata": {},
   "outputs": [],
   "source": [
    "models=[]\n",
    "models.append(('KNeighborsRegressor',knn))\n",
    "models.append(('SVR',svr))\n",
    "models.append(('LinearRegression',lr))\n",
    "models.append(('DecisionTreeRegressor',dt))\n",
    "models.append(('GradientBoostingRegressor',gbm))\n",
    "models.append(('AdaBoostRegressor',ada))\n",
    "models.append(('RandomForestRegressor',rfr))\n",
    "models.append(('XGBRegressor',xgb))"
   ]
  },
  {
   "cell_type": "code",
   "execution_count": null,
   "metadata": {},
   "outputs": [],
   "source": [
    "from sklearn.metrics import r2_score,mean_squared_error\n",
    "from sklearn.model_selection import train_test_split,cross_val_score\n",
    "x_train,x_test,y_train,y_test=train_test_split(x,y,random_state=42)"
   ]
  },
  {
   "cell_type": "code",
   "execution_count": 164,
   "metadata": {},
   "outputs": [
    {
     "name": "stdout",
     "output_type": "stream",
     "text": [
      "***************** KNeighborsRegressor *******************\n",
      "\n",
      "\n",
      "KNeighborsRegressor(algorithm='auto', leaf_size=30, metric='minkowski',\n",
      "                    metric_params=None, n_jobs=None, n_neighbors=5, p=2,\n",
      "                    weights='uniform')\n",
      "\n",
      "\n",
      "R2score  - 0.8705759340787782\n",
      "\n",
      "\n",
      "cross_val_score  - 0.5543453470457657\n",
      "\n",
      "\n",
      "rmse_score  - 1.0873350353003421\n",
      "\n",
      "\n",
      "***************** SVR *******************\n",
      "\n",
      "\n",
      "SVR(C=1.0, cache_size=200, coef0=0.0, degree=3, epsilon=0.1,\n",
      "    gamma='auto_deprecated', kernel='rbf', max_iter=-1, shrinking=True,\n",
      "    tol=0.001, verbose=False)\n",
      "\n",
      "\n",
      "R2score  - 0.8781670846948668\n",
      "\n",
      "\n",
      "cross_val_score  - 0.7222764248653304\n",
      "\n",
      "\n",
      "rmse_score  - 1.0549653129542207\n",
      "\n",
      "\n",
      "***************** LinearRegression *******************\n",
      "\n",
      "\n",
      "LinearRegression(copy_X=True, fit_intercept=True, n_jobs=None, normalize=False)\n",
      "\n",
      "\n",
      "R2score  - 0.782367024970422\n",
      "\n",
      "\n",
      "cross_val_score  - 0.7738888323836675\n",
      "\n",
      "\n",
      "rmse_score  - 1.4099970745019674\n",
      "\n",
      "\n",
      "***************** DecisionTreeRegressor *******************\n",
      "\n",
      "\n",
      "DecisionTreeRegressor(criterion='mse', max_depth=None, max_features=None,\n",
      "                      max_leaf_nodes=None, min_impurity_decrease=0.0,\n",
      "                      min_impurity_split=None, min_samples_leaf=1,\n",
      "                      min_samples_split=2, min_weight_fraction_leaf=0.0,\n",
      "                      presort=False, random_state=None, splitter='best')\n",
      "\n",
      "\n",
      "R2score  - 0.7894996029736163\n",
      "\n",
      "\n",
      "cross_val_score  - 0.587705944107561\n",
      "\n",
      "\n",
      "rmse_score  - 1.386699381289841\n",
      "\n",
      "\n",
      "***************** GradientBoostingRegressor *******************\n",
      "\n",
      "\n",
      "GradientBoostingRegressor(alpha=0.9, criterion='friedman_mse', init=None,\n",
      "                          learning_rate=0.1, loss='ls', max_depth=3,\n",
      "                          max_features=None, max_leaf_nodes=None,\n",
      "                          min_impurity_decrease=0.0, min_impurity_split=None,\n",
      "                          min_samples_leaf=1, min_samples_split=2,\n",
      "                          min_weight_fraction_leaf=0.0, n_estimators=100,\n",
      "                          n_iter_no_change=None, presort='auto',\n",
      "                          random_state=None, subsample=1.0, tol=0.0001,\n",
      "                          validation_fraction=0.1, verbose=0, warm_start=False)\n",
      "\n",
      "\n",
      "R2score  - 0.8685585557947575\n",
      "\n",
      "\n",
      "cross_val_score  - 0.7904676118734912\n",
      "\n",
      "\n",
      "rmse_score  - 1.095776603254958\n",
      "\n",
      "\n",
      "***************** AdaBoostRegressor *******************\n",
      "\n",
      "\n",
      "AdaBoostRegressor(base_estimator=None, learning_rate=1.0, loss='linear',\n",
      "                  n_estimators=50, random_state=None)\n",
      "\n",
      "\n",
      "R2score  - 0.7864351949783793\n",
      "\n",
      "\n",
      "cross_val_score  - 0.7367723871321232\n",
      "\n",
      "\n",
      "rmse_score  - 1.3967565090601708\n",
      "\n",
      "\n",
      "***************** RandomForestRegressor *******************\n",
      "\n",
      "\n",
      "RandomForestRegressor(bootstrap=True, criterion='mse', max_depth=None,\n",
      "                      max_features='auto', max_leaf_nodes=None,\n",
      "                      min_impurity_decrease=0.0, min_impurity_split=None,\n",
      "                      min_samples_leaf=1, min_samples_split=2,\n",
      "                      min_weight_fraction_leaf=0.0, n_estimators=10,\n",
      "                      n_jobs=None, oob_score=False, random_state=None,\n",
      "                      verbose=0, warm_start=False)\n",
      "\n",
      "\n",
      "R2score  - 0.8906094038048981\n",
      "\n",
      "\n",
      "cross_val_score  - 0.758413856092037\n",
      "\n",
      "\n",
      "rmse_score  - 0.9996451351146882\n",
      "\n",
      "\n",
      "***************** XGBRegressor *******************\n",
      "\n",
      "\n",
      "XGBRegressor(base_score=0.5, booster=None, colsample_bylevel=1,\n",
      "             colsample_bynode=1, colsample_bytree=1, gamma=0, gpu_id=-1,\n",
      "             importance_type='gain', interaction_constraints=None,\n",
      "             learning_rate=0.300000012, max_delta_step=0, max_depth=6,\n",
      "             min_child_weight=1, missing=nan, monotone_constraints=None,\n",
      "             n_estimators=100, n_jobs=0, num_parallel_tree=1,\n",
      "             objective='reg:squarederror', random_state=0, reg_alpha=0,\n",
      "             reg_lambda=1, scale_pos_weight=1, subsample=1, tree_method=None,\n",
      "             validate_parameters=False, verbosity=None)\n",
      "\n",
      "\n",
      "R2score  - 0.9314167171516897\n",
      "\n",
      "\n",
      "cross_val_score  - 0.7511210119178977\n",
      "\n",
      "\n",
      "rmse_score  - 0.7915256569173278\n",
      "\n",
      "\n"
     ]
    }
   ],
   "source": [
    "Model=[]\n",
    "r2score=[]\n",
    "rmse=[]\n",
    "cv=[]\n",
    "\n",
    "for name,model in models:\n",
    "    print('*****************',name,'*******************')\n",
    "    print('\\n')\n",
    "    Model.append(name)\n",
    "    model.fit(x_train,y_train)\n",
    "    print(model)\n",
    "    pre=model.predict(x_test)\n",
    "    print('\\n')\n",
    "    score=r2_score(y_test,pre)\n",
    "    print('R2score  -',score)\n",
    "    r2score.append(score*100)\n",
    "    print('\\n')\n",
    "    sc=cross_val_score(model,x,y,cv=5,scoring='r2').mean()\n",
    "    print('cross_val_score  -',sc)\n",
    "    cv.append(sc*100)\n",
    "    print('\\n')\n",
    "    rmsescore=np.sqrt(mean_squared_error(y_test,pre))\n",
    "    print('rmse_score  -',rmsescore)\n",
    "    rmse.append(rmsescore)\n",
    "    print('\\n')\n",
    "    "
   ]
  },
  {
   "cell_type": "code",
   "execution_count": 165,
   "metadata": {},
   "outputs": [
    {
     "data": {
      "text/html": [
       "<div>\n",
       "<style scoped>\n",
       "    .dataframe tbody tr th:only-of-type {\n",
       "        vertical-align: middle;\n",
       "    }\n",
       "\n",
       "    .dataframe tbody tr th {\n",
       "        vertical-align: top;\n",
       "    }\n",
       "\n",
       "    .dataframe thead th {\n",
       "        text-align: right;\n",
       "    }\n",
       "</style>\n",
       "<table border=\"1\" class=\"dataframe\">\n",
       "  <thead>\n",
       "    <tr style=\"text-align: right;\">\n",
       "      <th></th>\n",
       "      <th>Model</th>\n",
       "      <th>R2_score</th>\n",
       "      <th>RMSEscore</th>\n",
       "      <th>Cross_val_score</th>\n",
       "    </tr>\n",
       "  </thead>\n",
       "  <tbody>\n",
       "    <tr>\n",
       "      <td>0</td>\n",
       "      <td>KNeighborsRegressor</td>\n",
       "      <td>87.057593</td>\n",
       "      <td>1.087335</td>\n",
       "      <td>55.434535</td>\n",
       "    </tr>\n",
       "    <tr>\n",
       "      <td>1</td>\n",
       "      <td>SVR</td>\n",
       "      <td>87.816708</td>\n",
       "      <td>1.054965</td>\n",
       "      <td>72.227642</td>\n",
       "    </tr>\n",
       "    <tr>\n",
       "      <td>2</td>\n",
       "      <td>LinearRegression</td>\n",
       "      <td>78.236702</td>\n",
       "      <td>1.409997</td>\n",
       "      <td>77.388883</td>\n",
       "    </tr>\n",
       "    <tr>\n",
       "      <td>3</td>\n",
       "      <td>DecisionTreeRegressor</td>\n",
       "      <td>78.949960</td>\n",
       "      <td>1.386699</td>\n",
       "      <td>58.770594</td>\n",
       "    </tr>\n",
       "    <tr>\n",
       "      <td>4</td>\n",
       "      <td>GradientBoostingRegressor</td>\n",
       "      <td>86.855856</td>\n",
       "      <td>1.095777</td>\n",
       "      <td>79.046761</td>\n",
       "    </tr>\n",
       "    <tr>\n",
       "      <td>5</td>\n",
       "      <td>AdaBoostRegressor</td>\n",
       "      <td>78.643519</td>\n",
       "      <td>1.396757</td>\n",
       "      <td>73.677239</td>\n",
       "    </tr>\n",
       "    <tr>\n",
       "      <td>6</td>\n",
       "      <td>RandomForestRegressor</td>\n",
       "      <td>89.060940</td>\n",
       "      <td>0.999645</td>\n",
       "      <td>75.841386</td>\n",
       "    </tr>\n",
       "    <tr>\n",
       "      <td>7</td>\n",
       "      <td>XGBRegressor</td>\n",
       "      <td>93.141672</td>\n",
       "      <td>0.791526</td>\n",
       "      <td>75.112101</td>\n",
       "    </tr>\n",
       "  </tbody>\n",
       "</table>\n",
       "</div>"
      ],
      "text/plain": [
       "                       Model   R2_score  RMSEscore  Cross_val_score\n",
       "0        KNeighborsRegressor  87.057593   1.087335        55.434535\n",
       "1                        SVR  87.816708   1.054965        72.227642\n",
       "2           LinearRegression  78.236702   1.409997        77.388883\n",
       "3      DecisionTreeRegressor  78.949960   1.386699        58.770594\n",
       "4  GradientBoostingRegressor  86.855856   1.095777        79.046761\n",
       "5          AdaBoostRegressor  78.643519   1.396757        73.677239\n",
       "6      RandomForestRegressor  89.060940   0.999645        75.841386\n",
       "7               XGBRegressor  93.141672   0.791526        75.112101"
      ]
     },
     "execution_count": 165,
     "metadata": {},
     "output_type": "execute_result"
    }
   ],
   "source": [
    "result=pd.DataFrame({'Model':Model,'R2_score':r2score,'RMSEscore':rmse,'Cross_val_score':cv})\n",
    "result"
   ]
  },
  {
   "cell_type": "code",
   "execution_count": null,
   "metadata": {},
   "outputs": [],
   "source": [
    "#We can see XGBRegressor is performing the best with R2 score=93.14%.but cvs of GradientBoostingRegressor is high.\n",
    "\n",
    "\n",
    "#RMSE score is well within range for this particular problem."
   ]
  },
  {
   "cell_type": "code",
   "execution_count": null,
   "metadata": {},
   "outputs": [],
   "source": [
    "#First lets calculate the random state of the models at which they perform the best.\n",
    "#Then we will select the top3 models and do gridsearchcv on them to attain our target score of 90%."
   ]
  },
  {
   "cell_type": "markdown",
   "metadata": {},
   "source": [
    "# Finding the best random_state for all models"
   ]
  },
  {
   "cell_type": "code",
   "execution_count": 166,
   "metadata": {},
   "outputs": [],
   "source": [
    "from sklearn.metrics import mean_absolute_error\n",
    "from sklearn.metrics import mean_squared_error\n",
    "from sklearn.metrics import r2_score\n",
    "from sklearn.model_selection import train_test_split\n",
    "\n",
    "def maxr2_score(model,x,y):\n",
    "    max_r_score=0\n",
    "    for r_state in range(42,101):\n",
    "        \n",
    "        x_train,x_test,y_train,y_test=train_test_split(x,y,random_state=r_state,test_size=0.25)\n",
    "        model.fit(x_train,y_train)\n",
    "        pred=model.predict(x_test)\n",
    "        score=r2_score(y_test,pred)\n",
    "        \n",
    "        if score>max_r_score:\n",
    "            max_r_score=score\n",
    "            final_r_state=r_state\n",
    "    print('max_r2_score is at random_state  ',final_r_state,'  which is  ',max_r_score)\n",
    "    return final_r_state\n",
    "    "
   ]
  },
  {
   "cell_type": "code",
   "execution_count": 167,
   "metadata": {},
   "outputs": [
    {
     "name": "stdout",
     "output_type": "stream",
     "text": [
      "max_r2_score is at random_state   84   which is   0.8771112736682447\n",
      "knn 84\n",
      "max_r2_score is at random_state   84   which is   0.914587356223819\n",
      "SVR 84\n",
      "max_r2_score is at random_state   70   which is   0.8383393811369181\n",
      "lr 70\n",
      "max_r2_score is at random_state   46   which is   0.7960416678567811\n",
      "dt 46\n",
      "max_r2_score is at random_state   82   which is   0.927727876744044\n",
      "gbm 82\n",
      "max_r2_score is at random_state   92   which is   0.8202816914009352\n",
      "rfr 92\n",
      "max_r2_score is at random_state   92   which is   0.8953391570105449\n",
      "xgb 92\n",
      "max_r2_score is at random_state   77   which is   0.8191382721821445\n",
      "ada 77\n"
     ]
    }
   ],
   "source": [
    "print('knn',maxr2_score(knn,x,y))\n",
    "print('SVR',maxr2_score(svr,x,y))\n",
    "print('lr',maxr2_score(lr,x,y))\n",
    "print('dt',maxr2_score(dt,x,y))\n",
    "print('gbm',maxr2_score(gbm,x,y))\n",
    "print('rfr',maxr2_score(rfr,x,y))\n",
    "print('xgb',maxr2_score(xgb,x,y))\n",
    "\n",
    "print('ada',maxr2_score(ada,x,y))"
   ]
  },
  {
   "cell_type": "raw",
   "metadata": {},
   "source": [
    "#Seleting the top3 performing models for gridsearchcv\n",
    "\n",
    "model1->GradientBoostingRegressor(random_state=82)=92.77\n",
    "model2->XGBoostRegressor(random_state=92)=89.53\n",
    "model3->RandomForestRegressor(random_state=92)=82.02\n"
   ]
  },
  {
   "cell_type": "markdown",
   "metadata": {},
   "source": [
    "# GridsearchCV"
   ]
  },
  {
   "cell_type": "markdown",
   "metadata": {},
   "source": [
    "# model1->GradientBoostingRegressor(random_state=82)=92.77"
   ]
  },
  {
   "cell_type": "code",
   "execution_count": 168,
   "metadata": {},
   "outputs": [],
   "source": [
    "x_train,x_test,y_train,y_test=train_test_split(x,y,random_state=82)\n",
    "gbm=GradientBoostingRegressor()"
   ]
  },
  {
   "cell_type": "code",
   "execution_count": 169,
   "metadata": {},
   "outputs": [
    {
     "data": {
      "text/plain": [
       "{'max_depth': 7, 'min_samples_leaf': 1, 'n_estimators': 100}"
      ]
     },
     "execution_count": 169,
     "metadata": {},
     "output_type": "execute_result"
    }
   ],
   "source": [
    "parameters=[{'max_depth':[5,7,9,10],'min_samples_leaf':[1,2],'n_estimators':[100,250,500]}]\n",
    "            \n",
    "grid_search=GridSearchCV(gbm,parameters,scoring='r2',n_jobs=-1,cv=5)\n",
    "grid_search=grid_search.fit(x,y)\n",
    "grid_search.best_params_ "
   ]
  },
  {
   "cell_type": "code",
   "execution_count": 170,
   "metadata": {},
   "outputs": [
    {
     "name": "stdout",
     "output_type": "stream",
     "text": [
      "R2_score=   0.9868478322723024\n",
      "RMSE score=  0.2743146197692557\n"
     ]
    }
   ],
   "source": [
    "x_train,x_test,y_train,y_test=train_test_split(x,y,random_state=94)\n",
    "gbm=GradientBoostingRegressor(max_depth=7,min_samples_leaf=1,n_estimators=100)\n",
    "gbm.fit(x,y)\n",
    "pred_gbm=gbm.predict(x_test)\n",
    "score=r2_score(y_test,pred_gbm)\n",
    "print('R2_score=  ',score)\n",
    "print('RMSE score= ',np.sqrt(mean_squared_error(y_test,pred_gbm)))"
   ]
  },
  {
   "cell_type": "code",
   "execution_count": 171,
   "metadata": {},
   "outputs": [
    {
     "name": "stdout",
     "output_type": "stream",
     "text": [
      "cross_val_scores=   0.7910503841505312\n"
     ]
    }
   ],
   "source": [
    "#Cross validating the model and checking the cross_val_score,model giving highest score will be choosen as final model.\n",
    "gbm=GradientBoostingRegressor(max_depth=7,min_samples_leaf=1,n_estimators=100)\n",
    "cvs=cross_val_score(xgb,x,y,scoring='r2',cv=5)\n",
    "print('cross_val_scores=  ',cvs.mean())"
   ]
  },
  {
   "cell_type": "markdown",
   "metadata": {},
   "source": [
    "# model2->XGBoostRegressor(random_state=92)=89.53"
   ]
  },
  {
   "cell_type": "code",
   "execution_count": 172,
   "metadata": {},
   "outputs": [],
   "source": [
    "x_train,x_test,y_train,y_test=train_test_split(x,y,random_state=92)\n",
    "xgb=XGBRegressor()"
   ]
  },
  {
   "cell_type": "code",
   "execution_count": 173,
   "metadata": {},
   "outputs": [
    {
     "data": {
      "text/plain": [
       "{'colsample_bytree': 0.5, 'learning_rate': 0.1, 'max_depth': 3}"
      ]
     },
     "execution_count": 173,
     "metadata": {},
     "output_type": "execute_result"
    }
   ],
   "source": [
    "from sklearn.model_selection import GridSearchCV\n",
    "parameters=[{'learning_rate':[0.1,0.2,0.3,0.4],'max_depth':[3,4,5,6,7,8],'colsample_bytree':[0.5,0.6,0.7,0.8,0.9]}]           \n",
    "gscv=GridSearchCV(xgb,parameters,scoring='r2',n_jobs=-1,cv=5)\n",
    "grid_search=gscv.fit(x,y)\n",
    "grid_search.best_params_"
   ]
  },
  {
   "cell_type": "code",
   "execution_count": 174,
   "metadata": {},
   "outputs": [
    {
     "name": "stdout",
     "output_type": "stream",
     "text": [
      "R2_score=   0.9014628059656773\n",
      "RMSE score=  0.7374942837942723\n"
     ]
    }
   ],
   "source": [
    "x_train,x_test,y_train,y_test=train_test_split(x,y,random_state=85)\n",
    "xgb=XGBRegressor(max_depth=3,colsample_bytree= 0.5, learning_rate=0.1)\n",
    "xgb.fit(x,y)\n",
    "pred_xgb=xgb.predict(x_test)\n",
    "score=r2_score(y_test,pred_xgb)\n",
    "print('R2_score=  ',score)\n",
    "print('RMSE score= ',np.sqrt(mean_squared_error(y_test,pred_xgb)))"
   ]
  },
  {
   "cell_type": "code",
   "execution_count": 175,
   "metadata": {},
   "outputs": [
    {
     "name": "stdout",
     "output_type": "stream",
     "text": [
      "cross_val_scores=   0.7936645645470394\n"
     ]
    }
   ],
   "source": [
    "#Cross validating the model and checking the cross_val_score,model giving highest score will be choosen as final model.\n",
    "xgb=XGBRegressor(max_depth=3,colsample_bytree= 0.5, learning_rate=0.1)\n",
    "cvs=cross_val_score(xgb,x,y,scoring='r2',cv=5)\n",
    "print('cross_val_scores=  ',cvs.mean())"
   ]
  },
  {
   "cell_type": "markdown",
   "metadata": {},
   "source": [
    "# model3->RandomForestRegressor(random_state=92)=82.02"
   ]
  },
  {
   "cell_type": "code",
   "execution_count": 176,
   "metadata": {},
   "outputs": [],
   "source": [
    "x_train,x_test,y_train,y_test=train_test_split(x,y,random_state=92)\n",
    "rfr=RandomForestRegressor()"
   ]
  },
  {
   "cell_type": "code",
   "execution_count": 177,
   "metadata": {},
   "outputs": [
    {
     "data": {
      "text/plain": [
       "{'max_depth': 10, 'min_samples_leaf': 1, 'n_estimators': 500}"
      ]
     },
     "execution_count": 177,
     "metadata": {},
     "output_type": "execute_result"
    }
   ],
   "source": [
    "parameters=[{'max_depth':[5,7,9,10],'min_samples_leaf':[1,2],'n_estimators':[100,250,500]}]\n",
    "            \n",
    "grid_search=GridSearchCV(rfr,parameters,scoring='r2',n_jobs=-1,cv=5)\n",
    "grid_search=grid_search.fit(x,y)\n",
    "grid_search.best_params_ "
   ]
  },
  {
   "cell_type": "code",
   "execution_count": 178,
   "metadata": {},
   "outputs": [
    {
     "name": "stdout",
     "output_type": "stream",
     "text": [
      "R2_score=   0.9515563087364695\n",
      "RMSE score=  0.5200303079963876\n"
     ]
    }
   ],
   "source": [
    "x_train,x_test,y_train,y_test=train_test_split(x,y,random_state=98)\n",
    "rfr=RandomForestRegressor(max_depth=10,min_samples_leaf=1,n_estimators=500)\n",
    "rfr.fit(x,y)\n",
    "pred_rfr=rfr.predict(x_test)\n",
    "score=r2_score(y_test,pred_rfr)\n",
    "print('R2_score=  ',score)\n",
    "print('RMSE score= ',np.sqrt(mean_squared_error(y_test,pred_rfr)))"
   ]
  },
  {
   "cell_type": "code",
   "execution_count": 179,
   "metadata": {},
   "outputs": [
    {
     "name": "stdout",
     "output_type": "stream",
     "text": [
      "cross_val_scores=   0.7780147652933146\n"
     ]
    }
   ],
   "source": [
    "#Cross validating the model and checking the cross_val_score,model giving highest score will be choosen as final model.\n",
    "rfr=RandomForestRegressor(max_depth=10,min_samples_leaf=1,n_estimators=500)\n",
    "cvs=cross_val_score(rfr,x,y,scoring='r2',cv=5)\n",
    "print('cross_val_scores=  ',cvs.mean())"
   ]
  },
  {
   "cell_type": "markdown",
   "metadata": {},
   "source": [
    "# Saving Final XGBoostRegressor model"
   ]
  },
  {
   "cell_type": "code",
   "execution_count": 182,
   "metadata": {},
   "outputs": [
    {
     "name": "stdout",
     "output_type": "stream",
     "text": [
      "R2_score=   0.9014628059656773\n",
      "RMSE score=  0.7374942837942723\n"
     ]
    }
   ],
   "source": [
    "#From all the model tried above XGBoostRegressor model has highest cross_val_score .\n",
    "#Hence saving the XGBoostRegressor model as our final model\n",
    "#corresponding random_state=85\n",
    "x_train,x_test,y_train,y_test=train_test_split(x,y,random_state=85)\n",
    "xgb=XGBRegressor(max_depth=3,colsample_bytree= 0.5, learning_rate=0.1)\n",
    "xgb.fit(x,y)\n",
    "pred_xgb=xgb.predict(x_test)\n",
    "score=r2_score(y_test,pred_xgb)\n",
    "print('R2_score=  ',score)\n",
    "print('RMSE score= ',np.sqrt(mean_squared_error(y_test,pred_xgb)))"
   ]
  },
  {
   "cell_type": "code",
   "execution_count": 183,
   "metadata": {},
   "outputs": [
    {
     "name": "stdout",
     "output_type": "stream",
     "text": [
      "cross_val_scores=   0.7936645645470394\n"
     ]
    }
   ],
   "source": [
    "#Cross validating the model and checking the cross_val_score,model giving highest score will be choosen as final model.\n",
    "xgb=XGBRegressor(max_depth=3,colsample_bytree= 0.5, learning_rate=0.1)\n",
    "xgb.fit(x,y)\n",
    "cvs=cross_val_score(xgb,x,y,scoring='r2',cv=5)\n",
    "print('cross_val_scores=  ',cvs.mean())"
   ]
  },
  {
   "cell_type": "code",
   "execution_count": 184,
   "metadata": {},
   "outputs": [
    {
     "data": {
      "text/plain": [
       "['Project17-temperaturepredTmin.obj']"
      ]
     },
     "execution_count": 184,
     "metadata": {},
     "output_type": "execute_result"
    }
   ],
   "source": [
    "from sklearn.externals import joblib\n",
    "joblib.dump(xgb,'Project17-temperaturepredTmin.obj')"
   ]
  },
  {
   "cell_type": "code",
   "execution_count": 185,
   "metadata": {},
   "outputs": [],
   "source": [
    "model=joblib.load('Project17-temperaturepredTmin.obj')"
   ]
  },
  {
   "cell_type": "code",
   "execution_count": 186,
   "metadata": {},
   "outputs": [
    {
     "data": {
      "text/plain": [
       "array([26.895178, 21.15379 , 24.55167 , ..., 22.516785, 21.936886,\n",
       "       23.325165], dtype=float32)"
      ]
     },
     "execution_count": 186,
     "metadata": {},
     "output_type": "execute_result"
    }
   ],
   "source": [
    "pred=model.predict(x_test)\n",
    "pred"
   ]
  },
  {
   "cell_type": "markdown",
   "metadata": {},
   "source": [
    "# Saving final predictions in file.csv"
   ]
  },
  {
   "cell_type": "code",
   "execution_count": 187,
   "metadata": {},
   "outputs": [],
   "source": [
    "final_predictions=model.predict(x_test)\n",
    "final_predictions=pd.DataFrame(final_predictions,columns=['Next_Tmin'])"
   ]
  },
  {
   "cell_type": "code",
   "execution_count": 188,
   "metadata": {},
   "outputs": [],
   "source": [
    "final_predictions.to_csv('E:\\\\final_temperaturepred.csv',index=False)"
   ]
  },
  {
   "cell_type": "markdown",
   "metadata": {},
   "source": [
    "# Conclusion:-"
   ]
  },
  {
   "cell_type": "raw",
   "metadata": {},
   "source": [
    "Next_Tmin can be predicted using the model above. \n",
    "\n",
    "By using sklearn(XGBRegressor)we have build a machine learning model that will help us predict Next_Tmin.           \n"
   ]
  }
 ],
 "metadata": {
  "kernelspec": {
   "display_name": "Python 3",
   "language": "python",
   "name": "python3"
  },
  "language_info": {
   "codemirror_mode": {
    "name": "ipython",
    "version": 3
   },
   "file_extension": ".py",
   "mimetype": "text/x-python",
   "name": "python",
   "nbconvert_exporter": "python",
   "pygments_lexer": "ipython3",
   "version": "3.7.4"
  }
 },
 "nbformat": 4,
 "nbformat_minor": 2
}
