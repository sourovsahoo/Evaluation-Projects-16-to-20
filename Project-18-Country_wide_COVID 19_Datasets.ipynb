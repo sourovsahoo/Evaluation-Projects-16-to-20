{
 "cells": [
  {
   "cell_type": "raw",
   "metadata": {},
   "source": [
    "Problem statement:-\n",
    "\n",
    "My goal will be to use the additional data about the number of tests performed in each country to estimate the true death rate of COVID-19 and examine the relationship with age .(Consider the both files for understanding the scenario.)\n",
    "\n",
    "Data Understanding and pre analysis:-\n",
    "\n",
    "This is a regression problem where we have to predict true death rate from given features.\n",
    "We will consider r2_score as our evaluation metric ."
   ]
  },
  {
   "cell_type": "code",
   "execution_count": null,
   "metadata": {},
   "outputs": [],
   "source": []
  },
  {
   "cell_type": "code",
   "execution_count": 1,
   "metadata": {},
   "outputs": [
    {
     "name": "stderr",
     "output_type": "stream",
     "text": [
      "C:\\ProgramData\\Anaconda3\\lib\\site-packages\\sklearn\\externals\\joblib\\__init__.py:15: DeprecationWarning: sklearn.externals.joblib is deprecated in 0.21 and will be removed in 0.23. Please import this functionality directly from joblib, which can be installed with: pip install joblib. If this warning is raised when loading pickled models, you may need to re-serialize those models with scikit-learn 0.21+.\n",
      "  warnings.warn(msg, category=DeprecationWarning)\n"
     ]
    }
   ],
   "source": [
    "import numpy as np\n",
    "import pandas as pd\n",
    "import matplotlib.pyplot as plt\n",
    "import warnings\n",
    "warnings.filterwarnings('ignore')\n",
    "import seaborn as sns\n",
    "\n",
    "from sklearn.preprocessing import StandardScaler\n",
    "from sklearn.preprocessing import PowerTransformer\n",
    "\n",
    "from sklearn.neighbors import KNeighborsRegressor\n",
    "from sklearn.svm import SVR\n",
    "from sklearn.linear_model import LinearRegression\n",
    "from sklearn.linear_model import Lasso\n",
    "from sklearn.tree import DecisionTreeRegressor\n",
    "from sklearn.ensemble import GradientBoostingRegressor\n",
    "from sklearn.ensemble import RandomForestRegressor\n",
    "from sklearn.ensemble import AdaBoostRegressor\n",
    "from xgboost import XGBRegressor\n",
    "\n",
    "from sklearn.metrics import mean_absolute_error\n",
    "from sklearn.metrics import mean_squared_error\n",
    "from sklearn.metrics import r2_score\n",
    "from sklearn.model_selection import train_test_split\n",
    "from sklearn.model_selection import cross_val_score\n",
    "\n",
    "\n",
    "\n",
    "#from mlxtend.regressor import StackingRegressor\n",
    "\n",
    "from sklearn.externals import joblib"
   ]
  },
  {
   "cell_type": "code",
   "execution_count": 2,
   "metadata": {},
   "outputs": [],
   "source": [
    "df1=pd.read_csv('worldometer_snapshots_April18_to_May18.csv')\n",
    "df2=pd.read_csv('population_structure_by_age_per_contry.csv')\n",
    "pd.set_option('display.max_columns',None)"
   ]
  },
  {
   "cell_type": "code",
   "execution_count": 3,
   "metadata": {},
   "outputs": [
    {
     "data": {
      "text/html": [
       "<div>\n",
       "<style scoped>\n",
       "    .dataframe tbody tr th:only-of-type {\n",
       "        vertical-align: middle;\n",
       "    }\n",
       "\n",
       "    .dataframe tbody tr th {\n",
       "        vertical-align: top;\n",
       "    }\n",
       "\n",
       "    .dataframe thead th {\n",
       "        text-align: right;\n",
       "    }\n",
       "</style>\n",
       "<table border=\"1\" class=\"dataframe\">\n",
       "  <thead>\n",
       "    <tr style=\"text-align: right;\">\n",
       "      <th></th>\n",
       "      <th>Date</th>\n",
       "      <th>Country</th>\n",
       "      <th>Population</th>\n",
       "      <th>Total Tests</th>\n",
       "      <th>Total Cases</th>\n",
       "      <th>Total Deaths</th>\n",
       "      <th>Total Recovered</th>\n",
       "      <th>Serious or Critical</th>\n",
       "      <th>Active Cases</th>\n",
       "    </tr>\n",
       "  </thead>\n",
       "  <tbody>\n",
       "    <tr>\n",
       "      <td>0</td>\n",
       "      <td>2020-04-18</td>\n",
       "      <td>USA</td>\n",
       "      <td>330774664</td>\n",
       "      <td>3722145.0</td>\n",
       "      <td>738792.0</td>\n",
       "      <td>39014.0</td>\n",
       "      <td>68269.0</td>\n",
       "      <td>13551.0</td>\n",
       "      <td>631509.0</td>\n",
       "    </tr>\n",
       "    <tr>\n",
       "      <td>1</td>\n",
       "      <td>2020-04-18</td>\n",
       "      <td>Russia</td>\n",
       "      <td>145927292</td>\n",
       "      <td>1831892.0</td>\n",
       "      <td>36793.0</td>\n",
       "      <td>313.0</td>\n",
       "      <td>3057.0</td>\n",
       "      <td>8.0</td>\n",
       "      <td>33423.0</td>\n",
       "    </tr>\n",
       "    <tr>\n",
       "      <td>2</td>\n",
       "      <td>2020-04-18</td>\n",
       "      <td>Spain</td>\n",
       "      <td>46752703</td>\n",
       "      <td>930230.0</td>\n",
       "      <td>194416.0</td>\n",
       "      <td>20043.0</td>\n",
       "      <td>74797.0</td>\n",
       "      <td>7371.0</td>\n",
       "      <td>99576.0</td>\n",
       "    </tr>\n",
       "    <tr>\n",
       "      <td>3</td>\n",
       "      <td>2020-04-18</td>\n",
       "      <td>Brazil</td>\n",
       "      <td>212380932</td>\n",
       "      <td>62985.0</td>\n",
       "      <td>36722.0</td>\n",
       "      <td>2361.0</td>\n",
       "      <td>14026.0</td>\n",
       "      <td>6634.0</td>\n",
       "      <td>20335.0</td>\n",
       "    </tr>\n",
       "    <tr>\n",
       "      <td>4</td>\n",
       "      <td>2020-04-18</td>\n",
       "      <td>UK</td>\n",
       "      <td>67844241</td>\n",
       "      <td>460437.0</td>\n",
       "      <td>114217.0</td>\n",
       "      <td>15464.0</td>\n",
       "      <td>NaN</td>\n",
       "      <td>1559.0</td>\n",
       "      <td>98409.0</td>\n",
       "    </tr>\n",
       "  </tbody>\n",
       "</table>\n",
       "</div>"
      ],
      "text/plain": [
       "         Date Country  Population  Total Tests  Total Cases  Total Deaths  \\\n",
       "0  2020-04-18     USA   330774664    3722145.0     738792.0       39014.0   \n",
       "1  2020-04-18  Russia   145927292    1831892.0      36793.0         313.0   \n",
       "2  2020-04-18   Spain    46752703     930230.0     194416.0       20043.0   \n",
       "3  2020-04-18  Brazil   212380932      62985.0      36722.0        2361.0   \n",
       "4  2020-04-18      UK    67844241     460437.0     114217.0       15464.0   \n",
       "\n",
       "   Total Recovered  Serious or Critical  Active Cases  \n",
       "0          68269.0              13551.0      631509.0  \n",
       "1           3057.0                  8.0       33423.0  \n",
       "2          74797.0               7371.0       99576.0  \n",
       "3          14026.0               6634.0       20335.0  \n",
       "4              NaN               1559.0       98409.0  "
      ]
     },
     "execution_count": 3,
     "metadata": {},
     "output_type": "execute_result"
    }
   ],
   "source": [
    "df1.head()"
   ]
  },
  {
   "cell_type": "code",
   "execution_count": 4,
   "metadata": {},
   "outputs": [
    {
     "data": {
      "text/plain": [
       "(6603, 9)"
      ]
     },
     "execution_count": 4,
     "metadata": {},
     "output_type": "execute_result"
    }
   ],
   "source": [
    "df1.shape"
   ]
  },
  {
   "cell_type": "code",
   "execution_count": 5,
   "metadata": {},
   "outputs": [
    {
     "data": {
      "text/plain": [
       "213"
      ]
     },
     "execution_count": 5,
     "metadata": {},
     "output_type": "execute_result"
    }
   ],
   "source": [
    "df1['Country'].nunique()"
   ]
  },
  {
   "cell_type": "code",
   "execution_count": 6,
   "metadata": {},
   "outputs": [
    {
     "data": {
      "text/html": [
       "<div>\n",
       "<style scoped>\n",
       "    .dataframe tbody tr th:only-of-type {\n",
       "        vertical-align: middle;\n",
       "    }\n",
       "\n",
       "    .dataframe tbody tr th {\n",
       "        vertical-align: top;\n",
       "    }\n",
       "\n",
       "    .dataframe thead th {\n",
       "        text-align: right;\n",
       "    }\n",
       "</style>\n",
       "<table border=\"1\" class=\"dataframe\">\n",
       "  <thead>\n",
       "    <tr style=\"text-align: right;\">\n",
       "      <th></th>\n",
       "      <th>Country</th>\n",
       "      <th>Fraction age 0-14 years</th>\n",
       "      <th>Fraction age 15-64 years</th>\n",
       "      <th>Fraction age 65+ years</th>\n",
       "    </tr>\n",
       "  </thead>\n",
       "  <tbody>\n",
       "    <tr>\n",
       "      <td>0</td>\n",
       "      <td>USA</td>\n",
       "      <td>0.189</td>\n",
       "      <td>0.657</td>\n",
       "      <td>0.154</td>\n",
       "    </tr>\n",
       "    <tr>\n",
       "      <td>1</td>\n",
       "      <td>Russia</td>\n",
       "      <td>0.176</td>\n",
       "      <td>0.682</td>\n",
       "      <td>0.142</td>\n",
       "    </tr>\n",
       "    <tr>\n",
       "      <td>2</td>\n",
       "      <td>Spain</td>\n",
       "      <td>0.147</td>\n",
       "      <td>0.659</td>\n",
       "      <td>0.194</td>\n",
       "    </tr>\n",
       "    <tr>\n",
       "      <td>3</td>\n",
       "      <td>Brazil</td>\n",
       "      <td>0.217</td>\n",
       "      <td>0.697</td>\n",
       "      <td>0.086</td>\n",
       "    </tr>\n",
       "    <tr>\n",
       "      <td>4</td>\n",
       "      <td>UK</td>\n",
       "      <td>0.177</td>\n",
       "      <td>0.638</td>\n",
       "      <td>0.185</td>\n",
       "    </tr>\n",
       "  </tbody>\n",
       "</table>\n",
       "</div>"
      ],
      "text/plain": [
       "  Country  Fraction age 0-14 years  Fraction age 15-64 years  \\\n",
       "0     USA                    0.189                     0.657   \n",
       "1  Russia                    0.176                     0.682   \n",
       "2   Spain                    0.147                     0.659   \n",
       "3  Brazil                    0.217                     0.697   \n",
       "4      UK                    0.177                     0.638   \n",
       "\n",
       "   Fraction age 65+ years  \n",
       "0                   0.154  \n",
       "1                   0.142  \n",
       "2                   0.194  \n",
       "3                   0.086  \n",
       "4                   0.185  "
      ]
     },
     "execution_count": 6,
     "metadata": {},
     "output_type": "execute_result"
    }
   ],
   "source": [
    "df2.head()"
   ]
  },
  {
   "cell_type": "code",
   "execution_count": 7,
   "metadata": {},
   "outputs": [
    {
     "data": {
      "text/plain": [
       "(213, 4)"
      ]
     },
     "execution_count": 7,
     "metadata": {},
     "output_type": "execute_result"
    }
   ],
   "source": [
    "df2.shape"
   ]
  },
  {
   "cell_type": "markdown",
   "metadata": {},
   "source": [
    "# Feature Engineering"
   ]
  },
  {
   "cell_type": "markdown",
   "metadata": {},
   "source": [
    "# checking for missing values in dataset"
   ]
  },
  {
   "cell_type": "code",
   "execution_count": 8,
   "metadata": {},
   "outputs": [
    {
     "data": {
      "text/plain": [
       "Date                      0\n",
       "Country                   0\n",
       "Population                0\n",
       "Total Tests            1098\n",
       "Total Cases              49\n",
       "Total Deaths           1236\n",
       "Total Recovered         285\n",
       "Serious or Critical    2486\n",
       "Active Cases             59\n",
       "dtype: int64"
      ]
     },
     "execution_count": 8,
     "metadata": {},
     "output_type": "execute_result"
    }
   ],
   "source": [
    "df1.isnull().sum()#there are missing values in  the dataset\n",
    "#moreover there are missing values in the target features i.e Total Deaths."
   ]
  },
  {
   "cell_type": "code",
   "execution_count": 9,
   "metadata": {},
   "outputs": [
    {
     "data": {
      "text/plain": [
       "Country                      0\n",
       "Fraction age 0-14 years     37\n",
       "Fraction age 15-64 years    37\n",
       "Fraction age 65+ years      37\n",
       "dtype: int64"
      ]
     },
     "execution_count": 9,
     "metadata": {},
     "output_type": "execute_result"
    }
   ],
   "source": [
    "df2.isnull().sum()#there are missing values in  the dataset"
   ]
  },
  {
   "cell_type": "markdown",
   "metadata": {},
   "source": [
    "#  Merging both dataframes-->on='Country'"
   ]
  },
  {
   "cell_type": "code",
   "execution_count": 10,
   "metadata": {},
   "outputs": [],
   "source": [
    "df=pd.merge(df1,df2,on='Country')\n",
    "\n",
    "#Making a copy for future use\n",
    "df10=df.copy()"
   ]
  },
  {
   "cell_type": "code",
   "execution_count": 11,
   "metadata": {},
   "outputs": [
    {
     "data": {
      "text/html": [
       "<div>\n",
       "<style scoped>\n",
       "    .dataframe tbody tr th:only-of-type {\n",
       "        vertical-align: middle;\n",
       "    }\n",
       "\n",
       "    .dataframe tbody tr th {\n",
       "        vertical-align: top;\n",
       "    }\n",
       "\n",
       "    .dataframe thead th {\n",
       "        text-align: right;\n",
       "    }\n",
       "</style>\n",
       "<table border=\"1\" class=\"dataframe\">\n",
       "  <thead>\n",
       "    <tr style=\"text-align: right;\">\n",
       "      <th></th>\n",
       "      <th>Date</th>\n",
       "      <th>Country</th>\n",
       "      <th>Population</th>\n",
       "      <th>Total Tests</th>\n",
       "      <th>Total Cases</th>\n",
       "      <th>Total Deaths</th>\n",
       "      <th>Total Recovered</th>\n",
       "      <th>Serious or Critical</th>\n",
       "      <th>Active Cases</th>\n",
       "      <th>Fraction age 0-14 years</th>\n",
       "      <th>Fraction age 15-64 years</th>\n",
       "      <th>Fraction age 65+ years</th>\n",
       "    </tr>\n",
       "  </thead>\n",
       "  <tbody>\n",
       "    <tr>\n",
       "      <td>0</td>\n",
       "      <td>2020-04-18</td>\n",
       "      <td>USA</td>\n",
       "      <td>330774664</td>\n",
       "      <td>3722145.0</td>\n",
       "      <td>738792.0</td>\n",
       "      <td>39014.0</td>\n",
       "      <td>68269.0</td>\n",
       "      <td>13551.0</td>\n",
       "      <td>631509.0</td>\n",
       "      <td>0.189</td>\n",
       "      <td>0.657</td>\n",
       "      <td>0.154</td>\n",
       "    </tr>\n",
       "    <tr>\n",
       "      <td>1</td>\n",
       "      <td>2020-04-19</td>\n",
       "      <td>USA</td>\n",
       "      <td>330774664</td>\n",
       "      <td>3861549.0</td>\n",
       "      <td>763832.0</td>\n",
       "      <td>40553.0</td>\n",
       "      <td>71003.0</td>\n",
       "      <td>13566.0</td>\n",
       "      <td>652276.0</td>\n",
       "      <td>0.189</td>\n",
       "      <td>0.657</td>\n",
       "      <td>0.154</td>\n",
       "    </tr>\n",
       "    <tr>\n",
       "      <td>2</td>\n",
       "      <td>2020-04-20</td>\n",
       "      <td>USA</td>\n",
       "      <td>330774664</td>\n",
       "      <td>4026360.0</td>\n",
       "      <td>792759.0</td>\n",
       "      <td>42514.0</td>\n",
       "      <td>72389.0</td>\n",
       "      <td>13951.0</td>\n",
       "      <td>677856.0</td>\n",
       "      <td>0.189</td>\n",
       "      <td>0.657</td>\n",
       "      <td>0.154</td>\n",
       "    </tr>\n",
       "    <tr>\n",
       "      <td>3</td>\n",
       "      <td>2020-04-21</td>\n",
       "      <td>USA</td>\n",
       "      <td>330774664</td>\n",
       "      <td>4187392.0</td>\n",
       "      <td>818744.0</td>\n",
       "      <td>45318.0</td>\n",
       "      <td>82923.0</td>\n",
       "      <td>14016.0</td>\n",
       "      <td>690503.0</td>\n",
       "      <td>0.189</td>\n",
       "      <td>0.657</td>\n",
       "      <td>0.154</td>\n",
       "    </tr>\n",
       "    <tr>\n",
       "      <td>4</td>\n",
       "      <td>2020-04-22</td>\n",
       "      <td>USA</td>\n",
       "      <td>330774664</td>\n",
       "      <td>4325342.0</td>\n",
       "      <td>848717.0</td>\n",
       "      <td>47659.0</td>\n",
       "      <td>84050.0</td>\n",
       "      <td>14016.0</td>\n",
       "      <td>717008.0</td>\n",
       "      <td>0.189</td>\n",
       "      <td>0.657</td>\n",
       "      <td>0.154</td>\n",
       "    </tr>\n",
       "    <tr>\n",
       "      <td>5</td>\n",
       "      <td>2020-04-23</td>\n",
       "      <td>USA</td>\n",
       "      <td>330774664</td>\n",
       "      <td>4696704.0</td>\n",
       "      <td>880204.0</td>\n",
       "      <td>49845.0</td>\n",
       "      <td>85922.0</td>\n",
       "      <td>14997.0</td>\n",
       "      <td>744437.0</td>\n",
       "      <td>0.189</td>\n",
       "      <td>0.657</td>\n",
       "      <td>0.154</td>\n",
       "    </tr>\n",
       "    <tr>\n",
       "      <td>6</td>\n",
       "      <td>2020-04-24</td>\n",
       "      <td>USA</td>\n",
       "      <td>330774664</td>\n",
       "      <td>5015602.0</td>\n",
       "      <td>925038.0</td>\n",
       "      <td>52185.0</td>\n",
       "      <td>110432.0</td>\n",
       "      <td>15097.0</td>\n",
       "      <td>762421.0</td>\n",
       "      <td>0.189</td>\n",
       "      <td>0.657</td>\n",
       "      <td>0.154</td>\n",
       "    </tr>\n",
       "    <tr>\n",
       "      <td>7</td>\n",
       "      <td>2020-04-25</td>\n",
       "      <td>USA</td>\n",
       "      <td>330774664</td>\n",
       "      <td>5279237.0</td>\n",
       "      <td>960651.0</td>\n",
       "      <td>54256.0</td>\n",
       "      <td>118162.0</td>\n",
       "      <td>15110.0</td>\n",
       "      <td>788233.0</td>\n",
       "      <td>0.189</td>\n",
       "      <td>0.657</td>\n",
       "      <td>0.154</td>\n",
       "    </tr>\n",
       "    <tr>\n",
       "      <td>8</td>\n",
       "      <td>2020-04-26</td>\n",
       "      <td>USA</td>\n",
       "      <td>330774664</td>\n",
       "      <td>5470464.0</td>\n",
       "      <td>987160.0</td>\n",
       "      <td>55413.0</td>\n",
       "      <td>118781.0</td>\n",
       "      <td>15143.0</td>\n",
       "      <td>812966.0</td>\n",
       "      <td>0.189</td>\n",
       "      <td>0.657</td>\n",
       "      <td>0.154</td>\n",
       "    </tr>\n",
       "    <tr>\n",
       "      <td>9</td>\n",
       "      <td>2020-04-27</td>\n",
       "      <td>USA</td>\n",
       "      <td>330774664</td>\n",
       "      <td>5696928.0</td>\n",
       "      <td>1010356.0</td>\n",
       "      <td>56797.0</td>\n",
       "      <td>138990.0</td>\n",
       "      <td>14186.0</td>\n",
       "      <td>814569.0</td>\n",
       "      <td>0.189</td>\n",
       "      <td>0.657</td>\n",
       "      <td>0.154</td>\n",
       "    </tr>\n",
       "    <tr>\n",
       "      <td>10</td>\n",
       "      <td>2020-04-28</td>\n",
       "      <td>USA</td>\n",
       "      <td>330774664</td>\n",
       "      <td>5919847.0</td>\n",
       "      <td>1035765.0</td>\n",
       "      <td>59266.0</td>\n",
       "      <td>142238.0</td>\n",
       "      <td>15298.0</td>\n",
       "      <td>834261.0</td>\n",
       "      <td>0.189</td>\n",
       "      <td>0.657</td>\n",
       "      <td>0.154</td>\n",
       "    </tr>\n",
       "    <tr>\n",
       "      <td>11</td>\n",
       "      <td>2020-04-29</td>\n",
       "      <td>USA</td>\n",
       "      <td>330774664</td>\n",
       "      <td>6139911.0</td>\n",
       "      <td>1064194.0</td>\n",
       "      <td>61656.0</td>\n",
       "      <td>147411.0</td>\n",
       "      <td>18671.0</td>\n",
       "      <td>855127.0</td>\n",
       "      <td>0.189</td>\n",
       "      <td>0.657</td>\n",
       "      <td>0.154</td>\n",
       "    </tr>\n",
       "    <tr>\n",
       "      <td>12</td>\n",
       "      <td>2020-04-30</td>\n",
       "      <td>USA</td>\n",
       "      <td>330774664</td>\n",
       "      <td>6391887.0</td>\n",
       "      <td>1095023.0</td>\n",
       "      <td>63856.0</td>\n",
       "      <td>152324.0</td>\n",
       "      <td>15226.0</td>\n",
       "      <td>878843.0</td>\n",
       "      <td>0.189</td>\n",
       "      <td>0.657</td>\n",
       "      <td>0.154</td>\n",
       "    </tr>\n",
       "    <tr>\n",
       "      <td>13</td>\n",
       "      <td>2020-05-01</td>\n",
       "      <td>USA</td>\n",
       "      <td>330774664</td>\n",
       "      <td>6699878.0</td>\n",
       "      <td>1131030.0</td>\n",
       "      <td>65753.0</td>\n",
       "      <td>161563.0</td>\n",
       "      <td>16481.0</td>\n",
       "      <td>903714.0</td>\n",
       "      <td>0.189</td>\n",
       "      <td>0.657</td>\n",
       "      <td>0.154</td>\n",
       "    </tr>\n",
       "    <tr>\n",
       "      <td>14</td>\n",
       "      <td>2020-05-02</td>\n",
       "      <td>USA</td>\n",
       "      <td>330774664</td>\n",
       "      <td>7196740.0</td>\n",
       "      <td>1160774.0</td>\n",
       "      <td>67444.0</td>\n",
       "      <td>178263.0</td>\n",
       "      <td>16139.0</td>\n",
       "      <td>941261.0</td>\n",
       "      <td>0.189</td>\n",
       "      <td>0.657</td>\n",
       "      <td>0.154</td>\n",
       "    </tr>\n",
       "    <tr>\n",
       "      <td>15</td>\n",
       "      <td>2020-05-03</td>\n",
       "      <td>USA</td>\n",
       "      <td>330774664</td>\n",
       "      <td>7196740.0</td>\n",
       "      <td>1188122.0</td>\n",
       "      <td>68598.0</td>\n",
       "      <td>178263.0</td>\n",
       "      <td>16139.0</td>\n",
       "      <td>941261.0</td>\n",
       "      <td>0.189</td>\n",
       "      <td>0.657</td>\n",
       "      <td>0.154</td>\n",
       "    </tr>\n",
       "    <tr>\n",
       "      <td>16</td>\n",
       "      <td>2020-05-04</td>\n",
       "      <td>USA</td>\n",
       "      <td>330774664</td>\n",
       "      <td>7462431.0</td>\n",
       "      <td>1212835.0</td>\n",
       "      <td>69921.0</td>\n",
       "      <td>188027.0</td>\n",
       "      <td>16050.0</td>\n",
       "      <td>954887.0</td>\n",
       "      <td>0.189</td>\n",
       "      <td>0.657</td>\n",
       "      <td>0.154</td>\n",
       "    </tr>\n",
       "    <tr>\n",
       "      <td>17</td>\n",
       "      <td>2020-05-05</td>\n",
       "      <td>USA</td>\n",
       "      <td>330774664</td>\n",
       "      <td>7727811.0</td>\n",
       "      <td>1237633.0</td>\n",
       "      <td>72271.0</td>\n",
       "      <td>200626.0</td>\n",
       "      <td>16179.0</td>\n",
       "      <td>964736.0</td>\n",
       "      <td>0.189</td>\n",
       "      <td>0.657</td>\n",
       "      <td>0.154</td>\n",
       "    </tr>\n",
       "    <tr>\n",
       "      <td>18</td>\n",
       "      <td>2020-05-06</td>\n",
       "      <td>USA</td>\n",
       "      <td>330774664</td>\n",
       "      <td>8005435.0</td>\n",
       "      <td>1263092.0</td>\n",
       "      <td>74799.0</td>\n",
       "      <td>212981.0</td>\n",
       "      <td>15827.0</td>\n",
       "      <td>975312.0</td>\n",
       "      <td>0.189</td>\n",
       "      <td>0.657</td>\n",
       "      <td>0.154</td>\n",
       "    </tr>\n",
       "    <tr>\n",
       "      <td>19</td>\n",
       "      <td>2020-05-07</td>\n",
       "      <td>USA</td>\n",
       "      <td>330774664</td>\n",
       "      <td>8297562.0</td>\n",
       "      <td>1292623.0</td>\n",
       "      <td>76928.0</td>\n",
       "      <td>217250.0</td>\n",
       "      <td>16995.0</td>\n",
       "      <td>998445.0</td>\n",
       "      <td>0.189</td>\n",
       "      <td>0.657</td>\n",
       "      <td>0.154</td>\n",
       "    </tr>\n",
       "    <tr>\n",
       "      <td>20</td>\n",
       "      <td>2020-05-08</td>\n",
       "      <td>USA</td>\n",
       "      <td>330774664</td>\n",
       "      <td>8636435.0</td>\n",
       "      <td>1321785.0</td>\n",
       "      <td>78615.0</td>\n",
       "      <td>223603.0</td>\n",
       "      <td>16978.0</td>\n",
       "      <td>1019567.0</td>\n",
       "      <td>0.189</td>\n",
       "      <td>0.657</td>\n",
       "      <td>0.154</td>\n",
       "    </tr>\n",
       "    <tr>\n",
       "      <td>21</td>\n",
       "      <td>2020-05-09</td>\n",
       "      <td>USA</td>\n",
       "      <td>330774664</td>\n",
       "      <td>8918263.0</td>\n",
       "      <td>1347309.0</td>\n",
       "      <td>80037.0</td>\n",
       "      <td>238078.0</td>\n",
       "      <td>16816.0</td>\n",
       "      <td>1029194.0</td>\n",
       "      <td>0.189</td>\n",
       "      <td>0.657</td>\n",
       "      <td>0.154</td>\n",
       "    </tr>\n",
       "    <tr>\n",
       "      <td>22</td>\n",
       "      <td>2020-05-10</td>\n",
       "      <td>USA</td>\n",
       "      <td>330774664</td>\n",
       "      <td>9444525.0</td>\n",
       "      <td>1367638.0</td>\n",
       "      <td>80787.0</td>\n",
       "      <td>256336.0</td>\n",
       "      <td>16514.0</td>\n",
       "      <td>1030515.0</td>\n",
       "      <td>0.189</td>\n",
       "      <td>0.657</td>\n",
       "      <td>0.154</td>\n",
       "    </tr>\n",
       "    <tr>\n",
       "      <td>23</td>\n",
       "      <td>2020-05-11</td>\n",
       "      <td>USA</td>\n",
       "      <td>330774664</td>\n",
       "      <td>9619855.0</td>\n",
       "      <td>1385834.0</td>\n",
       "      <td>81795.0</td>\n",
       "      <td>262225.0</td>\n",
       "      <td>16484.0</td>\n",
       "      <td>1041814.0</td>\n",
       "      <td>0.189</td>\n",
       "      <td>0.657</td>\n",
       "      <td>0.154</td>\n",
       "    </tr>\n",
       "    <tr>\n",
       "      <td>24</td>\n",
       "      <td>2020-05-12</td>\n",
       "      <td>USA</td>\n",
       "      <td>330774664</td>\n",
       "      <td>9935720.0</td>\n",
       "      <td>1408636.0</td>\n",
       "      <td>83425.0</td>\n",
       "      <td>296746.0</td>\n",
       "      <td>16473.0</td>\n",
       "      <td>1028465.0</td>\n",
       "      <td>0.189</td>\n",
       "      <td>0.657</td>\n",
       "      <td>0.154</td>\n",
       "    </tr>\n",
       "    <tr>\n",
       "      <td>25</td>\n",
       "      <td>2020-05-13</td>\n",
       "      <td>USA</td>\n",
       "      <td>330774664</td>\n",
       "      <td>10269996.0</td>\n",
       "      <td>1430348.0</td>\n",
       "      <td>85197.0</td>\n",
       "      <td>310259.0</td>\n",
       "      <td>16349.0</td>\n",
       "      <td>1034892.0</td>\n",
       "      <td>0.189</td>\n",
       "      <td>0.657</td>\n",
       "      <td>0.154</td>\n",
       "    </tr>\n",
       "    <tr>\n",
       "      <td>26</td>\n",
       "      <td>2020-05-14</td>\n",
       "      <td>USA</td>\n",
       "      <td>330774664</td>\n",
       "      <td>10638893.0</td>\n",
       "      <td>1457593.0</td>\n",
       "      <td>86912.0</td>\n",
       "      <td>318027.0</td>\n",
       "      <td>16240.0</td>\n",
       "      <td>1052654.0</td>\n",
       "      <td>0.189</td>\n",
       "      <td>0.657</td>\n",
       "      <td>0.154</td>\n",
       "    </tr>\n",
       "    <tr>\n",
       "      <td>27</td>\n",
       "      <td>2020-05-15</td>\n",
       "      <td>USA</td>\n",
       "      <td>330774664</td>\n",
       "      <td>11090900.0</td>\n",
       "      <td>1484285.0</td>\n",
       "      <td>88507.0</td>\n",
       "      <td>327751.0</td>\n",
       "      <td>16139.0</td>\n",
       "      <td>1068027.0</td>\n",
       "      <td>0.189</td>\n",
       "      <td>0.657</td>\n",
       "      <td>0.154</td>\n",
       "    </tr>\n",
       "    <tr>\n",
       "      <td>28</td>\n",
       "      <td>2020-05-16</td>\n",
       "      <td>USA</td>\n",
       "      <td>330774664</td>\n",
       "      <td>11949625.0</td>\n",
       "      <td>1507773.0</td>\n",
       "      <td>90113.0</td>\n",
       "      <td>339232.0</td>\n",
       "      <td>16248.0</td>\n",
       "      <td>1078428.0</td>\n",
       "      <td>0.189</td>\n",
       "      <td>0.657</td>\n",
       "      <td>0.154</td>\n",
       "    </tr>\n",
       "    <tr>\n",
       "      <td>29</td>\n",
       "      <td>2020-05-17</td>\n",
       "      <td>USA</td>\n",
       "      <td>330774664</td>\n",
       "      <td>11875580.0</td>\n",
       "      <td>1527664.0</td>\n",
       "      <td>90978.0</td>\n",
       "      <td>346389.0</td>\n",
       "      <td>16355.0</td>\n",
       "      <td>1090297.0</td>\n",
       "      <td>0.189</td>\n",
       "      <td>0.657</td>\n",
       "      <td>0.154</td>\n",
       "    </tr>\n",
       "    <tr>\n",
       "      <td>30</td>\n",
       "      <td>2020-05-18</td>\n",
       "      <td>USA</td>\n",
       "      <td>330774664</td>\n",
       "      <td>12300744.0</td>\n",
       "      <td>1550294.0</td>\n",
       "      <td>91981.0</td>\n",
       "      <td>356383.0</td>\n",
       "      <td>16868.0</td>\n",
       "      <td>1101930.0</td>\n",
       "      <td>0.189</td>\n",
       "      <td>0.657</td>\n",
       "      <td>0.154</td>\n",
       "    </tr>\n",
       "    <tr>\n",
       "      <td>31</td>\n",
       "      <td>2020-04-18</td>\n",
       "      <td>Russia</td>\n",
       "      <td>145927292</td>\n",
       "      <td>1831892.0</td>\n",
       "      <td>36793.0</td>\n",
       "      <td>313.0</td>\n",
       "      <td>3057.0</td>\n",
       "      <td>8.0</td>\n",
       "      <td>33423.0</td>\n",
       "      <td>0.176</td>\n",
       "      <td>0.682</td>\n",
       "      <td>0.142</td>\n",
       "    </tr>\n",
       "    <tr>\n",
       "      <td>32</td>\n",
       "      <td>2020-04-19</td>\n",
       "      <td>Russia</td>\n",
       "      <td>145927292</td>\n",
       "      <td>1940000.0</td>\n",
       "      <td>42853.0</td>\n",
       "      <td>361.0</td>\n",
       "      <td>3291.0</td>\n",
       "      <td>8.0</td>\n",
       "      <td>39201.0</td>\n",
       "      <td>0.176</td>\n",
       "      <td>0.682</td>\n",
       "      <td>0.142</td>\n",
       "    </tr>\n",
       "    <tr>\n",
       "      <td>33</td>\n",
       "      <td>2020-04-20</td>\n",
       "      <td>Russia</td>\n",
       "      <td>145927292</td>\n",
       "      <td>2053319.0</td>\n",
       "      <td>47121.0</td>\n",
       "      <td>405.0</td>\n",
       "      <td>3446.0</td>\n",
       "      <td>700.0</td>\n",
       "      <td>43270.0</td>\n",
       "      <td>0.176</td>\n",
       "      <td>0.682</td>\n",
       "      <td>0.142</td>\n",
       "    </tr>\n",
       "    <tr>\n",
       "      <td>34</td>\n",
       "      <td>2020-04-21</td>\n",
       "      <td>Russia</td>\n",
       "      <td>145927292</td>\n",
       "      <td>2142604.0</td>\n",
       "      <td>52763.0</td>\n",
       "      <td>456.0</td>\n",
       "      <td>3873.0</td>\n",
       "      <td>700.0</td>\n",
       "      <td>48434.0</td>\n",
       "      <td>0.176</td>\n",
       "      <td>0.682</td>\n",
       "      <td>0.142</td>\n",
       "    </tr>\n",
       "    <tr>\n",
       "      <td>35</td>\n",
       "      <td>2020-04-22</td>\n",
       "      <td>Russia</td>\n",
       "      <td>145927292</td>\n",
       "      <td>2250000.0</td>\n",
       "      <td>57999.0</td>\n",
       "      <td>513.0</td>\n",
       "      <td>4420.0</td>\n",
       "      <td>700.0</td>\n",
       "      <td>53066.0</td>\n",
       "      <td>0.176</td>\n",
       "      <td>0.682</td>\n",
       "      <td>0.142</td>\n",
       "    </tr>\n",
       "    <tr>\n",
       "      <td>36</td>\n",
       "      <td>2020-04-23</td>\n",
       "      <td>Russia</td>\n",
       "      <td>145927292</td>\n",
       "      <td>2401616.0</td>\n",
       "      <td>62773.0</td>\n",
       "      <td>555.0</td>\n",
       "      <td>4891.0</td>\n",
       "      <td>2300.0</td>\n",
       "      <td>57327.0</td>\n",
       "      <td>0.176</td>\n",
       "      <td>0.682</td>\n",
       "      <td>0.142</td>\n",
       "    </tr>\n",
       "    <tr>\n",
       "      <td>37</td>\n",
       "      <td>2020-04-24</td>\n",
       "      <td>Russia</td>\n",
       "      <td>145927292</td>\n",
       "      <td>2550000.0</td>\n",
       "      <td>68622.0</td>\n",
       "      <td>615.0</td>\n",
       "      <td>5568.0</td>\n",
       "      <td>2300.0</td>\n",
       "      <td>62439.0</td>\n",
       "      <td>0.176</td>\n",
       "      <td>0.682</td>\n",
       "      <td>0.142</td>\n",
       "    </tr>\n",
       "    <tr>\n",
       "      <td>38</td>\n",
       "      <td>2020-04-25</td>\n",
       "      <td>Russia</td>\n",
       "      <td>145927292</td>\n",
       "      <td>2721500.0</td>\n",
       "      <td>74588.0</td>\n",
       "      <td>681.0</td>\n",
       "      <td>6250.0</td>\n",
       "      <td>2300.0</td>\n",
       "      <td>67657.0</td>\n",
       "      <td>0.176</td>\n",
       "      <td>0.682</td>\n",
       "      <td>0.142</td>\n",
       "    </tr>\n",
       "    <tr>\n",
       "      <td>39</td>\n",
       "      <td>2020-04-26</td>\n",
       "      <td>Russia</td>\n",
       "      <td>145927292</td>\n",
       "      <td>2877699.0</td>\n",
       "      <td>80949.0</td>\n",
       "      <td>747.0</td>\n",
       "      <td>6767.0</td>\n",
       "      <td>2300.0</td>\n",
       "      <td>73435.0</td>\n",
       "      <td>0.176</td>\n",
       "      <td>0.682</td>\n",
       "      <td>0.142</td>\n",
       "    </tr>\n",
       "  </tbody>\n",
       "</table>\n",
       "</div>"
      ],
      "text/plain": [
       "          Date Country  Population  Total Tests  Total Cases  Total Deaths  \\\n",
       "0   2020-04-18     USA   330774664    3722145.0     738792.0       39014.0   \n",
       "1   2020-04-19     USA   330774664    3861549.0     763832.0       40553.0   \n",
       "2   2020-04-20     USA   330774664    4026360.0     792759.0       42514.0   \n",
       "3   2020-04-21     USA   330774664    4187392.0     818744.0       45318.0   \n",
       "4   2020-04-22     USA   330774664    4325342.0     848717.0       47659.0   \n",
       "5   2020-04-23     USA   330774664    4696704.0     880204.0       49845.0   \n",
       "6   2020-04-24     USA   330774664    5015602.0     925038.0       52185.0   \n",
       "7   2020-04-25     USA   330774664    5279237.0     960651.0       54256.0   \n",
       "8   2020-04-26     USA   330774664    5470464.0     987160.0       55413.0   \n",
       "9   2020-04-27     USA   330774664    5696928.0    1010356.0       56797.0   \n",
       "10  2020-04-28     USA   330774664    5919847.0    1035765.0       59266.0   \n",
       "11  2020-04-29     USA   330774664    6139911.0    1064194.0       61656.0   \n",
       "12  2020-04-30     USA   330774664    6391887.0    1095023.0       63856.0   \n",
       "13  2020-05-01     USA   330774664    6699878.0    1131030.0       65753.0   \n",
       "14  2020-05-02     USA   330774664    7196740.0    1160774.0       67444.0   \n",
       "15  2020-05-03     USA   330774664    7196740.0    1188122.0       68598.0   \n",
       "16  2020-05-04     USA   330774664    7462431.0    1212835.0       69921.0   \n",
       "17  2020-05-05     USA   330774664    7727811.0    1237633.0       72271.0   \n",
       "18  2020-05-06     USA   330774664    8005435.0    1263092.0       74799.0   \n",
       "19  2020-05-07     USA   330774664    8297562.0    1292623.0       76928.0   \n",
       "20  2020-05-08     USA   330774664    8636435.0    1321785.0       78615.0   \n",
       "21  2020-05-09     USA   330774664    8918263.0    1347309.0       80037.0   \n",
       "22  2020-05-10     USA   330774664    9444525.0    1367638.0       80787.0   \n",
       "23  2020-05-11     USA   330774664    9619855.0    1385834.0       81795.0   \n",
       "24  2020-05-12     USA   330774664    9935720.0    1408636.0       83425.0   \n",
       "25  2020-05-13     USA   330774664   10269996.0    1430348.0       85197.0   \n",
       "26  2020-05-14     USA   330774664   10638893.0    1457593.0       86912.0   \n",
       "27  2020-05-15     USA   330774664   11090900.0    1484285.0       88507.0   \n",
       "28  2020-05-16     USA   330774664   11949625.0    1507773.0       90113.0   \n",
       "29  2020-05-17     USA   330774664   11875580.0    1527664.0       90978.0   \n",
       "30  2020-05-18     USA   330774664   12300744.0    1550294.0       91981.0   \n",
       "31  2020-04-18  Russia   145927292    1831892.0      36793.0         313.0   \n",
       "32  2020-04-19  Russia   145927292    1940000.0      42853.0         361.0   \n",
       "33  2020-04-20  Russia   145927292    2053319.0      47121.0         405.0   \n",
       "34  2020-04-21  Russia   145927292    2142604.0      52763.0         456.0   \n",
       "35  2020-04-22  Russia   145927292    2250000.0      57999.0         513.0   \n",
       "36  2020-04-23  Russia   145927292    2401616.0      62773.0         555.0   \n",
       "37  2020-04-24  Russia   145927292    2550000.0      68622.0         615.0   \n",
       "38  2020-04-25  Russia   145927292    2721500.0      74588.0         681.0   \n",
       "39  2020-04-26  Russia   145927292    2877699.0      80949.0         747.0   \n",
       "\n",
       "    Total Recovered  Serious or Critical  Active Cases  \\\n",
       "0           68269.0              13551.0      631509.0   \n",
       "1           71003.0              13566.0      652276.0   \n",
       "2           72389.0              13951.0      677856.0   \n",
       "3           82923.0              14016.0      690503.0   \n",
       "4           84050.0              14016.0      717008.0   \n",
       "5           85922.0              14997.0      744437.0   \n",
       "6          110432.0              15097.0      762421.0   \n",
       "7          118162.0              15110.0      788233.0   \n",
       "8          118781.0              15143.0      812966.0   \n",
       "9          138990.0              14186.0      814569.0   \n",
       "10         142238.0              15298.0      834261.0   \n",
       "11         147411.0              18671.0      855127.0   \n",
       "12         152324.0              15226.0      878843.0   \n",
       "13         161563.0              16481.0      903714.0   \n",
       "14         178263.0              16139.0      941261.0   \n",
       "15         178263.0              16139.0      941261.0   \n",
       "16         188027.0              16050.0      954887.0   \n",
       "17         200626.0              16179.0      964736.0   \n",
       "18         212981.0              15827.0      975312.0   \n",
       "19         217250.0              16995.0      998445.0   \n",
       "20         223603.0              16978.0     1019567.0   \n",
       "21         238078.0              16816.0     1029194.0   \n",
       "22         256336.0              16514.0     1030515.0   \n",
       "23         262225.0              16484.0     1041814.0   \n",
       "24         296746.0              16473.0     1028465.0   \n",
       "25         310259.0              16349.0     1034892.0   \n",
       "26         318027.0              16240.0     1052654.0   \n",
       "27         327751.0              16139.0     1068027.0   \n",
       "28         339232.0              16248.0     1078428.0   \n",
       "29         346389.0              16355.0     1090297.0   \n",
       "30         356383.0              16868.0     1101930.0   \n",
       "31           3057.0                  8.0       33423.0   \n",
       "32           3291.0                  8.0       39201.0   \n",
       "33           3446.0                700.0       43270.0   \n",
       "34           3873.0                700.0       48434.0   \n",
       "35           4420.0                700.0       53066.0   \n",
       "36           4891.0               2300.0       57327.0   \n",
       "37           5568.0               2300.0       62439.0   \n",
       "38           6250.0               2300.0       67657.0   \n",
       "39           6767.0               2300.0       73435.0   \n",
       "\n",
       "    Fraction age 0-14 years  Fraction age 15-64 years  Fraction age 65+ years  \n",
       "0                     0.189                     0.657                   0.154  \n",
       "1                     0.189                     0.657                   0.154  \n",
       "2                     0.189                     0.657                   0.154  \n",
       "3                     0.189                     0.657                   0.154  \n",
       "4                     0.189                     0.657                   0.154  \n",
       "5                     0.189                     0.657                   0.154  \n",
       "6                     0.189                     0.657                   0.154  \n",
       "7                     0.189                     0.657                   0.154  \n",
       "8                     0.189                     0.657                   0.154  \n",
       "9                     0.189                     0.657                   0.154  \n",
       "10                    0.189                     0.657                   0.154  \n",
       "11                    0.189                     0.657                   0.154  \n",
       "12                    0.189                     0.657                   0.154  \n",
       "13                    0.189                     0.657                   0.154  \n",
       "14                    0.189                     0.657                   0.154  \n",
       "15                    0.189                     0.657                   0.154  \n",
       "16                    0.189                     0.657                   0.154  \n",
       "17                    0.189                     0.657                   0.154  \n",
       "18                    0.189                     0.657                   0.154  \n",
       "19                    0.189                     0.657                   0.154  \n",
       "20                    0.189                     0.657                   0.154  \n",
       "21                    0.189                     0.657                   0.154  \n",
       "22                    0.189                     0.657                   0.154  \n",
       "23                    0.189                     0.657                   0.154  \n",
       "24                    0.189                     0.657                   0.154  \n",
       "25                    0.189                     0.657                   0.154  \n",
       "26                    0.189                     0.657                   0.154  \n",
       "27                    0.189                     0.657                   0.154  \n",
       "28                    0.189                     0.657                   0.154  \n",
       "29                    0.189                     0.657                   0.154  \n",
       "30                    0.189                     0.657                   0.154  \n",
       "31                    0.176                     0.682                   0.142  \n",
       "32                    0.176                     0.682                   0.142  \n",
       "33                    0.176                     0.682                   0.142  \n",
       "34                    0.176                     0.682                   0.142  \n",
       "35                    0.176                     0.682                   0.142  \n",
       "36                    0.176                     0.682                   0.142  \n",
       "37                    0.176                     0.682                   0.142  \n",
       "38                    0.176                     0.682                   0.142  \n",
       "39                    0.176                     0.682                   0.142  "
      ]
     },
     "execution_count": 11,
     "metadata": {},
     "output_type": "execute_result"
    }
   ],
   "source": [
    "df.head(40)"
   ]
  },
  {
   "cell_type": "code",
   "execution_count": 12,
   "metadata": {},
   "outputs": [
    {
     "data": {
      "text/plain": [
       "(6603, 12)"
      ]
     },
     "execution_count": 12,
     "metadata": {},
     "output_type": "execute_result"
    }
   ],
   "source": [
    "df.shape"
   ]
  },
  {
   "cell_type": "code",
   "execution_count": 13,
   "metadata": {},
   "outputs": [
    {
     "data": {
      "text/plain": [
       "Date                         object\n",
       "Country                      object\n",
       "Population                    int64\n",
       "Total Tests                 float64\n",
       "Total Cases                 float64\n",
       "Total Deaths                float64\n",
       "Total Recovered             float64\n",
       "Serious or Critical         float64\n",
       "Active Cases                float64\n",
       "Fraction age 0-14 years     float64\n",
       "Fraction age 15-64 years    float64\n",
       "Fraction age 65+ years      float64\n",
       "dtype: object"
      ]
     },
     "execution_count": 13,
     "metadata": {},
     "output_type": "execute_result"
    }
   ],
   "source": [
    "df.dtypes#we can see 'Date' is in object format,which should actualy be in datetime format."
   ]
  },
  {
   "cell_type": "code",
   "execution_count": 14,
   "metadata": {},
   "outputs": [
    {
     "data": {
      "text/plain": [
       "Date                           0\n",
       "Country                        0\n",
       "Population                     0\n",
       "Total Tests                 1098\n",
       "Total Cases                   49\n",
       "Total Deaths                1236\n",
       "Total Recovered              285\n",
       "Serious or Critical         2486\n",
       "Active Cases                  59\n",
       "Fraction age 0-14 years     1147\n",
       "Fraction age 15-64 years    1147\n",
       "Fraction age 65+ years      1147\n",
       "dtype: int64"
      ]
     },
     "execution_count": 14,
     "metadata": {},
     "output_type": "execute_result"
    }
   ],
   "source": [
    "df.isnull().sum()"
   ]
  },
  {
   "cell_type": "markdown",
   "metadata": {},
   "source": [
    "# Imputing the missing value"
   ]
  },
  {
   "cell_type": "code",
   "execution_count": 15,
   "metadata": {},
   "outputs": [],
   "source": [
    "df=df.fillna(df.mean())"
   ]
  },
  {
   "cell_type": "code",
   "execution_count": 16,
   "metadata": {},
   "outputs": [
    {
     "data": {
      "text/plain": [
       "Date                        0\n",
       "Country                     0\n",
       "Population                  0\n",
       "Total Tests                 0\n",
       "Total Cases                 0\n",
       "Total Deaths                0\n",
       "Total Recovered             0\n",
       "Serious or Critical         0\n",
       "Active Cases                0\n",
       "Fraction age 0-14 years     0\n",
       "Fraction age 15-64 years    0\n",
       "Fraction age 65+ years      0\n",
       "dtype: int64"
      ]
     },
     "execution_count": 16,
     "metadata": {},
     "output_type": "execute_result"
    }
   ],
   "source": [
    "df.isnull().sum()"
   ]
  },
  {
   "cell_type": "markdown",
   "metadata": {},
   "source": [
    "# Changing the datatype of Date column"
   ]
  },
  {
   "cell_type": "code",
   "execution_count": 17,
   "metadata": {},
   "outputs": [],
   "source": [
    "df['Date']=pd.to_datetime(df['Date'],format='%Y-%m-%d')"
   ]
  },
  {
   "cell_type": "markdown",
   "metadata": {},
   "source": [
    "# Extracting date features"
   ]
  },
  {
   "cell_type": "code",
   "execution_count": 18,
   "metadata": {},
   "outputs": [],
   "source": [
    "new_df=pd.DataFrame({'year':df['Date'].dt.year,\n",
    "                     'month':df['Date'].dt.month,\n",
    "                     'day':df['Date'].dt.day,\n",
    "                     \n",
    "                     'week':df['Date'].dt.week,           \n",
    "                     'dayofweek':df['Date'].dt.dayofweek,\n",
    "\n",
    "                    'quater':df['Date'].dt.quarter})"
   ]
  },
  {
   "cell_type": "code",
   "execution_count": 19,
   "metadata": {},
   "outputs": [
    {
     "data": {
      "text/html": [
       "<div>\n",
       "<style scoped>\n",
       "    .dataframe tbody tr th:only-of-type {\n",
       "        vertical-align: middle;\n",
       "    }\n",
       "\n",
       "    .dataframe tbody tr th {\n",
       "        vertical-align: top;\n",
       "    }\n",
       "\n",
       "    .dataframe thead th {\n",
       "        text-align: right;\n",
       "    }\n",
       "</style>\n",
       "<table border=\"1\" class=\"dataframe\">\n",
       "  <thead>\n",
       "    <tr style=\"text-align: right;\">\n",
       "      <th></th>\n",
       "      <th>year</th>\n",
       "      <th>month</th>\n",
       "      <th>day</th>\n",
       "      <th>week</th>\n",
       "      <th>dayofweek</th>\n",
       "      <th>quater</th>\n",
       "    </tr>\n",
       "  </thead>\n",
       "  <tbody>\n",
       "    <tr>\n",
       "      <td>0</td>\n",
       "      <td>2020</td>\n",
       "      <td>4</td>\n",
       "      <td>18</td>\n",
       "      <td>16</td>\n",
       "      <td>5</td>\n",
       "      <td>2</td>\n",
       "    </tr>\n",
       "    <tr>\n",
       "      <td>1</td>\n",
       "      <td>2020</td>\n",
       "      <td>4</td>\n",
       "      <td>19</td>\n",
       "      <td>16</td>\n",
       "      <td>6</td>\n",
       "      <td>2</td>\n",
       "    </tr>\n",
       "    <tr>\n",
       "      <td>2</td>\n",
       "      <td>2020</td>\n",
       "      <td>4</td>\n",
       "      <td>20</td>\n",
       "      <td>17</td>\n",
       "      <td>0</td>\n",
       "      <td>2</td>\n",
       "    </tr>\n",
       "    <tr>\n",
       "      <td>3</td>\n",
       "      <td>2020</td>\n",
       "      <td>4</td>\n",
       "      <td>21</td>\n",
       "      <td>17</td>\n",
       "      <td>1</td>\n",
       "      <td>2</td>\n",
       "    </tr>\n",
       "    <tr>\n",
       "      <td>4</td>\n",
       "      <td>2020</td>\n",
       "      <td>4</td>\n",
       "      <td>22</td>\n",
       "      <td>17</td>\n",
       "      <td>2</td>\n",
       "      <td>2</td>\n",
       "    </tr>\n",
       "  </tbody>\n",
       "</table>\n",
       "</div>"
      ],
      "text/plain": [
       "   year  month  day  week  dayofweek  quater\n",
       "0  2020      4   18    16          5       2\n",
       "1  2020      4   19    16          6       2\n",
       "2  2020      4   20    17          0       2\n",
       "3  2020      4   21    17          1       2\n",
       "4  2020      4   22    17          2       2"
      ]
     },
     "execution_count": 19,
     "metadata": {},
     "output_type": "execute_result"
    }
   ],
   "source": [
    "new_df.head()"
   ]
  },
  {
   "cell_type": "code",
   "execution_count": 20,
   "metadata": {},
   "outputs": [],
   "source": [
    "df=pd.concat([df,new_df],axis=1)"
   ]
  },
  {
   "cell_type": "code",
   "execution_count": 21,
   "metadata": {},
   "outputs": [],
   "source": [
    "df=df.drop('Date',axis=1)#dropping the column as we have extracted the required features."
   ]
  },
  {
   "cell_type": "code",
   "execution_count": 22,
   "metadata": {},
   "outputs": [
    {
     "data": {
      "text/html": [
       "<div>\n",
       "<style scoped>\n",
       "    .dataframe tbody tr th:only-of-type {\n",
       "        vertical-align: middle;\n",
       "    }\n",
       "\n",
       "    .dataframe tbody tr th {\n",
       "        vertical-align: top;\n",
       "    }\n",
       "\n",
       "    .dataframe thead th {\n",
       "        text-align: right;\n",
       "    }\n",
       "</style>\n",
       "<table border=\"1\" class=\"dataframe\">\n",
       "  <thead>\n",
       "    <tr style=\"text-align: right;\">\n",
       "      <th></th>\n",
       "      <th>Country</th>\n",
       "      <th>Population</th>\n",
       "      <th>Total Tests</th>\n",
       "      <th>Total Cases</th>\n",
       "      <th>Total Deaths</th>\n",
       "      <th>Total Recovered</th>\n",
       "      <th>Serious or Critical</th>\n",
       "      <th>Active Cases</th>\n",
       "      <th>Fraction age 0-14 years</th>\n",
       "      <th>Fraction age 15-64 years</th>\n",
       "      <th>Fraction age 65+ years</th>\n",
       "      <th>year</th>\n",
       "      <th>month</th>\n",
       "      <th>day</th>\n",
       "      <th>week</th>\n",
       "      <th>dayofweek</th>\n",
       "      <th>quater</th>\n",
       "    </tr>\n",
       "  </thead>\n",
       "  <tbody>\n",
       "    <tr>\n",
       "      <td>0</td>\n",
       "      <td>USA</td>\n",
       "      <td>330774664</td>\n",
       "      <td>3722145.0</td>\n",
       "      <td>738792.0</td>\n",
       "      <td>39014.0</td>\n",
       "      <td>68269.0</td>\n",
       "      <td>13551.0</td>\n",
       "      <td>631509.0</td>\n",
       "      <td>0.189</td>\n",
       "      <td>0.657</td>\n",
       "      <td>0.154</td>\n",
       "      <td>2020</td>\n",
       "      <td>4</td>\n",
       "      <td>18</td>\n",
       "      <td>16</td>\n",
       "      <td>5</td>\n",
       "      <td>2</td>\n",
       "    </tr>\n",
       "    <tr>\n",
       "      <td>1</td>\n",
       "      <td>USA</td>\n",
       "      <td>330774664</td>\n",
       "      <td>3861549.0</td>\n",
       "      <td>763832.0</td>\n",
       "      <td>40553.0</td>\n",
       "      <td>71003.0</td>\n",
       "      <td>13566.0</td>\n",
       "      <td>652276.0</td>\n",
       "      <td>0.189</td>\n",
       "      <td>0.657</td>\n",
       "      <td>0.154</td>\n",
       "      <td>2020</td>\n",
       "      <td>4</td>\n",
       "      <td>19</td>\n",
       "      <td>16</td>\n",
       "      <td>6</td>\n",
       "      <td>2</td>\n",
       "    </tr>\n",
       "    <tr>\n",
       "      <td>2</td>\n",
       "      <td>USA</td>\n",
       "      <td>330774664</td>\n",
       "      <td>4026360.0</td>\n",
       "      <td>792759.0</td>\n",
       "      <td>42514.0</td>\n",
       "      <td>72389.0</td>\n",
       "      <td>13951.0</td>\n",
       "      <td>677856.0</td>\n",
       "      <td>0.189</td>\n",
       "      <td>0.657</td>\n",
       "      <td>0.154</td>\n",
       "      <td>2020</td>\n",
       "      <td>4</td>\n",
       "      <td>20</td>\n",
       "      <td>17</td>\n",
       "      <td>0</td>\n",
       "      <td>2</td>\n",
       "    </tr>\n",
       "    <tr>\n",
       "      <td>3</td>\n",
       "      <td>USA</td>\n",
       "      <td>330774664</td>\n",
       "      <td>4187392.0</td>\n",
       "      <td>818744.0</td>\n",
       "      <td>45318.0</td>\n",
       "      <td>82923.0</td>\n",
       "      <td>14016.0</td>\n",
       "      <td>690503.0</td>\n",
       "      <td>0.189</td>\n",
       "      <td>0.657</td>\n",
       "      <td>0.154</td>\n",
       "      <td>2020</td>\n",
       "      <td>4</td>\n",
       "      <td>21</td>\n",
       "      <td>17</td>\n",
       "      <td>1</td>\n",
       "      <td>2</td>\n",
       "    </tr>\n",
       "    <tr>\n",
       "      <td>4</td>\n",
       "      <td>USA</td>\n",
       "      <td>330774664</td>\n",
       "      <td>4325342.0</td>\n",
       "      <td>848717.0</td>\n",
       "      <td>47659.0</td>\n",
       "      <td>84050.0</td>\n",
       "      <td>14016.0</td>\n",
       "      <td>717008.0</td>\n",
       "      <td>0.189</td>\n",
       "      <td>0.657</td>\n",
       "      <td>0.154</td>\n",
       "      <td>2020</td>\n",
       "      <td>4</td>\n",
       "      <td>22</td>\n",
       "      <td>17</td>\n",
       "      <td>2</td>\n",
       "      <td>2</td>\n",
       "    </tr>\n",
       "  </tbody>\n",
       "</table>\n",
       "</div>"
      ],
      "text/plain": [
       "  Country  Population  Total Tests  Total Cases  Total Deaths  \\\n",
       "0     USA   330774664    3722145.0     738792.0       39014.0   \n",
       "1     USA   330774664    3861549.0     763832.0       40553.0   \n",
       "2     USA   330774664    4026360.0     792759.0       42514.0   \n",
       "3     USA   330774664    4187392.0     818744.0       45318.0   \n",
       "4     USA   330774664    4325342.0     848717.0       47659.0   \n",
       "\n",
       "   Total Recovered  Serious or Critical  Active Cases  \\\n",
       "0          68269.0              13551.0      631509.0   \n",
       "1          71003.0              13566.0      652276.0   \n",
       "2          72389.0              13951.0      677856.0   \n",
       "3          82923.0              14016.0      690503.0   \n",
       "4          84050.0              14016.0      717008.0   \n",
       "\n",
       "   Fraction age 0-14 years  Fraction age 15-64 years  Fraction age 65+ years  \\\n",
       "0                    0.189                     0.657                   0.154   \n",
       "1                    0.189                     0.657                   0.154   \n",
       "2                    0.189                     0.657                   0.154   \n",
       "3                    0.189                     0.657                   0.154   \n",
       "4                    0.189                     0.657                   0.154   \n",
       "\n",
       "   year  month  day  week  dayofweek  quater  \n",
       "0  2020      4   18    16          5       2  \n",
       "1  2020      4   19    16          6       2  \n",
       "2  2020      4   20    17          0       2  \n",
       "3  2020      4   21    17          1       2  \n",
       "4  2020      4   22    17          2       2  "
      ]
     },
     "execution_count": 22,
     "metadata": {},
     "output_type": "execute_result"
    }
   ],
   "source": [
    "df.head()"
   ]
  },
  {
   "cell_type": "code",
   "execution_count": 23,
   "metadata": {},
   "outputs": [
    {
     "data": {
      "text/html": [
       "<div>\n",
       "<style scoped>\n",
       "    .dataframe tbody tr th:only-of-type {\n",
       "        vertical-align: middle;\n",
       "    }\n",
       "\n",
       "    .dataframe tbody tr th {\n",
       "        vertical-align: top;\n",
       "    }\n",
       "\n",
       "    .dataframe thead th {\n",
       "        text-align: right;\n",
       "    }\n",
       "</style>\n",
       "<table border=\"1\" class=\"dataframe\">\n",
       "  <thead>\n",
       "    <tr style=\"text-align: right;\">\n",
       "      <th></th>\n",
       "      <th>Country</th>\n",
       "      <th>Population</th>\n",
       "      <th>Total Tests</th>\n",
       "      <th>Total Cases</th>\n",
       "      <th>Total Deaths</th>\n",
       "      <th>Total Recovered</th>\n",
       "      <th>Serious or Critical</th>\n",
       "      <th>Active Cases</th>\n",
       "      <th>Fraction age 0-14 years</th>\n",
       "      <th>Fraction age 15-64 years</th>\n",
       "      <th>Fraction age 65+ years</th>\n",
       "      <th>year</th>\n",
       "      <th>month</th>\n",
       "      <th>day</th>\n",
       "      <th>week</th>\n",
       "      <th>dayofweek</th>\n",
       "      <th>quater</th>\n",
       "    </tr>\n",
       "  </thead>\n",
       "  <tbody>\n",
       "    <tr>\n",
       "      <td>6598</td>\n",
       "      <td>Saint Pierre Miquelon</td>\n",
       "      <td>5797</td>\n",
       "      <td>216725.161308</td>\n",
       "      <td>1.0</td>\n",
       "      <td>1416.252096</td>\n",
       "      <td>1.0</td>\n",
       "      <td>386.74836</td>\n",
       "      <td>0.0</td>\n",
       "      <td>0.276098</td>\n",
       "      <td>0.636109</td>\n",
       "      <td>0.087731</td>\n",
       "      <td>2020</td>\n",
       "      <td>5</td>\n",
       "      <td>14</td>\n",
       "      <td>20</td>\n",
       "      <td>3</td>\n",
       "      <td>2</td>\n",
       "    </tr>\n",
       "    <tr>\n",
       "      <td>6599</td>\n",
       "      <td>Saint Pierre Miquelon</td>\n",
       "      <td>5797</td>\n",
       "      <td>216725.161308</td>\n",
       "      <td>1.0</td>\n",
       "      <td>1416.252096</td>\n",
       "      <td>1.0</td>\n",
       "      <td>386.74836</td>\n",
       "      <td>0.0</td>\n",
       "      <td>0.276098</td>\n",
       "      <td>0.636109</td>\n",
       "      <td>0.087731</td>\n",
       "      <td>2020</td>\n",
       "      <td>5</td>\n",
       "      <td>15</td>\n",
       "      <td>20</td>\n",
       "      <td>4</td>\n",
       "      <td>2</td>\n",
       "    </tr>\n",
       "    <tr>\n",
       "      <td>6600</td>\n",
       "      <td>Saint Pierre Miquelon</td>\n",
       "      <td>5797</td>\n",
       "      <td>216725.161308</td>\n",
       "      <td>1.0</td>\n",
       "      <td>1416.252096</td>\n",
       "      <td>1.0</td>\n",
       "      <td>386.74836</td>\n",
       "      <td>0.0</td>\n",
       "      <td>0.276098</td>\n",
       "      <td>0.636109</td>\n",
       "      <td>0.087731</td>\n",
       "      <td>2020</td>\n",
       "      <td>5</td>\n",
       "      <td>16</td>\n",
       "      <td>20</td>\n",
       "      <td>5</td>\n",
       "      <td>2</td>\n",
       "    </tr>\n",
       "    <tr>\n",
       "      <td>6601</td>\n",
       "      <td>Saint Pierre Miquelon</td>\n",
       "      <td>5797</td>\n",
       "      <td>216725.161308</td>\n",
       "      <td>1.0</td>\n",
       "      <td>1416.252096</td>\n",
       "      <td>1.0</td>\n",
       "      <td>386.74836</td>\n",
       "      <td>0.0</td>\n",
       "      <td>0.276098</td>\n",
       "      <td>0.636109</td>\n",
       "      <td>0.087731</td>\n",
       "      <td>2020</td>\n",
       "      <td>5</td>\n",
       "      <td>17</td>\n",
       "      <td>20</td>\n",
       "      <td>6</td>\n",
       "      <td>2</td>\n",
       "    </tr>\n",
       "    <tr>\n",
       "      <td>6602</td>\n",
       "      <td>Saint Pierre Miquelon</td>\n",
       "      <td>5797</td>\n",
       "      <td>216725.161308</td>\n",
       "      <td>1.0</td>\n",
       "      <td>1416.252096</td>\n",
       "      <td>1.0</td>\n",
       "      <td>386.74836</td>\n",
       "      <td>0.0</td>\n",
       "      <td>0.276098</td>\n",
       "      <td>0.636109</td>\n",
       "      <td>0.087731</td>\n",
       "      <td>2020</td>\n",
       "      <td>5</td>\n",
       "      <td>18</td>\n",
       "      <td>21</td>\n",
       "      <td>0</td>\n",
       "      <td>2</td>\n",
       "    </tr>\n",
       "  </tbody>\n",
       "</table>\n",
       "</div>"
      ],
      "text/plain": [
       "                    Country  Population    Total Tests  Total Cases  \\\n",
       "6598  Saint Pierre Miquelon        5797  216725.161308          1.0   \n",
       "6599  Saint Pierre Miquelon        5797  216725.161308          1.0   \n",
       "6600  Saint Pierre Miquelon        5797  216725.161308          1.0   \n",
       "6601  Saint Pierre Miquelon        5797  216725.161308          1.0   \n",
       "6602  Saint Pierre Miquelon        5797  216725.161308          1.0   \n",
       "\n",
       "      Total Deaths  Total Recovered  Serious or Critical  Active Cases  \\\n",
       "6598   1416.252096              1.0            386.74836           0.0   \n",
       "6599   1416.252096              1.0            386.74836           0.0   \n",
       "6600   1416.252096              1.0            386.74836           0.0   \n",
       "6601   1416.252096              1.0            386.74836           0.0   \n",
       "6602   1416.252096              1.0            386.74836           0.0   \n",
       "\n",
       "      Fraction age 0-14 years  Fraction age 15-64 years  \\\n",
       "6598                 0.276098                  0.636109   \n",
       "6599                 0.276098                  0.636109   \n",
       "6600                 0.276098                  0.636109   \n",
       "6601                 0.276098                  0.636109   \n",
       "6602                 0.276098                  0.636109   \n",
       "\n",
       "      Fraction age 65+ years  year  month  day  week  dayofweek  quater  \n",
       "6598                0.087731  2020      5   14    20          3       2  \n",
       "6599                0.087731  2020      5   15    20          4       2  \n",
       "6600                0.087731  2020      5   16    20          5       2  \n",
       "6601                0.087731  2020      5   17    20          6       2  \n",
       "6602                0.087731  2020      5   18    21          0       2  "
      ]
     },
     "execution_count": 23,
     "metadata": {},
     "output_type": "execute_result"
    }
   ],
   "source": [
    "df.tail()"
   ]
  },
  {
   "cell_type": "markdown",
   "metadata": {},
   "source": [
    "# Checking correlation between attributes"
   ]
  },
  {
   "cell_type": "code",
   "execution_count": 24,
   "metadata": {},
   "outputs": [
    {
     "data": {
      "text/html": [
       "<div>\n",
       "<style scoped>\n",
       "    .dataframe tbody tr th:only-of-type {\n",
       "        vertical-align: middle;\n",
       "    }\n",
       "\n",
       "    .dataframe tbody tr th {\n",
       "        vertical-align: top;\n",
       "    }\n",
       "\n",
       "    .dataframe thead th {\n",
       "        text-align: right;\n",
       "    }\n",
       "</style>\n",
       "<table border=\"1\" class=\"dataframe\">\n",
       "  <thead>\n",
       "    <tr style=\"text-align: right;\">\n",
       "      <th></th>\n",
       "      <th>Population</th>\n",
       "      <th>Total Tests</th>\n",
       "      <th>Total Cases</th>\n",
       "      <th>Total Deaths</th>\n",
       "      <th>Total Recovered</th>\n",
       "      <th>Serious or Critical</th>\n",
       "      <th>Active Cases</th>\n",
       "      <th>Fraction age 0-14 years</th>\n",
       "      <th>Fraction age 15-64 years</th>\n",
       "      <th>Fraction age 65+ years</th>\n",
       "      <th>year</th>\n",
       "      <th>month</th>\n",
       "      <th>day</th>\n",
       "      <th>week</th>\n",
       "      <th>dayofweek</th>\n",
       "      <th>quater</th>\n",
       "    </tr>\n",
       "  </thead>\n",
       "  <tbody>\n",
       "    <tr>\n",
       "      <td>Population</td>\n",
       "      <td>1.000000e+00</td>\n",
       "      <td>0.223735</td>\n",
       "      <td>0.225844</td>\n",
       "      <td>0.176773</td>\n",
       "      <td>0.309361</td>\n",
       "      <td>0.170461</td>\n",
       "      <td>0.179359</td>\n",
       "      <td>-3.963023e-02</td>\n",
       "      <td>7.106569e-02</td>\n",
       "      <td>-7.318830e-03</td>\n",
       "      <td>NaN</td>\n",
       "      <td>-2.421248e-17</td>\n",
       "      <td>4.941372e-18</td>\n",
       "      <td>-2.619215e-17</td>\n",
       "      <td>9.232906e-20</td>\n",
       "      <td>NaN</td>\n",
       "    </tr>\n",
       "    <tr>\n",
       "      <td>Total Tests</td>\n",
       "      <td>2.237353e-01</td>\n",
       "      <td>1.000000</td>\n",
       "      <td>0.896328</td>\n",
       "      <td>0.803680</td>\n",
       "      <td>0.795205</td>\n",
       "      <td>0.728773</td>\n",
       "      <td>0.853809</td>\n",
       "      <td>-1.953539e-01</td>\n",
       "      <td>1.015360e-01</td>\n",
       "      <td>2.263206e-01</td>\n",
       "      <td>NaN</td>\n",
       "      <td>6.394901e-02</td>\n",
       "      <td>-3.165231e-02</td>\n",
       "      <td>7.336962e-02</td>\n",
       "      <td>8.658034e-04</td>\n",
       "      <td>NaN</td>\n",
       "    </tr>\n",
       "    <tr>\n",
       "      <td>Total Cases</td>\n",
       "      <td>2.258444e-01</td>\n",
       "      <td>0.896328</td>\n",
       "      <td>1.000000</td>\n",
       "      <td>0.930952</td>\n",
       "      <td>0.821121</td>\n",
       "      <td>0.881620</td>\n",
       "      <td>0.975361</td>\n",
       "      <td>-1.692817e-01</td>\n",
       "      <td>7.641202e-02</td>\n",
       "      <td>2.082450e-01</td>\n",
       "      <td>NaN</td>\n",
       "      <td>3.363032e-02</td>\n",
       "      <td>-1.680237e-02</td>\n",
       "      <td>3.855360e-02</td>\n",
       "      <td>-5.035523e-05</td>\n",
       "      <td>NaN</td>\n",
       "    </tr>\n",
       "    <tr>\n",
       "      <td>Total Deaths</td>\n",
       "      <td>1.767733e-01</td>\n",
       "      <td>0.803680</td>\n",
       "      <td>0.930952</td>\n",
       "      <td>1.000000</td>\n",
       "      <td>0.794887</td>\n",
       "      <td>0.822177</td>\n",
       "      <td>0.879732</td>\n",
       "      <td>-1.723069e-01</td>\n",
       "      <td>3.868564e-02</td>\n",
       "      <td>2.534659e-01</td>\n",
       "      <td>NaN</td>\n",
       "      <td>2.746937e-02</td>\n",
       "      <td>-1.261157e-02</td>\n",
       "      <td>3.280173e-02</td>\n",
       "      <td>-1.280039e-03</td>\n",
       "      <td>NaN</td>\n",
       "    </tr>\n",
       "    <tr>\n",
       "      <td>Total Recovered</td>\n",
       "      <td>3.093609e-01</td>\n",
       "      <td>0.795205</td>\n",
       "      <td>0.821121</td>\n",
       "      <td>0.794887</td>\n",
       "      <td>1.000000</td>\n",
       "      <td>0.707686</td>\n",
       "      <td>0.687265</td>\n",
       "      <td>-2.247533e-01</td>\n",
       "      <td>1.170716e-01</td>\n",
       "      <td>2.602072e-01</td>\n",
       "      <td>NaN</td>\n",
       "      <td>6.416855e-02</td>\n",
       "      <td>-3.157308e-02</td>\n",
       "      <td>7.387598e-02</td>\n",
       "      <td>5.131063e-04</td>\n",
       "      <td>NaN</td>\n",
       "    </tr>\n",
       "    <tr>\n",
       "      <td>Serious or Critical</td>\n",
       "      <td>1.704606e-01</td>\n",
       "      <td>0.728773</td>\n",
       "      <td>0.881620</td>\n",
       "      <td>0.822177</td>\n",
       "      <td>0.707686</td>\n",
       "      <td>1.000000</td>\n",
       "      <td>0.869204</td>\n",
       "      <td>-9.022858e-02</td>\n",
       "      <td>2.737646e-02</td>\n",
       "      <td>1.252691e-01</td>\n",
       "      <td>NaN</td>\n",
       "      <td>-1.379096e-02</td>\n",
       "      <td>1.022173e-02</td>\n",
       "      <td>-1.260342e-02</td>\n",
       "      <td>-5.062075e-04</td>\n",
       "      <td>NaN</td>\n",
       "    </tr>\n",
       "    <tr>\n",
       "      <td>Active Cases</td>\n",
       "      <td>1.793593e-01</td>\n",
       "      <td>0.853809</td>\n",
       "      <td>0.975361</td>\n",
       "      <td>0.879732</td>\n",
       "      <td>0.687265</td>\n",
       "      <td>0.869204</td>\n",
       "      <td>1.000000</td>\n",
       "      <td>-1.297538e-01</td>\n",
       "      <td>5.677429e-02</td>\n",
       "      <td>1.614446e-01</td>\n",
       "      <td>NaN</td>\n",
       "      <td>1.709871e-02</td>\n",
       "      <td>-1.024770e-02</td>\n",
       "      <td>1.815385e-02</td>\n",
       "      <td>-6.097797e-04</td>\n",
       "      <td>NaN</td>\n",
       "    </tr>\n",
       "    <tr>\n",
       "      <td>Fraction age 0-14 years</td>\n",
       "      <td>-3.963023e-02</td>\n",
       "      <td>-0.195354</td>\n",
       "      <td>-0.169282</td>\n",
       "      <td>-0.172307</td>\n",
       "      <td>-0.224753</td>\n",
       "      <td>-0.090229</td>\n",
       "      <td>-0.129754</td>\n",
       "      <td>1.000000e+00</td>\n",
       "      <td>-8.392592e-01</td>\n",
       "      <td>-8.151330e-01</td>\n",
       "      <td>NaN</td>\n",
       "      <td>-5.106248e-18</td>\n",
       "      <td>4.453269e-18</td>\n",
       "      <td>-2.512126e-18</td>\n",
       "      <td>4.620086e-18</td>\n",
       "      <td>NaN</td>\n",
       "    </tr>\n",
       "    <tr>\n",
       "      <td>Fraction age 15-64 years</td>\n",
       "      <td>7.106569e-02</td>\n",
       "      <td>0.101536</td>\n",
       "      <td>0.076412</td>\n",
       "      <td>0.038686</td>\n",
       "      <td>0.117072</td>\n",
       "      <td>0.027376</td>\n",
       "      <td>0.056774</td>\n",
       "      <td>-8.392592e-01</td>\n",
       "      <td>1.000000e+00</td>\n",
       "      <td>3.692851e-01</td>\n",
       "      <td>NaN</td>\n",
       "      <td>1.961361e-17</td>\n",
       "      <td>2.615635e-18</td>\n",
       "      <td>2.140060e-31</td>\n",
       "      <td>-1.307922e-18</td>\n",
       "      <td>NaN</td>\n",
       "    </tr>\n",
       "    <tr>\n",
       "      <td>Fraction age 65+ years</td>\n",
       "      <td>-7.318830e-03</td>\n",
       "      <td>0.226321</td>\n",
       "      <td>0.208245</td>\n",
       "      <td>0.253466</td>\n",
       "      <td>0.260207</td>\n",
       "      <td>0.125269</td>\n",
       "      <td>0.161445</td>\n",
       "      <td>-8.151330e-01</td>\n",
       "      <td>3.692851e-01</td>\n",
       "      <td>1.000000e+00</td>\n",
       "      <td>NaN</td>\n",
       "      <td>3.983307e-18</td>\n",
       "      <td>4.019144e-18</td>\n",
       "      <td>-6.997993e-18</td>\n",
       "      <td>3.569290e-20</td>\n",
       "      <td>NaN</td>\n",
       "    </tr>\n",
       "    <tr>\n",
       "      <td>year</td>\n",
       "      <td>NaN</td>\n",
       "      <td>NaN</td>\n",
       "      <td>NaN</td>\n",
       "      <td>NaN</td>\n",
       "      <td>NaN</td>\n",
       "      <td>NaN</td>\n",
       "      <td>NaN</td>\n",
       "      <td>NaN</td>\n",
       "      <td>NaN</td>\n",
       "      <td>NaN</td>\n",
       "      <td>NaN</td>\n",
       "      <td>NaN</td>\n",
       "      <td>NaN</td>\n",
       "      <td>NaN</td>\n",
       "      <td>NaN</td>\n",
       "      <td>NaN</td>\n",
       "    </tr>\n",
       "    <tr>\n",
       "      <td>month</td>\n",
       "      <td>-2.421248e-17</td>\n",
       "      <td>0.063949</td>\n",
       "      <td>0.033630</td>\n",
       "      <td>0.027469</td>\n",
       "      <td>0.064169</td>\n",
       "      <td>-0.013791</td>\n",
       "      <td>0.017099</td>\n",
       "      <td>-5.106248e-18</td>\n",
       "      <td>1.961361e-17</td>\n",
       "      <td>3.983307e-18</td>\n",
       "      <td>NaN</td>\n",
       "      <td>1.000000e+00</td>\n",
       "      <td>-8.391926e-01</td>\n",
       "      <td>8.182918e-01</td>\n",
       "      <td>5.784194e-02</td>\n",
       "      <td>NaN</td>\n",
       "    </tr>\n",
       "    <tr>\n",
       "      <td>day</td>\n",
       "      <td>4.941372e-18</td>\n",
       "      <td>-0.031652</td>\n",
       "      <td>-0.016802</td>\n",
       "      <td>-0.012612</td>\n",
       "      <td>-0.031573</td>\n",
       "      <td>0.010222</td>\n",
       "      <td>-0.010248</td>\n",
       "      <td>4.453269e-18</td>\n",
       "      <td>2.615635e-18</td>\n",
       "      <td>4.019144e-18</td>\n",
       "      <td>NaN</td>\n",
       "      <td>-8.391926e-01</td>\n",
       "      <td>1.000000e+00</td>\n",
       "      <td>-3.988364e-01</td>\n",
       "      <td>-1.095319e-01</td>\n",
       "      <td>NaN</td>\n",
       "    </tr>\n",
       "    <tr>\n",
       "      <td>week</td>\n",
       "      <td>-2.619215e-17</td>\n",
       "      <td>0.073370</td>\n",
       "      <td>0.038554</td>\n",
       "      <td>0.032802</td>\n",
       "      <td>0.073876</td>\n",
       "      <td>-0.012603</td>\n",
       "      <td>0.018154</td>\n",
       "      <td>-2.512126e-18</td>\n",
       "      <td>2.140060e-31</td>\n",
       "      <td>-6.997993e-18</td>\n",
       "      <td>NaN</td>\n",
       "      <td>8.182918e-01</td>\n",
       "      <td>-3.988364e-01</td>\n",
       "      <td>1.000000e+00</td>\n",
       "      <td>-2.343133e-01</td>\n",
       "      <td>NaN</td>\n",
       "    </tr>\n",
       "    <tr>\n",
       "      <td>dayofweek</td>\n",
       "      <td>9.232906e-20</td>\n",
       "      <td>0.000866</td>\n",
       "      <td>-0.000050</td>\n",
       "      <td>-0.001280</td>\n",
       "      <td>0.000513</td>\n",
       "      <td>-0.000506</td>\n",
       "      <td>-0.000610</td>\n",
       "      <td>4.620086e-18</td>\n",
       "      <td>-1.307922e-18</td>\n",
       "      <td>3.569290e-20</td>\n",
       "      <td>NaN</td>\n",
       "      <td>5.784194e-02</td>\n",
       "      <td>-1.095319e-01</td>\n",
       "      <td>-2.343133e-01</td>\n",
       "      <td>1.000000e+00</td>\n",
       "      <td>NaN</td>\n",
       "    </tr>\n",
       "    <tr>\n",
       "      <td>quater</td>\n",
       "      <td>NaN</td>\n",
       "      <td>NaN</td>\n",
       "      <td>NaN</td>\n",
       "      <td>NaN</td>\n",
       "      <td>NaN</td>\n",
       "      <td>NaN</td>\n",
       "      <td>NaN</td>\n",
       "      <td>NaN</td>\n",
       "      <td>NaN</td>\n",
       "      <td>NaN</td>\n",
       "      <td>NaN</td>\n",
       "      <td>NaN</td>\n",
       "      <td>NaN</td>\n",
       "      <td>NaN</td>\n",
       "      <td>NaN</td>\n",
       "      <td>NaN</td>\n",
       "    </tr>\n",
       "  </tbody>\n",
       "</table>\n",
       "</div>"
      ],
      "text/plain": [
       "                            Population  Total Tests  Total Cases  \\\n",
       "Population                1.000000e+00     0.223735     0.225844   \n",
       "Total Tests               2.237353e-01     1.000000     0.896328   \n",
       "Total Cases               2.258444e-01     0.896328     1.000000   \n",
       "Total Deaths              1.767733e-01     0.803680     0.930952   \n",
       "Total Recovered           3.093609e-01     0.795205     0.821121   \n",
       "Serious or Critical       1.704606e-01     0.728773     0.881620   \n",
       "Active Cases              1.793593e-01     0.853809     0.975361   \n",
       "Fraction age 0-14 years  -3.963023e-02    -0.195354    -0.169282   \n",
       "Fraction age 15-64 years  7.106569e-02     0.101536     0.076412   \n",
       "Fraction age 65+ years   -7.318830e-03     0.226321     0.208245   \n",
       "year                               NaN          NaN          NaN   \n",
       "month                    -2.421248e-17     0.063949     0.033630   \n",
       "day                       4.941372e-18    -0.031652    -0.016802   \n",
       "week                     -2.619215e-17     0.073370     0.038554   \n",
       "dayofweek                 9.232906e-20     0.000866    -0.000050   \n",
       "quater                             NaN          NaN          NaN   \n",
       "\n",
       "                          Total Deaths  Total Recovered  Serious or Critical  \\\n",
       "Population                    0.176773         0.309361             0.170461   \n",
       "Total Tests                   0.803680         0.795205             0.728773   \n",
       "Total Cases                   0.930952         0.821121             0.881620   \n",
       "Total Deaths                  1.000000         0.794887             0.822177   \n",
       "Total Recovered               0.794887         1.000000             0.707686   \n",
       "Serious or Critical           0.822177         0.707686             1.000000   \n",
       "Active Cases                  0.879732         0.687265             0.869204   \n",
       "Fraction age 0-14 years      -0.172307        -0.224753            -0.090229   \n",
       "Fraction age 15-64 years      0.038686         0.117072             0.027376   \n",
       "Fraction age 65+ years        0.253466         0.260207             0.125269   \n",
       "year                               NaN              NaN                  NaN   \n",
       "month                         0.027469         0.064169            -0.013791   \n",
       "day                          -0.012612        -0.031573             0.010222   \n",
       "week                          0.032802         0.073876            -0.012603   \n",
       "dayofweek                    -0.001280         0.000513            -0.000506   \n",
       "quater                             NaN              NaN                  NaN   \n",
       "\n",
       "                          Active Cases  Fraction age 0-14 years  \\\n",
       "Population                    0.179359            -3.963023e-02   \n",
       "Total Tests                   0.853809            -1.953539e-01   \n",
       "Total Cases                   0.975361            -1.692817e-01   \n",
       "Total Deaths                  0.879732            -1.723069e-01   \n",
       "Total Recovered               0.687265            -2.247533e-01   \n",
       "Serious or Critical           0.869204            -9.022858e-02   \n",
       "Active Cases                  1.000000            -1.297538e-01   \n",
       "Fraction age 0-14 years      -0.129754             1.000000e+00   \n",
       "Fraction age 15-64 years      0.056774            -8.392592e-01   \n",
       "Fraction age 65+ years        0.161445            -8.151330e-01   \n",
       "year                               NaN                      NaN   \n",
       "month                         0.017099            -5.106248e-18   \n",
       "day                          -0.010248             4.453269e-18   \n",
       "week                          0.018154            -2.512126e-18   \n",
       "dayofweek                    -0.000610             4.620086e-18   \n",
       "quater                             NaN                      NaN   \n",
       "\n",
       "                          Fraction age 15-64 years  Fraction age 65+ years  \\\n",
       "Population                            7.106569e-02           -7.318830e-03   \n",
       "Total Tests                           1.015360e-01            2.263206e-01   \n",
       "Total Cases                           7.641202e-02            2.082450e-01   \n",
       "Total Deaths                          3.868564e-02            2.534659e-01   \n",
       "Total Recovered                       1.170716e-01            2.602072e-01   \n",
       "Serious or Critical                   2.737646e-02            1.252691e-01   \n",
       "Active Cases                          5.677429e-02            1.614446e-01   \n",
       "Fraction age 0-14 years              -8.392592e-01           -8.151330e-01   \n",
       "Fraction age 15-64 years              1.000000e+00            3.692851e-01   \n",
       "Fraction age 65+ years                3.692851e-01            1.000000e+00   \n",
       "year                                           NaN                     NaN   \n",
       "month                                 1.961361e-17            3.983307e-18   \n",
       "day                                   2.615635e-18            4.019144e-18   \n",
       "week                                  2.140060e-31           -6.997993e-18   \n",
       "dayofweek                            -1.307922e-18            3.569290e-20   \n",
       "quater                                         NaN                     NaN   \n",
       "\n",
       "                          year         month           day          week  \\\n",
       "Population                 NaN -2.421248e-17  4.941372e-18 -2.619215e-17   \n",
       "Total Tests                NaN  6.394901e-02 -3.165231e-02  7.336962e-02   \n",
       "Total Cases                NaN  3.363032e-02 -1.680237e-02  3.855360e-02   \n",
       "Total Deaths               NaN  2.746937e-02 -1.261157e-02  3.280173e-02   \n",
       "Total Recovered            NaN  6.416855e-02 -3.157308e-02  7.387598e-02   \n",
       "Serious or Critical        NaN -1.379096e-02  1.022173e-02 -1.260342e-02   \n",
       "Active Cases               NaN  1.709871e-02 -1.024770e-02  1.815385e-02   \n",
       "Fraction age 0-14 years    NaN -5.106248e-18  4.453269e-18 -2.512126e-18   \n",
       "Fraction age 15-64 years   NaN  1.961361e-17  2.615635e-18  2.140060e-31   \n",
       "Fraction age 65+ years     NaN  3.983307e-18  4.019144e-18 -6.997993e-18   \n",
       "year                       NaN           NaN           NaN           NaN   \n",
       "month                      NaN  1.000000e+00 -8.391926e-01  8.182918e-01   \n",
       "day                        NaN -8.391926e-01  1.000000e+00 -3.988364e-01   \n",
       "week                       NaN  8.182918e-01 -3.988364e-01  1.000000e+00   \n",
       "dayofweek                  NaN  5.784194e-02 -1.095319e-01 -2.343133e-01   \n",
       "quater                     NaN           NaN           NaN           NaN   \n",
       "\n",
       "                             dayofweek  quater  \n",
       "Population                9.232906e-20     NaN  \n",
       "Total Tests               8.658034e-04     NaN  \n",
       "Total Cases              -5.035523e-05     NaN  \n",
       "Total Deaths             -1.280039e-03     NaN  \n",
       "Total Recovered           5.131063e-04     NaN  \n",
       "Serious or Critical      -5.062075e-04     NaN  \n",
       "Active Cases             -6.097797e-04     NaN  \n",
       "Fraction age 0-14 years   4.620086e-18     NaN  \n",
       "Fraction age 15-64 years -1.307922e-18     NaN  \n",
       "Fraction age 65+ years    3.569290e-20     NaN  \n",
       "year                               NaN     NaN  \n",
       "month                     5.784194e-02     NaN  \n",
       "day                      -1.095319e-01     NaN  \n",
       "week                     -2.343133e-01     NaN  \n",
       "dayofweek                 1.000000e+00     NaN  \n",
       "quater                             NaN     NaN  "
      ]
     },
     "execution_count": 24,
     "metadata": {},
     "output_type": "execute_result"
    }
   ],
   "source": [
    "df.corr()"
   ]
  },
  {
   "cell_type": "code",
   "execution_count": 25,
   "metadata": {},
   "outputs": [
    {
     "data": {
      "text/html": [
       "<div>\n",
       "<style scoped>\n",
       "    .dataframe tbody tr th:only-of-type {\n",
       "        vertical-align: middle;\n",
       "    }\n",
       "\n",
       "    .dataframe tbody tr th {\n",
       "        vertical-align: top;\n",
       "    }\n",
       "\n",
       "    .dataframe thead th {\n",
       "        text-align: right;\n",
       "    }\n",
       "</style>\n",
       "<table border=\"1\" class=\"dataframe\">\n",
       "  <thead>\n",
       "    <tr style=\"text-align: right;\">\n",
       "      <th></th>\n",
       "      <th>Population</th>\n",
       "      <th>Total Tests</th>\n",
       "      <th>Total Cases</th>\n",
       "      <th>Total Deaths</th>\n",
       "      <th>Total Recovered</th>\n",
       "      <th>Serious or Critical</th>\n",
       "      <th>Active Cases</th>\n",
       "      <th>Fraction age 0-14 years</th>\n",
       "      <th>Fraction age 15-64 years</th>\n",
       "      <th>Fraction age 65+ years</th>\n",
       "      <th>year</th>\n",
       "      <th>month</th>\n",
       "      <th>day</th>\n",
       "      <th>week</th>\n",
       "      <th>dayofweek</th>\n",
       "      <th>quater</th>\n",
       "    </tr>\n",
       "  </thead>\n",
       "  <tbody>\n",
       "    <tr>\n",
       "      <td>count</td>\n",
       "      <td>6.603000e+03</td>\n",
       "      <td>6.603000e+03</td>\n",
       "      <td>6.603000e+03</td>\n",
       "      <td>6603.000000</td>\n",
       "      <td>6603.000000</td>\n",
       "      <td>6603.000000</td>\n",
       "      <td>6.603000e+03</td>\n",
       "      <td>6603.000000</td>\n",
       "      <td>6603.000000</td>\n",
       "      <td>6603.000000</td>\n",
       "      <td>6603.0</td>\n",
       "      <td>6603.000000</td>\n",
       "      <td>6603.000000</td>\n",
       "      <td>6603.000000</td>\n",
       "      <td>6603.000000</td>\n",
       "      <td>6603.0</td>\n",
       "    </tr>\n",
       "    <tr>\n",
       "      <td>mean</td>\n",
       "      <td>3.637913e+07</td>\n",
       "      <td>2.167252e+05</td>\n",
       "      <td>1.692968e+04</td>\n",
       "      <td>1416.252096</td>\n",
       "      <td>5855.424185</td>\n",
       "      <td>386.748360</td>\n",
       "      <td>9.964142e+03</td>\n",
       "      <td>0.276098</td>\n",
       "      <td>0.636109</td>\n",
       "      <td>0.087731</td>\n",
       "      <td>2020.0</td>\n",
       "      <td>4.580645</td>\n",
       "      <td>15.580645</td>\n",
       "      <td>18.419355</td>\n",
       "      <td>3.064516</td>\n",
       "      <td>2.0</td>\n",
       "    </tr>\n",
       "    <tr>\n",
       "      <td>std</td>\n",
       "      <td>1.411537e+08</td>\n",
       "      <td>6.934856e+05</td>\n",
       "      <td>8.828521e+04</td>\n",
       "      <td>5990.992214</td>\n",
       "      <td>22955.519135</td>\n",
       "      <td>1309.473245</td>\n",
       "      <td>6.511732e+04</td>\n",
       "      <td>0.096766</td>\n",
       "      <td>0.060320</td>\n",
       "      <td>0.056676</td>\n",
       "      <td>0.0</td>\n",
       "      <td>0.493491</td>\n",
       "      <td>8.526788</td>\n",
       "      <td>1.314393</td>\n",
       "      <td>2.078238</td>\n",
       "      <td>0.0</td>\n",
       "    </tr>\n",
       "    <tr>\n",
       "      <td>min</td>\n",
       "      <td>8.010000e+02</td>\n",
       "      <td>1.000000e+01</td>\n",
       "      <td>1.000000e+00</td>\n",
       "      <td>0.000000</td>\n",
       "      <td>1.000000</td>\n",
       "      <td>1.000000</td>\n",
       "      <td>0.000000e+00</td>\n",
       "      <td>0.115000</td>\n",
       "      <td>0.472000</td>\n",
       "      <td>0.011000</td>\n",
       "      <td>2020.0</td>\n",
       "      <td>4.000000</td>\n",
       "      <td>1.000000</td>\n",
       "      <td>16.000000</td>\n",
       "      <td>0.000000</td>\n",
       "      <td>2.0</td>\n",
       "    </tr>\n",
       "    <tr>\n",
       "      <td>25%</td>\n",
       "      <td>8.672680e+05</td>\n",
       "      <td>4.733000e+03</td>\n",
       "      <td>8.000000e+01</td>\n",
       "      <td>8.000000</td>\n",
       "      <td>29.000000</td>\n",
       "      <td>7.000000</td>\n",
       "      <td>2.700000e+01</td>\n",
       "      <td>0.191000</td>\n",
       "      <td>0.607000</td>\n",
       "      <td>0.038000</td>\n",
       "      <td>2020.0</td>\n",
       "      <td>4.000000</td>\n",
       "      <td>8.000000</td>\n",
       "      <td>17.000000</td>\n",
       "      <td>1.000000</td>\n",
       "      <td>2.0</td>\n",
       "    </tr>\n",
       "    <tr>\n",
       "      <td>50%</td>\n",
       "      <td>6.859926e+06</td>\n",
       "      <td>5.419500e+04</td>\n",
       "      <td>6.320000e+02</td>\n",
       "      <td>55.000000</td>\n",
       "      <td>253.000000</td>\n",
       "      <td>137.000000</td>\n",
       "      <td>2.840000e+02</td>\n",
       "      <td>0.276098</td>\n",
       "      <td>0.638000</td>\n",
       "      <td>0.085000</td>\n",
       "      <td>2020.0</td>\n",
       "      <td>5.000000</td>\n",
       "      <td>16.000000</td>\n",
       "      <td>18.000000</td>\n",
       "      <td>3.000000</td>\n",
       "      <td>2.0</td>\n",
       "    </tr>\n",
       "    <tr>\n",
       "      <td>75%</td>\n",
       "      <td>2.546422e+07</td>\n",
       "      <td>2.167252e+05</td>\n",
       "      <td>5.222500e+03</td>\n",
       "      <td>1416.252096</td>\n",
       "      <td>1786.500000</td>\n",
       "      <td>386.748360</td>\n",
       "      <td>2.230500e+03</td>\n",
       "      <td>0.335000</td>\n",
       "      <td>0.667000</td>\n",
       "      <td>0.114000</td>\n",
       "      <td>2020.0</td>\n",
       "      <td>5.000000</td>\n",
       "      <td>23.000000</td>\n",
       "      <td>20.000000</td>\n",
       "      <td>5.000000</td>\n",
       "      <td>2.0</td>\n",
       "    </tr>\n",
       "    <tr>\n",
       "      <td>max</td>\n",
       "      <td>1.439324e+09</td>\n",
       "      <td>1.230074e+07</td>\n",
       "      <td>1.550294e+06</td>\n",
       "      <td>91981.000000</td>\n",
       "      <td>356383.000000</td>\n",
       "      <td>18671.000000</td>\n",
       "      <td>1.101930e+06</td>\n",
       "      <td>0.502000</td>\n",
       "      <td>0.850000</td>\n",
       "      <td>0.270000</td>\n",
       "      <td>2020.0</td>\n",
       "      <td>5.000000</td>\n",
       "      <td>30.000000</td>\n",
       "      <td>21.000000</td>\n",
       "      <td>6.000000</td>\n",
       "      <td>2.0</td>\n",
       "    </tr>\n",
       "  </tbody>\n",
       "</table>\n",
       "</div>"
      ],
      "text/plain": [
       "         Population   Total Tests   Total Cases  Total Deaths  \\\n",
       "count  6.603000e+03  6.603000e+03  6.603000e+03   6603.000000   \n",
       "mean   3.637913e+07  2.167252e+05  1.692968e+04   1416.252096   \n",
       "std    1.411537e+08  6.934856e+05  8.828521e+04   5990.992214   \n",
       "min    8.010000e+02  1.000000e+01  1.000000e+00      0.000000   \n",
       "25%    8.672680e+05  4.733000e+03  8.000000e+01      8.000000   \n",
       "50%    6.859926e+06  5.419500e+04  6.320000e+02     55.000000   \n",
       "75%    2.546422e+07  2.167252e+05  5.222500e+03   1416.252096   \n",
       "max    1.439324e+09  1.230074e+07  1.550294e+06  91981.000000   \n",
       "\n",
       "       Total Recovered  Serious or Critical  Active Cases  \\\n",
       "count      6603.000000          6603.000000  6.603000e+03   \n",
       "mean       5855.424185           386.748360  9.964142e+03   \n",
       "std       22955.519135          1309.473245  6.511732e+04   \n",
       "min           1.000000             1.000000  0.000000e+00   \n",
       "25%          29.000000             7.000000  2.700000e+01   \n",
       "50%         253.000000           137.000000  2.840000e+02   \n",
       "75%        1786.500000           386.748360  2.230500e+03   \n",
       "max      356383.000000         18671.000000  1.101930e+06   \n",
       "\n",
       "       Fraction age 0-14 years  Fraction age 15-64 years  \\\n",
       "count              6603.000000               6603.000000   \n",
       "mean                  0.276098                  0.636109   \n",
       "std                   0.096766                  0.060320   \n",
       "min                   0.115000                  0.472000   \n",
       "25%                   0.191000                  0.607000   \n",
       "50%                   0.276098                  0.638000   \n",
       "75%                   0.335000                  0.667000   \n",
       "max                   0.502000                  0.850000   \n",
       "\n",
       "       Fraction age 65+ years    year        month          day         week  \\\n",
       "count             6603.000000  6603.0  6603.000000  6603.000000  6603.000000   \n",
       "mean                 0.087731  2020.0     4.580645    15.580645    18.419355   \n",
       "std                  0.056676     0.0     0.493491     8.526788     1.314393   \n",
       "min                  0.011000  2020.0     4.000000     1.000000    16.000000   \n",
       "25%                  0.038000  2020.0     4.000000     8.000000    17.000000   \n",
       "50%                  0.085000  2020.0     5.000000    16.000000    18.000000   \n",
       "75%                  0.114000  2020.0     5.000000    23.000000    20.000000   \n",
       "max                  0.270000  2020.0     5.000000    30.000000    21.000000   \n",
       "\n",
       "         dayofweek  quater  \n",
       "count  6603.000000  6603.0  \n",
       "mean      3.064516     2.0  \n",
       "std       2.078238     0.0  \n",
       "min       0.000000     2.0  \n",
       "25%       1.000000     2.0  \n",
       "50%       3.000000     2.0  \n",
       "75%       5.000000     2.0  \n",
       "max       6.000000     2.0  "
      ]
     },
     "execution_count": 25,
     "metadata": {},
     "output_type": "execute_result"
    }
   ],
   "source": [
    "df.describe()"
   ]
  },
  {
   "cell_type": "code",
   "execution_count": 26,
   "metadata": {},
   "outputs": [],
   "source": [
    "#outliers are present in some columns as difference between mean value and max value is very high."
   ]
  },
  {
   "cell_type": "markdown",
   "metadata": {},
   "source": [
    "# EDA"
   ]
  },
  {
   "cell_type": "markdown",
   "metadata": {},
   "source": [
    "# Univariate analysis"
   ]
  },
  {
   "cell_type": "code",
   "execution_count": 28,
   "metadata": {},
   "outputs": [
    {
     "data": {
      "image/png": "[encoded data removed]",
      "text/plain": [
       "<Figure size 432x288 with 1 Axes>"
      ]
     },
     "metadata": {
      "needs_background": "light"
     },
     "output_type": "display_data"
    },
    {
     "data": {
      "image/png": "[encoded data removed]",
      "text/plain": [
       "<Figure size 432x288 with 1 Axes>"
      ]
     },
     "metadata": {
      "needs_background": "light"
     },
     "output_type": "display_data"
    },
    {
     "data": {
      "image/png": "[encoded data removed]",
      "text/plain": [
       "<Figure size 432x288 with 1 Axes>"
      ]
     },
     "metadata": {
      "needs_background": "light"
     },
     "output_type": "display_data"
    },
    {
     "data": {
      "image/png": "[encoded data removed]",
      "text/plain": [
       "<Figure size 432x288 with 1 Axes>"
      ]
     },
     "metadata": {
      "needs_background": "light"
     },
     "output_type": "display_data"
    },
    {
     "data": {
      "image/png": "[encoded data removed]",
      "text/plain": [
       "<Figure size 432x288 with 1 Axes>"
      ]
     },
     "metadata": {
      "needs_background": "light"
     },
     "output_type": "display_data"
    },
    {
     "data": {
      "image/png": "[encoded data removed]",
      "text/plain": [
       "<Figure size 432x288 with 1 Axes>"
      ]
     },
     "metadata": {
      "needs_background": "light"
     },
     "output_type": "display_data"
    },
    {
     "data": {
      "image/png": "[encoded data removed]",
      "text/plain": [
       "<Figure size 432x288 with 1 Axes>"
      ]
     },
     "metadata": {
      "needs_background": "light"
     },
     "output_type": "display_data"
    },
    {
     "data": {
      "image/png": "[encoded data removed]",
      "text/plain": [
       "<Figure size 432x288 with 1 Axes>"
      ]
     },
     "metadata": {
      "needs_background": "light"
     },
     "output_type": "display_data"
    },
    {
     "data": {
      "image/png": "[encoded data removed]",
      "text/plain": [
       "<Figure size 432x288 with 1 Axes>"
      ]
     },
     "metadata": {
      "needs_background": "light"
     },
     "output_type": "display_data"
    },
    {
     "data": {
      "image/png": "[encoded data removed]",
      "text/plain": [
       "<Figure size 432x288 with 1 Axes>"
      ]
     },
     "metadata": {
      "needs_background": "light"
     },
     "output_type": "display_data"
    },
    {
     "data": {
      "image/png": "[encoded data removed]",
      "text/plain": [
       "<Figure size 432x288 with 1 Axes>"
      ]
     },
     "metadata": {
      "needs_background": "light"
     },
     "output_type": "display_data"
    },
    {
     "data": {
      "image/png": "[encoded data removed]",
      "text/plain": [
       "<Figure size 432x288 with 1 Axes>"
      ]
     },
     "metadata": {
      "needs_background": "light"
     },
     "output_type": "display_data"
    },
    {
     "data": {
      "image/png": "[encoded data removed]",
      "text/plain": [
       "<Figure size 432x288 with 1 Axes>"
      ]
     },
     "metadata": {
      "needs_background": "light"
     },
     "output_type": "display_data"
    },
    {
     "data": {
      "image/png": "[encoded data removed]",
      "text/plain": [
       "<Figure size 432x288 with 1 Axes>"
      ]
     },
     "metadata": {
      "needs_background": "light"
     },
     "output_type": "display_data"
    },
    {
     "data": {
      "image/png": "[encoded data removed]",
      "text/plain": [
       "<Figure size 432x288 with 1 Axes>"
      ]
     },
     "metadata": {
      "needs_background": "light"
     },
     "output_type": "display_data"
    },
    {
     "data": {
      "image/png": "[encoded data removed]",
      "text/plain": [
       "<Figure size 432x288 with 1 Axes>"
      ]
     },
     "metadata": {
      "needs_background": "light"
     },
     "output_type": "display_data"
    }
   ],
   "source": [
    "numerical_features=[feature for feature in df.columns if df[feature].dtypes!='object']\n",
    "for feature in numerical_features:\n",
    "    \n",
    "    df[feature].hist(bins=25)\n",
    "    plt.xlabel(feature)\n",
    "    plt.show()"
   ]
  },
  {
   "cell_type": "code",
   "execution_count": 29,
   "metadata": {},
   "outputs": [],
   "source": [
    "#We can see data is skewed,we need to change it to gaussian distribution before model building."
   ]
  },
  {
   "cell_type": "code",
   "execution_count": 30,
   "metadata": {},
   "outputs": [
    {
     "data": {
      "image/png": "[encoded data removed]",
      "text/plain": [
       "<Figure size 432x288 with 1 Axes>"
      ]
     },
     "metadata": {
      "needs_background": "light"
     },
     "output_type": "display_data"
    },
    {
     "data": {
      "image/png": "[encoded data removed]",
      "text/plain": [
       "<Figure size 432x288 with 1 Axes>"
      ]
     },
     "metadata": {
      "needs_background": "light"
     },
     "output_type": "display_data"
    },
    {
     "data": {
      "image/png": "[encoded data removed]",
      "text/plain": [
       "<Figure size 432x288 with 1 Axes>"
      ]
     },
     "metadata": {
      "needs_background": "light"
     },
     "output_type": "display_data"
    },
    {
     "data": {
      "image/png": "[encoded data removed]",
      "text/plain": [
       "<Figure size 432x288 with 1 Axes>"
      ]
     },
     "metadata": {
      "needs_background": "light"
     },
     "output_type": "display_data"
    },
    {
     "data": {
      "image/png": "[encoded data removed]",
      "text/plain": [
       "<Figure size 432x288 with 1 Axes>"
      ]
     },
     "metadata": {
      "needs_background": "light"
     },
     "output_type": "display_data"
    },
    {
     "data": {
      "image/png": "[encoded data removed]",
      "text/plain": [
       "<Figure size 432x288 with 1 Axes>"
      ]
     },
     "metadata": {
      "needs_background": "light"
     },
     "output_type": "display_data"
    },
    {
     "data": {
      "image/png": "[encoded data removed]",
      "text/plain": [
       "<Figure size 432x288 with 1 Axes>"
      ]
     },
     "metadata": {
      "needs_background": "light"
     },
     "output_type": "display_data"
    },
    {
     "data": {
      "image/png": "[encoded data removed]",
      "text/plain": [
       "<Figure size 432x288 with 1 Axes>"
      ]
     },
     "metadata": {
      "needs_background": "light"
     },
     "output_type": "display_data"
    },
    {
     "data": {
      "image/png": "[encoded data removed]",
      "text/plain": [
       "<Figure size 432x288 with 1 Axes>"
      ]
     },
     "metadata": {
      "needs_background": "light"
     },
     "output_type": "display_data"
    },
    {
     "data": {
      "image/png": "[encoded data removed]",
      "text/plain": [
       "<Figure size 432x288 with 1 Axes>"
      ]
     },
     "metadata": {
      "needs_background": "light"
     },
     "output_type": "display_data"
    },
    {
     "data": {
      "image/png": "[encoded data removed]",
      "text/plain": [
       "<Figure size 432x288 with 1 Axes>"
      ]
     },
     "metadata": {
      "needs_background": "light"
     },
     "output_type": "display_data"
    },
    {
     "data": {
      "image/png": "[encoded data removed]",
      "text/plain": [
       "<Figure size 432x288 with 1 Axes>"
      ]
     },
     "metadata": {
      "needs_background": "light"
     },
     "output_type": "display_data"
    },
    {
     "data": {
      "image/png": "[encoded data removed]",
      "text/plain": [
       "<Figure size 432x288 with 1 Axes>"
      ]
     },
     "metadata": {
      "needs_background": "light"
     },
     "output_type": "display_data"
    },
    {
     "data": {
      "image/png": "[encoded data removed]",
      "text/plain": [
       "<Figure size 432x288 with 1 Axes>"
      ]
     },
     "metadata": {
      "needs_background": "light"
     },
     "output_type": "display_data"
    },
    {
     "data": {
      "image/png": "[encoded data removed]",
      "text/plain": [
       "<Figure size 432x288 with 1 Axes>"
      ]
     },
     "metadata": {
      "needs_background": "light"
     },
     "output_type": "display_data"
    },
    {
     "data": {
      "image/png": "[encoded data removed]",
      "text/plain": [
       "<Figure size 432x288 with 1 Axes>"
      ]
     },
     "metadata": {
      "needs_background": "light"
     },
     "output_type": "display_data"
    }
   ],
   "source": [
    "#checking outliers\n",
    "numerical_features=[feature for feature in df.columns if df[feature].dtypes!='object']\n",
    "for feature in numerical_features:\n",
    "    \n",
    "    df[feature].plot.box()\n",
    "    plt.xlabel(feature)\n",
    "    plt.show()"
   ]
  },
  {
   "cell_type": "markdown",
   "metadata": {},
   "source": [
    "# Feature Engineering part-2"
   ]
  },
  {
   "cell_type": "markdown",
   "metadata": {},
   "source": [
    "# Removing unnecessary columns"
   ]
  },
  {
   "cell_type": "code",
   "execution_count": 27,
   "metadata": {},
   "outputs": [],
   "source": [
    "df=df.drop('Country',axis=1)"
   ]
  },
  {
   "cell_type": "markdown",
   "metadata": {},
   "source": [
    "# Removing skewness"
   ]
  },
  {
   "cell_type": "code",
   "execution_count": 28,
   "metadata": {},
   "outputs": [
    {
     "data": {
      "text/plain": [
       "Population                   8.743503\n",
       "Total Tests                  9.340104\n",
       "Total Cases                 12.079982\n",
       "Total Deaths                 8.951957\n",
       "Total Recovered              7.220713\n",
       "Serious or Critical          9.199670\n",
       "Active Cases                13.301517\n",
       "Fraction age 0-14 years      0.388389\n",
       "Fraction age 15-64 years    -0.133140\n",
       "Fraction age 65+ years       0.847017\n",
       "year                         0.000000\n",
       "month                       -0.326934\n",
       "day                         -0.027570\n",
       "week                        -0.037712\n",
       "dayofweek                   -0.064426\n",
       "quater                       0.000000\n",
       "dtype: float64"
      ]
     },
     "execution_count": 28,
     "metadata": {},
     "output_type": "execute_result"
    }
   ],
   "source": [
    "df.skew()"
   ]
  },
  {
   "cell_type": "code",
   "execution_count": 29,
   "metadata": {},
   "outputs": [
    {
     "data": {
      "text/plain": [
       "Population                    int64\n",
       "Total Tests                 float64\n",
       "Total Cases                 float64\n",
       "Total Deaths                float64\n",
       "Total Recovered             float64\n",
       "Serious or Critical         float64\n",
       "Active Cases                float64\n",
       "Fraction age 0-14 years     float64\n",
       "Fraction age 15-64 years    float64\n",
       "Fraction age 65+ years      float64\n",
       "year                          int64\n",
       "month                         int64\n",
       "day                           int64\n",
       "week                          int64\n",
       "dayofweek                     int64\n",
       "quater                        int64\n",
       "dtype: object"
      ]
     },
     "execution_count": 29,
     "metadata": {},
     "output_type": "execute_result"
    }
   ],
   "source": [
    "df.dtypes"
   ]
  },
  {
   "cell_type": "markdown",
   "metadata": {},
   "source": [
    "# Separating training and testing set"
   ]
  },
  {
   "cell_type": "code",
   "execution_count": 30,
   "metadata": {},
   "outputs": [],
   "source": [
    "#Separating the training and testing set\n",
    "y=df[['Total Deaths']]\n",
    "X=df.drop(['Total Deaths'],axis=1)"
   ]
  },
  {
   "cell_type": "code",
   "execution_count": 31,
   "metadata": {},
   "outputs": [
    {
     "data": {
      "text/plain": [
       "Population                   8.743503\n",
       "Total Tests                  9.340104\n",
       "Total Cases                 12.079982\n",
       "Total Deaths                 8.951957\n",
       "Total Recovered              7.220713\n",
       "Serious or Critical          9.199670\n",
       "Active Cases                13.301517\n",
       "Fraction age 0-14 years      0.388389\n",
       "Fraction age 15-64 years    -0.133140\n",
       "Fraction age 65+ years       0.847017\n",
       "year                         0.000000\n",
       "month                       -0.326934\n",
       "day                         -0.027570\n",
       "week                        -0.037712\n",
       "dayofweek                   -0.064426\n",
       "quater                       0.000000\n",
       "dtype: float64"
      ]
     },
     "execution_count": 31,
     "metadata": {},
     "output_type": "execute_result"
    }
   ],
   "source": [
    "df.skew()"
   ]
  },
  {
   "cell_type": "markdown",
   "metadata": {},
   "source": [
    "# Skewness removal by power transformation technique"
   ]
  },
  {
   "cell_type": "code",
   "execution_count": 32,
   "metadata": {},
   "outputs": [],
   "source": [
    "from sklearn.preprocessing import PowerTransformer\n",
    "pt=PowerTransformer(method='yeo-johnson')\n",
    "X_power=pt.fit_transform(X)\n",
    "df=pd.DataFrame(X_power,columns=X.columns)"
   ]
  },
  {
   "cell_type": "code",
   "execution_count": 33,
   "metadata": {},
   "outputs": [
    {
     "data": {
      "text/plain": [
       "Population                 -0.019538\n",
       "Total Tests                -0.058098\n",
       "Total Cases                 0.019178\n",
       "Total Recovered             0.032650\n",
       "Serious or Critical        -0.047584\n",
       "Active Cases                0.006735\n",
       "Fraction age 0-14 years     0.045696\n",
       "Fraction age 15-64 years    0.025450\n",
       "Fraction age 65+ years      0.177538\n",
       "year                        0.000000\n",
       "month                      -0.326934\n",
       "day                        -0.217067\n",
       "week                       -0.025243\n",
       "dayofweek                  -0.225232\n",
       "quater                      0.000000\n",
       "dtype: float64"
      ]
     },
     "execution_count": 33,
     "metadata": {},
     "output_type": "execute_result"
    }
   ],
   "source": [
    "df.skew()"
   ]
  },
  {
   "cell_type": "markdown",
   "metadata": {},
   "source": [
    "# Scaling the data"
   ]
  },
  {
   "cell_type": "code",
   "execution_count": 34,
   "metadata": {},
   "outputs": [],
   "source": [
    "#Applying Standard scalar to independent variable only\n",
    "from sklearn.preprocessing import StandardScaler\n",
    "ss=StandardScaler()\n",
    "X_scaled=ss.fit_transform(X)\n",
    "x=pd.DataFrame(data=X_scaled,columns=X.columns)\n"
   ]
  },
  {
   "cell_type": "code",
   "execution_count": 35,
   "metadata": {},
   "outputs": [
    {
     "data": {
      "text/html": [
       "<div>\n",
       "<style scoped>\n",
       "    .dataframe tbody tr th:only-of-type {\n",
       "        vertical-align: middle;\n",
       "    }\n",
       "\n",
       "    .dataframe tbody tr th {\n",
       "        vertical-align: top;\n",
       "    }\n",
       "\n",
       "    .dataframe thead th {\n",
       "        text-align: right;\n",
       "    }\n",
       "</style>\n",
       "<table border=\"1\" class=\"dataframe\">\n",
       "  <thead>\n",
       "    <tr style=\"text-align: right;\">\n",
       "      <th></th>\n",
       "      <th>Population</th>\n",
       "      <th>Total Tests</th>\n",
       "      <th>Total Cases</th>\n",
       "      <th>Total Recovered</th>\n",
       "      <th>Serious or Critical</th>\n",
       "      <th>Active Cases</th>\n",
       "      <th>Fraction age 0-14 years</th>\n",
       "      <th>Fraction age 15-64 years</th>\n",
       "      <th>Fraction age 65+ years</th>\n",
       "      <th>year</th>\n",
       "      <th>month</th>\n",
       "      <th>day</th>\n",
       "      <th>week</th>\n",
       "      <th>dayofweek</th>\n",
       "      <th>quater</th>\n",
       "    </tr>\n",
       "  </thead>\n",
       "  <tbody>\n",
       "    <tr>\n",
       "      <td>0</td>\n",
       "      <td>2.085796</td>\n",
       "      <td>5.055167</td>\n",
       "      <td>8.177100</td>\n",
       "      <td>2.719098</td>\n",
       "      <td>10.053851</td>\n",
       "      <td>9.545723</td>\n",
       "      <td>-0.900156</td>\n",
       "      <td>0.34636</td>\n",
       "      <td>1.169359</td>\n",
       "      <td>0.0</td>\n",
       "      <td>-1.176697</td>\n",
       "      <td>0.283757</td>\n",
       "      <td>-1.840803</td>\n",
       "      <td>0.931381</td>\n",
       "      <td>0.0</td>\n",
       "    </tr>\n",
       "    <tr>\n",
       "      <td>1</td>\n",
       "      <td>2.085796</td>\n",
       "      <td>5.256202</td>\n",
       "      <td>8.460748</td>\n",
       "      <td>2.838207</td>\n",
       "      <td>10.065307</td>\n",
       "      <td>9.864664</td>\n",
       "      <td>-0.900156</td>\n",
       "      <td>0.34636</td>\n",
       "      <td>1.169359</td>\n",
       "      <td>0.0</td>\n",
       "      <td>-1.176697</td>\n",
       "      <td>0.401044</td>\n",
       "      <td>-1.840803</td>\n",
       "      <td>1.412594</td>\n",
       "      <td>0.0</td>\n",
       "    </tr>\n",
       "    <tr>\n",
       "      <td>2</td>\n",
       "      <td>2.085796</td>\n",
       "      <td>5.493876</td>\n",
       "      <td>8.788427</td>\n",
       "      <td>2.898589</td>\n",
       "      <td>10.359340</td>\n",
       "      <td>10.257523</td>\n",
       "      <td>-0.900156</td>\n",
       "      <td>0.34636</td>\n",
       "      <td>1.169359</td>\n",
       "      <td>0.0</td>\n",
       "      <td>-1.176697</td>\n",
       "      <td>0.518330</td>\n",
       "      <td>-1.079938</td>\n",
       "      <td>-1.474686</td>\n",
       "      <td>0.0</td>\n",
       "    </tr>\n",
       "    <tr>\n",
       "      <td>3</td>\n",
       "      <td>2.085796</td>\n",
       "      <td>5.726100</td>\n",
       "      <td>9.082779</td>\n",
       "      <td>3.357511</td>\n",
       "      <td>10.408982</td>\n",
       "      <td>10.451757</td>\n",
       "      <td>-0.900156</td>\n",
       "      <td>0.34636</td>\n",
       "      <td>1.169359</td>\n",
       "      <td>0.0</td>\n",
       "      <td>-1.176697</td>\n",
       "      <td>0.635616</td>\n",
       "      <td>-1.079938</td>\n",
       "      <td>-0.993473</td>\n",
       "      <td>0.0</td>\n",
       "    </tr>\n",
       "    <tr>\n",
       "      <td>4</td>\n",
       "      <td>2.085796</td>\n",
       "      <td>5.925038</td>\n",
       "      <td>9.422307</td>\n",
       "      <td>3.406610</td>\n",
       "      <td>10.408982</td>\n",
       "      <td>10.858822</td>\n",
       "      <td>-0.900156</td>\n",
       "      <td>0.34636</td>\n",
       "      <td>1.169359</td>\n",
       "      <td>0.0</td>\n",
       "      <td>-1.176697</td>\n",
       "      <td>0.752903</td>\n",
       "      <td>-1.079938</td>\n",
       "      <td>-0.512259</td>\n",
       "      <td>0.0</td>\n",
       "    </tr>\n",
       "  </tbody>\n",
       "</table>\n",
       "</div>"
      ],
      "text/plain": [
       "   Population  Total Tests  Total Cases  Total Recovered  Serious or Critical  \\\n",
       "0    2.085796     5.055167     8.177100         2.719098            10.053851   \n",
       "1    2.085796     5.256202     8.460748         2.838207            10.065307   \n",
       "2    2.085796     5.493876     8.788427         2.898589            10.359340   \n",
       "3    2.085796     5.726100     9.082779         3.357511            10.408982   \n",
       "4    2.085796     5.925038     9.422307         3.406610            10.408982   \n",
       "\n",
       "   Active Cases  Fraction age 0-14 years  Fraction age 15-64 years  \\\n",
       "0      9.545723                -0.900156                   0.34636   \n",
       "1      9.864664                -0.900156                   0.34636   \n",
       "2     10.257523                -0.900156                   0.34636   \n",
       "3     10.451757                -0.900156                   0.34636   \n",
       "4     10.858822                -0.900156                   0.34636   \n",
       "\n",
       "   Fraction age 65+ years  year     month       day      week  dayofweek  \\\n",
       "0                1.169359   0.0 -1.176697  0.283757 -1.840803   0.931381   \n",
       "1                1.169359   0.0 -1.176697  0.401044 -1.840803   1.412594   \n",
       "2                1.169359   0.0 -1.176697  0.518330 -1.079938  -1.474686   \n",
       "3                1.169359   0.0 -1.176697  0.635616 -1.079938  -0.993473   \n",
       "4                1.169359   0.0 -1.176697  0.752903 -1.079938  -0.512259   \n",
       "\n",
       "   quater  \n",
       "0     0.0  \n",
       "1     0.0  \n",
       "2     0.0  \n",
       "3     0.0  \n",
       "4     0.0  "
      ]
     },
     "execution_count": 35,
     "metadata": {},
     "output_type": "execute_result"
    }
   ],
   "source": [
    "x.head()"
   ]
  },
  {
   "cell_type": "markdown",
   "metadata": {},
   "source": [
    "# Model building"
   ]
  },
  {
   "cell_type": "code",
   "execution_count": 36,
   "metadata": {},
   "outputs": [],
   "source": [
    "from sklearn.metrics import r2_score,mean_squared_error\n",
    "from sklearn.model_selection import train_test_split,cross_val_score\n",
    "x_train,x_test,y_train,y_test=train_test_split(x,y,random_state=42)"
   ]
  },
  {
   "cell_type": "code",
   "execution_count": 37,
   "metadata": {},
   "outputs": [],
   "source": [
    "from sklearn.neighbors import KNeighborsRegressor\n",
    "from sklearn.svm import SVR\n",
    "from sklearn.linear_model import LinearRegression\n",
    "from sklearn.tree import DecisionTreeRegressor\n",
    "from sklearn.ensemble import GradientBoostingRegressor\n",
    "from sklearn.ensemble import AdaBoostRegressor\n",
    "from sklearn.ensemble import RandomForestRegressor\n",
    "from xgboost import XGBRegressor"
   ]
  },
  {
   "cell_type": "code",
   "execution_count": 38,
   "metadata": {},
   "outputs": [],
   "source": [
    "knn=KNeighborsRegressor()\n",
    "svr=SVR()\n",
    "lr=LinearRegression()\n",
    "dt=DecisionTreeRegressor()\n",
    "gbm=GradientBoostingRegressor()\n",
    "ada=AdaBoostRegressor()\n",
    "rfr=RandomForestRegressor()\n",
    "xgb=XGBRegressor()"
   ]
  },
  {
   "cell_type": "code",
   "execution_count": 39,
   "metadata": {},
   "outputs": [],
   "source": [
    "models=[]\n",
    "models.append(('KNeighborsRegressor',knn))\n",
    "models.append(('SVR',svr))\n",
    "models.append(('LinearRegression',lr))\n",
    "models.append(('DecisionTreeRegressor',dt))\n",
    "models.append(('GradientBoostingRegressor',gbm))\n",
    "models.append(('AdaBoostRegressor',ada))\n",
    "models.append(('RandomForestRegressor',rfr))\n",
    "models.append(('XGBRegressor',xgb))"
   ]
  },
  {
   "cell_type": "code",
   "execution_count": 40,
   "metadata": {},
   "outputs": [
    {
     "name": "stdout",
     "output_type": "stream",
     "text": [
      "***************** KNeighborsRegressor *******************\n",
      "\n",
      "\n",
      "KNeighborsRegressor(algorithm='auto', leaf_size=30, metric='minkowski',\n",
      "                    metric_params=None, n_jobs=None, n_neighbors=5, p=2,\n",
      "                    weights='uniform')\n",
      "\n",
      "\n",
      "R2score  - 0.9801340023207487\n",
      "\n",
      "\n",
      "cross_val_score  - -1.2960849620937873\n",
      "\n",
      "\n",
      "rmse_score  - 867.5386720239442\n",
      "\n",
      "\n",
      "***************** SVR *******************\n",
      "\n",
      "\n",
      "SVR(C=1.0, cache_size=200, coef0=0.0, degree=3, epsilon=0.1,\n",
      "    gamma='auto_deprecated', kernel='rbf', max_iter=-1, shrinking=True,\n",
      "    tol=0.001, verbose=False)\n",
      "\n",
      "\n",
      "R2score  - -0.04781136088587612\n",
      "\n",
      "\n",
      "cross_val_score  - -0.39609291195333557\n",
      "\n",
      "\n",
      "rmse_score  - 6300.502737538565\n",
      "\n",
      "\n",
      "***************** LinearRegression *******************\n",
      "\n",
      "\n",
      "LinearRegression(copy_X=True, fit_intercept=True, n_jobs=None, normalize=False)\n",
      "\n",
      "\n",
      "R2score  - 0.9168179714787622\n",
      "\n",
      "\n",
      "cross_val_score  - -6.601351564279758\n",
      "\n",
      "\n",
      "rmse_score  - 1775.2045675897136\n",
      "\n",
      "\n",
      "***************** DecisionTreeRegressor *******************\n",
      "\n",
      "\n",
      "DecisionTreeRegressor(criterion='mse', max_depth=None, max_features=None,\n",
      "                      max_leaf_nodes=None, min_impurity_decrease=0.0,\n",
      "                      min_impurity_split=None, min_samples_leaf=1,\n",
      "                      min_samples_split=2, min_weight_fraction_leaf=0.0,\n",
      "                      presort=False, random_state=None, splitter='best')\n",
      "\n",
      "\n",
      "R2score  - 0.9983603051096165\n",
      "\n",
      "\n",
      "cross_val_score  - -1.6157130438048377\n",
      "\n",
      "\n",
      "rmse_score  - 249.23852634950703\n",
      "\n",
      "\n",
      "***************** GradientBoostingRegressor *******************\n",
      "\n",
      "\n",
      "GradientBoostingRegressor(alpha=0.9, criterion='friedman_mse', init=None,\n",
      "                          learning_rate=0.1, loss='ls', max_depth=3,\n",
      "                          max_features=None, max_leaf_nodes=None,\n",
      "                          min_impurity_decrease=0.0, min_impurity_split=None,\n",
      "                          min_samples_leaf=1, min_samples_split=2,\n",
      "                          min_weight_fraction_leaf=0.0, n_estimators=100,\n",
      "                          n_iter_no_change=None, presort='auto',\n",
      "                          random_state=None, subsample=1.0, tol=0.0001,\n",
      "                          validation_fraction=0.1, verbose=0, warm_start=False)\n",
      "\n",
      "\n",
      "R2score  - 0.9938609635338029\n",
      "\n",
      "\n",
      "cross_val_score  - -0.37140111334176323\n",
      "\n",
      "\n",
      "rmse_score  - 482.26279595718233\n",
      "\n",
      "\n",
      "***************** AdaBoostRegressor *******************\n",
      "\n",
      "\n",
      "AdaBoostRegressor(base_estimator=None, learning_rate=1.0, loss='linear',\n",
      "                  n_estimators=50, random_state=None)\n",
      "\n",
      "\n",
      "R2score  - 0.9724798863816839\n",
      "\n",
      "\n",
      "cross_val_score  - -2.205422150661127\n",
      "\n",
      "\n",
      "rmse_score  - 1021.0776364148815\n",
      "\n",
      "\n",
      "***************** RandomForestRegressor *******************\n",
      "\n",
      "\n",
      "RandomForestRegressor(bootstrap=True, criterion='mse', max_depth=None,\n",
      "                      max_features='auto', max_leaf_nodes=None,\n",
      "                      min_impurity_decrease=0.0, min_impurity_split=None,\n",
      "                      min_samples_leaf=1, min_samples_split=2,\n",
      "                      min_weight_fraction_leaf=0.0, n_estimators=10,\n",
      "                      n_jobs=None, oob_score=False, random_state=None,\n",
      "                      verbose=0, warm_start=False)\n",
      "\n",
      "\n",
      "R2score  - 0.9977828431368558\n",
      "\n",
      "\n",
      "cross_val_score  - -0.5122304624981681\n",
      "\n",
      "\n",
      "rmse_score  - 289.82234315631325\n",
      "\n",
      "\n",
      "***************** XGBRegressor *******************\n",
      "\n",
      "\n",
      "XGBRegressor(base_score=0.5, booster=None, colsample_bylevel=1,\n",
      "             colsample_bynode=1, colsample_bytree=1, gamma=0, gpu_id=-1,\n",
      "             importance_type='gain', interaction_constraints=None,\n",
      "             learning_rate=0.300000012, max_delta_step=0, max_depth=6,\n",
      "             min_child_weight=1, missing=nan, monotone_constraints=None,\n",
      "             n_estimators=100, n_jobs=0, num_parallel_tree=1,\n",
      "             objective='reg:squarederror', random_state=0, reg_alpha=0,\n",
      "             reg_lambda=1, scale_pos_weight=1, subsample=1, tree_method=None,\n",
      "             validate_parameters=False, verbosity=None)\n",
      "\n",
      "\n",
      "R2score  - 0.9981073063787078\n",
      "\n",
      "\n",
      "cross_val_score  - -0.3907873837753565\n",
      "\n",
      "\n",
      "rmse_score  - 267.7773333584346\n",
      "\n",
      "\n"
     ]
    }
   ],
   "source": [
    "Model=[]\n",
    "r2score=[]\n",
    "rmse=[]\n",
    "cv=[]\n",
    "\n",
    "for name,model in models:\n",
    "    print('*****************',name,'*******************')\n",
    "    print('\\n')\n",
    "    Model.append(name)\n",
    "    model.fit(x_train,y_train)\n",
    "    print(model)\n",
    "    pre=model.predict(x_test)\n",
    "    print('\\n')\n",
    "    score=r2_score(y_test,pre)\n",
    "    print('R2score  -',score)\n",
    "    r2score.append(score*100)\n",
    "    print('\\n')\n",
    "    sc=cross_val_score(model,x,y,cv=5,scoring='r2').mean()\n",
    "    print('cross_val_score  -',sc)\n",
    "    cv.append(sc*100)\n",
    "    print('\\n')\n",
    "    rmsescore=np.sqrt(mean_squared_error(y_test,pre))\n",
    "    print('rmse_score  -',rmsescore)\n",
    "    rmse.append(rmsescore)\n",
    "    print('\\n')\n",
    "    \n",
    "    \n",
    "    \n",
    "    \n",
    "   \n",
    "    "
   ]
  },
  {
   "cell_type": "code",
   "execution_count": 41,
   "metadata": {},
   "outputs": [
    {
     "data": {
      "text/html": [
       "<div>\n",
       "<style scoped>\n",
       "    .dataframe tbody tr th:only-of-type {\n",
       "        vertical-align: middle;\n",
       "    }\n",
       "\n",
       "    .dataframe tbody tr th {\n",
       "        vertical-align: top;\n",
       "    }\n",
       "\n",
       "    .dataframe thead th {\n",
       "        text-align: right;\n",
       "    }\n",
       "</style>\n",
       "<table border=\"1\" class=\"dataframe\">\n",
       "  <thead>\n",
       "    <tr style=\"text-align: right;\">\n",
       "      <th></th>\n",
       "      <th>Model</th>\n",
       "      <th>R2_score</th>\n",
       "      <th>RMSEscore</th>\n",
       "      <th>Cross_val_score</th>\n",
       "    </tr>\n",
       "  </thead>\n",
       "  <tbody>\n",
       "    <tr>\n",
       "      <td>0</td>\n",
       "      <td>KNeighborsRegressor</td>\n",
       "      <td>98.013400</td>\n",
       "      <td>867.538672</td>\n",
       "      <td>-129.608496</td>\n",
       "    </tr>\n",
       "    <tr>\n",
       "      <td>1</td>\n",
       "      <td>SVR</td>\n",
       "      <td>-4.781136</td>\n",
       "      <td>6300.502738</td>\n",
       "      <td>-39.609291</td>\n",
       "    </tr>\n",
       "    <tr>\n",
       "      <td>2</td>\n",
       "      <td>LinearRegression</td>\n",
       "      <td>91.681797</td>\n",
       "      <td>1775.204568</td>\n",
       "      <td>-660.135156</td>\n",
       "    </tr>\n",
       "    <tr>\n",
       "      <td>3</td>\n",
       "      <td>DecisionTreeRegressor</td>\n",
       "      <td>99.836031</td>\n",
       "      <td>249.238526</td>\n",
       "      <td>-161.571304</td>\n",
       "    </tr>\n",
       "    <tr>\n",
       "      <td>4</td>\n",
       "      <td>GradientBoostingRegressor</td>\n",
       "      <td>99.386096</td>\n",
       "      <td>482.262796</td>\n",
       "      <td>-37.140111</td>\n",
       "    </tr>\n",
       "    <tr>\n",
       "      <td>5</td>\n",
       "      <td>AdaBoostRegressor</td>\n",
       "      <td>97.247989</td>\n",
       "      <td>1021.077636</td>\n",
       "      <td>-220.542215</td>\n",
       "    </tr>\n",
       "    <tr>\n",
       "      <td>6</td>\n",
       "      <td>RandomForestRegressor</td>\n",
       "      <td>99.778284</td>\n",
       "      <td>289.822343</td>\n",
       "      <td>-51.223046</td>\n",
       "    </tr>\n",
       "    <tr>\n",
       "      <td>7</td>\n",
       "      <td>XGBRegressor</td>\n",
       "      <td>99.810731</td>\n",
       "      <td>267.777333</td>\n",
       "      <td>-39.078738</td>\n",
       "    </tr>\n",
       "  </tbody>\n",
       "</table>\n",
       "</div>"
      ],
      "text/plain": [
       "                       Model   R2_score    RMSEscore  Cross_val_score\n",
       "0        KNeighborsRegressor  98.013400   867.538672      -129.608496\n",
       "1                        SVR  -4.781136  6300.502738       -39.609291\n",
       "2           LinearRegression  91.681797  1775.204568      -660.135156\n",
       "3      DecisionTreeRegressor  99.836031   249.238526      -161.571304\n",
       "4  GradientBoostingRegressor  99.386096   482.262796       -37.140111\n",
       "5          AdaBoostRegressor  97.247989  1021.077636      -220.542215\n",
       "6      RandomForestRegressor  99.778284   289.822343       -51.223046\n",
       "7               XGBRegressor  99.810731   267.777333       -39.078738"
      ]
     },
     "execution_count": 41,
     "metadata": {},
     "output_type": "execute_result"
    }
   ],
   "source": [
    "result=pd.DataFrame({'Model':Model,'R2_score':r2score,'RMSEscore':rmse,'Cross_val_score':cv})\n",
    "result"
   ]
  },
  {
   "cell_type": "code",
   "execution_count": null,
   "metadata": {},
   "outputs": [],
   "source": [
    "#We can see RandomForestRegressor is performing the best with R2 score=99.77% and cross_val score=51.22%\n",
    "#And also the RMSE score is well within range for this particular problem."
   ]
  },
  {
   "cell_type": "code",
   "execution_count": null,
   "metadata": {},
   "outputs": [],
   "source": [
    "#But there is a big difference between the r2_score and cross_val_score.\n",
    "#model is suffering from over/undrfitting condition."
   ]
  },
  {
   "cell_type": "code",
   "execution_count": null,
   "metadata": {},
   "outputs": [],
   "source": [
    "#First lets calculate the random state of the models at which they perform the best.\n",
    "#Then we will select the top3 models and do gridsearchcv on them to attain our target score of 90%."
   ]
  },
  {
   "cell_type": "markdown",
   "metadata": {},
   "source": [
    "# Finding the best random_state for all models"
   ]
  },
  {
   "cell_type": "code",
   "execution_count": 47,
   "metadata": {},
   "outputs": [],
   "source": [
    "from sklearn.metrics import mean_absolute_error\n",
    "from sklearn.metrics import mean_squared_error\n",
    "from sklearn.metrics import r2_score\n",
    "from sklearn.model_selection import train_test_split\n",
    "\n",
    "def maxr2_score(model,x,y):\n",
    "    max_r_score=0\n",
    "    for r_state in range(42,101):\n",
    "        \n",
    "        x_train,x_test,y_train,y_test=train_test_split(x,y,random_state=r_state,test_size=0.25)\n",
    "        model.fit(x_train,y_train)\n",
    "        pred=model.predict(x_test)\n",
    "        score=r2_score(y_test,pred)\n",
    "        \n",
    "        if score>max_r_score:\n",
    "            max_r_score=score\n",
    "            final_r_state=r_state\n",
    "    print('max_r2_score is at random_state  ',final_r_state,'  which is  ',max_r_score)\n",
    "    return final_r_state\n",
    "    "
   ]
  },
  {
   "cell_type": "code",
   "execution_count": 48,
   "metadata": {},
   "outputs": [
    {
     "name": "stdout",
     "output_type": "stream",
     "text": [
      "max_r2_score is at random_state   99   which is   0.989545029066297\n",
      "knn 99\n",
      "max_r2_score is at random_state   97   which is   0.946778608796752\n",
      "lr 97\n",
      "max_r2_score is at random_state   49   which is   0.9989132931643778\n",
      "dt 49\n",
      "max_r2_score is at random_state   73   which is   0.9966011194259232\n",
      "gbm 73\n",
      "max_r2_score is at random_state   90   which is   0.9992472469659643\n",
      "rfr 90\n",
      "max_r2_score is at random_state   49   which is   0.9991279971580881\n",
      "xgb 49\n",
      "max_r2_score is at random_state   99   which is   0.9829813839911044\n",
      "ada 99\n"
     ]
    }
   ],
   "source": [
    "print('knn',maxr2_score(knn,x,y))\n",
    "#print('SVR',maxr2_score(svr,x,y))\n",
    "print('lr',maxr2_score(lr,x,y))\n",
    "print('dt',maxr2_score(dt,x,y))\n",
    "print('gbm',maxr2_score(gbm,x,y))\n",
    "print('rfr',maxr2_score(rfr,x,y))\n",
    "print('xgb',maxr2_score(xgb,x,y))\n",
    "\n",
    "print('ada',maxr2_score(ada,x,y))"
   ]
  },
  {
   "cell_type": "raw",
   "metadata": {},
   "source": [
    "#Seleting the top3 performing models for gridsearchcv\n",
    "\n",
    "model1->GradientBoostingRegressor(random_state=73)=99.66\n",
    "model2->XGBoostRegressor(random_state=49)=99.91\n",
    "model3->RandomForestRegressor(random_state=90)=99.92"
   ]
  },
  {
   "cell_type": "markdown",
   "metadata": {},
   "source": [
    "# GridsearchCV"
   ]
  },
  {
   "cell_type": "markdown",
   "metadata": {},
   "source": [
    "# model1->GradientBoostingRegressor(random_state=73)=99.66"
   ]
  },
  {
   "cell_type": "code",
   "execution_count": 51,
   "metadata": {},
   "outputs": [],
   "source": [
    "from sklearn.model_selection import GridSearchCV\n",
    "x_train,x_test,y_train,y_test=train_test_split(x,y,random_state=73)\n",
    "gbm=GradientBoostingRegressor()"
   ]
  },
  {
   "cell_type": "code",
   "execution_count": 52,
   "metadata": {},
   "outputs": [
    {
     "data": {
      "text/plain": [
       "{'max_depth': 7, 'min_samples_leaf': 1, 'n_estimators': 100}"
      ]
     },
     "execution_count": 52,
     "metadata": {},
     "output_type": "execute_result"
    }
   ],
   "source": [
    "parameters=[{'max_depth':[5,7,9,10],'min_samples_leaf':[1,2],'n_estimators':[100,250,500]}]\n",
    "            \n",
    "grid_search=GridSearchCV(gbm,parameters,scoring='r2',n_jobs=-1,cv=5)\n",
    "grid_search=grid_search.fit(x,y)\n",
    "grid_search.best_params_ "
   ]
  },
  {
   "cell_type": "code",
   "execution_count": 53,
   "metadata": {},
   "outputs": [
    {
     "name": "stdout",
     "output_type": "stream",
     "text": [
      "R2_score=   0.9998059263954343\n",
      "RMSE score=  76.76203094935406\n"
     ]
    }
   ],
   "source": [
    "x_train,x_test,y_train,y_test=train_test_split(x,y,random_state=94)\n",
    "gbm=GradientBoostingRegressor(max_depth=7,min_samples_leaf=1,n_estimators=100)\n",
    "gbm.fit(x,y)\n",
    "pred_gbm=gbm.predict(x_test)\n",
    "score=r2_score(y_test,pred_gbm)\n",
    "print('R2_score=  ',score)\n",
    "print('RMSE score= ',np.sqrt(mean_squared_error(y_test,pred_gbm)))"
   ]
  },
  {
   "cell_type": "code",
   "execution_count": 46,
   "metadata": {},
   "outputs": [
    {
     "name": "stdout",
     "output_type": "stream",
     "text": [
      "cross_val_scores=   -0.3907873837753565\n"
     ]
    }
   ],
   "source": [
    "#Cross validating the model and checking the cross_val_score,model giving highest score will be choosen as final model.\n",
    "gbm=GradientBoostingRegressor(max_depth=5,min_samples_leaf=2,n_estimators=250)\n",
    "gbm.fit(x,y)\n",
    "cvs=cross_val_score(xgb,x,y,scoring='r2',cv=5)\n",
    "print('cross_val_scores=  ',cvs.mean())"
   ]
  },
  {
   "cell_type": "markdown",
   "metadata": {},
   "source": [
    "# model2->XGBoostRegressor(random_state=49)=99.91"
   ]
  },
  {
   "cell_type": "code",
   "execution_count": 72,
   "metadata": {},
   "outputs": [],
   "source": [
    "x_train,x_test,y_train,y_test=train_test_split(x,y,random_state=49)\n",
    "xgb=XGBRegressor()"
   ]
  },
  {
   "cell_type": "code",
   "execution_count": 56,
   "metadata": {},
   "outputs": [
    {
     "name": "stderr",
     "output_type": "stream",
     "text": [
      "C:\\ProgramData\\Anaconda3\\lib\\site-packages\\sklearn\\model_selection\\_search.py:814: DeprecationWarning: The default of the `iid` parameter will change from True to False in version 0.22 and will be removed in 0.24. This will change numeric results when test-set sizes are unequal.\n",
      "  DeprecationWarning)\n"
     ]
    },
    {
     "data": {
      "text/plain": [
       "{'colsample_bytree': 0.6, 'learning_rate': 0.3, 'max_depth': 8}"
      ]
     },
     "execution_count": 56,
     "metadata": {},
     "output_type": "execute_result"
    }
   ],
   "source": [
    "from sklearn.model_selection import GridSearchCV\n",
    "parameters=[{'learning_rate':[0.1,0.2,0.3,0.4],'max_depth':[3,4,5,6,7,8],'colsample_bytree':[0.5,0.6,0.7,0.8,0.9]}]\n",
    "            \n",
    "gscv=GridSearchCV(xgb,parameters,scoring='r2',n_jobs=-1,cv=5)\n",
    "grid_search=gscv.fit(x,y)\n",
    "grid_search.best_params_"
   ]
  },
  {
   "cell_type": "code",
   "execution_count": 73,
   "metadata": {},
   "outputs": [
    {
     "name": "stdout",
     "output_type": "stream",
     "text": [
      "R2_score=   0.9999879838595137\n",
      "RMSE score=  20.231295843530734\n"
     ]
    }
   ],
   "source": [
    "x_train,x_test,y_train,y_test=train_test_split(x,y,random_state=61)\n",
    "xgb=XGBRegressor(max_depth=8,colsample_bytree= 0.6, learning_rate=0.3)\n",
    "xgb.fit(x,y)\n",
    "pred_xgb=xgb.predict(x_test)\n",
    "score=r2_score(y_test,pred_xgb)\n",
    "print('R2_score=  ',score)\n",
    "print('RMSE score= ',np.sqrt(mean_squared_error(y_test,pred_xgb)))"
   ]
  },
  {
   "cell_type": "code",
   "execution_count": 74,
   "metadata": {},
   "outputs": [
    {
     "name": "stdout",
     "output_type": "stream",
     "text": [
      "cross_val_scores=   -0.7294672193581491\n"
     ]
    }
   ],
   "source": [
    "#Cross validating the model and checking the cross_val_score,model giving highest score will be choosen as final model.\n",
    "xgb=XGBRegressor(max_depth=3,colsample_bytree= 0.5, learning_rate=0.1)\n",
    "cvs=cross_val_score(xgb,x,y,scoring='r2',cv=5)\n",
    "print('cross_val_scores=  ',cvs.mean())"
   ]
  },
  {
   "cell_type": "markdown",
   "metadata": {},
   "source": [
    "# model3->RandomForestRegressor(random_state=90)=99.92"
   ]
  },
  {
   "cell_type": "code",
   "execution_count": 59,
   "metadata": {},
   "outputs": [],
   "source": [
    "x_train,x_test,y_train,y_test=train_test_split(x,y,random_state=90)\n",
    "rfr=RandomForestRegressor()"
   ]
  },
  {
   "cell_type": "code",
   "execution_count": 60,
   "metadata": {},
   "outputs": [
    {
     "data": {
      "text/plain": [
       "{'max_depth': 5, 'min_samples_leaf': 1, 'n_estimators': 100}"
      ]
     },
     "execution_count": 60,
     "metadata": {},
     "output_type": "execute_result"
    }
   ],
   "source": [
    "parameters=[{'max_depth':[5,7,9,10],'min_samples_leaf':[1,2],'n_estimators':[100,250,500]}]\n",
    "            \n",
    "grid_search=GridSearchCV(rfr,parameters,scoring='r2',n_jobs=-1,cv=5)\n",
    "grid_search=grid_search.fit(x,y)\n",
    "grid_search.best_params_ "
   ]
  },
  {
   "cell_type": "code",
   "execution_count": 61,
   "metadata": {},
   "outputs": [
    {
     "name": "stdout",
     "output_type": "stream",
     "text": [
      "R2_score=   0.9901521249236597\n",
      "RMSE score=  546.2065002048859\n"
     ]
    }
   ],
   "source": [
    "x_train,x_test,y_train,y_test=train_test_split(x,y,random_state=98)\n",
    "rfr=RandomForestRegressor(max_depth=5,min_samples_leaf=1,n_estimators=100)\n",
    "rfr.fit(x,y)\n",
    "pred_rfr=rfr.predict(x_test)\n",
    "score=r2_score(y_test,pred_rfr)\n",
    "print('R2_score=  ',score)\n",
    "print('RMSE score= ',np.sqrt(mean_squared_error(y_test,pred_rfr)))"
   ]
  },
  {
   "cell_type": "code",
   "execution_count": 45,
   "metadata": {},
   "outputs": [
    {
     "name": "stdout",
     "output_type": "stream",
     "text": [
      "cross_val_scores=   -0.16068466427532918\n"
     ]
    }
   ],
   "source": [
    "#Cross validating the model and checking the cross_val_score,model giving highest score will be choosen as final model.\n",
    "rfr=RandomForestRegressor(max_depth=5,min_samples_leaf=1,n_estimators=100)\n",
    "rfr.fit(x,y)\n",
    "cvs=cross_val_score(rfr,x,y,scoring='r2',cv=5)\n",
    "print('cross_val_scores=  ',cvs.mean())"
   ]
  },
  {
   "cell_type": "markdown",
   "metadata": {},
   "source": [
    "# Saving Final  XGBoostRegressor model"
   ]
  },
  {
   "cell_type": "code",
   "execution_count": 75,
   "metadata": {},
   "outputs": [
    {
     "name": "stdout",
     "output_type": "stream",
     "text": [
      "R2_score=   0.9999879838595137\n",
      "RMSE score=  20.231295843530734\n"
     ]
    }
   ],
   "source": [
    "#From all the model tried above XGBoostRegressor model has highest cross_val_score .\n",
    "#Hence saving the XGBoostRegressor model as our final model\n",
    "#corresponding random_state=94\n",
    "x_train,x_test,y_train,y_test=train_test_split(x,y,random_state=61)\n",
    "xgb=XGBRegressor(max_depth=8,colsample_bytree= 0.6, learning_rate=0.3)\n",
    "xgb.fit(x,y)\n",
    "pred_xgb=xgb.predict(x_test)\n",
    "score=r2_score(y_test,pred_xgb)\n",
    "print('R2_score=  ',score)\n",
    "print('RMSE score= ',np.sqrt(mean_squared_error(y_test,pred_xgb)))"
   ]
  },
  {
   "cell_type": "code",
   "execution_count": 76,
   "metadata": {},
   "outputs": [
    {
     "name": "stdout",
     "output_type": "stream",
     "text": [
      "cross_val_scores=   -0.7294672193581491\n"
     ]
    }
   ],
   "source": [
    "xgb=XGBRegressor(max_depth=3,colsample_bytree= 0.5, learning_rate=0.1)\n",
    "xgb.fit(x,y)\n",
    "cvs=cross_val_score(xgb,x,y,scoring='r2',cv=5)\n",
    "print('cross_val_scores=  ',cvs.mean())"
   ]
  },
  {
   "cell_type": "code",
   "execution_count": 77,
   "metadata": {},
   "outputs": [
    {
     "data": {
      "text/plain": [
       "['Project18-countrywidecovid.obj']"
      ]
     },
     "execution_count": 77,
     "metadata": {},
     "output_type": "execute_result"
    }
   ],
   "source": [
    "from sklearn.externals import joblib\n",
    "joblib.dump(xgb,'Project18-countrywidecovid.obj')"
   ]
  },
  {
   "cell_type": "code",
   "execution_count": 78,
   "metadata": {},
   "outputs": [],
   "source": [
    "model=joblib.load('Project18-countrywidecovid.obj')"
   ]
  },
  {
   "cell_type": "code",
   "execution_count": 79,
   "metadata": {},
   "outputs": [
    {
     "data": {
      "text/plain": [
       "array([ 4.1000e+01,  2.4761e+04,  1.2350e+03, ...,  4.5700e+02,\n",
       "       -6.0000e+00,  3.3000e+01], dtype=float32)"
      ]
     },
     "execution_count": 79,
     "metadata": {},
     "output_type": "execute_result"
    }
   ],
   "source": [
    "pred=np.round(model.predict(x_test))\n",
    "pred"
   ]
  },
  {
   "cell_type": "markdown",
   "metadata": {},
   "source": [
    "# Saving final predictions in file.csv"
   ]
  },
  {
   "cell_type": "code",
   "execution_count": 80,
   "metadata": {},
   "outputs": [],
   "source": [
    "final_predictions=np.round(model.predict(x_test))\n",
    "final_predictions=pd.DataFrame(final_predictions,columns=['Total Deaths'])"
   ]
  },
  {
   "cell_type": "code",
   "execution_count": 81,
   "metadata": {},
   "outputs": [],
   "source": [
    "final_predictions.to_csv('E:\\\\final_predictionscountrywidecovid.csv',index=False)"
   ]
  },
  {
   "cell_type": "markdown",
   "metadata": {},
   "source": [
    "# Conclusion:-"
   ]
  },
  {
   "cell_type": "raw",
   "metadata": {},
   "source": [
    "Total Deaths can be predicted using the model above. \n",
    "By using sklearn(XGBRegressor)we have build a machine learning model that will help us predict Total Deaths due to covid in different countries.           "
   ]
  },
  {
   "cell_type": "markdown",
   "metadata": {},
   "source": [
    "# Estimating the true death rate."
   ]
  },
  {
   "cell_type": "code",
   "execution_count": 86,
   "metadata": {},
   "outputs": [],
   "source": [
    "WRT_Age=pd.DataFrame({'country':df10['Country'][x_test.index],\n",
    "                      'Total Tests':df10['Total Tests'][x_test.index],\n",
    "                      'Total DeathPrediction(pred)':pred,\n",
    "                      'Death rate':(pred)/(df10['Total Tests'][x_test.index])})"
   ]
  },
  {
   "cell_type": "code",
   "execution_count": 87,
   "metadata": {},
   "outputs": [
    {
     "data": {
      "text/html": [
       "<div>\n",
       "<style scoped>\n",
       "    .dataframe tbody tr th:only-of-type {\n",
       "        vertical-align: middle;\n",
       "    }\n",
       "\n",
       "    .dataframe tbody tr th {\n",
       "        vertical-align: top;\n",
       "    }\n",
       "\n",
       "    .dataframe thead th {\n",
       "        text-align: right;\n",
       "    }\n",
       "</style>\n",
       "<table border=\"1\" class=\"dataframe\">\n",
       "  <thead>\n",
       "    <tr style=\"text-align: right;\">\n",
       "      <th></th>\n",
       "      <th>country</th>\n",
       "      <th>Total Tests</th>\n",
       "      <th>Total DeathPrediction(pred)</th>\n",
       "      <th>Death rate</th>\n",
       "    </tr>\n",
       "  </thead>\n",
       "  <tbody>\n",
       "    <tr>\n",
       "      <td>4319</td>\n",
       "      <td>Montenegro</td>\n",
       "      <td>6864.0</td>\n",
       "      <td>41.0</td>\n",
       "      <td>0.005973</td>\n",
       "    </tr>\n",
       "    <tr>\n",
       "      <td>202</td>\n",
       "      <td>France</td>\n",
       "      <td>1100228.0</td>\n",
       "      <td>24761.0</td>\n",
       "      <td>0.022505</td>\n",
       "    </tr>\n",
       "    <tr>\n",
       "      <td>6418</td>\n",
       "      <td>Caribbean Netherlands</td>\n",
       "      <td>110.0</td>\n",
       "      <td>1235.0</td>\n",
       "      <td>11.227273</td>\n",
       "    </tr>\n",
       "    <tr>\n",
       "      <td>1590</td>\n",
       "      <td>Bahrain</td>\n",
       "      <td>117374.0</td>\n",
       "      <td>-32.0</td>\n",
       "      <td>-0.000273</td>\n",
       "    </tr>\n",
       "    <tr>\n",
       "      <td>5715</td>\n",
       "      <td>Timor-Leste</td>\n",
       "      <td>322.0</td>\n",
       "      <td>892.0</td>\n",
       "      <td>2.770186</td>\n",
       "    </tr>\n",
       "  </tbody>\n",
       "</table>\n",
       "</div>"
      ],
      "text/plain": [
       "                    country  Total Tests  Total DeathPrediction(pred)  \\\n",
       "4319             Montenegro       6864.0                         41.0   \n",
       "202                  France    1100228.0                      24761.0   \n",
       "6418  Caribbean Netherlands        110.0                       1235.0   \n",
       "1590                Bahrain     117374.0                        -32.0   \n",
       "5715            Timor-Leste        322.0                        892.0   \n",
       "\n",
       "      Death rate  \n",
       "4319    0.005973  \n",
       "202     0.022505  \n",
       "6418   11.227273  \n",
       "1590   -0.000273  \n",
       "5715    2.770186  "
      ]
     },
     "execution_count": 87,
     "metadata": {},
     "output_type": "execute_result"
    }
   ],
   "source": [
    "WRT_Age[:5] #Death rate=Total Deaths(pred)/Total Tests"
   ]
  }
 ],
 "metadata": {
  "kernelspec": {
   "display_name": "Python 3",
   "language": "python",
   "name": "python3"
  },
  "language_info": {
   "codemirror_mode": {
    "name": "ipython",
    "version": 3
   },
   "file_extension": ".py",
   "mimetype": "text/x-python",
   "name": "python",
   "nbconvert_exporter": "python",
   "pygments_lexer": "ipython3",
   "version": "3.7.4"
  }
 },
 "nbformat": 4,
 "nbformat_minor": 2
}
