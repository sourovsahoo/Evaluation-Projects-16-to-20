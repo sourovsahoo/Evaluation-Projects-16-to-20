{
 "cells": [
  {
   "cell_type": "raw",
   "metadata": {},
   "source": [
    "#I tried doing it with multiclass classification as mentiond in UCI machiene learning site,\n",
    "#But with with such small amount(740 rows) of data and many classes(19) to predict,the output accuracy was very low which are as follows:-\n",
    "\n",
    "        Model                   Accuracy_score     Cross_val_score\n",
    "0   KNeighborsClassifier          34.722222         36.033887\n",
    "1\tSVC\t                          38.888889\t        42.331900\n",
    "2\tLogisticRegression\t          41.666667\t        40.486707\n",
    "3\tDecisionTreeClassifier\t      41.666667\t        34.238015\n",
    "4\tRandomForestClassifier\t      41.666667\t        39.194492\n",
    "5\tXGBClassifier\t              46.527778\t        38.492120\n",
    "6   GradientBoostingClassifier    45.138889\t        38.074846\n",
    "7\tAdaBoostClassifier\t          41.666667\t        41.797489"
   ]
  },
  {
   "cell_type": "raw",
   "metadata": {},
   "source": [
    "#Then I tried the regression method also,\n",
    "#But the output were absurd/not satisfactory.\n",
    "\n",
    "\t    Model\t                     R2_score\tRMSEscore\tCross_val_score\n",
    "\n",
    "0\tKNeighborsRegressor\t            -10.783107\t10.392159\t-2.319472\n",
    "1\tSVR\t                             7.923790\t9.474204\t 2.654435\n",
    "2\tLinearRegression\t             0.188405\t9.864147\t 6.785824\n",
    "3\tDecisionTreeRegressor\t        -281.719557\t19.290400\t-171.768388\n",
    "4\tGradientBoostingRegressor\t    -58.148328\t12.416561\t-15.984610\n",
    "5\tAdaBoostRegressor\t            -42.814213\t11.799259\t-27.284203\n",
    "6\tRandomForestRegressor\t        -80.690040\t13.271992\t-28.128909\n",
    "7\tXGBRegressor\t                -166.268106\t16.111226\t-58.469694\n",
    "\n"
   ]
  },
  {
   "cell_type": "code",
   "execution_count": null,
   "metadata": {},
   "outputs": [],
   "source": [
    "#Hence finally choosing this method of converting the output data to binary form."
   ]
  },
  {
   "cell_type": "raw",
   "metadata": {},
   "source": [
    "We will change this to binary class classification problem by setting a threshold=1hour:-\n",
    "\n",
    "Threshold can be changed as per demand by the client.\n",
    "\n",
    "Wether the persons Absenteeism time in hours(>1 hour) =1\n",
    "                                            (<1 hour) =0\n",
    "                                            \n",
    "We will use accuracy_score as our evaluation metrics to predict a persons Absenteeism time in hours."
   ]
  },
  {
   "cell_type": "code",
   "execution_count": 1,
   "metadata": {},
   "outputs": [
    {
     "name": "stderr",
     "output_type": "stream",
     "text": [
      "C:\\ProgramData\\Anaconda3\\lib\\site-packages\\sklearn\\externals\\joblib\\__init__.py:15: DeprecationWarning: sklearn.externals.joblib is deprecated in 0.21 and will be removed in 0.23. Please import this functionality directly from joblib, which can be installed with: pip install joblib. If this warning is raised when loading pickled models, you may need to re-serialize those models with scikit-learn 0.21+.\n",
      "  warnings.warn(msg, category=DeprecationWarning)\n"
     ]
    }
   ],
   "source": [
    "import numpy as np\n",
    "import pandas as pd\n",
    "import matplotlib.pyplot as plt\n",
    "import warnings\n",
    "warnings.filterwarnings('ignore')\n",
    "import seaborn as sns\n",
    "\n",
    "from sklearn.preprocessing import PowerTransformer\n",
    "from sklearn.preprocessing import StandardScaler\n",
    "from sklearn.model_selection import train_test_split,cross_val_score\n",
    "\n",
    "from sklearn.neighbors import KNeighborsClassifier\n",
    "from sklearn.svm import SVC\n",
    "from sklearn.linear_model import LogisticRegression\n",
    "from sklearn.tree import DecisionTreeClassifier\n",
    "from sklearn.naive_bayes import GaussianNB\n",
    "from sklearn.ensemble import RandomForestClassifier\n",
    "from xgboost import XGBClassifier\n",
    "from sklearn.ensemble import GradientBoostingClassifier\n",
    "from sklearn.ensemble import AdaBoostClassifier\n",
    "\n",
    "from sklearn.metrics import classification_report,confusion_matrix,accuracy_score\n",
    "\n",
    "\n",
    "from sklearn.externals import joblib"
   ]
  },
  {
   "cell_type": "code",
   "execution_count": 2,
   "metadata": {},
   "outputs": [],
   "source": [
    "df=pd.read_csv('E:\\\\Absenteeism_at_work.csv',sep=';')\n",
    "pd.set_option('display.max_columns',None)"
   ]
  },
  {
   "cell_type": "code",
   "execution_count": 3,
   "metadata": {},
   "outputs": [
    {
     "data": {
      "text/html": [
       "<div>\n",
       "<style scoped>\n",
       "    .dataframe tbody tr th:only-of-type {\n",
       "        vertical-align: middle;\n",
       "    }\n",
       "\n",
       "    .dataframe tbody tr th {\n",
       "        vertical-align: top;\n",
       "    }\n",
       "\n",
       "    .dataframe thead th {\n",
       "        text-align: right;\n",
       "    }\n",
       "</style>\n",
       "<table border=\"1\" class=\"dataframe\">\n",
       "  <thead>\n",
       "    <tr style=\"text-align: right;\">\n",
       "      <th></th>\n",
       "      <th>ID</th>\n",
       "      <th>Reason for absence</th>\n",
       "      <th>Month of absence</th>\n",
       "      <th>Day of the week</th>\n",
       "      <th>Seasons</th>\n",
       "      <th>Transportation expense</th>\n",
       "      <th>Distance from Residence to Work</th>\n",
       "      <th>Service time</th>\n",
       "      <th>Age</th>\n",
       "      <th>Work load Average/day</th>\n",
       "      <th>Hit target</th>\n",
       "      <th>Disciplinary failure</th>\n",
       "      <th>Education</th>\n",
       "      <th>Son</th>\n",
       "      <th>Social drinker</th>\n",
       "      <th>Social smoker</th>\n",
       "      <th>Pet</th>\n",
       "      <th>Weight</th>\n",
       "      <th>Height</th>\n",
       "      <th>Body mass index</th>\n",
       "      <th>Absenteeism time in hours</th>\n",
       "    </tr>\n",
       "  </thead>\n",
       "  <tbody>\n",
       "    <tr>\n",
       "      <td>0</td>\n",
       "      <td>11</td>\n",
       "      <td>26</td>\n",
       "      <td>7</td>\n",
       "      <td>3</td>\n",
       "      <td>1</td>\n",
       "      <td>289</td>\n",
       "      <td>36</td>\n",
       "      <td>13</td>\n",
       "      <td>33</td>\n",
       "      <td>239.554</td>\n",
       "      <td>97</td>\n",
       "      <td>0</td>\n",
       "      <td>1</td>\n",
       "      <td>2</td>\n",
       "      <td>1</td>\n",
       "      <td>0</td>\n",
       "      <td>1</td>\n",
       "      <td>90</td>\n",
       "      <td>172</td>\n",
       "      <td>30</td>\n",
       "      <td>4</td>\n",
       "    </tr>\n",
       "    <tr>\n",
       "      <td>1</td>\n",
       "      <td>36</td>\n",
       "      <td>0</td>\n",
       "      <td>7</td>\n",
       "      <td>3</td>\n",
       "      <td>1</td>\n",
       "      <td>118</td>\n",
       "      <td>13</td>\n",
       "      <td>18</td>\n",
       "      <td>50</td>\n",
       "      <td>239.554</td>\n",
       "      <td>97</td>\n",
       "      <td>1</td>\n",
       "      <td>1</td>\n",
       "      <td>1</td>\n",
       "      <td>1</td>\n",
       "      <td>0</td>\n",
       "      <td>0</td>\n",
       "      <td>98</td>\n",
       "      <td>178</td>\n",
       "      <td>31</td>\n",
       "      <td>0</td>\n",
       "    </tr>\n",
       "    <tr>\n",
       "      <td>2</td>\n",
       "      <td>3</td>\n",
       "      <td>23</td>\n",
       "      <td>7</td>\n",
       "      <td>4</td>\n",
       "      <td>1</td>\n",
       "      <td>179</td>\n",
       "      <td>51</td>\n",
       "      <td>18</td>\n",
       "      <td>38</td>\n",
       "      <td>239.554</td>\n",
       "      <td>97</td>\n",
       "      <td>0</td>\n",
       "      <td>1</td>\n",
       "      <td>0</td>\n",
       "      <td>1</td>\n",
       "      <td>0</td>\n",
       "      <td>0</td>\n",
       "      <td>89</td>\n",
       "      <td>170</td>\n",
       "      <td>31</td>\n",
       "      <td>2</td>\n",
       "    </tr>\n",
       "    <tr>\n",
       "      <td>3</td>\n",
       "      <td>7</td>\n",
       "      <td>7</td>\n",
       "      <td>7</td>\n",
       "      <td>5</td>\n",
       "      <td>1</td>\n",
       "      <td>279</td>\n",
       "      <td>5</td>\n",
       "      <td>14</td>\n",
       "      <td>39</td>\n",
       "      <td>239.554</td>\n",
       "      <td>97</td>\n",
       "      <td>0</td>\n",
       "      <td>1</td>\n",
       "      <td>2</td>\n",
       "      <td>1</td>\n",
       "      <td>1</td>\n",
       "      <td>0</td>\n",
       "      <td>68</td>\n",
       "      <td>168</td>\n",
       "      <td>24</td>\n",
       "      <td>4</td>\n",
       "    </tr>\n",
       "    <tr>\n",
       "      <td>4</td>\n",
       "      <td>11</td>\n",
       "      <td>23</td>\n",
       "      <td>7</td>\n",
       "      <td>5</td>\n",
       "      <td>1</td>\n",
       "      <td>289</td>\n",
       "      <td>36</td>\n",
       "      <td>13</td>\n",
       "      <td>33</td>\n",
       "      <td>239.554</td>\n",
       "      <td>97</td>\n",
       "      <td>0</td>\n",
       "      <td>1</td>\n",
       "      <td>2</td>\n",
       "      <td>1</td>\n",
       "      <td>0</td>\n",
       "      <td>1</td>\n",
       "      <td>90</td>\n",
       "      <td>172</td>\n",
       "      <td>30</td>\n",
       "      <td>2</td>\n",
       "    </tr>\n",
       "  </tbody>\n",
       "</table>\n",
       "</div>"
      ],
      "text/plain": [
       "   ID  Reason for absence  Month of absence  Day of the week  Seasons  \\\n",
       "0  11                  26                 7                3        1   \n",
       "1  36                   0                 7                3        1   \n",
       "2   3                  23                 7                4        1   \n",
       "3   7                   7                 7                5        1   \n",
       "4  11                  23                 7                5        1   \n",
       "\n",
       "   Transportation expense  Distance from Residence to Work  Service time  Age  \\\n",
       "0                     289                               36            13   33   \n",
       "1                     118                               13            18   50   \n",
       "2                     179                               51            18   38   \n",
       "3                     279                                5            14   39   \n",
       "4                     289                               36            13   33   \n",
       "\n",
       "   Work load Average/day   Hit target  Disciplinary failure  Education  Son  \\\n",
       "0                 239.554          97                     0          1    2   \n",
       "1                 239.554          97                     1          1    1   \n",
       "2                 239.554          97                     0          1    0   \n",
       "3                 239.554          97                     0          1    2   \n",
       "4                 239.554          97                     0          1    2   \n",
       "\n",
       "   Social drinker  Social smoker  Pet  Weight  Height  Body mass index  \\\n",
       "0               1              0    1      90     172               30   \n",
       "1               1              0    0      98     178               31   \n",
       "2               1              0    0      89     170               31   \n",
       "3               1              1    0      68     168               24   \n",
       "4               1              0    1      90     172               30   \n",
       "\n",
       "   Absenteeism time in hours  \n",
       "0                          4  \n",
       "1                          0  \n",
       "2                          2  \n",
       "3                          4  \n",
       "4                          2  "
      ]
     },
     "execution_count": 3,
     "metadata": {},
     "output_type": "execute_result"
    }
   ],
   "source": [
    "df.head()"
   ]
  },
  {
   "cell_type": "code",
   "execution_count": 8,
   "metadata": {},
   "outputs": [
    {
     "data": {
      "text/plain": [
       "8      208\n",
       "2      157\n",
       "3      112\n",
       "1       88\n",
       "4       60\n",
       "0       44\n",
       "16      19\n",
       "24      16\n",
       "40       7\n",
       "5        7\n",
       "32       6\n",
       "64       3\n",
       "80       3\n",
       "120      3\n",
       "112      2\n",
       "56       2\n",
       "48       1\n",
       "7        1\n",
       "104      1\n",
       "Name: Absenteeism time in hours, dtype: int64"
      ]
     },
     "execution_count": 8,
     "metadata": {},
     "output_type": "execute_result"
    }
   ],
   "source": [
    "df['Absenteeism time in hours'].value_counts()"
   ]
  },
  {
   "cell_type": "markdown",
   "metadata": {},
   "source": [
    "# Changing the target variable to binary class"
   ]
  },
  {
   "cell_type": "code",
   "execution_count": null,
   "metadata": {},
   "outputs": [],
   "source": [
    "#We can change the threshold according to our requirement and change the values accordingly.\n",
    "#Here threshold=1hour\n",
    "\n",
    "#Wether the persons Absenteeism time in hours(>1 hour) =1\n",
    "#                                            (<1 hour) =0"
   ]
  },
  {
   "cell_type": "code",
   "execution_count": 5,
   "metadata": {},
   "outputs": [],
   "source": [
    "df.loc[df['Absenteeism time in hours'] <1, \"Absenteeism time in hours\"] =0"
   ]
  },
  {
   "cell_type": "code",
   "execution_count": 6,
   "metadata": {},
   "outputs": [],
   "source": [
    "df.loc[df['Absenteeism time in hours'] >= 1, \"Absenteeism time in hours\"] =1\n"
   ]
  },
  {
   "cell_type": "code",
   "execution_count": 7,
   "metadata": {},
   "outputs": [
    {
     "data": {
      "text/plain": [
       "1    696\n",
       "0     44\n",
       "Name: Absenteeism time in hours, dtype: int64"
      ]
     },
     "execution_count": 7,
     "metadata": {},
     "output_type": "execute_result"
    }
   ],
   "source": [
    "df['Absenteeism time in hours'].value_counts()"
   ]
  },
  {
   "cell_type": "markdown",
   "metadata": {},
   "source": [
    "# General data checking"
   ]
  },
  {
   "cell_type": "code",
   "execution_count": 8,
   "metadata": {},
   "outputs": [
    {
     "data": {
      "text/plain": [
       "(740, 21)"
      ]
     },
     "execution_count": 8,
     "metadata": {},
     "output_type": "execute_result"
    }
   ],
   "source": [
    "df.shape"
   ]
  },
  {
   "cell_type": "code",
   "execution_count": 9,
   "metadata": {},
   "outputs": [
    {
     "data": {
      "text/plain": [
       "36"
      ]
     },
     "execution_count": 9,
     "metadata": {},
     "output_type": "execute_result"
    }
   ],
   "source": [
    "df['ID'].nunique()#ID is not unique"
   ]
  },
  {
   "cell_type": "code",
   "execution_count": 10,
   "metadata": {},
   "outputs": [
    {
     "data": {
      "text/plain": [
       "ID                                   int64\n",
       "Reason for absence                   int64\n",
       "Month of absence                     int64\n",
       "Day of the week                      int64\n",
       "Seasons                              int64\n",
       "Transportation expense               int64\n",
       "Distance from Residence to Work      int64\n",
       "Service time                         int64\n",
       "Age                                  int64\n",
       "Work load Average/day              float64\n",
       "Hit target                           int64\n",
       "Disciplinary failure                 int64\n",
       "Education                            int64\n",
       "Son                                  int64\n",
       "Social drinker                       int64\n",
       "Social smoker                        int64\n",
       "Pet                                  int64\n",
       "Weight                               int64\n",
       "Height                               int64\n",
       "Body mass index                      int64\n",
       "Absenteeism time in hours            int64\n",
       "dtype: object"
      ]
     },
     "execution_count": 10,
     "metadata": {},
     "output_type": "execute_result"
    }
   ],
   "source": [
    "df.dtypes"
   ]
  },
  {
   "cell_type": "code",
   "execution_count": 11,
   "metadata": {},
   "outputs": [
    {
     "data": {
      "text/plain": [
       "<matplotlib.axes._subplots.AxesSubplot at 0x1965bdc8d08>"
      ]
     },
     "execution_count": 11,
     "metadata": {},
     "output_type": "execute_result"
    },
    {
     "data": {
      "image/png": "[encoded data removed]",
      "text/plain": [
       "<Figure size 432x288 with 2 Axes>"
      ]
     },
     "metadata": {
      "needs_background": "light"
     },
     "output_type": "display_data"
    }
   ],
   "source": [
    "sns.heatmap(df.isnull())   #no missing value in dataset"
   ]
  },
  {
   "cell_type": "code",
   "execution_count": 12,
   "metadata": {},
   "outputs": [
    {
     "data": {
      "text/plain": [
       "ID                                 0\n",
       "Reason for absence                 0\n",
       "Month of absence                   0\n",
       "Day of the week                    0\n",
       "Seasons                            0\n",
       "Transportation expense             0\n",
       "Distance from Residence to Work    0\n",
       "Service time                       0\n",
       "Age                                0\n",
       "Work load Average/day              0\n",
       "Hit target                         0\n",
       "Disciplinary failure               0\n",
       "Education                          0\n",
       "Son                                0\n",
       "Social drinker                     0\n",
       "Social smoker                      0\n",
       "Pet                                0\n",
       "Weight                             0\n",
       "Height                             0\n",
       "Body mass index                    0\n",
       "Absenteeism time in hours          0\n",
       "dtype: int64"
      ]
     },
     "execution_count": 12,
     "metadata": {},
     "output_type": "execute_result"
    }
   ],
   "source": [
    "df.isnull().sum()#no missing value in dataset"
   ]
  },
  {
   "cell_type": "code",
   "execution_count": 13,
   "metadata": {},
   "outputs": [
    {
     "data": {
      "text/html": [
       "<div>\n",
       "<style scoped>\n",
       "    .dataframe tbody tr th:only-of-type {\n",
       "        vertical-align: middle;\n",
       "    }\n",
       "\n",
       "    .dataframe tbody tr th {\n",
       "        vertical-align: top;\n",
       "    }\n",
       "\n",
       "    .dataframe thead th {\n",
       "        text-align: right;\n",
       "    }\n",
       "</style>\n",
       "<table border=\"1\" class=\"dataframe\">\n",
       "  <thead>\n",
       "    <tr style=\"text-align: right;\">\n",
       "      <th></th>\n",
       "      <th>ID</th>\n",
       "      <th>Reason for absence</th>\n",
       "      <th>Month of absence</th>\n",
       "      <th>Day of the week</th>\n",
       "      <th>Seasons</th>\n",
       "      <th>Transportation expense</th>\n",
       "      <th>Distance from Residence to Work</th>\n",
       "      <th>Service time</th>\n",
       "      <th>Age</th>\n",
       "      <th>Work load Average/day</th>\n",
       "      <th>Hit target</th>\n",
       "      <th>Disciplinary failure</th>\n",
       "      <th>Education</th>\n",
       "      <th>Son</th>\n",
       "      <th>Social drinker</th>\n",
       "      <th>Social smoker</th>\n",
       "      <th>Pet</th>\n",
       "      <th>Weight</th>\n",
       "      <th>Height</th>\n",
       "      <th>Body mass index</th>\n",
       "      <th>Absenteeism time in hours</th>\n",
       "    </tr>\n",
       "  </thead>\n",
       "  <tbody>\n",
       "    <tr>\n",
       "      <td>count</td>\n",
       "      <td>740.000000</td>\n",
       "      <td>740.000000</td>\n",
       "      <td>740.000000</td>\n",
       "      <td>740.000000</td>\n",
       "      <td>740.000000</td>\n",
       "      <td>740.000000</td>\n",
       "      <td>740.000000</td>\n",
       "      <td>740.000000</td>\n",
       "      <td>740.000000</td>\n",
       "      <td>740.000000</td>\n",
       "      <td>740.000000</td>\n",
       "      <td>740.000000</td>\n",
       "      <td>740.000000</td>\n",
       "      <td>740.000000</td>\n",
       "      <td>740.000000</td>\n",
       "      <td>740.000000</td>\n",
       "      <td>740.000000</td>\n",
       "      <td>740.000000</td>\n",
       "      <td>740.000000</td>\n",
       "      <td>740.000000</td>\n",
       "      <td>740.000000</td>\n",
       "    </tr>\n",
       "    <tr>\n",
       "      <td>mean</td>\n",
       "      <td>18.017568</td>\n",
       "      <td>19.216216</td>\n",
       "      <td>6.324324</td>\n",
       "      <td>3.914865</td>\n",
       "      <td>2.544595</td>\n",
       "      <td>221.329730</td>\n",
       "      <td>29.631081</td>\n",
       "      <td>12.554054</td>\n",
       "      <td>36.450000</td>\n",
       "      <td>271.490235</td>\n",
       "      <td>94.587838</td>\n",
       "      <td>0.054054</td>\n",
       "      <td>1.291892</td>\n",
       "      <td>1.018919</td>\n",
       "      <td>0.567568</td>\n",
       "      <td>0.072973</td>\n",
       "      <td>0.745946</td>\n",
       "      <td>79.035135</td>\n",
       "      <td>172.114865</td>\n",
       "      <td>26.677027</td>\n",
       "      <td>0.940541</td>\n",
       "    </tr>\n",
       "    <tr>\n",
       "      <td>std</td>\n",
       "      <td>11.021247</td>\n",
       "      <td>8.433406</td>\n",
       "      <td>3.436287</td>\n",
       "      <td>1.421675</td>\n",
       "      <td>1.111831</td>\n",
       "      <td>66.952223</td>\n",
       "      <td>14.836788</td>\n",
       "      <td>4.384873</td>\n",
       "      <td>6.478772</td>\n",
       "      <td>39.058116</td>\n",
       "      <td>3.779313</td>\n",
       "      <td>0.226277</td>\n",
       "      <td>0.673238</td>\n",
       "      <td>1.098489</td>\n",
       "      <td>0.495749</td>\n",
       "      <td>0.260268</td>\n",
       "      <td>1.318258</td>\n",
       "      <td>12.883211</td>\n",
       "      <td>6.034995</td>\n",
       "      <td>4.285452</td>\n",
       "      <td>0.236643</td>\n",
       "    </tr>\n",
       "    <tr>\n",
       "      <td>min</td>\n",
       "      <td>1.000000</td>\n",
       "      <td>0.000000</td>\n",
       "      <td>0.000000</td>\n",
       "      <td>2.000000</td>\n",
       "      <td>1.000000</td>\n",
       "      <td>118.000000</td>\n",
       "      <td>5.000000</td>\n",
       "      <td>1.000000</td>\n",
       "      <td>27.000000</td>\n",
       "      <td>205.917000</td>\n",
       "      <td>81.000000</td>\n",
       "      <td>0.000000</td>\n",
       "      <td>1.000000</td>\n",
       "      <td>0.000000</td>\n",
       "      <td>0.000000</td>\n",
       "      <td>0.000000</td>\n",
       "      <td>0.000000</td>\n",
       "      <td>56.000000</td>\n",
       "      <td>163.000000</td>\n",
       "      <td>19.000000</td>\n",
       "      <td>0.000000</td>\n",
       "    </tr>\n",
       "    <tr>\n",
       "      <td>25%</td>\n",
       "      <td>9.000000</td>\n",
       "      <td>13.000000</td>\n",
       "      <td>3.000000</td>\n",
       "      <td>3.000000</td>\n",
       "      <td>2.000000</td>\n",
       "      <td>179.000000</td>\n",
       "      <td>16.000000</td>\n",
       "      <td>9.000000</td>\n",
       "      <td>31.000000</td>\n",
       "      <td>244.387000</td>\n",
       "      <td>93.000000</td>\n",
       "      <td>0.000000</td>\n",
       "      <td>1.000000</td>\n",
       "      <td>0.000000</td>\n",
       "      <td>0.000000</td>\n",
       "      <td>0.000000</td>\n",
       "      <td>0.000000</td>\n",
       "      <td>69.000000</td>\n",
       "      <td>169.000000</td>\n",
       "      <td>24.000000</td>\n",
       "      <td>1.000000</td>\n",
       "    </tr>\n",
       "    <tr>\n",
       "      <td>50%</td>\n",
       "      <td>18.000000</td>\n",
       "      <td>23.000000</td>\n",
       "      <td>6.000000</td>\n",
       "      <td>4.000000</td>\n",
       "      <td>3.000000</td>\n",
       "      <td>225.000000</td>\n",
       "      <td>26.000000</td>\n",
       "      <td>13.000000</td>\n",
       "      <td>37.000000</td>\n",
       "      <td>264.249000</td>\n",
       "      <td>95.000000</td>\n",
       "      <td>0.000000</td>\n",
       "      <td>1.000000</td>\n",
       "      <td>1.000000</td>\n",
       "      <td>1.000000</td>\n",
       "      <td>0.000000</td>\n",
       "      <td>0.000000</td>\n",
       "      <td>83.000000</td>\n",
       "      <td>170.000000</td>\n",
       "      <td>25.000000</td>\n",
       "      <td>1.000000</td>\n",
       "    </tr>\n",
       "    <tr>\n",
       "      <td>75%</td>\n",
       "      <td>28.000000</td>\n",
       "      <td>26.000000</td>\n",
       "      <td>9.000000</td>\n",
       "      <td>5.000000</td>\n",
       "      <td>4.000000</td>\n",
       "      <td>260.000000</td>\n",
       "      <td>50.000000</td>\n",
       "      <td>16.000000</td>\n",
       "      <td>40.000000</td>\n",
       "      <td>294.217000</td>\n",
       "      <td>97.000000</td>\n",
       "      <td>0.000000</td>\n",
       "      <td>1.000000</td>\n",
       "      <td>2.000000</td>\n",
       "      <td>1.000000</td>\n",
       "      <td>0.000000</td>\n",
       "      <td>1.000000</td>\n",
       "      <td>89.000000</td>\n",
       "      <td>172.000000</td>\n",
       "      <td>31.000000</td>\n",
       "      <td>1.000000</td>\n",
       "    </tr>\n",
       "    <tr>\n",
       "      <td>max</td>\n",
       "      <td>36.000000</td>\n",
       "      <td>28.000000</td>\n",
       "      <td>12.000000</td>\n",
       "      <td>6.000000</td>\n",
       "      <td>4.000000</td>\n",
       "      <td>388.000000</td>\n",
       "      <td>52.000000</td>\n",
       "      <td>29.000000</td>\n",
       "      <td>58.000000</td>\n",
       "      <td>378.884000</td>\n",
       "      <td>100.000000</td>\n",
       "      <td>1.000000</td>\n",
       "      <td>4.000000</td>\n",
       "      <td>4.000000</td>\n",
       "      <td>1.000000</td>\n",
       "      <td>1.000000</td>\n",
       "      <td>8.000000</td>\n",
       "      <td>108.000000</td>\n",
       "      <td>196.000000</td>\n",
       "      <td>38.000000</td>\n",
       "      <td>1.000000</td>\n",
       "    </tr>\n",
       "  </tbody>\n",
       "</table>\n",
       "</div>"
      ],
      "text/plain": [
       "               ID  Reason for absence  Month of absence  Day of the week  \\\n",
       "count  740.000000          740.000000        740.000000       740.000000   \n",
       "mean    18.017568           19.216216          6.324324         3.914865   \n",
       "std     11.021247            8.433406          3.436287         1.421675   \n",
       "min      1.000000            0.000000          0.000000         2.000000   \n",
       "25%      9.000000           13.000000          3.000000         3.000000   \n",
       "50%     18.000000           23.000000          6.000000         4.000000   \n",
       "75%     28.000000           26.000000          9.000000         5.000000   \n",
       "max     36.000000           28.000000         12.000000         6.000000   \n",
       "\n",
       "          Seasons  Transportation expense  Distance from Residence to Work  \\\n",
       "count  740.000000              740.000000                       740.000000   \n",
       "mean     2.544595              221.329730                        29.631081   \n",
       "std      1.111831               66.952223                        14.836788   \n",
       "min      1.000000              118.000000                         5.000000   \n",
       "25%      2.000000              179.000000                        16.000000   \n",
       "50%      3.000000              225.000000                        26.000000   \n",
       "75%      4.000000              260.000000                        50.000000   \n",
       "max      4.000000              388.000000                        52.000000   \n",
       "\n",
       "       Service time         Age  Work load Average/day   Hit target  \\\n",
       "count    740.000000  740.000000              740.000000  740.000000   \n",
       "mean      12.554054   36.450000              271.490235   94.587838   \n",
       "std        4.384873    6.478772               39.058116    3.779313   \n",
       "min        1.000000   27.000000              205.917000   81.000000   \n",
       "25%        9.000000   31.000000              244.387000   93.000000   \n",
       "50%       13.000000   37.000000              264.249000   95.000000   \n",
       "75%       16.000000   40.000000              294.217000   97.000000   \n",
       "max       29.000000   58.000000              378.884000  100.000000   \n",
       "\n",
       "       Disciplinary failure   Education         Son  Social drinker  \\\n",
       "count            740.000000  740.000000  740.000000      740.000000   \n",
       "mean               0.054054    1.291892    1.018919        0.567568   \n",
       "std                0.226277    0.673238    1.098489        0.495749   \n",
       "min                0.000000    1.000000    0.000000        0.000000   \n",
       "25%                0.000000    1.000000    0.000000        0.000000   \n",
       "50%                0.000000    1.000000    1.000000        1.000000   \n",
       "75%                0.000000    1.000000    2.000000        1.000000   \n",
       "max                1.000000    4.000000    4.000000        1.000000   \n",
       "\n",
       "       Social smoker         Pet      Weight      Height  Body mass index  \\\n",
       "count     740.000000  740.000000  740.000000  740.000000       740.000000   \n",
       "mean        0.072973    0.745946   79.035135  172.114865        26.677027   \n",
       "std         0.260268    1.318258   12.883211    6.034995         4.285452   \n",
       "min         0.000000    0.000000   56.000000  163.000000        19.000000   \n",
       "25%         0.000000    0.000000   69.000000  169.000000        24.000000   \n",
       "50%         0.000000    0.000000   83.000000  170.000000        25.000000   \n",
       "75%         0.000000    1.000000   89.000000  172.000000        31.000000   \n",
       "max         1.000000    8.000000  108.000000  196.000000        38.000000   \n",
       "\n",
       "       Absenteeism time in hours  \n",
       "count                 740.000000  \n",
       "mean                    0.940541  \n",
       "std                     0.236643  \n",
       "min                     0.000000  \n",
       "25%                     1.000000  \n",
       "50%                     1.000000  \n",
       "75%                     1.000000  \n",
       "max                     1.000000  "
      ]
     },
     "execution_count": 13,
     "metadata": {},
     "output_type": "execute_result"
    }
   ],
   "source": [
    "df.describe()"
   ]
  },
  {
   "cell_type": "markdown",
   "metadata": {},
   "source": [
    "# EDA"
   ]
  },
  {
   "cell_type": "code",
   "execution_count": 14,
   "metadata": {},
   "outputs": [
    {
     "data": {
      "image/png": "[encoded data removed]",
      "text/plain": [
       "<Figure size 432x288 with 1 Axes>"
      ]
     },
     "metadata": {
      "needs_background": "light"
     },
     "output_type": "display_data"
    },
    {
     "data": {
      "image/png": "[encoded data removed]",
      "text/plain": [
       "<Figure size 432x288 with 1 Axes>"
      ]
     },
     "metadata": {
      "needs_background": "light"
     },
     "output_type": "display_data"
    },
    {
     "data": {
      "image/png": "[encoded data removed]",
      "text/plain": [
       "<Figure size 432x288 with 1 Axes>"
      ]
     },
     "metadata": {
      "needs_background": "light"
     },
     "output_type": "display_data"
    },
    {
     "data": {
      "image/png": "[encoded data removed]",
      "text/plain": [
       "<Figure size 432x288 with 1 Axes>"
      ]
     },
     "metadata": {
      "needs_background": "light"
     },
     "output_type": "display_data"
    },
    {
     "data": {
      "image/png": "[encoded data removed]",
      "text/plain": [
       "<Figure size 432x288 with 1 Axes>"
      ]
     },
     "metadata": {
      "needs_background": "light"
     },
     "output_type": "display_data"
    },
    {
     "data": {
      "image/png": "[encoded data removed]",
      "text/plain": [
       "<Figure size 432x288 with 1 Axes>"
      ]
     },
     "metadata": {
      "needs_background": "light"
     },
     "output_type": "display_data"
    },
    {
     "data": {
      "image/png": "[encoded data removed]",
      "text/plain": [
       "<Figure size 432x288 with 1 Axes>"
      ]
     },
     "metadata": {
      "needs_background": "light"
     },
     "output_type": "display_data"
    },
    {
     "data": {
      "image/png": "[encoded data removed]",
      "text/plain": [
       "<Figure size 432x288 with 1 Axes>"
      ]
     },
     "metadata": {
      "needs_background": "light"
     },
     "output_type": "display_data"
    },
    {
     "data": {
      "image/png": "[encoded data removed]",
      "text/plain": [
       "<Figure size 432x288 with 1 Axes>"
      ]
     },
     "metadata": {
      "needs_background": "light"
     },
     "output_type": "display_data"
    },
    {
     "data": {
      "image/png": "[encoded data removed]",
      "text/plain": [
       "<Figure size 432x288 with 1 Axes>"
      ]
     },
     "metadata": {
      "needs_background": "light"
     },
     "output_type": "display_data"
    },
    {
     "data": {
      "image/png": "[encoded data removed]",
      "text/plain": [
       "<Figure size 432x288 with 1 Axes>"
      ]
     },
     "metadata": {
      "needs_background": "light"
     },
     "output_type": "display_data"
    },
    {
     "data": {
      "image/png": "[encoded data removed]",
      "text/plain": [
       "<Figure size 432x288 with 1 Axes>"
      ]
     },
     "metadata": {
      "needs_background": "light"
     },
     "output_type": "display_data"
    },
    {
     "data": {
      "image/png": "[encoded data removed]",
      "text/plain": [
       "<Figure size 432x288 with 1 Axes>"
      ]
     },
     "metadata": {
      "needs_background": "light"
     },
     "output_type": "display_data"
    },
    {
     "data": {
      "image/png": "[encoded data removed]",
      "text/plain": [
       "<Figure size 432x288 with 1 Axes>"
      ]
     },
     "metadata": {
      "needs_background": "light"
     },
     "output_type": "display_data"
    },
    {
     "data": {
      "image/png": "[encoded data removed]",
      "text/plain": [
       "<Figure size 432x288 with 1 Axes>"
      ]
     },
     "metadata": {
      "needs_background": "light"
     },
     "output_type": "display_data"
    },
    {
     "data": {
      "image/png": "[encoded data removed]",
      "text/plain": [
       "<Figure size 432x288 with 1 Axes>"
      ]
     },
     "metadata": {
      "needs_background": "light"
     },
     "output_type": "display_data"
    },
    {
     "data": {
      "image/png": "[encoded data removed]",
      "text/plain": [
       "<Figure size 432x288 with 1 Axes>"
      ]
     },
     "metadata": {
      "needs_background": "light"
     },
     "output_type": "display_data"
    },
    {
     "data": {
      "image/png": "[encoded data removed]",
      "text/plain": [
       "<Figure size 432x288 with 1 Axes>"
      ]
     },
     "metadata": {
      "needs_background": "light"
     },
     "output_type": "display_data"
    },
    {
     "data": {
      "image/png": "[encoded data removed]",
      "text/plain": [
       "<Figure size 432x288 with 1 Axes>"
      ]
     },
     "metadata": {
      "needs_background": "light"
     },
     "output_type": "display_data"
    },
    {
     "data": {
      "image/png": "[encoded data removed]",
      "text/plain": [
       "<Figure size 432x288 with 1 Axes>"
      ]
     },
     "metadata": {
      "needs_background": "light"
     },
     "output_type": "display_data"
    },
    {
     "data": {
      "image/png": "[encoded data removed]",
      "text/plain": [
       "<Figure size 432x288 with 1 Axes>"
      ]
     },
     "metadata": {
      "needs_background": "light"
     },
     "output_type": "display_data"
    }
   ],
   "source": [
    "#checking for skewness\n",
    "numerical_features=[feature for feature in df.columns if df[feature].dtypes!='object']\n",
    "for feature in numerical_features:\n",
    "    if feature=='churn':\n",
    "        pass\n",
    "    else:\n",
    "    \n",
    "        \n",
    "        df[feature].hist(bins=25)\n",
    "        plt.xlabel(feature)\n",
    "        plt.show()"
   ]
  },
  {
   "cell_type": "code",
   "execution_count": 15,
   "metadata": {},
   "outputs": [],
   "source": [
    "#checking relation of each attribute w.r.t target attribute"
   ]
  },
  {
   "cell_type": "code",
   "execution_count": 16,
   "metadata": {},
   "outputs": [
    {
     "data": {
      "image/png": "[encoded data removed]",
      "text/plain": [
       "<Figure size 432x288 with 1 Axes>"
      ]
     },
     "metadata": {
      "needs_background": "light"
     },
     "output_type": "display_data"
    },
    {
     "data": {
      "image/png": "[encoded data removed]",
      "text/plain": [
       "<Figure size 432x288 with 1 Axes>"
      ]
     },
     "metadata": {
      "needs_background": "light"
     },
     "output_type": "display_data"
    },
    {
     "data": {
      "image/png": "[encoded data removed]",
      "text/plain": [
       "<Figure size 432x288 with 1 Axes>"
      ]
     },
     "metadata": {
      "needs_background": "light"
     },
     "output_type": "display_data"
    },
    {
     "data": {
      "image/png": "[encoded data removed]",
      "text/plain": [
       "<Figure size 432x288 with 1 Axes>"
      ]
     },
     "metadata": {
      "needs_background": "light"
     },
     "output_type": "display_data"
    },
    {
     "data": {
      "image/png": "[encoded data removed]",
      "text/plain": [
       "<Figure size 432x288 with 1 Axes>"
      ]
     },
     "metadata": {
      "needs_background": "light"
     },
     "output_type": "display_data"
    },
    {
     "data": {
      "image/png": "[encoded data removed]",
      "text/plain": [
       "<Figure size 432x288 with 1 Axes>"
      ]
     },
     "metadata": {
      "needs_background": "light"
     },
     "output_type": "display_data"
    },
    {
     "data": {
      "image/png": "[encoded data removed]",
      "text/plain": [
       "<Figure size 432x288 with 1 Axes>"
      ]
     },
     "metadata": {
      "needs_background": "light"
     },
     "output_type": "display_data"
    },
    {
     "data": {
      "image/png": "[encoded data removed]",
      "text/plain": [
       "<Figure size 432x288 with 1 Axes>"
      ]
     },
     "metadata": {
      "needs_background": "light"
     },
     "output_type": "display_data"
    },
    {
     "data": {
      "image/png": "[encoded data removed]",
      "text/plain": [
       "<Figure size 432x288 with 1 Axes>"
      ]
     },
     "metadata": {
      "needs_background": "light"
     },
     "output_type": "display_data"
    },
    {
     "data": {
      "image/png": "[encoded data removed]",
      "text/plain": [
       "<Figure size 432x288 with 1 Axes>"
      ]
     },
     "metadata": {
      "needs_background": "light"
     },
     "output_type": "display_data"
    },
    {
     "data": {
      "image/png": "[encoded data removed]",
      "text/plain": [
       "<Figure size 432x288 with 1 Axes>"
      ]
     },
     "metadata": {
      "needs_background": "light"
     },
     "output_type": "display_data"
    },
    {
     "data": {
      "image/png": "[encoded data removed]",
      "text/plain": [
       "<Figure size 432x288 with 1 Axes>"
      ]
     },
     "metadata": {
      "needs_background": "light"
     },
     "output_type": "display_data"
    },
    {
     "data": {
      "image/png": "[encoded data removed]",
      "text/plain": [
       "<Figure size 432x288 with 1 Axes>"
      ]
     },
     "metadata": {
      "needs_background": "light"
     },
     "output_type": "display_data"
    },
    {
     "data": {
      "image/png": "[encoded data removed]",
      "text/plain": [
       "<Figure size 432x288 with 1 Axes>"
      ]
     },
     "metadata": {
      "needs_background": "light"
     },
     "output_type": "display_data"
    },
    {
     "data": {
      "image/png": "[encoded data removed]",
      "text/plain": [
       "<Figure size 432x288 with 1 Axes>"
      ]
     },
     "metadata": {
      "needs_background": "light"
     },
     "output_type": "display_data"
    },
    {
     "data": {
      "image/png": "[encoded data removed]",
      "text/plain": [
       "<Figure size 432x288 with 1 Axes>"
      ]
     },
     "metadata": {
      "needs_background": "light"
     },
     "output_type": "display_data"
    },
    {
     "data": {
      "image/png": "[encoded data removed]",
      "text/plain": [
       "<Figure size 432x288 with 1 Axes>"
      ]
     },
     "metadata": {
      "needs_background": "light"
     },
     "output_type": "display_data"
    },
    {
     "data": {
      "image/png": "[encoded data removed]",
      "text/plain": [
       "<Figure size 432x288 with 1 Axes>"
      ]
     },
     "metadata": {
      "needs_background": "light"
     },
     "output_type": "display_data"
    },
    {
     "data": {
      "image/png": "[encoded data removed]",
      "text/plain": [
       "<Figure size 432x288 with 1 Axes>"
      ]
     },
     "metadata": {
      "needs_background": "light"
     },
     "output_type": "display_data"
    },
    {
     "data": {
      "image/png": "[encoded data removed]",
      "text/plain": [
       "<Figure size 432x288 with 1 Axes>"
      ]
     },
     "metadata": {
      "needs_background": "light"
     },
     "output_type": "display_data"
    }
   ],
   "source": [
    "numerical_features=[feature for feature in df.columns if df[feature].dtypes!='object']\n",
    "for feature in numerical_features:\n",
    "    if feature=='Absenteeism time in hours':\n",
    "        pass\n",
    "    else:\n",
    "    \n",
    "        df.groupby('Absenteeism time in hours')[feature].mean().plot.bar()\n",
    "        plt.xlabel(feature)\n",
    "        plt.show()\n"
   ]
  },
  {
   "cell_type": "raw",
   "metadata": {},
   "source": [
    "Features mainly responsible for customer churn are:-\n",
    "    1-total day minutes\n",
    "    2-total day charge\n",
    "    3-total eve minutes\n",
    "    4-total eve charge\n",
    "    5-customer service calls\n",
    "   "
   ]
  },
  {
   "cell_type": "code",
   "execution_count": 17,
   "metadata": {},
   "outputs": [
    {
     "data": {
      "image/png": "[encoded data removed]",
      "text/plain": [
       "<Figure size 432x288 with 1 Axes>"
      ]
     },
     "metadata": {
      "needs_background": "light"
     },
     "output_type": "display_data"
    },
    {
     "data": {
      "image/png": "[encoded data removed]",
      "text/plain": [
       "<Figure size 432x288 with 1 Axes>"
      ]
     },
     "metadata": {
      "needs_background": "light"
     },
     "output_type": "display_data"
    },
    {
     "data": {
      "image/png": "[encoded data removed]",
      "text/plain": [
       "<Figure size 432x288 with 1 Axes>"
      ]
     },
     "metadata": {
      "needs_background": "light"
     },
     "output_type": "display_data"
    },
    {
     "data": {
      "image/png": "[encoded data removed]",
      "text/plain": [
       "<Figure size 432x288 with 1 Axes>"
      ]
     },
     "metadata": {
      "needs_background": "light"
     },
     "output_type": "display_data"
    },
    {
     "data": {
      "image/png": "[encoded data removed]",
      "text/plain": [
       "<Figure size 432x288 with 1 Axes>"
      ]
     },
     "metadata": {
      "needs_background": "light"
     },
     "output_type": "display_data"
    },
    {
     "data": {
      "image/png": "[encoded data removed]",
      "text/plain": [
       "<Figure size 432x288 with 1 Axes>"
      ]
     },
     "metadata": {
      "needs_background": "light"
     },
     "output_type": "display_data"
    },
    {
     "data": {
      "image/png": "[encoded data removed]",
      "text/plain": [
       "<Figure size 432x288 with 1 Axes>"
      ]
     },
     "metadata": {
      "needs_background": "light"
     },
     "output_type": "display_data"
    },
    {
     "data": {
      "image/png": "[encoded data removed]",
      "text/plain": [
       "<Figure size 432x288 with 1 Axes>"
      ]
     },
     "metadata": {
      "needs_background": "light"
     },
     "output_type": "display_data"
    },
    {
     "data": {
      "image/png": "[encoded data removed]",
      "text/plain": [
       "<Figure size 432x288 with 1 Axes>"
      ]
     },
     "metadata": {
      "needs_background": "light"
     },
     "output_type": "display_data"
    },
    {
     "data": {
      "image/png": "[encoded data removed]",
      "text/plain": [
       "<Figure size 432x288 with 1 Axes>"
      ]
     },
     "metadata": {
      "needs_background": "light"
     },
     "output_type": "display_data"
    },
    {
     "data": {
      "image/png": "[encoded data removed]",
      "text/plain": [
       "<Figure size 432x288 with 1 Axes>"
      ]
     },
     "metadata": {
      "needs_background": "light"
     },
     "output_type": "display_data"
    },
    {
     "data": {
      "image/png": "[encoded data removed]",
      "text/plain": [
       "<Figure size 432x288 with 1 Axes>"
      ]
     },
     "metadata": {
      "needs_background": "light"
     },
     "output_type": "display_data"
    },
    {
     "data": {
      "image/png": "[encoded data removed]",
      "text/plain": [
       "<Figure size 432x288 with 1 Axes>"
      ]
     },
     "metadata": {
      "needs_background": "light"
     },
     "output_type": "display_data"
    },
    {
     "data": {
      "image/png": "[encoded data removed]",
      "text/plain": [
       "<Figure size 432x288 with 1 Axes>"
      ]
     },
     "metadata": {
      "needs_background": "light"
     },
     "output_type": "display_data"
    },
    {
     "data": {
      "image/png": "[encoded data removed]",
      "text/plain": [
       "<Figure size 432x288 with 1 Axes>"
      ]
     },
     "metadata": {
      "needs_background": "light"
     },
     "output_type": "display_data"
    },
    {
     "data": {
      "image/png": "[encoded data removed]",
      "text/plain": [
       "<Figure size 432x288 with 1 Axes>"
      ]
     },
     "metadata": {
      "needs_background": "light"
     },
     "output_type": "display_data"
    },
    {
     "data": {
      "image/png": "[encoded data removed]",
      "text/plain": [
       "<Figure size 432x288 with 1 Axes>"
      ]
     },
     "metadata": {
      "needs_background": "light"
     },
     "output_type": "display_data"
    },
    {
     "data": {
      "image/png": "[encoded data removed]",
      "text/plain": [
       "<Figure size 432x288 with 1 Axes>"
      ]
     },
     "metadata": {
      "needs_background": "light"
     },
     "output_type": "display_data"
    },
    {
     "data": {
      "image/png": "[encoded data removed]",
      "text/plain": [
       "<Figure size 432x288 with 1 Axes>"
      ]
     },
     "metadata": {
      "needs_background": "light"
     },
     "output_type": "display_data"
    },
    {
     "data": {
      "image/png": "[encoded data removed]",
      "text/plain": [
       "<Figure size 432x288 with 1 Axes>"
      ]
     },
     "metadata": {
      "needs_background": "light"
     },
     "output_type": "display_data"
    }
   ],
   "source": [
    "#checking for outliers\n",
    "\n",
    "numerical_features=[feature for feature in df.columns if df[feature].dtypes!='object']\n",
    "for feature in numerical_features:\n",
    "    if feature=='Absenteeism time in hours':\n",
    "        pass\n",
    "    else:\n",
    "    \n",
    "        df[feature].plot.box()\n",
    "        plt.xlabel(feature)\n",
    "        plt.show()"
   ]
  },
  {
   "cell_type": "code",
   "execution_count": 18,
   "metadata": {},
   "outputs": [
    {
     "data": {
      "text/plain": [
       "<matplotlib.axes._subplots.AxesSubplot at 0x1965dbc1d48>"
      ]
     },
     "execution_count": 18,
     "metadata": {},
     "output_type": "execute_result"
    },
    {
     "data": {
      "image/png": "[encoded data removed]",
      "text/plain": [
       "<Figure size 432x288 with 1 Axes>"
      ]
     },
     "metadata": {
      "needs_background": "light"
     },
     "output_type": "display_data"
    }
   ],
   "source": [
    "#checking if imbalanced dataset\n",
    "df['Absenteeism time in hours'].value_counts().plot.bar()"
   ]
  },
  {
   "cell_type": "markdown",
   "metadata": {},
   "source": [
    "# Feature Engineering"
   ]
  },
  {
   "cell_type": "code",
   "execution_count": 19,
   "metadata": {},
   "outputs": [
    {
     "name": "stdout",
     "output_type": "stream",
     "text": [
      "ID 36\n",
      "Reason for absence 28\n",
      "Month of absence 13\n",
      "Day of the week 5\n",
      "Seasons 4\n",
      "Transportation expense 24\n",
      "Distance from Residence to Work 25\n",
      "Service time 18\n",
      "Age 22\n",
      "Work load Average/day  38\n",
      "Hit target 13\n",
      "Disciplinary failure 2\n",
      "Education 4\n",
      "Son 5\n",
      "Social drinker 2\n",
      "Social smoker 2\n",
      "Pet 6\n",
      "Weight 26\n",
      "Height 14\n",
      "Body mass index 17\n",
      "Absenteeism time in hours 2\n"
     ]
    }
   ],
   "source": [
    "categorical_features=[feature for feature in df.columns if df[feature].dtypes!='object']\n",
    "for feature in categorical_features:\n",
    "    if df[feature].nunique()>=2:\n",
    "        print(feature,df[feature].nunique())"
   ]
  },
  {
   "cell_type": "markdown",
   "metadata": {},
   "source": [
    "# Deleteing unnecessary columns"
   ]
  },
  {
   "cell_type": "code",
   "execution_count": 20,
   "metadata": {},
   "outputs": [
    {
     "data": {
      "text/html": [
       "<div>\n",
       "<style scoped>\n",
       "    .dataframe tbody tr th:only-of-type {\n",
       "        vertical-align: middle;\n",
       "    }\n",
       "\n",
       "    .dataframe tbody tr th {\n",
       "        vertical-align: top;\n",
       "    }\n",
       "\n",
       "    .dataframe thead th {\n",
       "        text-align: right;\n",
       "    }\n",
       "</style>\n",
       "<table border=\"1\" class=\"dataframe\">\n",
       "  <thead>\n",
       "    <tr style=\"text-align: right;\">\n",
       "      <th></th>\n",
       "      <th>ID</th>\n",
       "      <th>Reason for absence</th>\n",
       "      <th>Month of absence</th>\n",
       "      <th>Day of the week</th>\n",
       "      <th>Seasons</th>\n",
       "      <th>Transportation expense</th>\n",
       "      <th>Distance from Residence to Work</th>\n",
       "      <th>Service time</th>\n",
       "      <th>Age</th>\n",
       "      <th>Work load Average/day</th>\n",
       "      <th>Hit target</th>\n",
       "      <th>Disciplinary failure</th>\n",
       "      <th>Education</th>\n",
       "      <th>Son</th>\n",
       "      <th>Social drinker</th>\n",
       "      <th>Social smoker</th>\n",
       "      <th>Pet</th>\n",
       "      <th>Weight</th>\n",
       "      <th>Height</th>\n",
       "      <th>Body mass index</th>\n",
       "      <th>Absenteeism time in hours</th>\n",
       "    </tr>\n",
       "  </thead>\n",
       "  <tbody>\n",
       "    <tr>\n",
       "      <td>0</td>\n",
       "      <td>11</td>\n",
       "      <td>26</td>\n",
       "      <td>7</td>\n",
       "      <td>3</td>\n",
       "      <td>1</td>\n",
       "      <td>289</td>\n",
       "      <td>36</td>\n",
       "      <td>13</td>\n",
       "      <td>33</td>\n",
       "      <td>239.554</td>\n",
       "      <td>97</td>\n",
       "      <td>0</td>\n",
       "      <td>1</td>\n",
       "      <td>2</td>\n",
       "      <td>1</td>\n",
       "      <td>0</td>\n",
       "      <td>1</td>\n",
       "      <td>90</td>\n",
       "      <td>172</td>\n",
       "      <td>30</td>\n",
       "      <td>1</td>\n",
       "    </tr>\n",
       "    <tr>\n",
       "      <td>1</td>\n",
       "      <td>36</td>\n",
       "      <td>0</td>\n",
       "      <td>7</td>\n",
       "      <td>3</td>\n",
       "      <td>1</td>\n",
       "      <td>118</td>\n",
       "      <td>13</td>\n",
       "      <td>18</td>\n",
       "      <td>50</td>\n",
       "      <td>239.554</td>\n",
       "      <td>97</td>\n",
       "      <td>1</td>\n",
       "      <td>1</td>\n",
       "      <td>1</td>\n",
       "      <td>1</td>\n",
       "      <td>0</td>\n",
       "      <td>0</td>\n",
       "      <td>98</td>\n",
       "      <td>178</td>\n",
       "      <td>31</td>\n",
       "      <td>0</td>\n",
       "    </tr>\n",
       "    <tr>\n",
       "      <td>2</td>\n",
       "      <td>3</td>\n",
       "      <td>23</td>\n",
       "      <td>7</td>\n",
       "      <td>4</td>\n",
       "      <td>1</td>\n",
       "      <td>179</td>\n",
       "      <td>51</td>\n",
       "      <td>18</td>\n",
       "      <td>38</td>\n",
       "      <td>239.554</td>\n",
       "      <td>97</td>\n",
       "      <td>0</td>\n",
       "      <td>1</td>\n",
       "      <td>0</td>\n",
       "      <td>1</td>\n",
       "      <td>0</td>\n",
       "      <td>0</td>\n",
       "      <td>89</td>\n",
       "      <td>170</td>\n",
       "      <td>31</td>\n",
       "      <td>1</td>\n",
       "    </tr>\n",
       "    <tr>\n",
       "      <td>3</td>\n",
       "      <td>7</td>\n",
       "      <td>7</td>\n",
       "      <td>7</td>\n",
       "      <td>5</td>\n",
       "      <td>1</td>\n",
       "      <td>279</td>\n",
       "      <td>5</td>\n",
       "      <td>14</td>\n",
       "      <td>39</td>\n",
       "      <td>239.554</td>\n",
       "      <td>97</td>\n",
       "      <td>0</td>\n",
       "      <td>1</td>\n",
       "      <td>2</td>\n",
       "      <td>1</td>\n",
       "      <td>1</td>\n",
       "      <td>0</td>\n",
       "      <td>68</td>\n",
       "      <td>168</td>\n",
       "      <td>24</td>\n",
       "      <td>1</td>\n",
       "    </tr>\n",
       "    <tr>\n",
       "      <td>4</td>\n",
       "      <td>11</td>\n",
       "      <td>23</td>\n",
       "      <td>7</td>\n",
       "      <td>5</td>\n",
       "      <td>1</td>\n",
       "      <td>289</td>\n",
       "      <td>36</td>\n",
       "      <td>13</td>\n",
       "      <td>33</td>\n",
       "      <td>239.554</td>\n",
       "      <td>97</td>\n",
       "      <td>0</td>\n",
       "      <td>1</td>\n",
       "      <td>2</td>\n",
       "      <td>1</td>\n",
       "      <td>0</td>\n",
       "      <td>1</td>\n",
       "      <td>90</td>\n",
       "      <td>172</td>\n",
       "      <td>30</td>\n",
       "      <td>1</td>\n",
       "    </tr>\n",
       "  </tbody>\n",
       "</table>\n",
       "</div>"
      ],
      "text/plain": [
       "   ID  Reason for absence  Month of absence  Day of the week  Seasons  \\\n",
       "0  11                  26                 7                3        1   \n",
       "1  36                   0                 7                3        1   \n",
       "2   3                  23                 7                4        1   \n",
       "3   7                   7                 7                5        1   \n",
       "4  11                  23                 7                5        1   \n",
       "\n",
       "   Transportation expense  Distance from Residence to Work  Service time  Age  \\\n",
       "0                     289                               36            13   33   \n",
       "1                     118                               13            18   50   \n",
       "2                     179                               51            18   38   \n",
       "3                     279                                5            14   39   \n",
       "4                     289                               36            13   33   \n",
       "\n",
       "   Work load Average/day   Hit target  Disciplinary failure  Education  Son  \\\n",
       "0                 239.554          97                     0          1    2   \n",
       "1                 239.554          97                     1          1    1   \n",
       "2                 239.554          97                     0          1    0   \n",
       "3                 239.554          97                     0          1    2   \n",
       "4                 239.554          97                     0          1    2   \n",
       "\n",
       "   Social drinker  Social smoker  Pet  Weight  Height  Body mass index  \\\n",
       "0               1              0    1      90     172               30   \n",
       "1               1              0    0      98     178               31   \n",
       "2               1              0    0      89     170               31   \n",
       "3               1              1    0      68     168               24   \n",
       "4               1              0    1      90     172               30   \n",
       "\n",
       "   Absenteeism time in hours  \n",
       "0                          1  \n",
       "1                          0  \n",
       "2                          1  \n",
       "3                          1  \n",
       "4                          1  "
      ]
     },
     "execution_count": 20,
     "metadata": {},
     "output_type": "execute_result"
    }
   ],
   "source": [
    "df.head()"
   ]
  },
  {
   "cell_type": "code",
   "execution_count": 21,
   "metadata": {},
   "outputs": [
    {
     "data": {
      "text/html": [
       "<div>\n",
       "<style scoped>\n",
       "    .dataframe tbody tr th:only-of-type {\n",
       "        vertical-align: middle;\n",
       "    }\n",
       "\n",
       "    .dataframe tbody tr th {\n",
       "        vertical-align: top;\n",
       "    }\n",
       "\n",
       "    .dataframe thead th {\n",
       "        text-align: right;\n",
       "    }\n",
       "</style>\n",
       "<table border=\"1\" class=\"dataframe\">\n",
       "  <thead>\n",
       "    <tr style=\"text-align: right;\">\n",
       "      <th></th>\n",
       "      <th>ID</th>\n",
       "      <th>Reason for absence</th>\n",
       "      <th>Month of absence</th>\n",
       "      <th>Day of the week</th>\n",
       "      <th>Seasons</th>\n",
       "      <th>Transportation expense</th>\n",
       "      <th>Distance from Residence to Work</th>\n",
       "      <th>Service time</th>\n",
       "      <th>Age</th>\n",
       "      <th>Work load Average/day</th>\n",
       "      <th>Hit target</th>\n",
       "      <th>Disciplinary failure</th>\n",
       "      <th>Education</th>\n",
       "      <th>Son</th>\n",
       "      <th>Social drinker</th>\n",
       "      <th>Social smoker</th>\n",
       "      <th>Pet</th>\n",
       "      <th>Weight</th>\n",
       "      <th>Height</th>\n",
       "      <th>Body mass index</th>\n",
       "      <th>Absenteeism time in hours</th>\n",
       "    </tr>\n",
       "  </thead>\n",
       "  <tbody>\n",
       "    <tr>\n",
       "      <td>ID</td>\n",
       "      <td>1.000000</td>\n",
       "      <td>-0.064245</td>\n",
       "      <td>-0.000043</td>\n",
       "      <td>0.034468</td>\n",
       "      <td>0.098495</td>\n",
       "      <td>-0.224163</td>\n",
       "      <td>-0.486160</td>\n",
       "      <td>-0.272704</td>\n",
       "      <td>0.040899</td>\n",
       "      <td>0.092457</td>\n",
       "      <td>0.018789</td>\n",
       "      <td>0.004502</td>\n",
       "      <td>-0.036254</td>\n",
       "      <td>0.002767</td>\n",
       "      <td>-0.451338</td>\n",
       "      <td>-0.010826</td>\n",
       "      <td>-0.041418</td>\n",
       "      <td>-0.254222</td>\n",
       "      <td>0.076363</td>\n",
       "      <td>-0.306924</td>\n",
       "      <td>-0.008938</td>\n",
       "    </tr>\n",
       "    <tr>\n",
       "      <td>Reason for absence</td>\n",
       "      <td>-0.064245</td>\n",
       "      <td>1.000000</td>\n",
       "      <td>-0.083858</td>\n",
       "      <td>0.116319</td>\n",
       "      <td>-0.117925</td>\n",
       "      <td>-0.119381</td>\n",
       "      <td>0.161831</td>\n",
       "      <td>0.048425</td>\n",
       "      <td>-0.078608</td>\n",
       "      <td>-0.123472</td>\n",
       "      <td>0.088943</td>\n",
       "      <td>-0.545054</td>\n",
       "      <td>-0.047357</td>\n",
       "      <td>-0.055364</td>\n",
       "      <td>0.065441</td>\n",
       "      <td>-0.115702</td>\n",
       "      <td>-0.055911</td>\n",
       "      <td>-0.000269</td>\n",
       "      <td>-0.079267</td>\n",
       "      <td>0.037205</td>\n",
       "      <td>0.554990</td>\n",
       "    </tr>\n",
       "    <tr>\n",
       "      <td>Month of absence</td>\n",
       "      <td>-0.000043</td>\n",
       "      <td>-0.083858</td>\n",
       "      <td>1.000000</td>\n",
       "      <td>-0.006528</td>\n",
       "      <td>0.407770</td>\n",
       "      <td>0.137525</td>\n",
       "      <td>-0.003887</td>\n",
       "      <td>-0.062862</td>\n",
       "      <td>-0.001520</td>\n",
       "      <td>-0.169989</td>\n",
       "      <td>-0.460453</td>\n",
       "      <td>0.107946</td>\n",
       "      <td>-0.066128</td>\n",
       "      <td>0.079031</td>\n",
       "      <td>0.056226</td>\n",
       "      <td>-0.038603</td>\n",
       "      <td>0.047787</td>\n",
       "      <td>0.023278</td>\n",
       "      <td>-0.068942</td>\n",
       "      <td>0.051046</td>\n",
       "      <td>-0.062785</td>\n",
       "    </tr>\n",
       "    <tr>\n",
       "      <td>Day of the week</td>\n",
       "      <td>0.034468</td>\n",
       "      <td>0.116319</td>\n",
       "      <td>-0.006528</td>\n",
       "      <td>1.000000</td>\n",
       "      <td>0.046493</td>\n",
       "      <td>0.033988</td>\n",
       "      <td>0.118026</td>\n",
       "      <td>0.021252</td>\n",
       "      <td>0.004459</td>\n",
       "      <td>0.015646</td>\n",
       "      <td>0.030986</td>\n",
       "      <td>-0.015120</td>\n",
       "      <td>0.058516</td>\n",
       "      <td>0.098079</td>\n",
       "      <td>0.041772</td>\n",
       "      <td>0.013156</td>\n",
       "      <td>-0.028885</td>\n",
       "      <td>-0.128980</td>\n",
       "      <td>-0.082133</td>\n",
       "      <td>-0.103578</td>\n",
       "      <td>0.017111</td>\n",
       "    </tr>\n",
       "    <tr>\n",
       "      <td>Seasons</td>\n",
       "      <td>0.098495</td>\n",
       "      <td>-0.117925</td>\n",
       "      <td>0.407770</td>\n",
       "      <td>0.046493</td>\n",
       "      <td>1.000000</td>\n",
       "      <td>0.036995</td>\n",
       "      <td>-0.063108</td>\n",
       "      <td>-0.010904</td>\n",
       "      <td>-0.012089</td>\n",
       "      <td>0.150439</td>\n",
       "      <td>-0.061154</td>\n",
       "      <td>0.151766</td>\n",
       "      <td>-0.002951</td>\n",
       "      <td>0.046950</td>\n",
       "      <td>-0.045982</td>\n",
       "      <td>-0.048671</td>\n",
       "      <td>0.012356</td>\n",
       "      <td>-0.026278</td>\n",
       "      <td>-0.033737</td>\n",
       "      <td>-0.011031</td>\n",
       "      <td>-0.133915</td>\n",
       "    </tr>\n",
       "    <tr>\n",
       "      <td>Transportation expense</td>\n",
       "      <td>-0.224163</td>\n",
       "      <td>-0.119381</td>\n",
       "      <td>0.137525</td>\n",
       "      <td>0.033988</td>\n",
       "      <td>0.036995</td>\n",
       "      <td>1.000000</td>\n",
       "      <td>0.262183</td>\n",
       "      <td>-0.349887</td>\n",
       "      <td>-0.227542</td>\n",
       "      <td>0.005438</td>\n",
       "      <td>-0.080193</td>\n",
       "      <td>0.109222</td>\n",
       "      <td>-0.055065</td>\n",
       "      <td>0.383001</td>\n",
       "      <td>0.145117</td>\n",
       "      <td>0.044356</td>\n",
       "      <td>0.400080</td>\n",
       "      <td>-0.207435</td>\n",
       "      <td>-0.194496</td>\n",
       "      <td>-0.136517</td>\n",
       "      <td>-0.083998</td>\n",
       "    </tr>\n",
       "    <tr>\n",
       "      <td>Distance from Residence to Work</td>\n",
       "      <td>-0.486160</td>\n",
       "      <td>0.161831</td>\n",
       "      <td>-0.003887</td>\n",
       "      <td>0.118026</td>\n",
       "      <td>-0.063108</td>\n",
       "      <td>0.262183</td>\n",
       "      <td>1.000000</td>\n",
       "      <td>0.131730</td>\n",
       "      <td>-0.145886</td>\n",
       "      <td>-0.068677</td>\n",
       "      <td>-0.013865</td>\n",
       "      <td>-0.056527</td>\n",
       "      <td>-0.259605</td>\n",
       "      <td>0.054230</td>\n",
       "      <td>0.452196</td>\n",
       "      <td>-0.075369</td>\n",
       "      <td>0.205941</td>\n",
       "      <td>-0.047859</td>\n",
       "      <td>-0.353372</td>\n",
       "      <td>0.113772</td>\n",
       "      <td>0.059649</td>\n",
       "    </tr>\n",
       "    <tr>\n",
       "      <td>Service time</td>\n",
       "      <td>-0.272704</td>\n",
       "      <td>0.048425</td>\n",
       "      <td>-0.062862</td>\n",
       "      <td>0.021252</td>\n",
       "      <td>-0.010904</td>\n",
       "      <td>-0.349887</td>\n",
       "      <td>0.131730</td>\n",
       "      <td>1.000000</td>\n",
       "      <td>0.670979</td>\n",
       "      <td>-0.000668</td>\n",
       "      <td>-0.007840</td>\n",
       "      <td>-0.000221</td>\n",
       "      <td>-0.213000</td>\n",
       "      <td>-0.047128</td>\n",
       "      <td>0.353141</td>\n",
       "      <td>0.072424</td>\n",
       "      <td>-0.440301</td>\n",
       "      <td>0.455975</td>\n",
       "      <td>-0.053135</td>\n",
       "      <td>0.499718</td>\n",
       "      <td>-0.000811</td>\n",
       "    </tr>\n",
       "    <tr>\n",
       "      <td>Age</td>\n",
       "      <td>0.040899</td>\n",
       "      <td>-0.078608</td>\n",
       "      <td>-0.001520</td>\n",
       "      <td>0.004459</td>\n",
       "      <td>-0.012089</td>\n",
       "      <td>-0.227542</td>\n",
       "      <td>-0.145886</td>\n",
       "      <td>0.670979</td>\n",
       "      <td>1.000000</td>\n",
       "      <td>-0.039425</td>\n",
       "      <td>-0.039224</td>\n",
       "      <td>0.104304</td>\n",
       "      <td>-0.221882</td>\n",
       "      <td>0.056984</td>\n",
       "      <td>0.213183</td>\n",
       "      <td>0.121738</td>\n",
       "      <td>-0.231226</td>\n",
       "      <td>0.418730</td>\n",
       "      <td>-0.062997</td>\n",
       "      <td>0.470688</td>\n",
       "      <td>-0.120212</td>\n",
       "    </tr>\n",
       "    <tr>\n",
       "      <td>Work load Average/day</td>\n",
       "      <td>0.092457</td>\n",
       "      <td>-0.123472</td>\n",
       "      <td>-0.169989</td>\n",
       "      <td>0.015646</td>\n",
       "      <td>0.150439</td>\n",
       "      <td>0.005438</td>\n",
       "      <td>-0.068677</td>\n",
       "      <td>-0.000668</td>\n",
       "      <td>-0.039425</td>\n",
       "      <td>1.000000</td>\n",
       "      <td>-0.089445</td>\n",
       "      <td>0.029026</td>\n",
       "      <td>-0.074960</td>\n",
       "      <td>0.027820</td>\n",
       "      <td>-0.033713</td>\n",
       "      <td>0.030968</td>\n",
       "      <td>0.007114</td>\n",
       "      <td>-0.038522</td>\n",
       "      <td>0.103315</td>\n",
       "      <td>-0.090709</td>\n",
       "      <td>-0.033067</td>\n",
       "    </tr>\n",
       "    <tr>\n",
       "      <td>Hit target</td>\n",
       "      <td>0.018789</td>\n",
       "      <td>0.088943</td>\n",
       "      <td>-0.460453</td>\n",
       "      <td>0.030986</td>\n",
       "      <td>-0.061154</td>\n",
       "      <td>-0.080193</td>\n",
       "      <td>-0.013865</td>\n",
       "      <td>-0.007840</td>\n",
       "      <td>-0.039224</td>\n",
       "      <td>-0.089445</td>\n",
       "      <td>1.000000</td>\n",
       "      <td>-0.147971</td>\n",
       "      <td>0.101062</td>\n",
       "      <td>-0.014091</td>\n",
       "      <td>-0.102480</td>\n",
       "      <td>0.051254</td>\n",
       "      <td>0.007201</td>\n",
       "      <td>-0.044947</td>\n",
       "      <td>0.093267</td>\n",
       "      <td>-0.088939</td>\n",
       "      <td>0.138995</td>\n",
       "    </tr>\n",
       "    <tr>\n",
       "      <td>Disciplinary failure</td>\n",
       "      <td>0.004502</td>\n",
       "      <td>-0.545054</td>\n",
       "      <td>0.107946</td>\n",
       "      <td>-0.015120</td>\n",
       "      <td>0.151766</td>\n",
       "      <td>0.109222</td>\n",
       "      <td>-0.056527</td>\n",
       "      <td>-0.000221</td>\n",
       "      <td>0.104304</td>\n",
       "      <td>0.029026</td>\n",
       "      <td>-0.147971</td>\n",
       "      <td>1.000000</td>\n",
       "      <td>-0.059298</td>\n",
       "      <td>0.072096</td>\n",
       "      <td>0.051838</td>\n",
       "      <td>0.116748</td>\n",
       "      <td>0.018881</td>\n",
       "      <td>0.072225</td>\n",
       "      <td>-0.010498</td>\n",
       "      <td>0.079428</td>\n",
       "      <td>-0.950735</td>\n",
       "    </tr>\n",
       "    <tr>\n",
       "      <td>Education</td>\n",
       "      <td>-0.036254</td>\n",
       "      <td>-0.047357</td>\n",
       "      <td>-0.066128</td>\n",
       "      <td>0.058516</td>\n",
       "      <td>-0.002951</td>\n",
       "      <td>-0.055065</td>\n",
       "      <td>-0.259605</td>\n",
       "      <td>-0.213000</td>\n",
       "      <td>-0.221882</td>\n",
       "      <td>-0.074960</td>\n",
       "      <td>0.101062</td>\n",
       "      <td>-0.059298</td>\n",
       "      <td>1.000000</td>\n",
       "      <td>-0.188622</td>\n",
       "      <td>-0.420013</td>\n",
       "      <td>0.032727</td>\n",
       "      <td>-0.053554</td>\n",
       "      <td>-0.300574</td>\n",
       "      <td>0.100977</td>\n",
       "      <td>-0.366884</td>\n",
       "      <td>0.066618</td>\n",
       "    </tr>\n",
       "    <tr>\n",
       "      <td>Son</td>\n",
       "      <td>0.002767</td>\n",
       "      <td>-0.055364</td>\n",
       "      <td>0.079031</td>\n",
       "      <td>0.098079</td>\n",
       "      <td>0.046950</td>\n",
       "      <td>0.383001</td>\n",
       "      <td>0.054230</td>\n",
       "      <td>-0.047128</td>\n",
       "      <td>0.056984</td>\n",
       "      <td>0.027820</td>\n",
       "      <td>-0.014091</td>\n",
       "      <td>0.072096</td>\n",
       "      <td>-0.188622</td>\n",
       "      <td>1.000000</td>\n",
       "      <td>0.206376</td>\n",
       "      <td>0.156088</td>\n",
       "      <td>0.108917</td>\n",
       "      <td>-0.139552</td>\n",
       "      <td>-0.014208</td>\n",
       "      <td>-0.144150</td>\n",
       "      <td>-0.068544</td>\n",
       "    </tr>\n",
       "    <tr>\n",
       "      <td>Social drinker</td>\n",
       "      <td>-0.451338</td>\n",
       "      <td>0.065441</td>\n",
       "      <td>0.056226</td>\n",
       "      <td>0.041772</td>\n",
       "      <td>-0.045982</td>\n",
       "      <td>0.145117</td>\n",
       "      <td>0.452196</td>\n",
       "      <td>0.353141</td>\n",
       "      <td>0.213183</td>\n",
       "      <td>-0.033713</td>\n",
       "      <td>-0.102480</td>\n",
       "      <td>0.051838</td>\n",
       "      <td>-0.420013</td>\n",
       "      <td>0.206376</td>\n",
       "      <td>1.000000</td>\n",
       "      <td>-0.111678</td>\n",
       "      <td>-0.122780</td>\n",
       "      <td>0.378664</td>\n",
       "      <td>0.169951</td>\n",
       "      <td>0.323978</td>\n",
       "      <td>-0.046450</td>\n",
       "    </tr>\n",
       "    <tr>\n",
       "      <td>Social smoker</td>\n",
       "      <td>-0.010826</td>\n",
       "      <td>-0.115702</td>\n",
       "      <td>-0.038603</td>\n",
       "      <td>0.013156</td>\n",
       "      <td>-0.048671</td>\n",
       "      <td>0.044356</td>\n",
       "      <td>-0.075369</td>\n",
       "      <td>0.072424</td>\n",
       "      <td>0.121738</td>\n",
       "      <td>0.030968</td>\n",
       "      <td>0.051254</td>\n",
       "      <td>0.116748</td>\n",
       "      <td>0.032727</td>\n",
       "      <td>0.156088</td>\n",
       "      <td>-0.111678</td>\n",
       "      <td>1.000000</td>\n",
       "      <td>0.105379</td>\n",
       "      <td>-0.198511</td>\n",
       "      <td>0.003271</td>\n",
       "      <td>-0.196006</td>\n",
       "      <td>-0.105221</td>\n",
       "    </tr>\n",
       "    <tr>\n",
       "      <td>Pet</td>\n",
       "      <td>-0.041418</td>\n",
       "      <td>-0.055911</td>\n",
       "      <td>0.047787</td>\n",
       "      <td>-0.028885</td>\n",
       "      <td>0.012356</td>\n",
       "      <td>0.400080</td>\n",
       "      <td>0.205941</td>\n",
       "      <td>-0.440301</td>\n",
       "      <td>-0.231226</td>\n",
       "      <td>0.007114</td>\n",
       "      <td>0.007201</td>\n",
       "      <td>0.018881</td>\n",
       "      <td>-0.053554</td>\n",
       "      <td>0.108917</td>\n",
       "      <td>-0.122780</td>\n",
       "      <td>0.105379</td>\n",
       "      <td>1.000000</td>\n",
       "      <td>-0.103770</td>\n",
       "      <td>-0.103143</td>\n",
       "      <td>-0.076103</td>\n",
       "      <td>-0.052826</td>\n",
       "    </tr>\n",
       "    <tr>\n",
       "      <td>Weight</td>\n",
       "      <td>-0.254222</td>\n",
       "      <td>-0.000269</td>\n",
       "      <td>0.023278</td>\n",
       "      <td>-0.128980</td>\n",
       "      <td>-0.026278</td>\n",
       "      <td>-0.207435</td>\n",
       "      <td>-0.047859</td>\n",
       "      <td>0.455975</td>\n",
       "      <td>0.418730</td>\n",
       "      <td>-0.038522</td>\n",
       "      <td>-0.044947</td>\n",
       "      <td>0.072225</td>\n",
       "      <td>-0.300574</td>\n",
       "      <td>-0.139552</td>\n",
       "      <td>0.378664</td>\n",
       "      <td>-0.198511</td>\n",
       "      <td>-0.103770</td>\n",
       "      <td>1.000000</td>\n",
       "      <td>0.306802</td>\n",
       "      <td>0.904117</td>\n",
       "      <td>-0.087640</td>\n",
       "    </tr>\n",
       "    <tr>\n",
       "      <td>Height</td>\n",
       "      <td>0.076363</td>\n",
       "      <td>-0.079267</td>\n",
       "      <td>-0.068942</td>\n",
       "      <td>-0.082133</td>\n",
       "      <td>-0.033737</td>\n",
       "      <td>-0.194496</td>\n",
       "      <td>-0.353372</td>\n",
       "      <td>-0.053135</td>\n",
       "      <td>-0.062997</td>\n",
       "      <td>0.103315</td>\n",
       "      <td>0.093267</td>\n",
       "      <td>-0.010498</td>\n",
       "      <td>0.100977</td>\n",
       "      <td>-0.014208</td>\n",
       "      <td>0.169951</td>\n",
       "      <td>0.003271</td>\n",
       "      <td>-0.103143</td>\n",
       "      <td>0.306802</td>\n",
       "      <td>1.000000</td>\n",
       "      <td>-0.121049</td>\n",
       "      <td>0.011421</td>\n",
       "    </tr>\n",
       "    <tr>\n",
       "      <td>Body mass index</td>\n",
       "      <td>-0.306924</td>\n",
       "      <td>0.037205</td>\n",
       "      <td>0.051046</td>\n",
       "      <td>-0.103578</td>\n",
       "      <td>-0.011031</td>\n",
       "      <td>-0.136517</td>\n",
       "      <td>0.113772</td>\n",
       "      <td>0.499718</td>\n",
       "      <td>0.470688</td>\n",
       "      <td>-0.090709</td>\n",
       "      <td>-0.088939</td>\n",
       "      <td>0.079428</td>\n",
       "      <td>-0.366884</td>\n",
       "      <td>-0.144150</td>\n",
       "      <td>0.323978</td>\n",
       "      <td>-0.196006</td>\n",
       "      <td>-0.076103</td>\n",
       "      <td>0.904117</td>\n",
       "      <td>-0.121049</td>\n",
       "      <td>1.000000</td>\n",
       "      <td>-0.096354</td>\n",
       "    </tr>\n",
       "    <tr>\n",
       "      <td>Absenteeism time in hours</td>\n",
       "      <td>-0.008938</td>\n",
       "      <td>0.554990</td>\n",
       "      <td>-0.062785</td>\n",
       "      <td>0.017111</td>\n",
       "      <td>-0.133915</td>\n",
       "      <td>-0.083998</td>\n",
       "      <td>0.059649</td>\n",
       "      <td>-0.000811</td>\n",
       "      <td>-0.120212</td>\n",
       "      <td>-0.033067</td>\n",
       "      <td>0.138995</td>\n",
       "      <td>-0.950735</td>\n",
       "      <td>0.066618</td>\n",
       "      <td>-0.068544</td>\n",
       "      <td>-0.046450</td>\n",
       "      <td>-0.105221</td>\n",
       "      <td>-0.052826</td>\n",
       "      <td>-0.087640</td>\n",
       "      <td>0.011421</td>\n",
       "      <td>-0.096354</td>\n",
       "      <td>1.000000</td>\n",
       "    </tr>\n",
       "  </tbody>\n",
       "</table>\n",
       "</div>"
      ],
      "text/plain": [
       "                                       ID  Reason for absence  \\\n",
       "ID                               1.000000           -0.064245   \n",
       "Reason for absence              -0.064245            1.000000   \n",
       "Month of absence                -0.000043           -0.083858   \n",
       "Day of the week                  0.034468            0.116319   \n",
       "Seasons                          0.098495           -0.117925   \n",
       "Transportation expense          -0.224163           -0.119381   \n",
       "Distance from Residence to Work -0.486160            0.161831   \n",
       "Service time                    -0.272704            0.048425   \n",
       "Age                              0.040899           -0.078608   \n",
       "Work load Average/day            0.092457           -0.123472   \n",
       "Hit target                       0.018789            0.088943   \n",
       "Disciplinary failure             0.004502           -0.545054   \n",
       "Education                       -0.036254           -0.047357   \n",
       "Son                              0.002767           -0.055364   \n",
       "Social drinker                  -0.451338            0.065441   \n",
       "Social smoker                   -0.010826           -0.115702   \n",
       "Pet                             -0.041418           -0.055911   \n",
       "Weight                          -0.254222           -0.000269   \n",
       "Height                           0.076363           -0.079267   \n",
       "Body mass index                 -0.306924            0.037205   \n",
       "Absenteeism time in hours       -0.008938            0.554990   \n",
       "\n",
       "                                 Month of absence  Day of the week   Seasons  \\\n",
       "ID                                      -0.000043         0.034468  0.098495   \n",
       "Reason for absence                      -0.083858         0.116319 -0.117925   \n",
       "Month of absence                         1.000000        -0.006528  0.407770   \n",
       "Day of the week                         -0.006528         1.000000  0.046493   \n",
       "Seasons                                  0.407770         0.046493  1.000000   \n",
       "Transportation expense                   0.137525         0.033988  0.036995   \n",
       "Distance from Residence to Work         -0.003887         0.118026 -0.063108   \n",
       "Service time                            -0.062862         0.021252 -0.010904   \n",
       "Age                                     -0.001520         0.004459 -0.012089   \n",
       "Work load Average/day                   -0.169989         0.015646  0.150439   \n",
       "Hit target                              -0.460453         0.030986 -0.061154   \n",
       "Disciplinary failure                     0.107946        -0.015120  0.151766   \n",
       "Education                               -0.066128         0.058516 -0.002951   \n",
       "Son                                      0.079031         0.098079  0.046950   \n",
       "Social drinker                           0.056226         0.041772 -0.045982   \n",
       "Social smoker                           -0.038603         0.013156 -0.048671   \n",
       "Pet                                      0.047787        -0.028885  0.012356   \n",
       "Weight                                   0.023278        -0.128980 -0.026278   \n",
       "Height                                  -0.068942        -0.082133 -0.033737   \n",
       "Body mass index                          0.051046        -0.103578 -0.011031   \n",
       "Absenteeism time in hours               -0.062785         0.017111 -0.133915   \n",
       "\n",
       "                                 Transportation expense  \\\n",
       "ID                                            -0.224163   \n",
       "Reason for absence                            -0.119381   \n",
       "Month of absence                               0.137525   \n",
       "Day of the week                                0.033988   \n",
       "Seasons                                        0.036995   \n",
       "Transportation expense                         1.000000   \n",
       "Distance from Residence to Work                0.262183   \n",
       "Service time                                  -0.349887   \n",
       "Age                                           -0.227542   \n",
       "Work load Average/day                          0.005438   \n",
       "Hit target                                    -0.080193   \n",
       "Disciplinary failure                           0.109222   \n",
       "Education                                     -0.055065   \n",
       "Son                                            0.383001   \n",
       "Social drinker                                 0.145117   \n",
       "Social smoker                                  0.044356   \n",
       "Pet                                            0.400080   \n",
       "Weight                                        -0.207435   \n",
       "Height                                        -0.194496   \n",
       "Body mass index                               -0.136517   \n",
       "Absenteeism time in hours                     -0.083998   \n",
       "\n",
       "                                 Distance from Residence to Work  \\\n",
       "ID                                                     -0.486160   \n",
       "Reason for absence                                      0.161831   \n",
       "Month of absence                                       -0.003887   \n",
       "Day of the week                                         0.118026   \n",
       "Seasons                                                -0.063108   \n",
       "Transportation expense                                  0.262183   \n",
       "Distance from Residence to Work                         1.000000   \n",
       "Service time                                            0.131730   \n",
       "Age                                                    -0.145886   \n",
       "Work load Average/day                                  -0.068677   \n",
       "Hit target                                             -0.013865   \n",
       "Disciplinary failure                                   -0.056527   \n",
       "Education                                              -0.259605   \n",
       "Son                                                     0.054230   \n",
       "Social drinker                                          0.452196   \n",
       "Social smoker                                          -0.075369   \n",
       "Pet                                                     0.205941   \n",
       "Weight                                                 -0.047859   \n",
       "Height                                                 -0.353372   \n",
       "Body mass index                                         0.113772   \n",
       "Absenteeism time in hours                               0.059649   \n",
       "\n",
       "                                 Service time       Age  \\\n",
       "ID                                  -0.272704  0.040899   \n",
       "Reason for absence                   0.048425 -0.078608   \n",
       "Month of absence                    -0.062862 -0.001520   \n",
       "Day of the week                      0.021252  0.004459   \n",
       "Seasons                             -0.010904 -0.012089   \n",
       "Transportation expense              -0.349887 -0.227542   \n",
       "Distance from Residence to Work      0.131730 -0.145886   \n",
       "Service time                         1.000000  0.670979   \n",
       "Age                                  0.670979  1.000000   \n",
       "Work load Average/day               -0.000668 -0.039425   \n",
       "Hit target                          -0.007840 -0.039224   \n",
       "Disciplinary failure                -0.000221  0.104304   \n",
       "Education                           -0.213000 -0.221882   \n",
       "Son                                 -0.047128  0.056984   \n",
       "Social drinker                       0.353141  0.213183   \n",
       "Social smoker                        0.072424  0.121738   \n",
       "Pet                                 -0.440301 -0.231226   \n",
       "Weight                               0.455975  0.418730   \n",
       "Height                              -0.053135 -0.062997   \n",
       "Body mass index                      0.499718  0.470688   \n",
       "Absenteeism time in hours           -0.000811 -0.120212   \n",
       "\n",
       "                                 Work load Average/day   Hit target  \\\n",
       "ID                                             0.092457    0.018789   \n",
       "Reason for absence                            -0.123472    0.088943   \n",
       "Month of absence                              -0.169989   -0.460453   \n",
       "Day of the week                                0.015646    0.030986   \n",
       "Seasons                                        0.150439   -0.061154   \n",
       "Transportation expense                         0.005438   -0.080193   \n",
       "Distance from Residence to Work               -0.068677   -0.013865   \n",
       "Service time                                  -0.000668   -0.007840   \n",
       "Age                                           -0.039425   -0.039224   \n",
       "Work load Average/day                          1.000000   -0.089445   \n",
       "Hit target                                    -0.089445    1.000000   \n",
       "Disciplinary failure                           0.029026   -0.147971   \n",
       "Education                                     -0.074960    0.101062   \n",
       "Son                                            0.027820   -0.014091   \n",
       "Social drinker                                -0.033713   -0.102480   \n",
       "Social smoker                                  0.030968    0.051254   \n",
       "Pet                                            0.007114    0.007201   \n",
       "Weight                                        -0.038522   -0.044947   \n",
       "Height                                         0.103315    0.093267   \n",
       "Body mass index                               -0.090709   -0.088939   \n",
       "Absenteeism time in hours                     -0.033067    0.138995   \n",
       "\n",
       "                                 Disciplinary failure  Education       Son  \\\n",
       "ID                                           0.004502  -0.036254  0.002767   \n",
       "Reason for absence                          -0.545054  -0.047357 -0.055364   \n",
       "Month of absence                             0.107946  -0.066128  0.079031   \n",
       "Day of the week                             -0.015120   0.058516  0.098079   \n",
       "Seasons                                      0.151766  -0.002951  0.046950   \n",
       "Transportation expense                       0.109222  -0.055065  0.383001   \n",
       "Distance from Residence to Work             -0.056527  -0.259605  0.054230   \n",
       "Service time                                -0.000221  -0.213000 -0.047128   \n",
       "Age                                          0.104304  -0.221882  0.056984   \n",
       "Work load Average/day                        0.029026  -0.074960  0.027820   \n",
       "Hit target                                  -0.147971   0.101062 -0.014091   \n",
       "Disciplinary failure                         1.000000  -0.059298  0.072096   \n",
       "Education                                   -0.059298   1.000000 -0.188622   \n",
       "Son                                          0.072096  -0.188622  1.000000   \n",
       "Social drinker                               0.051838  -0.420013  0.206376   \n",
       "Social smoker                                0.116748   0.032727  0.156088   \n",
       "Pet                                          0.018881  -0.053554  0.108917   \n",
       "Weight                                       0.072225  -0.300574 -0.139552   \n",
       "Height                                      -0.010498   0.100977 -0.014208   \n",
       "Body mass index                              0.079428  -0.366884 -0.144150   \n",
       "Absenteeism time in hours                   -0.950735   0.066618 -0.068544   \n",
       "\n",
       "                                 Social drinker  Social smoker       Pet  \\\n",
       "ID                                    -0.451338      -0.010826 -0.041418   \n",
       "Reason for absence                     0.065441      -0.115702 -0.055911   \n",
       "Month of absence                       0.056226      -0.038603  0.047787   \n",
       "Day of the week                        0.041772       0.013156 -0.028885   \n",
       "Seasons                               -0.045982      -0.048671  0.012356   \n",
       "Transportation expense                 0.145117       0.044356  0.400080   \n",
       "Distance from Residence to Work        0.452196      -0.075369  0.205941   \n",
       "Service time                           0.353141       0.072424 -0.440301   \n",
       "Age                                    0.213183       0.121738 -0.231226   \n",
       "Work load Average/day                 -0.033713       0.030968  0.007114   \n",
       "Hit target                            -0.102480       0.051254  0.007201   \n",
       "Disciplinary failure                   0.051838       0.116748  0.018881   \n",
       "Education                             -0.420013       0.032727 -0.053554   \n",
       "Son                                    0.206376       0.156088  0.108917   \n",
       "Social drinker                         1.000000      -0.111678 -0.122780   \n",
       "Social smoker                         -0.111678       1.000000  0.105379   \n",
       "Pet                                   -0.122780       0.105379  1.000000   \n",
       "Weight                                 0.378664      -0.198511 -0.103770   \n",
       "Height                                 0.169951       0.003271 -0.103143   \n",
       "Body mass index                        0.323978      -0.196006 -0.076103   \n",
       "Absenteeism time in hours             -0.046450      -0.105221 -0.052826   \n",
       "\n",
       "                                   Weight    Height  Body mass index  \\\n",
       "ID                              -0.254222  0.076363        -0.306924   \n",
       "Reason for absence              -0.000269 -0.079267         0.037205   \n",
       "Month of absence                 0.023278 -0.068942         0.051046   \n",
       "Day of the week                 -0.128980 -0.082133        -0.103578   \n",
       "Seasons                         -0.026278 -0.033737        -0.011031   \n",
       "Transportation expense          -0.207435 -0.194496        -0.136517   \n",
       "Distance from Residence to Work -0.047859 -0.353372         0.113772   \n",
       "Service time                     0.455975 -0.053135         0.499718   \n",
       "Age                              0.418730 -0.062997         0.470688   \n",
       "Work load Average/day           -0.038522  0.103315        -0.090709   \n",
       "Hit target                      -0.044947  0.093267        -0.088939   \n",
       "Disciplinary failure             0.072225 -0.010498         0.079428   \n",
       "Education                       -0.300574  0.100977        -0.366884   \n",
       "Son                             -0.139552 -0.014208        -0.144150   \n",
       "Social drinker                   0.378664  0.169951         0.323978   \n",
       "Social smoker                   -0.198511  0.003271        -0.196006   \n",
       "Pet                             -0.103770 -0.103143        -0.076103   \n",
       "Weight                           1.000000  0.306802         0.904117   \n",
       "Height                           0.306802  1.000000        -0.121049   \n",
       "Body mass index                  0.904117 -0.121049         1.000000   \n",
       "Absenteeism time in hours       -0.087640  0.011421        -0.096354   \n",
       "\n",
       "                                 Absenteeism time in hours  \n",
       "ID                                               -0.008938  \n",
       "Reason for absence                                0.554990  \n",
       "Month of absence                                 -0.062785  \n",
       "Day of the week                                   0.017111  \n",
       "Seasons                                          -0.133915  \n",
       "Transportation expense                           -0.083998  \n",
       "Distance from Residence to Work                   0.059649  \n",
       "Service time                                     -0.000811  \n",
       "Age                                              -0.120212  \n",
       "Work load Average/day                            -0.033067  \n",
       "Hit target                                        0.138995  \n",
       "Disciplinary failure                             -0.950735  \n",
       "Education                                         0.066618  \n",
       "Son                                              -0.068544  \n",
       "Social drinker                                   -0.046450  \n",
       "Social smoker                                    -0.105221  \n",
       "Pet                                              -0.052826  \n",
       "Weight                                           -0.087640  \n",
       "Height                                            0.011421  \n",
       "Body mass index                                  -0.096354  \n",
       "Absenteeism time in hours                         1.000000  "
      ]
     },
     "execution_count": 21,
     "metadata": {},
     "output_type": "execute_result"
    }
   ],
   "source": [
    "df.corr()\n",
    "##none of the negatively correlated columns with the target have very high values."
   ]
  },
  {
   "cell_type": "code",
   "execution_count": 22,
   "metadata": {},
   "outputs": [],
   "source": [
    "#none of the attributes which are negatively correlated with the target are very high."
   ]
  },
  {
   "cell_type": "markdown",
   "metadata": {},
   "source": [
    "# Separating target and independent variables"
   ]
  },
  {
   "cell_type": "code",
   "execution_count": 24,
   "metadata": {},
   "outputs": [],
   "source": [
    "y=df['Absenteeism time in hours']\n",
    "X=df.drop(['Absenteeism time in hours'],axis=1)"
   ]
  },
  {
   "cell_type": "markdown",
   "metadata": {},
   "source": [
    "# Applying Power transformation to remove skewness"
   ]
  },
  {
   "cell_type": "code",
   "execution_count": 25,
   "metadata": {},
   "outputs": [],
   "source": [
    "from sklearn.preprocessing import PowerTransformer\n",
    "pt=PowerTransformer(method='yeo-johnson') \n",
    "X_power=pt.fit_transform(X)\n",
    "df=pd.DataFrame(X_power,columns=X.columns)"
   ]
  },
  {
   "cell_type": "code",
   "execution_count": 26,
   "metadata": {},
   "outputs": [
    {
     "data": {
      "text/plain": [
       "ID                                -0.247979\n",
       "Reason for absence                -0.636432\n",
       "Month of absence                  -0.147597\n",
       "Day of the week                   -0.062534\n",
       "Seasons                           -0.116627\n",
       "Transportation expense            -0.022460\n",
       "Distance from Residence to Work   -0.073087\n",
       "Service time                       0.032177\n",
       "Age                                0.023204\n",
       "Work load Average/day              0.024560\n",
       "Hit target                        -0.097287\n",
       "Disciplinary failure               3.952270\n",
       "Education                          1.720879\n",
       "Son                                0.076693\n",
       "Social drinker                    -0.273327\n",
       "Social smoker                      3.290333\n",
       "Pet                                0.582611\n",
       "Weight                            -0.040674\n",
       "Height                             1.600805\n",
       "Body mass index                   -0.003187\n",
       "dtype: float64"
      ]
     },
     "execution_count": 26,
     "metadata": {},
     "output_type": "execute_result"
    }
   ],
   "source": [
    "df.skew()"
   ]
  },
  {
   "cell_type": "code",
   "execution_count": 27,
   "metadata": {},
   "outputs": [
    {
     "data": {
      "text/html": [
       "<div>\n",
       "<style scoped>\n",
       "    .dataframe tbody tr th:only-of-type {\n",
       "        vertical-align: middle;\n",
       "    }\n",
       "\n",
       "    .dataframe tbody tr th {\n",
       "        vertical-align: top;\n",
       "    }\n",
       "\n",
       "    .dataframe thead th {\n",
       "        text-align: right;\n",
       "    }\n",
       "</style>\n",
       "<table border=\"1\" class=\"dataframe\">\n",
       "  <thead>\n",
       "    <tr style=\"text-align: right;\">\n",
       "      <th></th>\n",
       "      <th>ID</th>\n",
       "      <th>Reason for absence</th>\n",
       "      <th>Month of absence</th>\n",
       "      <th>Day of the week</th>\n",
       "      <th>Seasons</th>\n",
       "      <th>Transportation expense</th>\n",
       "      <th>Distance from Residence to Work</th>\n",
       "      <th>Service time</th>\n",
       "      <th>Age</th>\n",
       "      <th>Work load Average/day</th>\n",
       "      <th>Hit target</th>\n",
       "      <th>Disciplinary failure</th>\n",
       "      <th>Education</th>\n",
       "      <th>Son</th>\n",
       "      <th>Social drinker</th>\n",
       "      <th>Social smoker</th>\n",
       "      <th>Pet</th>\n",
       "      <th>Weight</th>\n",
       "      <th>Height</th>\n",
       "      <th>Body mass index</th>\n",
       "    </tr>\n",
       "  </thead>\n",
       "  <tbody>\n",
       "    <tr>\n",
       "      <td>0</td>\n",
       "      <td>-0.532403</td>\n",
       "      <td>0.843335</td>\n",
       "      <td>0.27601</td>\n",
       "      <td>-0.592356</td>\n",
       "      <td>-1.425458</td>\n",
       "      <td>1.016227</td>\n",
       "      <td>0.548689</td>\n",
       "      <td>0.097326</td>\n",
       "      <td>-0.449999</td>\n",
       "      <td>-0.845334</td>\n",
       "      <td>0.619874</td>\n",
       "      <td>-0.239046</td>\n",
       "      <td>-0.459456</td>\n",
       "      <td>1.037481</td>\n",
       "      <td>0.872872</td>\n",
       "      <td>-0.280566</td>\n",
       "      <td>1.018385</td>\n",
       "      <td>0.855450</td>\n",
       "      <td>0.000000</td>\n",
       "      <td>0.806301</td>\n",
       "    </tr>\n",
       "    <tr>\n",
       "      <td>1</td>\n",
       "      <td>1.470619</td>\n",
       "      <td>-2.012378</td>\n",
       "      <td>0.27601</td>\n",
       "      <td>-0.592356</td>\n",
       "      <td>-1.425458</td>\n",
       "      <td>-1.742824</td>\n",
       "      <td>-1.194831</td>\n",
       "      <td>1.246503</td>\n",
       "      <td>1.796115</td>\n",
       "      <td>-0.845334</td>\n",
       "      <td>0.619874</td>\n",
       "      <td>4.183300</td>\n",
       "      <td>-0.459456</td>\n",
       "      <td>0.327323</td>\n",
       "      <td>0.872872</td>\n",
       "      <td>-0.280566</td>\n",
       "      <td>-0.770204</td>\n",
       "      <td>1.452343</td>\n",
       "      <td>1.127417</td>\n",
       "      <td>1.014749</td>\n",
       "    </tr>\n",
       "    <tr>\n",
       "      <td>2</td>\n",
       "      <td>-1.461224</td>\n",
       "      <td>0.415089</td>\n",
       "      <td>0.27601</td>\n",
       "      <td>0.135661</td>\n",
       "      <td>-1.425458</td>\n",
       "      <td>-0.574743</td>\n",
       "      <td>1.320083</td>\n",
       "      <td>1.246503</td>\n",
       "      <td>0.378723</td>\n",
       "      <td>-0.845334</td>\n",
       "      <td>0.619874</td>\n",
       "      <td>-0.239046</td>\n",
       "      <td>-0.459456</td>\n",
       "      <td>-1.124543</td>\n",
       "      <td>0.872872</td>\n",
       "      <td>-0.280566</td>\n",
       "      <td>-0.770204</td>\n",
       "      <td>0.780038</td>\n",
       "      <td>-0.281854</td>\n",
       "      <td>1.014749</td>\n",
       "    </tr>\n",
       "    <tr>\n",
       "      <td>3</td>\n",
       "      <td>-0.956219</td>\n",
       "      <td>-1.494252</td>\n",
       "      <td>0.27601</td>\n",
       "      <td>0.790929</td>\n",
       "      <td>-1.425458</td>\n",
       "      <td>0.889239</td>\n",
       "      <td>-2.285722</td>\n",
       "      <td>0.326386</td>\n",
       "      <td>0.523555</td>\n",
       "      <td>-0.845334</td>\n",
       "      <td>0.619874</td>\n",
       "      <td>-0.239046</td>\n",
       "      <td>-0.459456</td>\n",
       "      <td>1.037481</td>\n",
       "      <td>0.872872</td>\n",
       "      <td>3.564226</td>\n",
       "      <td>-0.770204</td>\n",
       "      <td>-0.851024</td>\n",
       "      <td>-0.845562</td>\n",
       "      <td>-0.585760</td>\n",
       "    </tr>\n",
       "    <tr>\n",
       "      <td>4</td>\n",
       "      <td>-0.532403</td>\n",
       "      <td>0.415089</td>\n",
       "      <td>0.27601</td>\n",
       "      <td>0.790929</td>\n",
       "      <td>-1.425458</td>\n",
       "      <td>1.016227</td>\n",
       "      <td>0.548689</td>\n",
       "      <td>0.097326</td>\n",
       "      <td>-0.449999</td>\n",
       "      <td>-0.845334</td>\n",
       "      <td>0.619874</td>\n",
       "      <td>-0.239046</td>\n",
       "      <td>-0.459456</td>\n",
       "      <td>1.037481</td>\n",
       "      <td>0.872872</td>\n",
       "      <td>-0.280566</td>\n",
       "      <td>1.018385</td>\n",
       "      <td>0.855450</td>\n",
       "      <td>0.000000</td>\n",
       "      <td>0.806301</td>\n",
       "    </tr>\n",
       "  </tbody>\n",
       "</table>\n",
       "</div>"
      ],
      "text/plain": [
       "         ID  Reason for absence  Month of absence  Day of the week   Seasons  \\\n",
       "0 -0.532403            0.843335           0.27601        -0.592356 -1.425458   \n",
       "1  1.470619           -2.012378           0.27601        -0.592356 -1.425458   \n",
       "2 -1.461224            0.415089           0.27601         0.135661 -1.425458   \n",
       "3 -0.956219           -1.494252           0.27601         0.790929 -1.425458   \n",
       "4 -0.532403            0.415089           0.27601         0.790929 -1.425458   \n",
       "\n",
       "   Transportation expense  Distance from Residence to Work  Service time  \\\n",
       "0                1.016227                         0.548689      0.097326   \n",
       "1               -1.742824                        -1.194831      1.246503   \n",
       "2               -0.574743                         1.320083      1.246503   \n",
       "3                0.889239                        -2.285722      0.326386   \n",
       "4                1.016227                         0.548689      0.097326   \n",
       "\n",
       "        Age  Work load Average/day   Hit target  Disciplinary failure  \\\n",
       "0 -0.449999               -0.845334    0.619874             -0.239046   \n",
       "1  1.796115               -0.845334    0.619874              4.183300   \n",
       "2  0.378723               -0.845334    0.619874             -0.239046   \n",
       "3  0.523555               -0.845334    0.619874             -0.239046   \n",
       "4 -0.449999               -0.845334    0.619874             -0.239046   \n",
       "\n",
       "   Education       Son  Social drinker  Social smoker       Pet    Weight  \\\n",
       "0  -0.459456  1.037481        0.872872      -0.280566  1.018385  0.855450   \n",
       "1  -0.459456  0.327323        0.872872      -0.280566 -0.770204  1.452343   \n",
       "2  -0.459456 -1.124543        0.872872      -0.280566 -0.770204  0.780038   \n",
       "3  -0.459456  1.037481        0.872872       3.564226 -0.770204 -0.851024   \n",
       "4  -0.459456  1.037481        0.872872      -0.280566  1.018385  0.855450   \n",
       "\n",
       "     Height  Body mass index  \n",
       "0  0.000000         0.806301  \n",
       "1  1.127417         1.014749  \n",
       "2 -0.281854         1.014749  \n",
       "3 -0.845562        -0.585760  \n",
       "4  0.000000         0.806301  "
      ]
     },
     "execution_count": 27,
     "metadata": {},
     "output_type": "execute_result"
    }
   ],
   "source": [
    "df.head()"
   ]
  },
  {
   "cell_type": "markdown",
   "metadata": {},
   "source": [
    "# Scaling the Data"
   ]
  },
  {
   "cell_type": "code",
   "execution_count": 28,
   "metadata": {},
   "outputs": [],
   "source": [
    "#Applying Standard scalar to independent variable only\n",
    "from sklearn.preprocessing import StandardScaler\n",
    "ss=StandardScaler()\n",
    "X_scaled=ss.fit_transform(df)\n",
    "x=pd.DataFrame(data=X_scaled,columns=df.columns)\n"
   ]
  },
  {
   "cell_type": "code",
   "execution_count": 29,
   "metadata": {},
   "outputs": [
    {
     "data": {
      "text/plain": [
       "ID                                -0.247979\n",
       "Reason for absence                -0.636432\n",
       "Month of absence                  -0.147597\n",
       "Day of the week                   -0.062534\n",
       "Seasons                           -0.116627\n",
       "Transportation expense            -0.022460\n",
       "Distance from Residence to Work   -0.073087\n",
       "Service time                       0.032177\n",
       "Age                                0.023204\n",
       "Work load Average/day              0.024560\n",
       "Hit target                        -0.097287\n",
       "Disciplinary failure               3.952270\n",
       "Education                          1.720879\n",
       "Son                                0.076693\n",
       "Social drinker                    -0.273327\n",
       "Social smoker                      3.290333\n",
       "Pet                                0.582611\n",
       "Weight                            -0.040674\n",
       "Height                             1.600805\n",
       "Body mass index                   -0.003187\n",
       "dtype: float64"
      ]
     },
     "execution_count": 29,
     "metadata": {},
     "output_type": "execute_result"
    }
   ],
   "source": [
    "x.skew()"
   ]
  },
  {
   "cell_type": "markdown",
   "metadata": {},
   "source": [
    "# Model Building"
   ]
  },
  {
   "cell_type": "code",
   "execution_count": 30,
   "metadata": {},
   "outputs": [],
   "source": [
    "from sklearn.model_selection import train_test_split,cross_val_score\n",
    "x_train,x_test,y_train,y_test=train_test_split(x,y,random_state=42,stratify=y)"
   ]
  },
  {
   "cell_type": "code",
   "execution_count": 31,
   "metadata": {},
   "outputs": [],
   "source": [
    "from sklearn.neighbors import KNeighborsClassifier\n",
    "from sklearn.svm import SVC\n",
    "from sklearn.linear_model import LogisticRegression\n",
    "from sklearn.tree import DecisionTreeClassifier\n",
    "from sklearn.naive_bayes import GaussianNB\n",
    "#from sklearn.naive_bayes import MultinomialNB #input should be non negative\n",
    "from sklearn.ensemble import RandomForestClassifier\n",
    "from xgboost import XGBClassifier\n",
    "from sklearn.ensemble import GradientBoostingClassifier\n",
    "from sklearn.ensemble import AdaBoostClassifier"
   ]
  },
  {
   "cell_type": "code",
   "execution_count": 32,
   "metadata": {},
   "outputs": [],
   "source": [
    "knn=KNeighborsClassifier()\n",
    "svc=SVC()\n",
    "lr=LogisticRegression()\n",
    "dt=DecisionTreeClassifier()\n",
    "gnb=GaussianNB()\n",
    "#mnb=MultinomialNB()\n",
    "rfc=RandomForestClassifier()\n",
    "xgb=XGBClassifier()\n",
    "gbc=GradientBoostingClassifier()\n",
    "ada=AdaBoostClassifier()"
   ]
  },
  {
   "cell_type": "code",
   "execution_count": 33,
   "metadata": {},
   "outputs": [],
   "source": [
    "models=[]\n",
    "models.append(('KNeighborsClassifier',knn))\n",
    "models.append(('SVC',svc))\n",
    "models.append(('LogisticRegression',lr))\n",
    "models.append(('DecisionTreeClassifier',dt))\n",
    "models.append(('GaussianNB',gnb))\n",
    "#models.append(('MultinomialNB',mnb))\n",
    "models.append(('RandomForestClassifier',rfc))\n",
    "models.append(('XGBClassifier',xgb))\n",
    "models.append(('GradientBoostingClassifier',gbc))\n",
    "models.append(('AdaBoostClassifier',ada))"
   ]
  },
  {
   "cell_type": "code",
   "execution_count": 34,
   "metadata": {},
   "outputs": [],
   "source": [
    "from sklearn.metrics import classification_report,confusion_matrix,accuracy_score"
   ]
  },
  {
   "cell_type": "code",
   "execution_count": 35,
   "metadata": {},
   "outputs": [
    {
     "name": "stdout",
     "output_type": "stream",
     "text": [
      "***************** KNeighborsClassifier *******************\n",
      "\n",
      "\n",
      "KNeighborsClassifier(algorithm='auto', leaf_size=30, metric='minkowski',\n",
      "                     metric_params=None, n_jobs=None, n_neighbors=5, p=2,\n",
      "                     weights='uniform')\n",
      "\n",
      "\n",
      "Accuracy_score  - 0.9891891891891892\n",
      "\n",
      "\n",
      "cross_val_score  - 0.9864299642107861\n",
      "\n",
      "\n",
      "classification report\n",
      "               precision    recall  f1-score   support\n",
      "\n",
      "           0       1.00      0.83      0.91        12\n",
      "           1       0.99      1.00      0.99       173\n",
      "\n",
      "    accuracy                           0.99       185\n",
      "   macro avg       0.99      0.92      0.95       185\n",
      "weighted avg       0.99      0.99      0.99       185\n",
      "\n",
      "\n",
      "\n",
      "[[ 10   2]\n",
      " [  0 173]]\n",
      "\n",
      "\n",
      "AxesSubplot(0.125,0.808774;0.62x0.0712264)\n",
      "***************** SVC *******************\n",
      "\n",
      "\n",
      "SVC(C=1.0, cache_size=200, class_weight=None, coef0=0.0,\n",
      "    decision_function_shape='ovr', degree=3, gamma='auto_deprecated',\n",
      "    kernel='rbf', max_iter=-1, probability=False, random_state=None,\n",
      "    shrinking=True, tol=0.001, verbose=False)\n",
      "\n",
      "\n",
      "Accuracy_score  - 1.0\n",
      "\n",
      "\n",
      "cross_val_score  - 0.9945570776255707\n",
      "\n",
      "\n",
      "classification report\n",
      "               precision    recall  f1-score   support\n",
      "\n",
      "           0       1.00      1.00      1.00        12\n",
      "           1       1.00      1.00      1.00       173\n",
      "\n",
      "    accuracy                           1.00       185\n",
      "   macro avg       1.00      1.00      1.00       185\n",
      "weighted avg       1.00      1.00      1.00       185\n",
      "\n",
      "\n",
      "\n",
      "[[ 12   0]\n",
      " [  0 173]]\n",
      "\n",
      "\n",
      "AxesSubplot(0.125,0.808774;0.62x0.0712264)\n",
      "***************** LogisticRegression *******************\n",
      "\n",
      "\n",
      "LogisticRegression(C=1.0, class_weight=None, dual=False, fit_intercept=True,\n",
      "                   intercept_scaling=1, l1_ratio=None, max_iter=100,\n",
      "                   multi_class='warn', n_jobs=None, penalty='l2',\n",
      "                   random_state=None, solver='warn', tol=0.0001, verbose=0,\n",
      "                   warm_start=False)\n",
      "\n",
      "\n",
      "Accuracy_score  - 1.0\n",
      "\n",
      "\n",
      "cross_val_score  - 0.9945570776255707\n",
      "\n",
      "\n",
      "classification report\n",
      "               precision    recall  f1-score   support\n",
      "\n",
      "           0       1.00      1.00      1.00        12\n",
      "           1       1.00      1.00      1.00       173\n",
      "\n",
      "    accuracy                           1.00       185\n",
      "   macro avg       1.00      1.00      1.00       185\n",
      "weighted avg       1.00      1.00      1.00       185\n",
      "\n",
      "\n",
      "\n",
      "[[ 12   0]\n",
      " [  0 173]]\n",
      "\n",
      "\n",
      "AxesSubplot(0.125,0.808774;0.62x0.0712264)\n",
      "***************** DecisionTreeClassifier *******************\n",
      "\n",
      "\n",
      "DecisionTreeClassifier(class_weight=None, criterion='gini', max_depth=None,\n",
      "                       max_features=None, max_leaf_nodes=None,\n",
      "                       min_impurity_decrease=0.0, min_impurity_split=None,\n",
      "                       min_samples_leaf=1, min_samples_split=2,\n",
      "                       min_weight_fraction_leaf=0.0, presort=False,\n",
      "                       random_state=None, splitter='best')\n",
      "\n",
      "\n",
      "Accuracy_score  - 1.0\n",
      "\n",
      "\n",
      "cross_val_score  - 0.9986666666666666\n",
      "\n",
      "\n",
      "classification report\n",
      "               precision    recall  f1-score   support\n",
      "\n",
      "           0       1.00      1.00      1.00        12\n",
      "           1       1.00      1.00      1.00       173\n",
      "\n",
      "    accuracy                           1.00       185\n",
      "   macro avg       1.00      1.00      1.00       185\n",
      "weighted avg       1.00      1.00      1.00       185\n",
      "\n",
      "\n",
      "\n",
      "[[ 12   0]\n",
      " [  0 173]]\n",
      "\n",
      "\n",
      "AxesSubplot(0.125,0.808774;0.62x0.0712264)\n",
      "***************** GaussianNB *******************\n",
      "\n",
      "\n",
      "GaussianNB(priors=None, var_smoothing=1e-09)\n",
      "\n",
      "\n",
      "Accuracy_score  - 1.0\n",
      "\n",
      "\n",
      "cross_val_score  - 0.9945570776255707\n",
      "\n",
      "\n",
      "classification report\n",
      "               precision    recall  f1-score   support\n",
      "\n",
      "           0       1.00      1.00      1.00        12\n",
      "           1       1.00      1.00      1.00       173\n",
      "\n",
      "    accuracy                           1.00       185\n",
      "   macro avg       1.00      1.00      1.00       185\n",
      "weighted avg       1.00      1.00      1.00       185\n",
      "\n",
      "\n",
      "\n",
      "[[ 12   0]\n",
      " [  0 173]]\n",
      "\n",
      "\n",
      "AxesSubplot(0.125,0.808774;0.62x0.0712264)\n",
      "***************** RandomForestClassifier *******************\n",
      "\n",
      "\n",
      "RandomForestClassifier(bootstrap=True, class_weight=None, criterion='gini',\n",
      "                       max_depth=None, max_features='auto', max_leaf_nodes=None,\n",
      "                       min_impurity_decrease=0.0, min_impurity_split=None,\n",
      "                       min_samples_leaf=1, min_samples_split=2,\n",
      "                       min_weight_fraction_leaf=0.0, n_estimators=10,\n",
      "                       n_jobs=None, oob_score=False, random_state=None,\n",
      "                       verbose=0, warm_start=False)\n",
      "\n",
      "\n",
      "Accuracy_score  - 1.0\n",
      "\n",
      "\n",
      "cross_val_score  - 0.997296803652968\n",
      "\n",
      "\n",
      "classification report\n",
      "               precision    recall  f1-score   support\n",
      "\n",
      "           0       1.00      1.00      1.00        12\n",
      "           1       1.00      1.00      1.00       173\n",
      "\n",
      "    accuracy                           1.00       185\n",
      "   macro avg       1.00      1.00      1.00       185\n",
      "weighted avg       1.00      1.00      1.00       185\n",
      "\n",
      "\n",
      "\n",
      "[[ 12   0]\n",
      " [  0 173]]\n",
      "\n",
      "\n",
      "AxesSubplot(0.125,0.808774;0.62x0.0712264)\n",
      "***************** XGBClassifier *******************\n",
      "\n",
      "\n",
      "XGBClassifier(base_score=0.5, booster=None, colsample_bylevel=1,\n",
      "              colsample_bynode=1, colsample_bytree=1, gamma=0, gpu_id=-1,\n",
      "              importance_type='gain', interaction_constraints=None,\n",
      "              learning_rate=0.300000012, max_delta_step=0, max_depth=6,\n",
      "              min_child_weight=1, missing=nan, monotone_constraints=None,\n",
      "              n_estimators=100, n_jobs=0, num_parallel_tree=1,\n",
      "              objective='binary:logistic', random_state=0, reg_alpha=0,\n",
      "              reg_lambda=1, scale_pos_weight=1, subsample=1, tree_method=None,\n",
      "              validate_parameters=False, verbosity=None)\n",
      "\n",
      "\n",
      "Accuracy_score  - 1.0\n",
      "\n",
      "\n",
      "cross_val_score  - 0.9986666666666666\n",
      "\n",
      "\n",
      "classification report\n",
      "               precision    recall  f1-score   support\n",
      "\n",
      "           0       1.00      1.00      1.00        12\n",
      "           1       1.00      1.00      1.00       173\n",
      "\n",
      "    accuracy                           1.00       185\n",
      "   macro avg       1.00      1.00      1.00       185\n",
      "weighted avg       1.00      1.00      1.00       185\n",
      "\n",
      "\n",
      "\n",
      "[[ 12   0]\n",
      " [  0 173]]\n",
      "\n",
      "\n",
      "AxesSubplot(0.125,0.808774;0.62x0.0712264)\n",
      "***************** GradientBoostingClassifier *******************\n",
      "\n",
      "\n",
      "GradientBoostingClassifier(criterion='friedman_mse', init=None,\n",
      "                           learning_rate=0.1, loss='deviance', max_depth=3,\n",
      "                           max_features=None, max_leaf_nodes=None,\n",
      "                           min_impurity_decrease=0.0, min_impurity_split=None,\n",
      "                           min_samples_leaf=1, min_samples_split=2,\n",
      "                           min_weight_fraction_leaf=0.0, n_estimators=100,\n",
      "                           n_iter_no_change=None, presort='auto',\n",
      "                           random_state=None, subsample=1.0, tol=0.0001,\n",
      "                           validation_fraction=0.1, verbose=0,\n",
      "                           warm_start=False)\n",
      "\n",
      "\n",
      "Accuracy_score  - 1.0\n",
      "\n",
      "\n",
      "cross_val_score  - 0.9945570776255707\n",
      "\n",
      "\n",
      "classification report\n",
      "               precision    recall  f1-score   support\n",
      "\n",
      "           0       1.00      1.00      1.00        12\n",
      "           1       1.00      1.00      1.00       173\n",
      "\n",
      "    accuracy                           1.00       185\n",
      "   macro avg       1.00      1.00      1.00       185\n",
      "weighted avg       1.00      1.00      1.00       185\n",
      "\n",
      "\n",
      "\n",
      "[[ 12   0]\n",
      " [  0 173]]\n",
      "\n",
      "\n",
      "AxesSubplot(0.125,0.808774;0.62x0.0712264)\n",
      "***************** AdaBoostClassifier *******************\n",
      "\n",
      "\n",
      "AdaBoostClassifier(algorithm='SAMME.R', base_estimator=None, learning_rate=1.0,\n",
      "                   n_estimators=50, random_state=None)\n",
      "\n",
      "\n",
      "Accuracy_score  - 1.0\n",
      "\n",
      "\n",
      "cross_val_score  - 0.9986666666666666\n",
      "\n",
      "\n",
      "classification report\n",
      "               precision    recall  f1-score   support\n",
      "\n",
      "           0       1.00      1.00      1.00        12\n",
      "           1       1.00      1.00      1.00       173\n",
      "\n",
      "    accuracy                           1.00       185\n",
      "   macro avg       1.00      1.00      1.00       185\n",
      "weighted avg       1.00      1.00      1.00       185\n",
      "\n",
      "\n",
      "\n",
      "[[ 12   0]\n",
      " [  0 173]]\n",
      "\n",
      "\n",
      "AxesSubplot(0.125,0.808774;0.62x0.0712264)\n"
     ]
    },
    {
     "data": {
      "image/png": "[encoded data removed]",
      "text/plain": [
       "<Figure size 720x2880 with 2 Axes>"
      ]
     },
     "metadata": {
      "needs_background": "light"
     },
     "output_type": "display_data"
    },
    {
     "data": {
      "image/png": "[encoded data removed]",
      "text/plain": [
       "<Figure size 720x2880 with 2 Axes>"
      ]
     },
     "metadata": {
      "needs_background": "light"
     },
     "output_type": "display_data"
    },
    {
     "data": {
      "image/png": "[encoded data removed]",
      "text/plain": [
       "<Figure size 720x2880 with 2 Axes>"
      ]
     },
     "metadata": {
      "needs_background": "light"
     },
     "output_type": "display_data"
    },
    {
     "data": {
      "image/png": "[encoded data removed]",
      "text/plain": [
       "<Figure size 720x2880 with 2 Axes>"
      ]
     },
     "metadata": {
      "needs_background": "light"
     },
     "output_type": "display_data"
    },
    {
     "data": {
      "image/png": "[encoded data removed]",
      "text/plain": [
       "<Figure size 720x2880 with 2 Axes>"
      ]
     },
     "metadata": {
      "needs_background": "light"
     },
     "output_type": "display_data"
    },
    {
     "data": {
      "image/png": "[encoded data removed]",
      "text/plain": [
       "<Figure size 720x2880 with 2 Axes>"
      ]
     },
     "metadata": {
      "needs_background": "light"
     },
     "output_type": "display_data"
    },
    {
     "data": {
      "image/png": "[encoded data removed]",
      "text/plain": [
       "<Figure size 720x2880 with 2 Axes>"
      ]
     },
     "metadata": {
      "needs_background": "light"
     },
     "output_type": "display_data"
    },
    {
     "data": {
      "image/png": "[encoded data removed]",
      "text/plain": [
       "<Figure size 720x2880 with 2 Axes>"
      ]
     },
     "metadata": {
      "needs_background": "light"
     },
     "output_type": "display_data"
    },
    {
     "data": {
      "image/png": "[encoded data removed]",
      "text/plain": [
       "<Figure size 720x2880 with 2 Axes>"
      ]
     },
     "metadata": {
      "needs_background": "light"
     },
     "output_type": "display_data"
    }
   ],
   "source": [
    "Model=[]\n",
    "score=[]\n",
    "cv=[]\n",
    "\n",
    "for name,model in models:\n",
    "    print('*****************',name,'*******************')\n",
    "    print('\\n')\n",
    "    Model.append(name)\n",
    "    model.fit(x_train,y_train)\n",
    "    print(model)\n",
    "    pre=model.predict(x_test)\n",
    "    print('\\n')\n",
    "    AS=accuracy_score(y_test,pre)\n",
    "    print('Accuracy_score  -',AS)\n",
    "    score.append(AS*100)\n",
    "    print('\\n')\n",
    "    sc=cross_val_score(model,x,y,cv=10,scoring='accuracy').mean()\n",
    "    print('cross_val_score  -',sc)\n",
    "    cv.append(sc*100)\n",
    "    print('\\n')\n",
    "        \n",
    "    print('classification report\\n',classification_report(y_test,pre))\n",
    "    print('\\n')\n",
    "    cm=confusion_matrix(y_test,pre)\n",
    "    print(cm)\n",
    "    print('\\n')\n",
    "    plt.figure(figsize=(10,40))\n",
    "    plt.subplot(911)\n",
    "    plt.title(name)\n",
    "    print(sns.heatmap(cm,annot=True))\n",
    "    \n",
    "    "
   ]
  },
  {
   "cell_type": "code",
   "execution_count": 36,
   "metadata": {},
   "outputs": [
    {
     "data": {
      "text/html": [
       "<div>\n",
       "<style scoped>\n",
       "    .dataframe tbody tr th:only-of-type {\n",
       "        vertical-align: middle;\n",
       "    }\n",
       "\n",
       "    .dataframe tbody tr th {\n",
       "        vertical-align: top;\n",
       "    }\n",
       "\n",
       "    .dataframe thead th {\n",
       "        text-align: right;\n",
       "    }\n",
       "</style>\n",
       "<table border=\"1\" class=\"dataframe\">\n",
       "  <thead>\n",
       "    <tr style=\"text-align: right;\">\n",
       "      <th></th>\n",
       "      <th>Model</th>\n",
       "      <th>Accuracy_score</th>\n",
       "      <th>Cross_val_score</th>\n",
       "    </tr>\n",
       "  </thead>\n",
       "  <tbody>\n",
       "    <tr>\n",
       "      <td>0</td>\n",
       "      <td>KNeighborsClassifier</td>\n",
       "      <td>98.918919</td>\n",
       "      <td>98.642996</td>\n",
       "    </tr>\n",
       "    <tr>\n",
       "      <td>1</td>\n",
       "      <td>SVC</td>\n",
       "      <td>100.000000</td>\n",
       "      <td>99.455708</td>\n",
       "    </tr>\n",
       "    <tr>\n",
       "      <td>2</td>\n",
       "      <td>LogisticRegression</td>\n",
       "      <td>100.000000</td>\n",
       "      <td>99.455708</td>\n",
       "    </tr>\n",
       "    <tr>\n",
       "      <td>3</td>\n",
       "      <td>DecisionTreeClassifier</td>\n",
       "      <td>100.000000</td>\n",
       "      <td>99.866667</td>\n",
       "    </tr>\n",
       "    <tr>\n",
       "      <td>4</td>\n",
       "      <td>GaussianNB</td>\n",
       "      <td>100.000000</td>\n",
       "      <td>99.455708</td>\n",
       "    </tr>\n",
       "    <tr>\n",
       "      <td>5</td>\n",
       "      <td>RandomForestClassifier</td>\n",
       "      <td>100.000000</td>\n",
       "      <td>99.729680</td>\n",
       "    </tr>\n",
       "    <tr>\n",
       "      <td>6</td>\n",
       "      <td>XGBClassifier</td>\n",
       "      <td>100.000000</td>\n",
       "      <td>99.866667</td>\n",
       "    </tr>\n",
       "    <tr>\n",
       "      <td>7</td>\n",
       "      <td>GradientBoostingClassifier</td>\n",
       "      <td>100.000000</td>\n",
       "      <td>99.455708</td>\n",
       "    </tr>\n",
       "    <tr>\n",
       "      <td>8</td>\n",
       "      <td>AdaBoostClassifier</td>\n",
       "      <td>100.000000</td>\n",
       "      <td>99.866667</td>\n",
       "    </tr>\n",
       "  </tbody>\n",
       "</table>\n",
       "</div>"
      ],
      "text/plain": [
       "                        Model  Accuracy_score  Cross_val_score\n",
       "0        KNeighborsClassifier       98.918919        98.642996\n",
       "1                         SVC      100.000000        99.455708\n",
       "2          LogisticRegression      100.000000        99.455708\n",
       "3      DecisionTreeClassifier      100.000000        99.866667\n",
       "4                  GaussianNB      100.000000        99.455708\n",
       "5      RandomForestClassifier      100.000000        99.729680\n",
       "6               XGBClassifier      100.000000        99.866667\n",
       "7  GradientBoostingClassifier      100.000000        99.455708\n",
       "8          AdaBoostClassifier      100.000000        99.866667"
      ]
     },
     "execution_count": 36,
     "metadata": {},
     "output_type": "execute_result"
    }
   ],
   "source": [
    "result=pd.DataFrame({'Model':Model,'Accuracy_score':score,'Cross_val_score':cv})\n",
    "result"
   ]
  },
  {
   "cell_type": "code",
   "execution_count": 37,
   "metadata": {},
   "outputs": [],
   "source": [
    "#We can see from the table XGBClassifier is the best performing Algorithm.\n",
    "#Even the cross_val_score is above 90%\n",
    "#Hence we have achieved our target of accuracy=90%"
   ]
  },
  {
   "cell_type": "code",
   "execution_count": 38,
   "metadata": {},
   "outputs": [],
   "source": [
    "#not doing gridsearchcv.As the score has reached our target accuracy score of 90% and even the cross_val_score is above 90%."
   ]
  },
  {
   "cell_type": "code",
   "execution_count": 39,
   "metadata": {},
   "outputs": [],
   "source": [
    "#Now lets calculate the random state of the models at which they perform the best."
   ]
  },
  {
   "cell_type": "markdown",
   "metadata": {},
   "source": [
    "# Finding the best random_state "
   ]
  },
  {
   "cell_type": "code",
   "execution_count": 40,
   "metadata": {},
   "outputs": [],
   "source": [
    "from sklearn.model_selection import train_test_split\n",
    "from sklearn.metrics import roc_auc_score,recall_score\n",
    "from sklearn.linear_model import LogisticRegression\n",
    "def maxaccuracy_score(model,x,y):\n",
    "    max_accuracy=0\n",
    "    for r_state in range(42,101):\n",
    "        \n",
    "        x_train,x_test,y_train,y_test=train_test_split(x,y,random_state=r_state,stratify=y)\n",
    "        model.fit(x_train,y_train)\n",
    "        pred=model.predict(x_test)\n",
    "        score=accuracy_score(y_test,pred)\n",
    "        \n",
    "        if score>max_accuracy:\n",
    "            max_accuracy=score\n",
    "            final_r_state=r_state\n",
    "    print('max_accuracy_score is at random_state  ',final_r_state,'  which is  ',max_accuracy)\n",
    "    return final_r_state"
   ]
  },
  {
   "cell_type": "code",
   "execution_count": 41,
   "metadata": {},
   "outputs": [
    {
     "name": "stdout",
     "output_type": "stream",
     "text": [
      "max_accuracy_score is at random_state   45   which is   1.0\n",
      "knn 45\n",
      "max_accuracy_score is at random_state   45   which is   1.0\n",
      "svc 45\n",
      "max_accuracy_score is at random_state   45   which is   1.0\n",
      "lr 45\n",
      "max_accuracy_score is at random_state   43   which is   1.0\n",
      "dt 43\n",
      "max_accuracy_score is at random_state   45   which is   1.0\n",
      "gnb 45\n",
      "max_accuracy_score is at random_state   46   which is   1.0\n",
      "rfc 46\n",
      "max_accuracy_score is at random_state   43   which is   1.0\n",
      "xgb 43\n",
      "max_accuracy_score is at random_state   43   which is   1.0\n",
      "gbc 43\n",
      "max_accuracy_score is at random_state   43   which is   1.0\n",
      "ada 43\n"
     ]
    }
   ],
   "source": [
    "print('knn',maxaccuracy_score(knn,x,y))\n",
    "print('svc',maxaccuracy_score(svc,x,y))\n",
    "print('lr',maxaccuracy_score(lr,x,y))\n",
    "print('dt',maxaccuracy_score(dt,x,y))\n",
    "print('gnb',maxaccuracy_score(gnb,x,y))\n",
    "print('rfc',maxaccuracy_score(rfc,x,y))\n",
    "print('xgb',maxaccuracy_score(xgb,x,y))\n",
    "print('gbc',maxaccuracy_score(gbc,x,y))\n",
    "print('ada',maxaccuracy_score(ada,x,y))"
   ]
  },
  {
   "cell_type": "code",
   "execution_count": 42,
   "metadata": {},
   "outputs": [],
   "source": [
    "#We can see XGBClassifier is performing the best at random_state=43"
   ]
  },
  {
   "cell_type": "markdown",
   "metadata": {},
   "source": [
    "# Saving the XGBClassifier model"
   ]
  },
  {
   "cell_type": "code",
   "execution_count": 43,
   "metadata": {},
   "outputs": [
    {
     "name": "stdout",
     "output_type": "stream",
     "text": [
      "Accuracyscore= 1.0\n"
     ]
    }
   ],
   "source": [
    "#From all the model tried above XGBClassifier model cross_val_score is best=99.86%(from table above) ,\n",
    "#corresponding random_state=43\n",
    "#Hence saving the final model as XGBClassifier.\n",
    "x_train,x_test,y_train,y_test=train_test_split(x,y,random_state=43,stratify=y)\n",
    "xgb=XGBClassifier()\n",
    "xgb.fit(x_train,y_train)\n",
    "pred=xgb.predict(x_test)\n",
    "\n",
    "print('Accuracyscore='     ,accuracy_score(y_test,pred))"
   ]
  },
  {
   "cell_type": "code",
   "execution_count": 44,
   "metadata": {},
   "outputs": [
    {
     "name": "stdout",
     "output_type": "stream",
     "text": [
      "cross_val_scores=   0.9986666666666666\n"
     ]
    },
    {
     "data": {
      "text/plain": [
       "array([[ 43,   0],\n",
       "       [  1, 696]], dtype=int64)"
      ]
     },
     "execution_count": 44,
     "metadata": {},
     "output_type": "execute_result"
    }
   ],
   "source": [
    "#Cross validating the model and checking the cross_val_score.\n",
    "from sklearn.model_selection import cross_val_predict\n",
    "xgb=XGBClassifier(colsample_bytree=0.8, learning_rate=0.1, max_depth=3)\n",
    "xgb.fit(x_train,y_train)\n",
    "cvs=cross_val_score(xgb,x,y,scoring='accuracy',cv=10)\n",
    "print('cross_val_scores=  ',cvs.mean())\n",
    "y_pred=cross_val_predict(xgb,x,y,cv=5)\n",
    "conf_mat=confusion_matrix(y_pred,y)\n",
    "conf_mat"
   ]
  },
  {
   "cell_type": "code",
   "execution_count": 45,
   "metadata": {},
   "outputs": [
    {
     "data": {
      "text/plain": [
       "['project16-Absentism.obj']"
      ]
     },
     "execution_count": 45,
     "metadata": {},
     "output_type": "execute_result"
    }
   ],
   "source": [
    "from sklearn.externals import joblib\n",
    "joblib.dump(xgb,'project16-Absentism.obj')"
   ]
  },
  {
   "cell_type": "code",
   "execution_count": 46,
   "metadata": {},
   "outputs": [],
   "source": [
    "model=joblib.load('project16-Absentism.obj')"
   ]
  },
  {
   "cell_type": "code",
   "execution_count": 47,
   "metadata": {},
   "outputs": [
    {
     "data": {
      "text/html": [
       "<div>\n",
       "<style scoped>\n",
       "    .dataframe tbody tr th:only-of-type {\n",
       "        vertical-align: middle;\n",
       "    }\n",
       "\n",
       "    .dataframe tbody tr th {\n",
       "        vertical-align: top;\n",
       "    }\n",
       "\n",
       "    .dataframe thead th {\n",
       "        text-align: right;\n",
       "    }\n",
       "</style>\n",
       "<table border=\"1\" class=\"dataframe\">\n",
       "  <thead>\n",
       "    <tr style=\"text-align: right;\">\n",
       "      <th></th>\n",
       "      <th>Absenteeism time in hours</th>\n",
       "    </tr>\n",
       "  </thead>\n",
       "  <tbody>\n",
       "    <tr>\n",
       "      <td>0</td>\n",
       "      <td>1</td>\n",
       "    </tr>\n",
       "    <tr>\n",
       "      <td>1</td>\n",
       "      <td>1</td>\n",
       "    </tr>\n",
       "    <tr>\n",
       "      <td>2</td>\n",
       "      <td>1</td>\n",
       "    </tr>\n",
       "    <tr>\n",
       "      <td>3</td>\n",
       "      <td>1</td>\n",
       "    </tr>\n",
       "    <tr>\n",
       "      <td>4</td>\n",
       "      <td>1</td>\n",
       "    </tr>\n",
       "  </tbody>\n",
       "</table>\n",
       "</div>"
      ],
      "text/plain": [
       "   Absenteeism time in hours\n",
       "0                          1\n",
       "1                          1\n",
       "2                          1\n",
       "3                          1\n",
       "4                          1"
      ]
     },
     "execution_count": 47,
     "metadata": {},
     "output_type": "execute_result"
    }
   ],
   "source": [
    "Final_predictions=model.predict(x_test)\n",
    "Final_predictions=pd.DataFrame(Final_predictions,columns=['Absenteeism time in hours'])\n",
    "Final_predictions[:5]"
   ]
  },
  {
   "cell_type": "code",
   "execution_count": 49,
   "metadata": {},
   "outputs": [
    {
     "data": {
      "text/html": [
       "<div>\n",
       "<style scoped>\n",
       "    .dataframe tbody tr th:only-of-type {\n",
       "        vertical-align: middle;\n",
       "    }\n",
       "\n",
       "    .dataframe tbody tr th {\n",
       "        vertical-align: top;\n",
       "    }\n",
       "\n",
       "    .dataframe thead th {\n",
       "        text-align: right;\n",
       "    }\n",
       "</style>\n",
       "<table border=\"1\" class=\"dataframe\">\n",
       "  <thead>\n",
       "    <tr style=\"text-align: right;\">\n",
       "      <th></th>\n",
       "      <th>Absenteeism time in hours</th>\n",
       "    </tr>\n",
       "  </thead>\n",
       "  <tbody>\n",
       "    <tr>\n",
       "      <td>44</td>\n",
       "      <td>1</td>\n",
       "    </tr>\n",
       "    <tr>\n",
       "      <td>144</td>\n",
       "      <td>1</td>\n",
       "    </tr>\n",
       "    <tr>\n",
       "      <td>30</td>\n",
       "      <td>1</td>\n",
       "    </tr>\n",
       "    <tr>\n",
       "      <td>28</td>\n",
       "      <td>1</td>\n",
       "    </tr>\n",
       "    <tr>\n",
       "      <td>108</td>\n",
       "      <td>1</td>\n",
       "    </tr>\n",
       "    <tr>\n",
       "      <td>25</td>\n",
       "      <td>1</td>\n",
       "    </tr>\n",
       "    <tr>\n",
       "      <td>141</td>\n",
       "      <td>1</td>\n",
       "    </tr>\n",
       "    <tr>\n",
       "      <td>35</td>\n",
       "      <td>1</td>\n",
       "    </tr>\n",
       "    <tr>\n",
       "      <td>125</td>\n",
       "      <td>0</td>\n",
       "    </tr>\n",
       "    <tr>\n",
       "      <td>139</td>\n",
       "      <td>1</td>\n",
       "    </tr>\n",
       "  </tbody>\n",
       "</table>\n",
       "</div>"
      ],
      "text/plain": [
       "     Absenteeism time in hours\n",
       "44                           1\n",
       "144                          1\n",
       "30                           1\n",
       "28                           1\n",
       "108                          1\n",
       "25                           1\n",
       "141                          1\n",
       "35                           1\n",
       "125                          0\n",
       "139                          1"
      ]
     },
     "execution_count": 49,
     "metadata": {},
     "output_type": "execute_result"
    }
   ],
   "source": [
    "Final_predictions.sample(n=10)"
   ]
  },
  {
   "cell_type": "markdown",
   "metadata": {},
   "source": [
    "# Saving final predictions in file.csv format"
   ]
  },
  {
   "cell_type": "code",
   "execution_count": 48,
   "metadata": {},
   "outputs": [],
   "source": [
    "Final_predictions.to_csv('E:\\\\final_predictionsAbsenteeism.csv',index=False)"
   ]
  },
  {
   "cell_type": "markdown",
   "metadata": {},
   "source": [
    "# Conclusion:-"
   ]
  },
  {
   "cell_type": "raw",
   "metadata": {},
   "source": [
    "1-Wether the persons Absenteeism (0) or (>1) can be predicted using the model above. \n",
    "2-By using sklearn(XGBClassifier)we have build a machine learning model that will predict wether the persons Absenteeism is (0hr) or (>1hr)\n"
   ]
  }
 ],
 "metadata": {
  "kernelspec": {
   "display_name": "Python 3",
   "language": "python",
   "name": "python3"
  },
  "language_info": {
   "codemirror_mode": {
    "name": "ipython",
    "version": 3
   },
   "file_extension": ".py",
   "mimetype": "text/x-python",
   "name": "python",
   "nbconvert_exporter": "python",
   "pygments_lexer": "ipython3",
   "version": "3.7.4"
  }
 },
 "nbformat": 4,
 "nbformat_minor": 2
}
